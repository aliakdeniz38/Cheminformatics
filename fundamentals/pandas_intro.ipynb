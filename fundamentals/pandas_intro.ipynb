{
  "cells": [
    {
      "cell_type": "markdown",
      "metadata": {
        "id": "5oeM-_0O9zHB"
      },
      "source": [
        "## A Quick Overview of Pandas for Cheminformatics\n",
        "This notebook provides an overview of the Pandas library for data handling and manipulation in Python scripts."
      ]
    },
    {
      "cell_type": "code",
      "source": [],
      "metadata": {
        "id": "-rFUQDnP90TX"
      },
      "execution_count": null,
      "outputs": []
    },
    {
      "cell_type": "markdown",
      "metadata": {
        "id": "6cEohvih9zHD"
      },
      "source": [
        "Install the necessary Python libraries"
      ]
    },
    {
      "cell_type": "code",
      "execution_count": 1,
      "metadata": {
        "id": "-I_lLhyj9zHD",
        "outputId": "d3679d19-6587-42d7-a3f4-b41037c197c2",
        "colab": {
          "base_uri": "https://localhost:8080/"
        }
      },
      "outputs": [
        {
          "output_type": "stream",
          "name": "stdout",
          "text": [
            "Requirement already satisfied: pandas in /usr/local/lib/python3.10/dist-packages (2.0.3)\n",
            "Requirement already satisfied: numpy in /usr/local/lib/python3.10/dist-packages (1.25.2)\n",
            "Requirement already satisfied: seaborn in /usr/local/lib/python3.10/dist-packages (0.13.1)\n",
            "Requirement already satisfied: python-dateutil>=2.8.2 in /usr/local/lib/python3.10/dist-packages (from pandas) (2.8.2)\n",
            "Requirement already satisfied: pytz>=2020.1 in /usr/local/lib/python3.10/dist-packages (from pandas) (2023.4)\n",
            "Requirement already satisfied: tzdata>=2022.1 in /usr/local/lib/python3.10/dist-packages (from pandas) (2024.1)\n",
            "Requirement already satisfied: matplotlib!=3.6.1,>=3.4 in /usr/local/lib/python3.10/dist-packages (from seaborn) (3.7.1)\n",
            "Requirement already satisfied: contourpy>=1.0.1 in /usr/local/lib/python3.10/dist-packages (from matplotlib!=3.6.1,>=3.4->seaborn) (1.2.1)\n",
            "Requirement already satisfied: cycler>=0.10 in /usr/local/lib/python3.10/dist-packages (from matplotlib!=3.6.1,>=3.4->seaborn) (0.12.1)\n",
            "Requirement already satisfied: fonttools>=4.22.0 in /usr/local/lib/python3.10/dist-packages (from matplotlib!=3.6.1,>=3.4->seaborn) (4.53.0)\n",
            "Requirement already satisfied: kiwisolver>=1.0.1 in /usr/local/lib/python3.10/dist-packages (from matplotlib!=3.6.1,>=3.4->seaborn) (1.4.5)\n",
            "Requirement already satisfied: packaging>=20.0 in /usr/local/lib/python3.10/dist-packages (from matplotlib!=3.6.1,>=3.4->seaborn) (24.1)\n",
            "Requirement already satisfied: pillow>=6.2.0 in /usr/local/lib/python3.10/dist-packages (from matplotlib!=3.6.1,>=3.4->seaborn) (9.4.0)\n",
            "Requirement already satisfied: pyparsing>=2.3.1 in /usr/local/lib/python3.10/dist-packages (from matplotlib!=3.6.1,>=3.4->seaborn) (3.1.2)\n",
            "Requirement already satisfied: six>=1.5 in /usr/local/lib/python3.10/dist-packages (from python-dateutil>=2.8.2->pandas) (1.16.0)\n"
          ]
        }
      ],
      "source": [
        "!pip install pandas numpy seaborn"
      ]
    },
    {
      "cell_type": "markdown",
      "metadata": {
        "id": "XehW9Ysj9zHE"
      },
      "source": [
        "Import the necessary Python libraries"
      ]
    },
    {
      "cell_type": "code",
      "execution_count": 2,
      "metadata": {
        "id": "Lo8hU77J9zHF"
      },
      "outputs": [],
      "source": [
        "import pandas as pd\n",
        "import numpy as np"
      ]
    },
    {
      "cell_type": "markdown",
      "metadata": {
        "id": "DM5PmM099zHF"
      },
      "source": [
        "Enable the display of plots from Pandas in a Jupyter notebook"
      ]
    },
    {
      "cell_type": "code",
      "execution_count": 3,
      "metadata": {
        "id": "-iF4kuPX9zHF"
      },
      "outputs": [],
      "source": [
        "%matplotlib inline"
      ]
    },
    {
      "cell_type": "markdown",
      "metadata": {
        "id": "8LXi92Iw9zHF"
      },
      "source": [
        "### Reading Data From and SD File\n",
        "Read in a file containing data from hERG assays in the ChEMBL database"
      ]
    },
    {
      "cell_type": "code",
      "execution_count": 4,
      "metadata": {
        "id": "kn58m9O-9zHG"
      },
      "outputs": [],
      "source": [
        "df = pd.read_csv(\"https://raw.githubusercontent.com/PatWalters/practical_cheminformatics_tutorials/main/data/ChEMBL_hERG.csv\")"
      ]
    },
    {
      "cell_type": "markdown",
      "metadata": {
        "id": "qTqY6aA69zHG"
      },
      "source": [
        "Examine the number of rows and columns in the dataframe"
      ]
    },
    {
      "cell_type": "code",
      "execution_count": 5,
      "metadata": {
        "id": "k7jr2OO59zHG",
        "outputId": "09cb6a34-1a70-4b8f-9c80-fbb87a31c8e7",
        "colab": {
          "base_uri": "https://localhost:8080/"
        }
      },
      "outputs": [
        {
          "output_type": "execute_result",
          "data": {
            "text/plain": [
              "(8989, 13)"
            ]
          },
          "metadata": {},
          "execution_count": 5
        }
      ],
      "source": [
        "df.shape"
      ]
    },
    {
      "cell_type": "markdown",
      "metadata": {
        "id": "zurc4-FN9zHG"
      },
      "source": [
        "### Getting an Overview of the Data\n",
        "We can also look at datatype for each of the columns"
      ]
    },
    {
      "cell_type": "code",
      "execution_count": 6,
      "metadata": {
        "id": "mlP-vSIv9zHG",
        "outputId": "63369e54-fa41-4a7b-ea6c-a0cd5bd04341",
        "colab": {
          "base_uri": "https://localhost:8080/"
        }
      },
      "outputs": [
        {
          "output_type": "execute_result",
          "data": {
            "text/plain": [
              "canonical_smiles      object\n",
              "molregno               int64\n",
              "mol_chembl_id         object\n",
              "standard_relation     object\n",
              "standard_value       float64\n",
              "standard_type         object\n",
              "standard_units        object\n",
              "description           object\n",
              "organism              object\n",
              "assay_type            object\n",
              "confidence_score       int64\n",
              "pref_name             object\n",
              "tgt_chembl_id         object\n",
              "dtype: object"
            ]
          },
          "metadata": {},
          "execution_count": 6
        }
      ],
      "source": [
        "df.dtypes"
      ]
    },
    {
      "cell_type": "markdown",
      "metadata": {
        "id": "S0EaKVvp9zHG"
      },
      "source": [
        "We can also use the \"columns\" method to look at the column names."
      ]
    },
    {
      "cell_type": "code",
      "execution_count": 7,
      "metadata": {
        "id": "4hWNnC7F9zHG",
        "outputId": "36c2d699-460e-4d41-e645-e2f0bfe12edc",
        "colab": {
          "base_uri": "https://localhost:8080/"
        }
      },
      "outputs": [
        {
          "output_type": "execute_result",
          "data": {
            "text/plain": [
              "Index(['canonical_smiles', 'molregno', 'mol_chembl_id', 'standard_relation',\n",
              "       'standard_value', 'standard_type', 'standard_units', 'description',\n",
              "       'organism', 'assay_type', 'confidence_score', 'pref_name',\n",
              "       'tgt_chembl_id'],\n",
              "      dtype='object')"
            ]
          },
          "metadata": {},
          "execution_count": 7
        }
      ],
      "source": [
        "df.columns"
      ]
    },
    {
      "cell_type": "markdown",
      "metadata": {
        "id": "05dqrOQV9zHG"
      },
      "source": [
        "The \"describe\" method provides summary statistics for numeric columns."
      ]
    },
    {
      "cell_type": "code",
      "execution_count": 8,
      "metadata": {
        "id": "UizxkXWX9zHG",
        "outputId": "f3500dab-8178-420b-832b-1aea1e90a1ec",
        "colab": {
          "base_uri": "https://localhost:8080/",
          "height": 300
        }
      },
      "outputs": [
        {
          "output_type": "execute_result",
          "data": {
            "text/plain": [
              "           molregno  standard_value  confidence_score\n",
              "count  8.989000e+03    8.989000e+03       8989.000000\n",
              "mean   1.162010e+06    9.680188e+05          8.944599\n",
              "std    6.612153e+05    2.558712e+07          0.228774\n",
              "min    9.700000e+01    1.400000e-01          8.000000\n",
              "25%    5.569920e+05    1.880000e+03          9.000000\n",
              "50%    1.280901e+06    9.400000e+03          9.000000\n",
              "75%    1.748621e+06    2.900000e+04          9.000000\n",
              "max    2.196506e+06    1.000000e+09          9.000000"
            ],
            "text/html": [
              "\n",
              "  <div id=\"df-627d30c9-bc5d-43d6-b263-ff1be2e472e5\" class=\"colab-df-container\">\n",
              "    <div>\n",
              "<style scoped>\n",
              "    .dataframe tbody tr th:only-of-type {\n",
              "        vertical-align: middle;\n",
              "    }\n",
              "\n",
              "    .dataframe tbody tr th {\n",
              "        vertical-align: top;\n",
              "    }\n",
              "\n",
              "    .dataframe thead th {\n",
              "        text-align: right;\n",
              "    }\n",
              "</style>\n",
              "<table border=\"1\" class=\"dataframe\">\n",
              "  <thead>\n",
              "    <tr style=\"text-align: right;\">\n",
              "      <th></th>\n",
              "      <th>molregno</th>\n",
              "      <th>standard_value</th>\n",
              "      <th>confidence_score</th>\n",
              "    </tr>\n",
              "  </thead>\n",
              "  <tbody>\n",
              "    <tr>\n",
              "      <th>count</th>\n",
              "      <td>8.989000e+03</td>\n",
              "      <td>8.989000e+03</td>\n",
              "      <td>8989.000000</td>\n",
              "    </tr>\n",
              "    <tr>\n",
              "      <th>mean</th>\n",
              "      <td>1.162010e+06</td>\n",
              "      <td>9.680188e+05</td>\n",
              "      <td>8.944599</td>\n",
              "    </tr>\n",
              "    <tr>\n",
              "      <th>std</th>\n",
              "      <td>6.612153e+05</td>\n",
              "      <td>2.558712e+07</td>\n",
              "      <td>0.228774</td>\n",
              "    </tr>\n",
              "    <tr>\n",
              "      <th>min</th>\n",
              "      <td>9.700000e+01</td>\n",
              "      <td>1.400000e-01</td>\n",
              "      <td>8.000000</td>\n",
              "    </tr>\n",
              "    <tr>\n",
              "      <th>25%</th>\n",
              "      <td>5.569920e+05</td>\n",
              "      <td>1.880000e+03</td>\n",
              "      <td>9.000000</td>\n",
              "    </tr>\n",
              "    <tr>\n",
              "      <th>50%</th>\n",
              "      <td>1.280901e+06</td>\n",
              "      <td>9.400000e+03</td>\n",
              "      <td>9.000000</td>\n",
              "    </tr>\n",
              "    <tr>\n",
              "      <th>75%</th>\n",
              "      <td>1.748621e+06</td>\n",
              "      <td>2.900000e+04</td>\n",
              "      <td>9.000000</td>\n",
              "    </tr>\n",
              "    <tr>\n",
              "      <th>max</th>\n",
              "      <td>2.196506e+06</td>\n",
              "      <td>1.000000e+09</td>\n",
              "      <td>9.000000</td>\n",
              "    </tr>\n",
              "  </tbody>\n",
              "</table>\n",
              "</div>\n",
              "    <div class=\"colab-df-buttons\">\n",
              "\n",
              "  <div class=\"colab-df-container\">\n",
              "    <button class=\"colab-df-convert\" onclick=\"convertToInteractive('df-627d30c9-bc5d-43d6-b263-ff1be2e472e5')\"\n",
              "            title=\"Convert this dataframe to an interactive table.\"\n",
              "            style=\"display:none;\">\n",
              "\n",
              "  <svg xmlns=\"http://www.w3.org/2000/svg\" height=\"24px\" viewBox=\"0 -960 960 960\">\n",
              "    <path d=\"M120-120v-720h720v720H120Zm60-500h600v-160H180v160Zm220 220h160v-160H400v160Zm0 220h160v-160H400v160ZM180-400h160v-160H180v160Zm440 0h160v-160H620v160ZM180-180h160v-160H180v160Zm440 0h160v-160H620v160Z\"/>\n",
              "  </svg>\n",
              "    </button>\n",
              "\n",
              "  <style>\n",
              "    .colab-df-container {\n",
              "      display:flex;\n",
              "      gap: 12px;\n",
              "    }\n",
              "\n",
              "    .colab-df-convert {\n",
              "      background-color: #E8F0FE;\n",
              "      border: none;\n",
              "      border-radius: 50%;\n",
              "      cursor: pointer;\n",
              "      display: none;\n",
              "      fill: #1967D2;\n",
              "      height: 32px;\n",
              "      padding: 0 0 0 0;\n",
              "      width: 32px;\n",
              "    }\n",
              "\n",
              "    .colab-df-convert:hover {\n",
              "      background-color: #E2EBFA;\n",
              "      box-shadow: 0px 1px 2px rgba(60, 64, 67, 0.3), 0px 1px 3px 1px rgba(60, 64, 67, 0.15);\n",
              "      fill: #174EA6;\n",
              "    }\n",
              "\n",
              "    .colab-df-buttons div {\n",
              "      margin-bottom: 4px;\n",
              "    }\n",
              "\n",
              "    [theme=dark] .colab-df-convert {\n",
              "      background-color: #3B4455;\n",
              "      fill: #D2E3FC;\n",
              "    }\n",
              "\n",
              "    [theme=dark] .colab-df-convert:hover {\n",
              "      background-color: #434B5C;\n",
              "      box-shadow: 0px 1px 3px 1px rgba(0, 0, 0, 0.15);\n",
              "      filter: drop-shadow(0px 1px 2px rgba(0, 0, 0, 0.3));\n",
              "      fill: #FFFFFF;\n",
              "    }\n",
              "  </style>\n",
              "\n",
              "    <script>\n",
              "      const buttonEl =\n",
              "        document.querySelector('#df-627d30c9-bc5d-43d6-b263-ff1be2e472e5 button.colab-df-convert');\n",
              "      buttonEl.style.display =\n",
              "        google.colab.kernel.accessAllowed ? 'block' : 'none';\n",
              "\n",
              "      async function convertToInteractive(key) {\n",
              "        const element = document.querySelector('#df-627d30c9-bc5d-43d6-b263-ff1be2e472e5');\n",
              "        const dataTable =\n",
              "          await google.colab.kernel.invokeFunction('convertToInteractive',\n",
              "                                                    [key], {});\n",
              "        if (!dataTable) return;\n",
              "\n",
              "        const docLinkHtml = 'Like what you see? Visit the ' +\n",
              "          '<a target=\"_blank\" href=https://colab.research.google.com/notebooks/data_table.ipynb>data table notebook</a>'\n",
              "          + ' to learn more about interactive tables.';\n",
              "        element.innerHTML = '';\n",
              "        dataTable['output_type'] = 'display_data';\n",
              "        await google.colab.output.renderOutput(dataTable, element);\n",
              "        const docLink = document.createElement('div');\n",
              "        docLink.innerHTML = docLinkHtml;\n",
              "        element.appendChild(docLink);\n",
              "      }\n",
              "    </script>\n",
              "  </div>\n",
              "\n",
              "\n",
              "<div id=\"df-6cb653f1-cd81-4fa7-bc64-c0361247363d\">\n",
              "  <button class=\"colab-df-quickchart\" onclick=\"quickchart('df-6cb653f1-cd81-4fa7-bc64-c0361247363d')\"\n",
              "            title=\"Suggest charts\"\n",
              "            style=\"display:none;\">\n",
              "\n",
              "<svg xmlns=\"http://www.w3.org/2000/svg\" height=\"24px\"viewBox=\"0 0 24 24\"\n",
              "     width=\"24px\">\n",
              "    <g>\n",
              "        <path d=\"M19 3H5c-1.1 0-2 .9-2 2v14c0 1.1.9 2 2 2h14c1.1 0 2-.9 2-2V5c0-1.1-.9-2-2-2zM9 17H7v-7h2v7zm4 0h-2V7h2v10zm4 0h-2v-4h2v4z\"/>\n",
              "    </g>\n",
              "</svg>\n",
              "  </button>\n",
              "\n",
              "<style>\n",
              "  .colab-df-quickchart {\n",
              "      --bg-color: #E8F0FE;\n",
              "      --fill-color: #1967D2;\n",
              "      --hover-bg-color: #E2EBFA;\n",
              "      --hover-fill-color: #174EA6;\n",
              "      --disabled-fill-color: #AAA;\n",
              "      --disabled-bg-color: #DDD;\n",
              "  }\n",
              "\n",
              "  [theme=dark] .colab-df-quickchart {\n",
              "      --bg-color: #3B4455;\n",
              "      --fill-color: #D2E3FC;\n",
              "      --hover-bg-color: #434B5C;\n",
              "      --hover-fill-color: #FFFFFF;\n",
              "      --disabled-bg-color: #3B4455;\n",
              "      --disabled-fill-color: #666;\n",
              "  }\n",
              "\n",
              "  .colab-df-quickchart {\n",
              "    background-color: var(--bg-color);\n",
              "    border: none;\n",
              "    border-radius: 50%;\n",
              "    cursor: pointer;\n",
              "    display: none;\n",
              "    fill: var(--fill-color);\n",
              "    height: 32px;\n",
              "    padding: 0;\n",
              "    width: 32px;\n",
              "  }\n",
              "\n",
              "  .colab-df-quickchart:hover {\n",
              "    background-color: var(--hover-bg-color);\n",
              "    box-shadow: 0 1px 2px rgba(60, 64, 67, 0.3), 0 1px 3px 1px rgba(60, 64, 67, 0.15);\n",
              "    fill: var(--button-hover-fill-color);\n",
              "  }\n",
              "\n",
              "  .colab-df-quickchart-complete:disabled,\n",
              "  .colab-df-quickchart-complete:disabled:hover {\n",
              "    background-color: var(--disabled-bg-color);\n",
              "    fill: var(--disabled-fill-color);\n",
              "    box-shadow: none;\n",
              "  }\n",
              "\n",
              "  .colab-df-spinner {\n",
              "    border: 2px solid var(--fill-color);\n",
              "    border-color: transparent;\n",
              "    border-bottom-color: var(--fill-color);\n",
              "    animation:\n",
              "      spin 1s steps(1) infinite;\n",
              "  }\n",
              "\n",
              "  @keyframes spin {\n",
              "    0% {\n",
              "      border-color: transparent;\n",
              "      border-bottom-color: var(--fill-color);\n",
              "      border-left-color: var(--fill-color);\n",
              "    }\n",
              "    20% {\n",
              "      border-color: transparent;\n",
              "      border-left-color: var(--fill-color);\n",
              "      border-top-color: var(--fill-color);\n",
              "    }\n",
              "    30% {\n",
              "      border-color: transparent;\n",
              "      border-left-color: var(--fill-color);\n",
              "      border-top-color: var(--fill-color);\n",
              "      border-right-color: var(--fill-color);\n",
              "    }\n",
              "    40% {\n",
              "      border-color: transparent;\n",
              "      border-right-color: var(--fill-color);\n",
              "      border-top-color: var(--fill-color);\n",
              "    }\n",
              "    60% {\n",
              "      border-color: transparent;\n",
              "      border-right-color: var(--fill-color);\n",
              "    }\n",
              "    80% {\n",
              "      border-color: transparent;\n",
              "      border-right-color: var(--fill-color);\n",
              "      border-bottom-color: var(--fill-color);\n",
              "    }\n",
              "    90% {\n",
              "      border-color: transparent;\n",
              "      border-bottom-color: var(--fill-color);\n",
              "    }\n",
              "  }\n",
              "</style>\n",
              "\n",
              "  <script>\n",
              "    async function quickchart(key) {\n",
              "      const quickchartButtonEl =\n",
              "        document.querySelector('#' + key + ' button');\n",
              "      quickchartButtonEl.disabled = true;  // To prevent multiple clicks.\n",
              "      quickchartButtonEl.classList.add('colab-df-spinner');\n",
              "      try {\n",
              "        const charts = await google.colab.kernel.invokeFunction(\n",
              "            'suggestCharts', [key], {});\n",
              "      } catch (error) {\n",
              "        console.error('Error during call to suggestCharts:', error);\n",
              "      }\n",
              "      quickchartButtonEl.classList.remove('colab-df-spinner');\n",
              "      quickchartButtonEl.classList.add('colab-df-quickchart-complete');\n",
              "    }\n",
              "    (() => {\n",
              "      let quickchartButtonEl =\n",
              "        document.querySelector('#df-6cb653f1-cd81-4fa7-bc64-c0361247363d button');\n",
              "      quickchartButtonEl.style.display =\n",
              "        google.colab.kernel.accessAllowed ? 'block' : 'none';\n",
              "    })();\n",
              "  </script>\n",
              "</div>\n",
              "\n",
              "    </div>\n",
              "  </div>\n"
            ],
            "application/vnd.google.colaboratory.intrinsic+json": {
              "type": "dataframe",
              "summary": "{\n  \"name\": \"df\",\n  \"rows\": 8,\n  \"fields\": [\n    {\n      \"column\": \"molregno\",\n      \"properties\": {\n        \"dtype\": \"number\",\n        \"std\": 790267.2614758391,\n        \"min\": 97.0,\n        \"max\": 2196506.0,\n        \"num_unique_values\": 8,\n        \"samples\": [\n          1162010.1288241183,\n          1280901.0,\n          8989.0\n        ],\n        \"semantic_type\": \"\",\n        \"description\": \"\"\n      }\n    },\n    {\n      \"column\": \"standard_value\",\n      \"properties\": {\n        \"dtype\": \"number\",\n        \"std\": 352322105.7122423,\n        \"min\": 0.14,\n        \"max\": 1000000000.0,\n        \"num_unique_values\": 8,\n        \"samples\": [\n          968018.7888525977,\n          9400.0,\n          8989.0\n        ],\n        \"semantic_type\": \"\",\n        \"description\": \"\"\n      }\n    },\n    {\n      \"column\": \"confidence_score\",\n      \"properties\": {\n        \"dtype\": \"number\",\n        \"std\": 3175.40720998616,\n        \"min\": 0.2287741074940486,\n        \"max\": 8989.0,\n        \"num_unique_values\": 5,\n        \"samples\": [\n          8.94459895427745,\n          9.0,\n          0.2287741074940486\n        ],\n        \"semantic_type\": \"\",\n        \"description\": \"\"\n      }\n    }\n  ]\n}"
            }
          },
          "metadata": {},
          "execution_count": 8
        }
      ],
      "source": [
        "df.describe()"
      ]
    },
    {
      "cell_type": "markdown",
      "metadata": {
        "id": "ylAPuYyG9zHH"
      },
      "source": [
        "### Converting Datatypes\n",
        "Note that Pandas thinks that the molregno column is an integer.  This is not what we want, we want this column to be a string.  Let's fix it."
      ]
    },
    {
      "cell_type": "code",
      "execution_count": 9,
      "metadata": {
        "id": "Riz4WFyp9zHH",
        "outputId": "4b7afaa0-4fda-4036-9c6e-b080ba59ce1a",
        "colab": {
          "base_uri": "https://localhost:8080/"
        }
      },
      "outputs": [
        {
          "output_type": "execute_result",
          "data": {
            "text/plain": [
              "canonical_smiles      object\n",
              "molregno              object\n",
              "mol_chembl_id         object\n",
              "standard_relation     object\n",
              "standard_value       float64\n",
              "standard_type         object\n",
              "standard_units        object\n",
              "description           object\n",
              "organism              object\n",
              "assay_type            object\n",
              "confidence_score       int64\n",
              "pref_name             object\n",
              "tgt_chembl_id         object\n",
              "dtype: object"
            ]
          },
          "metadata": {},
          "execution_count": 9
        }
      ],
      "source": [
        "df.molregno = df.molregno.apply(str)\n",
        "df.dtypes"
      ]
    },
    {
      "cell_type": "markdown",
      "metadata": {
        "id": "Fii6_JfC9zHH"
      },
      "source": [
        "### Finding Duplicate Molecules\n",
        "Recall that our dataframe contains 8989 rows.  Let's see how many unique molregno values are in the dataframe.  Duplicate molregno values will be same molecule, so we'll average the values for those molecules."
      ]
    },
    {
      "cell_type": "code",
      "execution_count": 10,
      "metadata": {
        "id": "md2y-Umb9zHH",
        "outputId": "c29ae13b-77ca-4bd1-e238-c1b42d851ce3",
        "colab": {
          "base_uri": "https://localhost:8080/"
        }
      },
      "outputs": [
        {
          "output_type": "execute_result",
          "data": {
            "text/plain": [
              "7438"
            ]
          },
          "metadata": {},
          "execution_count": 10
        }
      ],
      "source": [
        "len(df.molregno.unique())"
      ]
    },
    {
      "cell_type": "markdown",
      "metadata": {
        "id": "ZLgzrGvt9zHH"
      },
      "source": [
        "### Examining Assay Types\n",
        "The dataframe contains two types of assays, binding assays (B), and functional assays (F).  Let's make a bar chart to see how many of each are in the dataframe."
      ]
    },
    {
      "cell_type": "code",
      "execution_count": 11,
      "metadata": {
        "id": "4xODydHW9zHH",
        "outputId": "037ac3ac-cbd3-483a-d4cc-38496e0507ad",
        "colab": {
          "base_uri": "https://localhost:8080/",
          "height": 463
        }
      },
      "outputs": [
        {
          "output_type": "execute_result",
          "data": {
            "text/plain": [
              "<Axes: xlabel='assay_type'>"
            ]
          },
          "metadata": {},
          "execution_count": 11
        },
        {
          "output_type": "display_data",
          "data": {
            "text/plain": [
              "<Figure size 640x480 with 1 Axes>"
            ],
            "image/png": "[encoded data removed]"
          },
          "metadata": {}
        }
      ],
      "source": [
        "df.assay_type.value_counts().plot(kind='bar')"
      ]
    },
    {
      "cell_type": "markdown",
      "metadata": {
        "id": "KHeOM0ZO9zHH"
      },
      "source": [
        "We will limit our analysis to only binding assays."
      ]
    },
    {
      "cell_type": "code",
      "execution_count": 12,
      "metadata": {
        "id": "9ltLUsws9zHH",
        "outputId": "f80aec2d-7e6f-40c5-b0f5-ce389e04738f",
        "colab": {
          "base_uri": "https://localhost:8080/"
        }
      },
      "outputs": [
        {
          "output_type": "execute_result",
          "data": {
            "text/plain": [
              "(8791, 13)"
            ]
          },
          "metadata": {},
          "execution_count": 12
        }
      ],
      "source": [
        "df = df.query(\"assay_type == 'B'\")\n",
        "df.shape"
      ]
    },
    {
      "cell_type": "markdown",
      "metadata": {
        "id": "mhJVia8b9zHH"
      },
      "source": [
        "### Aggregating Data\n",
        "In order to combine rows that contain the same molecule, we will use the \"groupby\" function."
      ]
    },
    {
      "cell_type": "code",
      "execution_count": 13,
      "metadata": {
        "id": "vChGN5wx9zHH"
      },
      "outputs": [],
      "source": [
        "gb = df.groupby(\"molregno\")"
      ]
    },
    {
      "cell_type": "markdown",
      "metadata": {
        "id": "EYJqDzVm9zHH"
      },
      "source": [
        "We will iterate over the groups add the name and the mean of the multiple replicates to a temporary_list. Once this is finished we will create a new dataframe with the molecule name and the average IC50."
      ]
    },
    {
      "cell_type": "code",
      "execution_count": 14,
      "metadata": {
        "id": "t4HAijE69zHH"
      },
      "outputs": [],
      "source": [
        "row_list = []\n",
        "for k,v in gb:\n",
        "    row_list.append([k,v.standard_value.mean()])\n",
        "row_df = pd.DataFrame(row_list,columns=[\"name\",\"standard_value\"])"
      ]
    },
    {
      "cell_type": "markdown",
      "metadata": {
        "id": "wSy8cle49zHI"
      },
      "source": [
        "Let's see how many rows and columns are in our new dataframe.  Note that this is the same as the number of unique values of molregno."
      ]
    },
    {
      "cell_type": "code",
      "execution_count": 15,
      "metadata": {
        "id": "UfVO05tt9zHI",
        "outputId": "73f29570-a5ed-475d-d840-e463fb7c8459",
        "colab": {
          "base_uri": "https://localhost:8080/"
        }
      },
      "outputs": [
        {
          "output_type": "execute_result",
          "data": {
            "text/plain": [
              "(7382, 2)"
            ]
          },
          "metadata": {},
          "execution_count": 15
        }
      ],
      "source": [
        "row_df.shape"
      ]
    },
    {
      "cell_type": "markdown",
      "metadata": {
        "id": "CWmFr7mt9zHI"
      },
      "source": [
        "### Examining the Data Distribution\n",
        "Now we will make a plot of the distribution of IC50 values.  To do this, we will use the Seaborn Python library."
      ]
    },
    {
      "cell_type": "code",
      "execution_count": 16,
      "metadata": {
        "id": "t_T5-s3s9zHI"
      },
      "outputs": [],
      "source": [
        "import seaborn as sns"
      ]
    },
    {
      "cell_type": "markdown",
      "metadata": {
        "id": "G9ksHE3J9zHI"
      },
      "source": [
        "First we will set a few variables to make the plots look better."
      ]
    },
    {
      "cell_type": "code",
      "execution_count": 17,
      "metadata": {
        "id": "U8DGMUec9zHI"
      },
      "outputs": [],
      "source": [
        "sns.set(rc={'figure.figsize': (15, 12)})\n",
        "sns.set(font_scale=1.5)\n",
        "sns.set_style('whitegrid')"
      ]
    },
    {
      "cell_type": "markdown",
      "metadata": {
        "id": "SN_hXXOO9zHI"
      },
      "source": [
        "Now we can make the plot."
      ]
    },
    {
      "cell_type": "code",
      "execution_count": 18,
      "metadata": {
        "id": "w5EuO3Xs9zHI",
        "outputId": "6f42f7c3-2c39-46b3-db7c-a48d029f0e58",
        "colab": {
          "base_uri": "https://localhost:8080/",
          "height": 483
        }
      },
      "outputs": [
        {
          "output_type": "display_data",
          "data": {
            "text/plain": [
              "<Figure size 500x500 with 1 Axes>"
            ],
            "image/png": "[encoded data removed]"
          },
          "metadata": {}
        }
      ],
      "source": [
        "ax = sns.displot(row_df.standard_value,kind=\"kde\")"
      ]
    },
    {
      "cell_type": "markdown",
      "metadata": {
        "id": "lND-PC7W9zHI"
      },
      "source": [
        "Note that the plot above isn't very informative.  Most over the values are small, but there are some large values that are skewing the scale on the x-axis.   Let's plot the pIC50, which is the negative log of the IC50.  To do this, we'll first create a column containing the pIC50."
      ]
    },
    {
      "cell_type": "code",
      "execution_count": 19,
      "metadata": {
        "id": "tIGdaESu9zHI"
      },
      "outputs": [],
      "source": [
        "row_df[\"pIC50\"] = -np.log10(row_df.standard_value * 1e-9)"
      ]
    },
    {
      "cell_type": "code",
      "execution_count": 20,
      "metadata": {
        "id": "Cune4J2f9zHM",
        "outputId": "d466da5a-b14c-40fb-88ba-f8fabc4fd1c8",
        "colab": {
          "base_uri": "https://localhost:8080/",
          "height": 206
        }
      },
      "outputs": [
        {
          "output_type": "execute_result",
          "data": {
            "text/plain": [
              "      name  standard_value     pIC50\n",
              "0    10358       16934.368  4.771231\n",
              "1  1037723         130.000  6.886057\n",
              "2  1038161         700.000  6.154902\n",
              "3  1038163       20000.000  4.698970\n",
              "4  1038164       20000.000  4.698970"
            ],
            "text/html": [
              "\n",
              "  <div id=\"df-13f53029-b601-4ba9-979e-7a003ae35682\" class=\"colab-df-container\">\n",
              "    <div>\n",
              "<style scoped>\n",
              "    .dataframe tbody tr th:only-of-type {\n",
              "        vertical-align: middle;\n",
              "    }\n",
              "\n",
              "    .dataframe tbody tr th {\n",
              "        vertical-align: top;\n",
              "    }\n",
              "\n",
              "    .dataframe thead th {\n",
              "        text-align: right;\n",
              "    }\n",
              "</style>\n",
              "<table border=\"1\" class=\"dataframe\">\n",
              "  <thead>\n",
              "    <tr style=\"text-align: right;\">\n",
              "      <th></th>\n",
              "      <th>name</th>\n",
              "      <th>standard_value</th>\n",
              "      <th>pIC50</th>\n",
              "    </tr>\n",
              "  </thead>\n",
              "  <tbody>\n",
              "    <tr>\n",
              "      <th>0</th>\n",
              "      <td>10358</td>\n",
              "      <td>16934.368</td>\n",
              "      <td>4.771231</td>\n",
              "    </tr>\n",
              "    <tr>\n",
              "      <th>1</th>\n",
              "      <td>1037723</td>\n",
              "      <td>130.000</td>\n",
              "      <td>6.886057</td>\n",
              "    </tr>\n",
              "    <tr>\n",
              "      <th>2</th>\n",
              "      <td>1038161</td>\n",
              "      <td>700.000</td>\n",
              "      <td>6.154902</td>\n",
              "    </tr>\n",
              "    <tr>\n",
              "      <th>3</th>\n",
              "      <td>1038163</td>\n",
              "      <td>20000.000</td>\n",
              "      <td>4.698970</td>\n",
              "    </tr>\n",
              "    <tr>\n",
              "      <th>4</th>\n",
              "      <td>1038164</td>\n",
              "      <td>20000.000</td>\n",
              "      <td>4.698970</td>\n",
              "    </tr>\n",
              "  </tbody>\n",
              "</table>\n",
              "</div>\n",
              "    <div class=\"colab-df-buttons\">\n",
              "\n",
              "  <div class=\"colab-df-container\">\n",
              "    <button class=\"colab-df-convert\" onclick=\"convertToInteractive('df-13f53029-b601-4ba9-979e-7a003ae35682')\"\n",
              "            title=\"Convert this dataframe to an interactive table.\"\n",
              "            style=\"display:none;\">\n",
              "\n",
              "  <svg xmlns=\"http://www.w3.org/2000/svg\" height=\"24px\" viewBox=\"0 -960 960 960\">\n",
              "    <path d=\"M120-120v-720h720v720H120Zm60-500h600v-160H180v160Zm220 220h160v-160H400v160Zm0 220h160v-160H400v160ZM180-400h160v-160H180v160Zm440 0h160v-160H620v160ZM180-180h160v-160H180v160Zm440 0h160v-160H620v160Z\"/>\n",
              "  </svg>\n",
              "    </button>\n",
              "\n",
              "  <style>\n",
              "    .colab-df-container {\n",
              "      display:flex;\n",
              "      gap: 12px;\n",
              "    }\n",
              "\n",
              "    .colab-df-convert {\n",
              "      background-color: #E8F0FE;\n",
              "      border: none;\n",
              "      border-radius: 50%;\n",
              "      cursor: pointer;\n",
              "      display: none;\n",
              "      fill: #1967D2;\n",
              "      height: 32px;\n",
              "      padding: 0 0 0 0;\n",
              "      width: 32px;\n",
              "    }\n",
              "\n",
              "    .colab-df-convert:hover {\n",
              "      background-color: #E2EBFA;\n",
              "      box-shadow: 0px 1px 2px rgba(60, 64, 67, 0.3), 0px 1px 3px 1px rgba(60, 64, 67, 0.15);\n",
              "      fill: #174EA6;\n",
              "    }\n",
              "\n",
              "    .colab-df-buttons div {\n",
              "      margin-bottom: 4px;\n",
              "    }\n",
              "\n",
              "    [theme=dark] .colab-df-convert {\n",
              "      background-color: #3B4455;\n",
              "      fill: #D2E3FC;\n",
              "    }\n",
              "\n",
              "    [theme=dark] .colab-df-convert:hover {\n",
              "      background-color: #434B5C;\n",
              "      box-shadow: 0px 1px 3px 1px rgba(0, 0, 0, 0.15);\n",
              "      filter: drop-shadow(0px 1px 2px rgba(0, 0, 0, 0.3));\n",
              "      fill: #FFFFFF;\n",
              "    }\n",
              "  </style>\n",
              "\n",
              "    <script>\n",
              "      const buttonEl =\n",
              "        document.querySelector('#df-13f53029-b601-4ba9-979e-7a003ae35682 button.colab-df-convert');\n",
              "      buttonEl.style.display =\n",
              "        google.colab.kernel.accessAllowed ? 'block' : 'none';\n",
              "\n",
              "      async function convertToInteractive(key) {\n",
              "        const element = document.querySelector('#df-13f53029-b601-4ba9-979e-7a003ae35682');\n",
              "        const dataTable =\n",
              "          await google.colab.kernel.invokeFunction('convertToInteractive',\n",
              "                                                    [key], {});\n",
              "        if (!dataTable) return;\n",
              "\n",
              "        const docLinkHtml = 'Like what you see? Visit the ' +\n",
              "          '<a target=\"_blank\" href=https://colab.research.google.com/notebooks/data_table.ipynb>data table notebook</a>'\n",
              "          + ' to learn more about interactive tables.';\n",
              "        element.innerHTML = '';\n",
              "        dataTable['output_type'] = 'display_data';\n",
              "        await google.colab.output.renderOutput(dataTable, element);\n",
              "        const docLink = document.createElement('div');\n",
              "        docLink.innerHTML = docLinkHtml;\n",
              "        element.appendChild(docLink);\n",
              "      }\n",
              "    </script>\n",
              "  </div>\n",
              "\n",
              "\n",
              "<div id=\"df-d66cc855-087c-4cf7-a9b2-92310a94ce42\">\n",
              "  <button class=\"colab-df-quickchart\" onclick=\"quickchart('df-d66cc855-087c-4cf7-a9b2-92310a94ce42')\"\n",
              "            title=\"Suggest charts\"\n",
              "            style=\"display:none;\">\n",
              "\n",
              "<svg xmlns=\"http://www.w3.org/2000/svg\" height=\"24px\"viewBox=\"0 0 24 24\"\n",
              "     width=\"24px\">\n",
              "    <g>\n",
              "        <path d=\"M19 3H5c-1.1 0-2 .9-2 2v14c0 1.1.9 2 2 2h14c1.1 0 2-.9 2-2V5c0-1.1-.9-2-2-2zM9 17H7v-7h2v7zm4 0h-2V7h2v10zm4 0h-2v-4h2v4z\"/>\n",
              "    </g>\n",
              "</svg>\n",
              "  </button>\n",
              "\n",
              "<style>\n",
              "  .colab-df-quickchart {\n",
              "      --bg-color: #E8F0FE;\n",
              "      --fill-color: #1967D2;\n",
              "      --hover-bg-color: #E2EBFA;\n",
              "      --hover-fill-color: #174EA6;\n",
              "      --disabled-fill-color: #AAA;\n",
              "      --disabled-bg-color: #DDD;\n",
              "  }\n",
              "\n",
              "  [theme=dark] .colab-df-quickchart {\n",
              "      --bg-color: #3B4455;\n",
              "      --fill-color: #D2E3FC;\n",
              "      --hover-bg-color: #434B5C;\n",
              "      --hover-fill-color: #FFFFFF;\n",
              "      --disabled-bg-color: #3B4455;\n",
              "      --disabled-fill-color: #666;\n",
              "  }\n",
              "\n",
              "  .colab-df-quickchart {\n",
              "    background-color: var(--bg-color);\n",
              "    border: none;\n",
              "    border-radius: 50%;\n",
              "    cursor: pointer;\n",
              "    display: none;\n",
              "    fill: var(--fill-color);\n",
              "    height: 32px;\n",
              "    padding: 0;\n",
              "    width: 32px;\n",
              "  }\n",
              "\n",
              "  .colab-df-quickchart:hover {\n",
              "    background-color: var(--hover-bg-color);\n",
              "    box-shadow: 0 1px 2px rgba(60, 64, 67, 0.3), 0 1px 3px 1px rgba(60, 64, 67, 0.15);\n",
              "    fill: var(--button-hover-fill-color);\n",
              "  }\n",
              "\n",
              "  .colab-df-quickchart-complete:disabled,\n",
              "  .colab-df-quickchart-complete:disabled:hover {\n",
              "    background-color: var(--disabled-bg-color);\n",
              "    fill: var(--disabled-fill-color);\n",
              "    box-shadow: none;\n",
              "  }\n",
              "\n",
              "  .colab-df-spinner {\n",
              "    border: 2px solid var(--fill-color);\n",
              "    border-color: transparent;\n",
              "    border-bottom-color: var(--fill-color);\n",
              "    animation:\n",
              "      spin 1s steps(1) infinite;\n",
              "  }\n",
              "\n",
              "  @keyframes spin {\n",
              "    0% {\n",
              "      border-color: transparent;\n",
              "      border-bottom-color: var(--fill-color);\n",
              "      border-left-color: var(--fill-color);\n",
              "    }\n",
              "    20% {\n",
              "      border-color: transparent;\n",
              "      border-left-color: var(--fill-color);\n",
              "      border-top-color: var(--fill-color);\n",
              "    }\n",
              "    30% {\n",
              "      border-color: transparent;\n",
              "      border-left-color: var(--fill-color);\n",
              "      border-top-color: var(--fill-color);\n",
              "      border-right-color: var(--fill-color);\n",
              "    }\n",
              "    40% {\n",
              "      border-color: transparent;\n",
              "      border-right-color: var(--fill-color);\n",
              "      border-top-color: var(--fill-color);\n",
              "    }\n",
              "    60% {\n",
              "      border-color: transparent;\n",
              "      border-right-color: var(--fill-color);\n",
              "    }\n",
              "    80% {\n",
              "      border-color: transparent;\n",
              "      border-right-color: var(--fill-color);\n",
              "      border-bottom-color: var(--fill-color);\n",
              "    }\n",
              "    90% {\n",
              "      border-color: transparent;\n",
              "      border-bottom-color: var(--fill-color);\n",
              "    }\n",
              "  }\n",
              "</style>\n",
              "\n",
              "  <script>\n",
              "    async function quickchart(key) {\n",
              "      const quickchartButtonEl =\n",
              "        document.querySelector('#' + key + ' button');\n",
              "      quickchartButtonEl.disabled = true;  // To prevent multiple clicks.\n",
              "      quickchartButtonEl.classList.add('colab-df-spinner');\n",
              "      try {\n",
              "        const charts = await google.colab.kernel.invokeFunction(\n",
              "            'suggestCharts', [key], {});\n",
              "      } catch (error) {\n",
              "        console.error('Error during call to suggestCharts:', error);\n",
              "      }\n",
              "      quickchartButtonEl.classList.remove('colab-df-spinner');\n",
              "      quickchartButtonEl.classList.add('colab-df-quickchart-complete');\n",
              "    }\n",
              "    (() => {\n",
              "      let quickchartButtonEl =\n",
              "        document.querySelector('#df-d66cc855-087c-4cf7-a9b2-92310a94ce42 button');\n",
              "      quickchartButtonEl.style.display =\n",
              "        google.colab.kernel.accessAllowed ? 'block' : 'none';\n",
              "    })();\n",
              "  </script>\n",
              "</div>\n",
              "\n",
              "    </div>\n",
              "  </div>\n"
            ],
            "application/vnd.google.colaboratory.intrinsic+json": {
              "type": "dataframe",
              "variable_name": "row_df",
              "summary": "{\n  \"name\": \"row_df\",\n  \"rows\": 7382,\n  \"fields\": [\n    {\n      \"column\": \"name\",\n      \"properties\": {\n        \"dtype\": \"string\",\n        \"num_unique_values\": 7382,\n        \"samples\": [\n          \"1726007\",\n          \"1420373\",\n          \"1339309\"\n        ],\n        \"semantic_type\": \"\",\n        \"description\": \"\"\n      }\n    },\n    {\n      \"column\": \"standard_value\",\n      \"properties\": {\n        \"dtype\": \"number\",\n        \"std\": 27602911.161269154,\n        \"min\": 0.14,\n        \"max\": 1000000000.0,\n        \"num_unique_values\": 1852,\n        \"samples\": [\n          3700.0,\n          76000.0,\n          27460.0\n        ],\n        \"semantic_type\": \"\",\n        \"description\": \"\"\n      }\n    },\n    {\n      \"column\": \"pIC50\",\n      \"properties\": {\n        \"dtype\": \"number\",\n        \"std\": 0.9424227377533232,\n        \"min\": -0.0,\n        \"max\": 9.853871964321762,\n        \"num_unique_values\": 1850,\n        \"samples\": [\n          5.431798275933005,\n          5.4467239538629,\n          8.60977163753087\n        ],\n        \"semantic_type\": \"\",\n        \"description\": \"\"\n      }\n    }\n  ]\n}"
            }
          },
          "metadata": {},
          "execution_count": 20
        }
      ],
      "source": [
        "row_df.head()"
      ]
    },
    {
      "cell_type": "markdown",
      "metadata": {
        "id": "z-mtB4839zHM"
      },
      "source": [
        "Let's make another plot, this time we'll plot the pIC50 distribution."
      ]
    },
    {
      "cell_type": "code",
      "execution_count": 21,
      "metadata": {
        "id": "WXoGz3079zHM",
        "outputId": "131798ca-0469-4156-a0d2-c1ebd23064e5",
        "colab": {
          "base_uri": "https://localhost:8080/",
          "height": 483
        }
      },
      "outputs": [
        {
          "output_type": "display_data",
          "data": {
            "text/plain": [
              "<Figure size 500x500 with 1 Axes>"
            ],
            "image/png": "[encoded data removed]"
          },
          "metadata": {}
        }
      ],
      "source": [
        "ax = sns.displot(row_df.pIC50,kind=\"kde\")"
      ]
    },
    {
      "cell_type": "markdown",
      "metadata": {
        "id": "G_rx4E_H9zHM"
      },
      "source": [
        "### Checking For Null Values\n",
        "Check the dataframe to see if we have any null values."
      ]
    },
    {
      "cell_type": "code",
      "execution_count": 22,
      "metadata": {
        "id": "YjGXPAY_9zHM",
        "outputId": "ee455a72-087f-4162-91ac-58e94af5abd8",
        "colab": {
          "base_uri": "https://localhost:8080/"
        }
      },
      "outputs": [
        {
          "output_type": "execute_result",
          "data": {
            "text/plain": [
              "(7382, 3)"
            ]
          },
          "metadata": {},
          "execution_count": 22
        }
      ],
      "source": [
        "row_df.dropna().shape"
      ]
    },
    {
      "cell_type": "code",
      "execution_count": 23,
      "metadata": {
        "id": "zN_EzqRJ9zHM",
        "outputId": "b4543759-1392-4bf3-9133-319ba3cf5496",
        "colab": {
          "base_uri": "https://localhost:8080/"
        }
      },
      "outputs": [
        {
          "output_type": "execute_result",
          "data": {
            "text/plain": [
              "(7382, 3)"
            ]
          },
          "metadata": {},
          "execution_count": 23
        }
      ],
      "source": [
        "row_df.shape"
      ]
    },
    {
      "cell_type": "markdown",
      "metadata": {
        "id": "YwvNfioz9zHN"
      },
      "source": [
        "The shapes of the data frame and the dataframe without null values are the same, so we're good."
      ]
    },
    {
      "cell_type": "markdown",
      "metadata": {
        "id": "D0ddkhnp9zHN"
      },
      "source": [
        "### Sorting the Data\n",
        "Sort the data by pIC50, note that the values with pIC50 approximately equal to zero (the first few rows) are almost certainly data input errors.  These compounds are reported to have IC50s of 10^9nM, which is 1M.  I seriously doubt that the compounds would even be soluble at that concentration."
      ]
    },
    {
      "cell_type": "code",
      "execution_count": 24,
      "metadata": {
        "id": "n671Qz7l9zHN",
        "outputId": "4a08be71-ab4e-4040-9152-49f5e17f7895",
        "colab": {
          "base_uri": "https://localhost:8080/",
          "height": 206
        }
      },
      "outputs": [
        {
          "output_type": "execute_result",
          "data": {
            "text/plain": [
              "         name  standard_value  pIC50\n",
              "3066  1758382    1.000000e+09  -0.00\n",
              "3065  1758380    1.000000e+09  -0.00\n",
              "3067  1758385    1.000000e+09  -0.00\n",
              "5531   440049    9.549926e+08   0.02\n",
              "5545   440263    7.585776e+08   0.12"
            ],
            "text/html": [
              "\n",
              "  <div id=\"df-273f67f3-f5c4-48e1-899e-1e965305e167\" class=\"colab-df-container\">\n",
              "    <div>\n",
              "<style scoped>\n",
              "    .dataframe tbody tr th:only-of-type {\n",
              "        vertical-align: middle;\n",
              "    }\n",
              "\n",
              "    .dataframe tbody tr th {\n",
              "        vertical-align: top;\n",
              "    }\n",
              "\n",
              "    .dataframe thead th {\n",
              "        text-align: right;\n",
              "    }\n",
              "</style>\n",
              "<table border=\"1\" class=\"dataframe\">\n",
              "  <thead>\n",
              "    <tr style=\"text-align: right;\">\n",
              "      <th></th>\n",
              "      <th>name</th>\n",
              "      <th>standard_value</th>\n",
              "      <th>pIC50</th>\n",
              "    </tr>\n",
              "  </thead>\n",
              "  <tbody>\n",
              "    <tr>\n",
              "      <th>3066</th>\n",
              "      <td>1758382</td>\n",
              "      <td>1.000000e+09</td>\n",
              "      <td>-0.00</td>\n",
              "    </tr>\n",
              "    <tr>\n",
              "      <th>3065</th>\n",
              "      <td>1758380</td>\n",
              "      <td>1.000000e+09</td>\n",
              "      <td>-0.00</td>\n",
              "    </tr>\n",
              "    <tr>\n",
              "      <th>3067</th>\n",
              "      <td>1758385</td>\n",
              "      <td>1.000000e+09</td>\n",
              "      <td>-0.00</td>\n",
              "    </tr>\n",
              "    <tr>\n",
              "      <th>5531</th>\n",
              "      <td>440049</td>\n",
              "      <td>9.549926e+08</td>\n",
              "      <td>0.02</td>\n",
              "    </tr>\n",
              "    <tr>\n",
              "      <th>5545</th>\n",
              "      <td>440263</td>\n",
              "      <td>7.585776e+08</td>\n",
              "      <td>0.12</td>\n",
              "    </tr>\n",
              "  </tbody>\n",
              "</table>\n",
              "</div>\n",
              "    <div class=\"colab-df-buttons\">\n",
              "\n",
              "  <div class=\"colab-df-container\">\n",
              "    <button class=\"colab-df-convert\" onclick=\"convertToInteractive('df-273f67f3-f5c4-48e1-899e-1e965305e167')\"\n",
              "            title=\"Convert this dataframe to an interactive table.\"\n",
              "            style=\"display:none;\">\n",
              "\n",
              "  <svg xmlns=\"http://www.w3.org/2000/svg\" height=\"24px\" viewBox=\"0 -960 960 960\">\n",
              "    <path d=\"M120-120v-720h720v720H120Zm60-500h600v-160H180v160Zm220 220h160v-160H400v160Zm0 220h160v-160H400v160ZM180-400h160v-160H180v160Zm440 0h160v-160H620v160ZM180-180h160v-160H180v160Zm440 0h160v-160H620v160Z\"/>\n",
              "  </svg>\n",
              "    </button>\n",
              "\n",
              "  <style>\n",
              "    .colab-df-container {\n",
              "      display:flex;\n",
              "      gap: 12px;\n",
              "    }\n",
              "\n",
              "    .colab-df-convert {\n",
              "      background-color: #E8F0FE;\n",
              "      border: none;\n",
              "      border-radius: 50%;\n",
              "      cursor: pointer;\n",
              "      display: none;\n",
              "      fill: #1967D2;\n",
              "      height: 32px;\n",
              "      padding: 0 0 0 0;\n",
              "      width: 32px;\n",
              "    }\n",
              "\n",
              "    .colab-df-convert:hover {\n",
              "      background-color: #E2EBFA;\n",
              "      box-shadow: 0px 1px 2px rgba(60, 64, 67, 0.3), 0px 1px 3px 1px rgba(60, 64, 67, 0.15);\n",
              "      fill: #174EA6;\n",
              "    }\n",
              "\n",
              "    .colab-df-buttons div {\n",
              "      margin-bottom: 4px;\n",
              "    }\n",
              "\n",
              "    [theme=dark] .colab-df-convert {\n",
              "      background-color: #3B4455;\n",
              "      fill: #D2E3FC;\n",
              "    }\n",
              "\n",
              "    [theme=dark] .colab-df-convert:hover {\n",
              "      background-color: #434B5C;\n",
              "      box-shadow: 0px 1px 3px 1px rgba(0, 0, 0, 0.15);\n",
              "      filter: drop-shadow(0px 1px 2px rgba(0, 0, 0, 0.3));\n",
              "      fill: #FFFFFF;\n",
              "    }\n",
              "  </style>\n",
              "\n",
              "    <script>\n",
              "      const buttonEl =\n",
              "        document.querySelector('#df-273f67f3-f5c4-48e1-899e-1e965305e167 button.colab-df-convert');\n",
              "      buttonEl.style.display =\n",
              "        google.colab.kernel.accessAllowed ? 'block' : 'none';\n",
              "\n",
              "      async function convertToInteractive(key) {\n",
              "        const element = document.querySelector('#df-273f67f3-f5c4-48e1-899e-1e965305e167');\n",
              "        const dataTable =\n",
              "          await google.colab.kernel.invokeFunction('convertToInteractive',\n",
              "                                                    [key], {});\n",
              "        if (!dataTable) return;\n",
              "\n",
              "        const docLinkHtml = 'Like what you see? Visit the ' +\n",
              "          '<a target=\"_blank\" href=https://colab.research.google.com/notebooks/data_table.ipynb>data table notebook</a>'\n",
              "          + ' to learn more about interactive tables.';\n",
              "        element.innerHTML = '';\n",
              "        dataTable['output_type'] = 'display_data';\n",
              "        await google.colab.output.renderOutput(dataTable, element);\n",
              "        const docLink = document.createElement('div');\n",
              "        docLink.innerHTML = docLinkHtml;\n",
              "        element.appendChild(docLink);\n",
              "      }\n",
              "    </script>\n",
              "  </div>\n",
              "\n",
              "\n",
              "<div id=\"df-3d9444df-68d0-42e8-b424-3edabe10f9cb\">\n",
              "  <button class=\"colab-df-quickchart\" onclick=\"quickchart('df-3d9444df-68d0-42e8-b424-3edabe10f9cb')\"\n",
              "            title=\"Suggest charts\"\n",
              "            style=\"display:none;\">\n",
              "\n",
              "<svg xmlns=\"http://www.w3.org/2000/svg\" height=\"24px\"viewBox=\"0 0 24 24\"\n",
              "     width=\"24px\">\n",
              "    <g>\n",
              "        <path d=\"M19 3H5c-1.1 0-2 .9-2 2v14c0 1.1.9 2 2 2h14c1.1 0 2-.9 2-2V5c0-1.1-.9-2-2-2zM9 17H7v-7h2v7zm4 0h-2V7h2v10zm4 0h-2v-4h2v4z\"/>\n",
              "    </g>\n",
              "</svg>\n",
              "  </button>\n",
              "\n",
              "<style>\n",
              "  .colab-df-quickchart {\n",
              "      --bg-color: #E8F0FE;\n",
              "      --fill-color: #1967D2;\n",
              "      --hover-bg-color: #E2EBFA;\n",
              "      --hover-fill-color: #174EA6;\n",
              "      --disabled-fill-color: #AAA;\n",
              "      --disabled-bg-color: #DDD;\n",
              "  }\n",
              "\n",
              "  [theme=dark] .colab-df-quickchart {\n",
              "      --bg-color: #3B4455;\n",
              "      --fill-color: #D2E3FC;\n",
              "      --hover-bg-color: #434B5C;\n",
              "      --hover-fill-color: #FFFFFF;\n",
              "      --disabled-bg-color: #3B4455;\n",
              "      --disabled-fill-color: #666;\n",
              "  }\n",
              "\n",
              "  .colab-df-quickchart {\n",
              "    background-color: var(--bg-color);\n",
              "    border: none;\n",
              "    border-radius: 50%;\n",
              "    cursor: pointer;\n",
              "    display: none;\n",
              "    fill: var(--fill-color);\n",
              "    height: 32px;\n",
              "    padding: 0;\n",
              "    width: 32px;\n",
              "  }\n",
              "\n",
              "  .colab-df-quickchart:hover {\n",
              "    background-color: var(--hover-bg-color);\n",
              "    box-shadow: 0 1px 2px rgba(60, 64, 67, 0.3), 0 1px 3px 1px rgba(60, 64, 67, 0.15);\n",
              "    fill: var(--button-hover-fill-color);\n",
              "  }\n",
              "\n",
              "  .colab-df-quickchart-complete:disabled,\n",
              "  .colab-df-quickchart-complete:disabled:hover {\n",
              "    background-color: var(--disabled-bg-color);\n",
              "    fill: var(--disabled-fill-color);\n",
              "    box-shadow: none;\n",
              "  }\n",
              "\n",
              "  .colab-df-spinner {\n",
              "    border: 2px solid var(--fill-color);\n",
              "    border-color: transparent;\n",
              "    border-bottom-color: var(--fill-color);\n",
              "    animation:\n",
              "      spin 1s steps(1) infinite;\n",
              "  }\n",
              "\n",
              "  @keyframes spin {\n",
              "    0% {\n",
              "      border-color: transparent;\n",
              "      border-bottom-color: var(--fill-color);\n",
              "      border-left-color: var(--fill-color);\n",
              "    }\n",
              "    20% {\n",
              "      border-color: transparent;\n",
              "      border-left-color: var(--fill-color);\n",
              "      border-top-color: var(--fill-color);\n",
              "    }\n",
              "    30% {\n",
              "      border-color: transparent;\n",
              "      border-left-color: var(--fill-color);\n",
              "      border-top-color: var(--fill-color);\n",
              "      border-right-color: var(--fill-color);\n",
              "    }\n",
              "    40% {\n",
              "      border-color: transparent;\n",
              "      border-right-color: var(--fill-color);\n",
              "      border-top-color: var(--fill-color);\n",
              "    }\n",
              "    60% {\n",
              "      border-color: transparent;\n",
              "      border-right-color: var(--fill-color);\n",
              "    }\n",
              "    80% {\n",
              "      border-color: transparent;\n",
              "      border-right-color: var(--fill-color);\n",
              "      border-bottom-color: var(--fill-color);\n",
              "    }\n",
              "    90% {\n",
              "      border-color: transparent;\n",
              "      border-bottom-color: var(--fill-color);\n",
              "    }\n",
              "  }\n",
              "</style>\n",
              "\n",
              "  <script>\n",
              "    async function quickchart(key) {\n",
              "      const quickchartButtonEl =\n",
              "        document.querySelector('#' + key + ' button');\n",
              "      quickchartButtonEl.disabled = true;  // To prevent multiple clicks.\n",
              "      quickchartButtonEl.classList.add('colab-df-spinner');\n",
              "      try {\n",
              "        const charts = await google.colab.kernel.invokeFunction(\n",
              "            'suggestCharts', [key], {});\n",
              "      } catch (error) {\n",
              "        console.error('Error during call to suggestCharts:', error);\n",
              "      }\n",
              "      quickchartButtonEl.classList.remove('colab-df-spinner');\n",
              "      quickchartButtonEl.classList.add('colab-df-quickchart-complete');\n",
              "    }\n",
              "    (() => {\n",
              "      let quickchartButtonEl =\n",
              "        document.querySelector('#df-3d9444df-68d0-42e8-b424-3edabe10f9cb button');\n",
              "      quickchartButtonEl.style.display =\n",
              "        google.colab.kernel.accessAllowed ? 'block' : 'none';\n",
              "    })();\n",
              "  </script>\n",
              "</div>\n",
              "\n",
              "    </div>\n",
              "  </div>\n"
            ],
            "application/vnd.google.colaboratory.intrinsic+json": {
              "type": "dataframe",
              "summary": "{\n  \"name\": \"row_df\",\n  \"rows\": 5,\n  \"fields\": [\n    {\n      \"column\": \"name\",\n      \"properties\": {\n        \"dtype\": \"string\",\n        \"num_unique_values\": 5,\n        \"samples\": [\n          \"1758380\",\n          \"440263\",\n          \"1758385\"\n        ],\n        \"semantic_type\": \"\",\n        \"description\": \"\"\n      }\n    },\n    {\n      \"column\": \"standard_value\",\n      \"properties\": {\n        \"dtype\": \"number\",\n        \"std\": 104764073.1159516,\n        \"min\": 758577575.03,\n        \"max\": 1000000000.0,\n        \"num_unique_values\": 3,\n        \"samples\": [\n          1000000000.0,\n          954992586.02,\n          758577575.03\n        ],\n        \"semantic_type\": \"\",\n        \"description\": \"\"\n      }\n    },\n    {\n      \"column\": \"pIC50\",\n      \"properties\": {\n        \"dtype\": \"number\",\n        \"std\": 0.05215361924139006,\n        \"min\": -0.0,\n        \"max\": 0.11999999999953269,\n        \"num_unique_values\": 3,\n        \"samples\": [\n          -0.0,\n          0.020000000000653,\n          0.11999999999953269\n        ],\n        \"semantic_type\": \"\",\n        \"description\": \"\"\n      }\n    }\n  ]\n}"
            }
          },
          "metadata": {},
          "execution_count": 24
        }
      ],
      "source": [
        "row_df.sort_values(\"pIC50\",ascending=True).head()"
      ]
    },
    {
      "cell_type": "markdown",
      "metadata": {
        "id": "3G9rI7IV9zHN"
      },
      "source": [
        "### Selecting High Confidence Data\n",
        "Let's look at the distribution of confidence scores associated with our original dataset."
      ]
    },
    {
      "cell_type": "code",
      "execution_count": 25,
      "metadata": {
        "id": "aSPWoJXQ9zHN",
        "outputId": "086d16ae-d4ca-44af-d83a-d900a0a555df",
        "colab": {
          "base_uri": "https://localhost:8080/"
        }
      },
      "outputs": [
        {
          "output_type": "execute_result",
          "data": {
            "text/plain": [
              "confidence_score\n",
              "9    8395\n",
              "8     396\n",
              "Name: count, dtype: int64"
            ]
          },
          "metadata": {},
          "execution_count": 25
        }
      ],
      "source": [
        "df.confidence_score.value_counts()"
      ]
    },
    {
      "cell_type": "markdown",
      "metadata": {
        "id": "523FIF3M9zHN"
      },
      "source": [
        "We will create a new dataframe with only the molecules have a confidence score of 9."
      ]
    },
    {
      "cell_type": "code",
      "execution_count": 26,
      "metadata": {
        "id": "tMlL-x_q9zHN"
      },
      "outputs": [],
      "source": [
        "score_9 = df.query(\"confidence_score == 9\")"
      ]
    },
    {
      "cell_type": "code",
      "execution_count": 27,
      "metadata": {
        "id": "46bqyZjF9zHN",
        "outputId": "913e0b30-a431-4815-f69d-43fb4abce36f",
        "colab": {
          "base_uri": "https://localhost:8080/"
        }
      },
      "outputs": [
        {
          "output_type": "execute_result",
          "data": {
            "text/plain": [
              "(8395, 13)"
            ]
          },
          "metadata": {},
          "execution_count": 27
        }
      ],
      "source": [
        "score_9.shape"
      ]
    },
    {
      "cell_type": "markdown",
      "metadata": {
        "id": "IqINQTyu9zHN"
      },
      "source": [
        "Let's try to add a column to the new dataframe that we created.  Note that this throws an exception because the new dataframe is just a reference to the original dataframe."
      ]
    },
    {
      "cell_type": "code",
      "execution_count": null,
      "metadata": {
        "id": "rXgd9otj9zHN",
        "outputId": "d182c160-eeeb-456c-97e4-cac5c236bb43"
      },
      "outputs": [
        {
          "name": "stderr",
          "output_type": "stream",
          "text": [
            "/var/folders/jh/f_7r7rqn3yvgbxg68_d95_p80000gq/T/ipykernel_61595/2616250860.py:1: SettingWithCopyWarning: \n",
            "A value is trying to be set on a copy of a slice from a DataFrame.\n",
            "Try using .loc[row_indexer,col_indexer] = value instead\n",
            "\n",
            "See the caveats in the documentation: https://pandas.pydata.org/pandas-docs/stable/user_guide/indexing.html#returning-a-view-versus-a-copy\n",
            "  score_9[\"extra\"] = 3\n"
          ]
        }
      ],
      "source": [
        "score_9[\"extra\"] = 3"
      ]
    },
    {
      "cell_type": "markdown",
      "metadata": {
        "id": "8gbJ7v329zHN"
      },
      "source": [
        "What we really want to do is create a new dataframe, we can do this with the \"copy\" method."
      ]
    },
    {
      "cell_type": "code",
      "execution_count": null,
      "metadata": {
        "id": "etrWgkup9zHN"
      },
      "outputs": [],
      "source": [
        "score_9 = df.query(\"confidence_score == 9\").copy()"
      ]
    },
    {
      "cell_type": "markdown",
      "metadata": {
        "id": "FwQupQLF9zHN"
      },
      "source": [
        "Now adding a new column works."
      ]
    },
    {
      "cell_type": "code",
      "execution_count": null,
      "metadata": {
        "id": "mHExi_Ay9zHN"
      },
      "outputs": [],
      "source": [
        "score_9['extra'] = 3"
      ]
    },
    {
      "cell_type": "code",
      "execution_count": null,
      "metadata": {
        "id": "TcKXv_gE9zHN",
        "outputId": "2ce84d96-d9b0-4346-b79e-6b765e87de84"
      },
      "outputs": [
        {
          "data": {
            "text/html": [
              "<div>\n",
              "<style scoped>\n",
              "    .dataframe tbody tr th:only-of-type {\n",
              "        vertical-align: middle;\n",
              "    }\n",
              "\n",
              "    .dataframe tbody tr th {\n",
              "        vertical-align: top;\n",
              "    }\n",
              "\n",
              "    .dataframe thead th {\n",
              "        text-align: right;\n",
              "    }\n",
              "</style>\n",
              "<table border=\"1\" class=\"dataframe\">\n",
              "  <thead>\n",
              "    <tr style=\"text-align: right;\">\n",
              "      <th></th>\n",
              "      <th>canonical_smiles</th>\n",
              "      <th>molregno</th>\n",
              "      <th>mol_chembl_id</th>\n",
              "      <th>standard_relation</th>\n",
              "      <th>standard_value</th>\n",
              "      <th>standard_type</th>\n",
              "      <th>standard_units</th>\n",
              "      <th>description</th>\n",
              "      <th>organism</th>\n",
              "      <th>assay_type</th>\n",
              "      <th>confidence_score</th>\n",
              "      <th>pref_name</th>\n",
              "      <th>tgt_chembl_id</th>\n",
              "      <th>extra</th>\n",
              "    </tr>\n",
              "  </thead>\n",
              "  <tbody>\n",
              "    <tr>\n",
              "      <th>46</th>\n",
              "      <td>COC(=O)C1=C(C)NC(=C(C1c2ccccc2[N+](=O)[O-])C(=...</td>\n",
              "      <td>419596</td>\n",
              "      <td>CHEMBL193</td>\n",
              "      <td>=</td>\n",
              "      <td>50118.72</td>\n",
              "      <td>IC50</td>\n",
              "      <td>nM</td>\n",
              "      <td>Inhibition of human Potassium channel HERG exp...</td>\n",
              "      <td>Homo sapiens</td>\n",
              "      <td>B</td>\n",
              "      <td>9</td>\n",
              "      <td>HERG</td>\n",
              "      <td>CHEMBL240</td>\n",
              "      <td>3</td>\n",
              "    </tr>\n",
              "    <tr>\n",
              "      <th>47</th>\n",
              "      <td>CN(CCOc1ccc(NS(=O)(=O)C)cc1)CCc2ccc(NS(=O)(=O)...</td>\n",
              "      <td>5638</td>\n",
              "      <td>CHEMBL473</td>\n",
              "      <td>=</td>\n",
              "      <td>10.00</td>\n",
              "      <td>IC50</td>\n",
              "      <td>nM</td>\n",
              "      <td>Inhibition of human Potassium channel HERG exp...</td>\n",
              "      <td>Homo sapiens</td>\n",
              "      <td>B</td>\n",
              "      <td>9</td>\n",
              "      <td>HERG</td>\n",
              "      <td>CHEMBL240</td>\n",
              "      <td>3</td>\n",
              "    </tr>\n",
              "    <tr>\n",
              "      <th>48</th>\n",
              "      <td>CCOC(=O)N1CCC(=C2c3ccc(Cl)cc3CCc4cccnc24)CC1</td>\n",
              "      <td>110803</td>\n",
              "      <td>CHEMBL998</td>\n",
              "      <td>=</td>\n",
              "      <td>169.82</td>\n",
              "      <td>IC50</td>\n",
              "      <td>nM</td>\n",
              "      <td>Inhibition of human Potassium channel HERG exp...</td>\n",
              "      <td>Homo sapiens</td>\n",
              "      <td>B</td>\n",
              "      <td>9</td>\n",
              "      <td>HERG</td>\n",
              "      <td>CHEMBL240</td>\n",
              "      <td>3</td>\n",
              "    </tr>\n",
              "    <tr>\n",
              "      <th>49</th>\n",
              "      <td>Oc1ccc(CCN2CCC(CC2)Nc3nc4ccccc4n3Cc5ccc(F)cc5)cc1</td>\n",
              "      <td>91240</td>\n",
              "      <td>CHEMBL60796</td>\n",
              "      <td>=</td>\n",
              "      <td>1.00</td>\n",
              "      <td>IC50</td>\n",
              "      <td>nM</td>\n",
              "      <td>Inhibition of human Potassium channel HERG exp...</td>\n",
              "      <td>Homo sapiens</td>\n",
              "      <td>B</td>\n",
              "      <td>9</td>\n",
              "      <td>HERG</td>\n",
              "      <td>CHEMBL240</td>\n",
              "      <td>3</td>\n",
              "    </tr>\n",
              "    <tr>\n",
              "      <th>50</th>\n",
              "      <td>Cc1[nH]cnc1CN2CCc3c(C2=O)c4ccccc4n3C</td>\n",
              "      <td>153342</td>\n",
              "      <td>CHEMBL1110</td>\n",
              "      <td>=</td>\n",
              "      <td>3235.94</td>\n",
              "      <td>IC50</td>\n",
              "      <td>nM</td>\n",
              "      <td>Inhibition of human Potassium channel HERG exp...</td>\n",
              "      <td>Homo sapiens</td>\n",
              "      <td>B</td>\n",
              "      <td>9</td>\n",
              "      <td>HERG</td>\n",
              "      <td>CHEMBL240</td>\n",
              "      <td>3</td>\n",
              "    </tr>\n",
              "  </tbody>\n",
              "</table>\n",
              "</div>"
            ],
            "text/plain": [
              "                                     canonical_smiles molregno mol_chembl_id  \\\n",
              "46  COC(=O)C1=C(C)NC(=C(C1c2ccccc2[N+](=O)[O-])C(=...   419596     CHEMBL193   \n",
              "47  CN(CCOc1ccc(NS(=O)(=O)C)cc1)CCc2ccc(NS(=O)(=O)...     5638     CHEMBL473   \n",
              "48       CCOC(=O)N1CCC(=C2c3ccc(Cl)cc3CCc4cccnc24)CC1   110803     CHEMBL998   \n",
              "49  Oc1ccc(CCN2CCC(CC2)Nc3nc4ccccc4n3Cc5ccc(F)cc5)cc1    91240   CHEMBL60796   \n",
              "50               Cc1[nH]cnc1CN2CCc3c(C2=O)c4ccccc4n3C   153342    CHEMBL1110   \n",
              "\n",
              "   standard_relation  standard_value standard_type standard_units  \\\n",
              "46                 =        50118.72          IC50             nM   \n",
              "47                 =           10.00          IC50             nM   \n",
              "48                 =          169.82          IC50             nM   \n",
              "49                 =            1.00          IC50             nM   \n",
              "50                 =         3235.94          IC50             nM   \n",
              "\n",
              "                                          description      organism  \\\n",
              "46  Inhibition of human Potassium channel HERG exp...  Homo sapiens   \n",
              "47  Inhibition of human Potassium channel HERG exp...  Homo sapiens   \n",
              "48  Inhibition of human Potassium channel HERG exp...  Homo sapiens   \n",
              "49  Inhibition of human Potassium channel HERG exp...  Homo sapiens   \n",
              "50  Inhibition of human Potassium channel HERG exp...  Homo sapiens   \n",
              "\n",
              "   assay_type  confidence_score pref_name tgt_chembl_id  extra  \n",
              "46          B                 9      HERG     CHEMBL240      3  \n",
              "47          B                 9      HERG     CHEMBL240      3  \n",
              "48          B                 9      HERG     CHEMBL240      3  \n",
              "49          B                 9      HERG     CHEMBL240      3  \n",
              "50          B                 9      HERG     CHEMBL240      3  "
            ]
          },
          "execution_count": 32,
          "metadata": {},
          "output_type": "execute_result"
        }
      ],
      "source": [
        "score_9.head()"
      ]
    },
    {
      "cell_type": "markdown",
      "metadata": {
        "id": "TVubQEgy9zHN"
      },
      "source": [
        "Let's say that we want to create a new column with more descriptive names for the data quality.  We can do this using the \"map\" function."
      ]
    },
    {
      "cell_type": "code",
      "execution_count": 28,
      "metadata": {
        "id": "_r1IRYje9zHO"
      },
      "outputs": [],
      "source": [
        "level_map = {8: 'fair', 9: 'good'}\n",
        "df['confidence_level'] = df.confidence_score.map(level_map)"
      ]
    },
    {
      "cell_type": "code",
      "execution_count": null,
      "metadata": {
        "id": "wYCX88JT9zHO",
        "outputId": "f2297151-2821-428a-a3f0-50d79536b203"
      },
      "outputs": [
        {
          "data": {
            "text/html": [
              "<div>\n",
              "<style scoped>\n",
              "    .dataframe tbody tr th:only-of-type {\n",
              "        vertical-align: middle;\n",
              "    }\n",
              "\n",
              "    .dataframe tbody tr th {\n",
              "        vertical-align: top;\n",
              "    }\n",
              "\n",
              "    .dataframe thead th {\n",
              "        text-align: right;\n",
              "    }\n",
              "</style>\n",
              "<table border=\"1\" class=\"dataframe\">\n",
              "  <thead>\n",
              "    <tr style=\"text-align: right;\">\n",
              "      <th></th>\n",
              "      <th>canonical_smiles</th>\n",
              "      <th>molregno</th>\n",
              "      <th>mol_chembl_id</th>\n",
              "      <th>standard_relation</th>\n",
              "      <th>standard_value</th>\n",
              "      <th>standard_type</th>\n",
              "      <th>standard_units</th>\n",
              "      <th>description</th>\n",
              "      <th>organism</th>\n",
              "      <th>assay_type</th>\n",
              "      <th>confidence_score</th>\n",
              "      <th>pref_name</th>\n",
              "      <th>tgt_chembl_id</th>\n",
              "      <th>confidence_level</th>\n",
              "    </tr>\n",
              "  </thead>\n",
              "  <tbody>\n",
              "    <tr>\n",
              "      <th>46</th>\n",
              "      <td>COC(=O)C1=C(C)NC(=C(C1c2ccccc2[N+](=O)[O-])C(=...</td>\n",
              "      <td>419596</td>\n",
              "      <td>CHEMBL193</td>\n",
              "      <td>=</td>\n",
              "      <td>50118.72</td>\n",
              "      <td>IC50</td>\n",
              "      <td>nM</td>\n",
              "      <td>Inhibition of human Potassium channel HERG exp...</td>\n",
              "      <td>Homo sapiens</td>\n",
              "      <td>B</td>\n",
              "      <td>9</td>\n",
              "      <td>HERG</td>\n",
              "      <td>CHEMBL240</td>\n",
              "      <td>good</td>\n",
              "    </tr>\n",
              "    <tr>\n",
              "      <th>47</th>\n",
              "      <td>CN(CCOc1ccc(NS(=O)(=O)C)cc1)CCc2ccc(NS(=O)(=O)...</td>\n",
              "      <td>5638</td>\n",
              "      <td>CHEMBL473</td>\n",
              "      <td>=</td>\n",
              "      <td>10.00</td>\n",
              "      <td>IC50</td>\n",
              "      <td>nM</td>\n",
              "      <td>Inhibition of human Potassium channel HERG exp...</td>\n",
              "      <td>Homo sapiens</td>\n",
              "      <td>B</td>\n",
              "      <td>9</td>\n",
              "      <td>HERG</td>\n",
              "      <td>CHEMBL240</td>\n",
              "      <td>good</td>\n",
              "    </tr>\n",
              "    <tr>\n",
              "      <th>48</th>\n",
              "      <td>CCOC(=O)N1CCC(=C2c3ccc(Cl)cc3CCc4cccnc24)CC1</td>\n",
              "      <td>110803</td>\n",
              "      <td>CHEMBL998</td>\n",
              "      <td>=</td>\n",
              "      <td>169.82</td>\n",
              "      <td>IC50</td>\n",
              "      <td>nM</td>\n",
              "      <td>Inhibition of human Potassium channel HERG exp...</td>\n",
              "      <td>Homo sapiens</td>\n",
              "      <td>B</td>\n",
              "      <td>9</td>\n",
              "      <td>HERG</td>\n",
              "      <td>CHEMBL240</td>\n",
              "      <td>good</td>\n",
              "    </tr>\n",
              "    <tr>\n",
              "      <th>49</th>\n",
              "      <td>Oc1ccc(CCN2CCC(CC2)Nc3nc4ccccc4n3Cc5ccc(F)cc5)cc1</td>\n",
              "      <td>91240</td>\n",
              "      <td>CHEMBL60796</td>\n",
              "      <td>=</td>\n",
              "      <td>1.00</td>\n",
              "      <td>IC50</td>\n",
              "      <td>nM</td>\n",
              "      <td>Inhibition of human Potassium channel HERG exp...</td>\n",
              "      <td>Homo sapiens</td>\n",
              "      <td>B</td>\n",
              "      <td>9</td>\n",
              "      <td>HERG</td>\n",
              "      <td>CHEMBL240</td>\n",
              "      <td>good</td>\n",
              "    </tr>\n",
              "    <tr>\n",
              "      <th>50</th>\n",
              "      <td>Cc1[nH]cnc1CN2CCc3c(C2=O)c4ccccc4n3C</td>\n",
              "      <td>153342</td>\n",
              "      <td>CHEMBL1110</td>\n",
              "      <td>=</td>\n",
              "      <td>3235.94</td>\n",
              "      <td>IC50</td>\n",
              "      <td>nM</td>\n",
              "      <td>Inhibition of human Potassium channel HERG exp...</td>\n",
              "      <td>Homo sapiens</td>\n",
              "      <td>B</td>\n",
              "      <td>9</td>\n",
              "      <td>HERG</td>\n",
              "      <td>CHEMBL240</td>\n",
              "      <td>good</td>\n",
              "    </tr>\n",
              "  </tbody>\n",
              "</table>\n",
              "</div>"
            ],
            "text/plain": [
              "                                     canonical_smiles molregno mol_chembl_id  \\\n",
              "46  COC(=O)C1=C(C)NC(=C(C1c2ccccc2[N+](=O)[O-])C(=...   419596     CHEMBL193   \n",
              "47  CN(CCOc1ccc(NS(=O)(=O)C)cc1)CCc2ccc(NS(=O)(=O)...     5638     CHEMBL473   \n",
              "48       CCOC(=O)N1CCC(=C2c3ccc(Cl)cc3CCc4cccnc24)CC1   110803     CHEMBL998   \n",
              "49  Oc1ccc(CCN2CCC(CC2)Nc3nc4ccccc4n3Cc5ccc(F)cc5)cc1    91240   CHEMBL60796   \n",
              "50               Cc1[nH]cnc1CN2CCc3c(C2=O)c4ccccc4n3C   153342    CHEMBL1110   \n",
              "\n",
              "   standard_relation  standard_value standard_type standard_units  \\\n",
              "46                 =        50118.72          IC50             nM   \n",
              "47                 =           10.00          IC50             nM   \n",
              "48                 =          169.82          IC50             nM   \n",
              "49                 =            1.00          IC50             nM   \n",
              "50                 =         3235.94          IC50             nM   \n",
              "\n",
              "                                          description      organism  \\\n",
              "46  Inhibition of human Potassium channel HERG exp...  Homo sapiens   \n",
              "47  Inhibition of human Potassium channel HERG exp...  Homo sapiens   \n",
              "48  Inhibition of human Potassium channel HERG exp...  Homo sapiens   \n",
              "49  Inhibition of human Potassium channel HERG exp...  Homo sapiens   \n",
              "50  Inhibition of human Potassium channel HERG exp...  Homo sapiens   \n",
              "\n",
              "   assay_type  confidence_score pref_name tgt_chembl_id confidence_level  \n",
              "46          B                 9      HERG     CHEMBL240             good  \n",
              "47          B                 9      HERG     CHEMBL240             good  \n",
              "48          B                 9      HERG     CHEMBL240             good  \n",
              "49          B                 9      HERG     CHEMBL240             good  \n",
              "50          B                 9      HERG     CHEMBL240             good  "
            ]
          },
          "execution_count": 34,
          "metadata": {},
          "output_type": "execute_result"
        }
      ],
      "source": [
        "df.head()"
      ]
    },
    {
      "cell_type": "markdown",
      "metadata": {
        "id": "hH8XRhc79zHO"
      },
      "source": [
        "We can make a bar plot of the data quality with the descriptions on the x-axis."
      ]
    },
    {
      "cell_type": "code",
      "execution_count": 29,
      "metadata": {
        "id": "gC5vV6fo9zHO",
        "outputId": "b2d9b961-e991-4680-93e5-b6768b5e0916",
        "colab": {
          "base_uri": "https://localhost:8080/",
          "height": 1000
        }
      },
      "outputs": [
        {
          "output_type": "display_data",
          "data": {
            "text/plain": [
              "<Figure size 1500x1200 with 1 Axes>"
            ],
            "image/png": "[encoded data removed]"
          },
          "metadata": {}
        }
      ],
      "source": [
        "ax = df.confidence_level.value_counts().plot(kind=\"bar\")\n",
        "ax.tick_params(axis='x', rotation=0)"
      ]
    },
    {
      "cell_type": "markdown",
      "metadata": {
        "id": "wFr9wVjs9zHO"
      },
      "source": [
        "We can also make a boxplot to compare the IC50 distributions for the good quality data and the fair quality data."
      ]
    },
    {
      "cell_type": "code",
      "execution_count": 30,
      "metadata": {
        "id": "DnpKayJc9zHO",
        "outputId": "07dce844-0b50-4a1b-fa15-42c60f872e11",
        "colab": {
          "base_uri": "https://localhost:8080/",
          "height": 1000
        }
      },
      "outputs": [
        {
          "output_type": "execute_result",
          "data": {
            "text/plain": [
              "[None, Text(0.5, 0, 'Confidence Level'), Text(0, 0.5, 'IC50 (nM)')]"
            ]
          },
          "metadata": {},
          "execution_count": 30
        },
        {
          "output_type": "display_data",
          "data": {
            "text/plain": [
              "<Figure size 1500x1200 with 1 Axes>"
            ],
            "image/png": "[encoded data removed]"
          },
          "metadata": {}
        }
      ],
      "source": [
        "ax = sns.boxplot(data=df,x=\"confidence_level\",y=\"standard_value\")\n",
        "ax.set(yscale=\"log\",xlabel=\"Confidence Level\",ylabel=\"IC50 (nM)\")"
      ]
    },
    {
      "cell_type": "code",
      "execution_count": null,
      "metadata": {
        "id": "zL19Zaof9zHO"
      },
      "outputs": [],
      "source": []
    },
    {
      "cell_type": "code",
      "execution_count": null,
      "metadata": {
        "id": "iL7OjzFl9zHO"
      },
      "outputs": [],
      "source": []
    }
  ],
  "metadata": {
    "kernelspec": {
      "display_name": "Python 3 (ipykernel)",
      "language": "python",
      "name": "python3"
    },
    "language_info": {
      "codemirror_mode": {
        "name": "ipython",
        "version": 3
      },
      "file_extension": ".py",
      "mimetype": "text/x-python",
      "name": "python",
      "nbconvert_exporter": "python",
      "pygments_lexer": "ipython3",
      "version": "3.9.6"
    },
    "colab": {
      "provenance": []
    }
  },
  "nbformat": 4,
  "nbformat_minor": 0
}