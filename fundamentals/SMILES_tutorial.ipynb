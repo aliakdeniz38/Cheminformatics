{
  "cells": [
    {
      "cell_type": "markdown",
      "id": "infectious-smell",
      "metadata": {
        "id": "infectious-smell"
      },
      "source": [
        "### An Introduction to the Simplified Molecular Input Line Entry System (SMILES)"
      ]
    },
    {
      "cell_type": "markdown",
      "id": "50d5cce9",
      "metadata": {
        "id": "50d5cce9"
      },
      "source": [
        "Install the necessary Python packages"
      ]
    },
    {
      "cell_type": "code",
      "execution_count": 1,
      "id": "677caa5d",
      "metadata": {
        "id": "677caa5d",
        "outputId": "850fb8e7-ad45-47aa-c6fb-072ca7d8a8a1",
        "colab": {
          "base_uri": "https://localhost:8080/"
        }
      },
      "outputs": [
        {
          "output_type": "stream",
          "name": "stdout",
          "text": [
            "Collecting rdkit-pypi\n",
            "  Downloading rdkit_pypi-2022.9.5-cp310-cp310-manylinux_2_17_x86_64.manylinux2014_x86_64.whl (29.4 MB)\n",
            "\u001b[2K     \u001b[90m━━━━━━━━━━━━━━━━━━━━━━━━━━━━━━━━━━━━━━━━\u001b[0m \u001b[32m29.4/29.4 MB\u001b[0m \u001b[31m12.7 MB/s\u001b[0m eta \u001b[36m0:00:00\u001b[0m\n",
            "\u001b[?25hRequirement already satisfied: numpy in /usr/local/lib/python3.10/dist-packages (from rdkit-pypi) (1.25.2)\n",
            "Requirement already satisfied: Pillow in /usr/local/lib/python3.10/dist-packages (from rdkit-pypi) (9.4.0)\n",
            "Installing collected packages: rdkit-pypi\n",
            "Successfully installed rdkit-pypi-2022.9.5\n"
          ]
        }
      ],
      "source": [
        "!pip install rdkit-pypi"
      ]
    },
    {
      "cell_type": "markdown",
      "id": "c575de06",
      "metadata": {
        "id": "c575de06"
      },
      "source": [
        "Load the necessary Python libraries"
      ]
    },
    {
      "cell_type": "code",
      "execution_count": 2,
      "id": "ff754774",
      "metadata": {
        "id": "ff754774"
      },
      "outputs": [],
      "source": [
        "from rdkit.Chem.Draw import IPythonConsole\n",
        "from rdkit.Chem import rdDepictor\n",
        "from rdkit import Chem\n",
        "\n",
        "IPythonConsole.ipython_useSVG = True\n",
        "IPythonConsole.molSize = 300, 300\n",
        "rdDepictor.SetPreferCoordGen(True)"
      ]
    },
    {
      "cell_type": "markdown",
      "id": "under-nomination",
      "metadata": {
        "id": "under-nomination"
      },
      "source": [
        "SMILES provides a simple, compact, somewhat human-readable notation for representing molecules.  SMILES, which is an acronym for **S**implified **M**olecular **I**nput **L**ine **E**ntry **S**ystem, was developed by [David Weininger](https://pubs.acs.org/doi/10.1021/ci00057a005) in the 1980s, a time when software like ChemDraw or Marvin Sketch for drawing chemical structures was unheard of.  While we now have easy access to chemical sketchers and don't typically have to create SMILES by hand, the format is still widely used.  Over time, SMILES has become one of a small number of generally accepted formats for representing chemical structures.  SMILES are also often referred to as \"SMILES strings\".  While it's fine to refer to a SMILES as a SMILES string, one should **never** refer to a single SMILES as \"SMILE\". Remember, \"S\" stands for \"system\".  Please don't refer to a \"SMILE\" or a \"SMILE string\". If you do this, I will roll my eyes.  You have been warned!\n",
        "\n",
        "The canonical reference for SMILES is the [Daylight Theory Manual](https://www.daylight.com/dayhtml/doc/theory/), I've borrowed liberally from that here. The [Daylight SMILES Tutorial](https://www.daylight.com/dayhtml_tutorials/languages/smiles/index.html) is another essential reference. For a bit more information on the history and folklore around SMILES, please consult this article from [Chemistry World](https://www.chemistryworld.com/opinion/weiningers-smiles/4014639.article)."
      ]
    },
    {
      "cell_type": "markdown",
      "id": "painful-struggle",
      "metadata": {
        "id": "painful-struggle"
      },
      "source": [
        "### Atoms\n",
        "\n",
        "SMILES are a combination of text symbols that represent atoms, bonds, and ring closures. Common organic elements are represented by their atomic symbols (B,C,N,O,S,F,Cl,Br,I) while less usual atomic symbols with two characters are represented in square brackets ([Au],[Ag],[Se]).\n",
        "\n",
        "### Bonds\n",
        "\n",
        "Single bonds between adjacent atoms are implicit.  For instance, \"CCC\" will represent \"n-propane\".  Double bonds are indicated by \"=\" and triple bonds are indicated by \"#\".  Let's take a look at how we can depict the SMILES for a few molecules.  In order to do this, we'll use the RDKit Python library.  We will start by importing the RDKit Chemistry library."
      ]
    },
    {
      "cell_type": "markdown",
      "id": "compressed-perspective",
      "metadata": {
        "id": "compressed-perspective"
      },
      "source": [
        "We can use the RDKit function **Chem.MolFromSmiles** to covert a SMILES to a molecule object that can be depicted. There are two ways that we can display a molecule's structure in the RDKit.  As shown below, we can create a molecule object and assign that object to a variable, here the variable is named \"propane\".  If we put a variable name on the final line of a cell in a Jupyter notebook, the value of that variable is displayed.  When that variable is a molecule, its structure is shown."
      ]
    },
    {
      "cell_type": "code",
      "source": [
        "nonane = Chem.MolFromSmiles(\"CCCCCCCCC\")\n",
        "nonane"
      ],
      "metadata": {
        "id": "b8mtZfn7Ehrb",
        "outputId": "6651f21e-9dc1-44ff-dc34-1162d46b9cd9",
        "colab": {
          "base_uri": "https://localhost:8080/",
          "height": 321
        }
      },
      "id": "b8mtZfn7Ehrb",
      "execution_count": 6,
      "outputs": [
        {
          "output_type": "execute_result",
          "data": {
            "text/plain": [
              "<rdkit.Chem.rdchem.Mol at 0x794a5e9837d0>"
            ],
            "text/html": [
              "<?xml version='1.0' encoding='iso-8859-1'?>\n",
              "<svg version='1.1' baseProfile='full'\n",
              "              xmlns='http://www.w3.org/2000/svg'\n",
              "                      xmlns:rdkit='http://www.rdkit.org/xml'\n",
              "                      xmlns:xlink='http://www.w3.org/1999/xlink'\n",
              "                  xml:space='preserve'\n",
              "width='300px' height='300px' viewBox='0 0 300 300'>\n",
              "<!-- END OF HEADER -->\n",
              "<rect style='opacity:1.0;fill:#FFFFFF;stroke:none' width='300.0' height='300.0' x='0.0' y='0.0'> </rect>\n",
              "<path class='bond-0 atom-0 atom-1' d='M 13.6,159.7 L 47.7,140.1' style='fill:none;fill-rule:evenodd;stroke:#000000;stroke-width:2.0px;stroke-linecap:butt;stroke-linejoin:miter;stroke-opacity:1' />\n",
              "<path class='bond-1 atom-1 atom-2' d='M 47.7,140.1 L 81.8,159.8' style='fill:none;fill-rule:evenodd;stroke:#000000;stroke-width:2.0px;stroke-linecap:butt;stroke-linejoin:miter;stroke-opacity:1' />\n",
              "<path class='bond-2 atom-2 atom-3' d='M 81.8,159.8 L 115.9,140.1' style='fill:none;fill-rule:evenodd;stroke:#000000;stroke-width:2.0px;stroke-linecap:butt;stroke-linejoin:miter;stroke-opacity:1' />\n",
              "<path class='bond-3 atom-3 atom-4' d='M 115.9,140.1 L 150.0,159.8' style='fill:none;fill-rule:evenodd;stroke:#000000;stroke-width:2.0px;stroke-linecap:butt;stroke-linejoin:miter;stroke-opacity:1' />\n",
              "<path class='bond-4 atom-4 atom-5' d='M 150.0,159.8 L 184.1,140.2' style='fill:none;fill-rule:evenodd;stroke:#000000;stroke-width:2.0px;stroke-linecap:butt;stroke-linejoin:miter;stroke-opacity:1' />\n",
              "<path class='bond-5 atom-5 atom-6' d='M 184.1,140.2 L 218.2,159.9' style='fill:none;fill-rule:evenodd;stroke:#000000;stroke-width:2.0px;stroke-linecap:butt;stroke-linejoin:miter;stroke-opacity:1' />\n",
              "<path class='bond-6 atom-6 atom-7' d='M 218.2,159.9 L 252.3,140.2' style='fill:none;fill-rule:evenodd;stroke:#000000;stroke-width:2.0px;stroke-linecap:butt;stroke-linejoin:miter;stroke-opacity:1' />\n",
              "<path class='bond-7 atom-7 atom-8' d='M 252.3,140.2 L 286.4,159.9' style='fill:none;fill-rule:evenodd;stroke:#000000;stroke-width:2.0px;stroke-linecap:butt;stroke-linejoin:miter;stroke-opacity:1' />\n",
              "<path d='M 46.0,141.0 L 47.7,140.1 L 49.4,141.0' style='fill:none;stroke:#000000;stroke-width:2.0px;stroke-linecap:butt;stroke-linejoin:miter;stroke-opacity:1;' />\n",
              "<path d='M 80.1,158.8 L 81.8,159.8 L 83.5,158.8' style='fill:none;stroke:#000000;stroke-width:2.0px;stroke-linecap:butt;stroke-linejoin:miter;stroke-opacity:1;' />\n",
              "<path d='M 114.2,141.1 L 115.9,140.1 L 117.6,141.1' style='fill:none;stroke:#000000;stroke-width:2.0px;stroke-linecap:butt;stroke-linejoin:miter;stroke-opacity:1;' />\n",
              "<path d='M 148.3,158.8 L 150.0,159.8 L 151.7,158.8' style='fill:none;stroke:#000000;stroke-width:2.0px;stroke-linecap:butt;stroke-linejoin:miter;stroke-opacity:1;' />\n",
              "<path d='M 182.4,141.2 L 184.1,140.2 L 185.8,141.2' style='fill:none;stroke:#000000;stroke-width:2.0px;stroke-linecap:butt;stroke-linejoin:miter;stroke-opacity:1;' />\n",
              "<path d='M 216.5,158.9 L 218.2,159.9 L 219.9,158.9' style='fill:none;stroke:#000000;stroke-width:2.0px;stroke-linecap:butt;stroke-linejoin:miter;stroke-opacity:1;' />\n",
              "<path d='M 250.6,141.2 L 252.3,140.2 L 254.0,141.2' style='fill:none;stroke:#000000;stroke-width:2.0px;stroke-linecap:butt;stroke-linejoin:miter;stroke-opacity:1;' />\n",
              "</svg>\n"
            ],
            "image/svg+xml": "<?xml version='1.0' encoding='iso-8859-1'?>\n<svg version='1.1' baseProfile='full'\n              xmlns='http://www.w3.org/2000/svg'\n                      xmlns:rdkit='http://www.rdkit.org/xml'\n                      xmlns:xlink='http://www.w3.org/1999/xlink'\n                  xml:space='preserve'\nwidth='300px' height='300px' viewBox='0 0 300 300'>\n<!-- END OF HEADER -->\n<rect style='opacity:1.0;fill:#FFFFFF;stroke:none' width='300.0' height='300.0' x='0.0' y='0.0'> </rect>\n<path class='bond-0 atom-0 atom-1' d='M 13.6,159.7 L 47.7,140.1' style='fill:none;fill-rule:evenodd;stroke:#000000;stroke-width:2.0px;stroke-linecap:butt;stroke-linejoin:miter;stroke-opacity:1' />\n<path class='bond-1 atom-1 atom-2' d='M 47.7,140.1 L 81.8,159.8' style='fill:none;fill-rule:evenodd;stroke:#000000;stroke-width:2.0px;stroke-linecap:butt;stroke-linejoin:miter;stroke-opacity:1' />\n<path class='bond-2 atom-2 atom-3' d='M 81.8,159.8 L 115.9,140.1' style='fill:none;fill-rule:evenodd;stroke:#000000;stroke-width:2.0px;stroke-linecap:butt;stroke-linejoin:miter;stroke-opacity:1' />\n<path class='bond-3 atom-3 atom-4' d='M 115.9,140.1 L 150.0,159.8' style='fill:none;fill-rule:evenodd;stroke:#000000;stroke-width:2.0px;stroke-linecap:butt;stroke-linejoin:miter;stroke-opacity:1' />\n<path class='bond-4 atom-4 atom-5' d='M 150.0,159.8 L 184.1,140.2' style='fill:none;fill-rule:evenodd;stroke:#000000;stroke-width:2.0px;stroke-linecap:butt;stroke-linejoin:miter;stroke-opacity:1' />\n<path class='bond-5 atom-5 atom-6' d='M 184.1,140.2 L 218.2,159.9' style='fill:none;fill-rule:evenodd;stroke:#000000;stroke-width:2.0px;stroke-linecap:butt;stroke-linejoin:miter;stroke-opacity:1' />\n<path class='bond-6 atom-6 atom-7' d='M 218.2,159.9 L 252.3,140.2' style='fill:none;fill-rule:evenodd;stroke:#000000;stroke-width:2.0px;stroke-linecap:butt;stroke-linejoin:miter;stroke-opacity:1' />\n<path class='bond-7 atom-7 atom-8' d='M 252.3,140.2 L 286.4,159.9' style='fill:none;fill-rule:evenodd;stroke:#000000;stroke-width:2.0px;stroke-linecap:butt;stroke-linejoin:miter;stroke-opacity:1' />\n<path d='M 46.0,141.0 L 47.7,140.1 L 49.4,141.0' style='fill:none;stroke:#000000;stroke-width:2.0px;stroke-linecap:butt;stroke-linejoin:miter;stroke-opacity:1;' />\n<path d='M 80.1,158.8 L 81.8,159.8 L 83.5,158.8' style='fill:none;stroke:#000000;stroke-width:2.0px;stroke-linecap:butt;stroke-linejoin:miter;stroke-opacity:1;' />\n<path d='M 114.2,141.1 L 115.9,140.1 L 117.6,141.1' style='fill:none;stroke:#000000;stroke-width:2.0px;stroke-linecap:butt;stroke-linejoin:miter;stroke-opacity:1;' />\n<path d='M 148.3,158.8 L 150.0,159.8 L 151.7,158.8' style='fill:none;stroke:#000000;stroke-width:2.0px;stroke-linecap:butt;stroke-linejoin:miter;stroke-opacity:1;' />\n<path d='M 182.4,141.2 L 184.1,140.2 L 185.8,141.2' style='fill:none;stroke:#000000;stroke-width:2.0px;stroke-linecap:butt;stroke-linejoin:miter;stroke-opacity:1;' />\n<path d='M 216.5,158.9 L 218.2,159.9 L 219.9,158.9' style='fill:none;stroke:#000000;stroke-width:2.0px;stroke-linecap:butt;stroke-linejoin:miter;stroke-opacity:1;' />\n<path d='M 250.6,141.2 L 252.3,140.2 L 254.0,141.2' style='fill:none;stroke:#000000;stroke-width:2.0px;stroke-linecap:butt;stroke-linejoin:miter;stroke-opacity:1;' />\n</svg>\n",
            "image/png": "[encoded data removed]"
          },
          "metadata": {},
          "execution_count": 6
        }
      ]
    },
    {
      "cell_type": "code",
      "execution_count": 3,
      "id": "integrated-treatment",
      "metadata": {
        "id": "integrated-treatment",
        "outputId": "fb94543f-222b-4e1a-f16e-7dadb026f0ae",
        "colab": {
          "base_uri": "https://localhost:8080/",
          "height": 321
        }
      },
      "outputs": [
        {
          "output_type": "execute_result",
          "data": {
            "text/plain": [
              "<rdkit.Chem.rdchem.Mol at 0x794a65771230>"
            ],
            "text/html": [
              "<?xml version='1.0' encoding='iso-8859-1'?>\n",
              "<svg version='1.1' baseProfile='full'\n",
              "              xmlns='http://www.w3.org/2000/svg'\n",
              "                      xmlns:rdkit='http://www.rdkit.org/xml'\n",
              "                      xmlns:xlink='http://www.w3.org/1999/xlink'\n",
              "                  xml:space='preserve'\n",
              "width='300px' height='300px' viewBox='0 0 300 300'>\n",
              "<!-- END OF HEADER -->\n",
              "<rect style='opacity:1.0;fill:#FFFFFF;stroke:none' width='300.0' height='300.0' x='0.0' y='0.0'> </rect>\n",
              "<path class='bond-0 atom-0 atom-1' d='M 13.6,188.6 L 150.3,110.4' style='fill:none;fill-rule:evenodd;stroke:#000000;stroke-width:2.0px;stroke-linecap:butt;stroke-linejoin:miter;stroke-opacity:1' />\n",
              "<path class='bond-1 atom-1 atom-2' d='M 150.3,110.4 L 286.4,189.6' style='fill:none;fill-rule:evenodd;stroke:#000000;stroke-width:2.0px;stroke-linecap:butt;stroke-linejoin:miter;stroke-opacity:1' />\n",
              "<path d='M 143.5,114.3 L 150.3,110.4 L 157.1,114.3' style='fill:none;stroke:#000000;stroke-width:2.0px;stroke-linecap:butt;stroke-linejoin:miter;stroke-opacity:1;' />\n",
              "</svg>\n"
            ],
            "image/svg+xml": "<?xml version='1.0' encoding='iso-8859-1'?>\n<svg version='1.1' baseProfile='full'\n              xmlns='http://www.w3.org/2000/svg'\n                      xmlns:rdkit='http://www.rdkit.org/xml'\n                      xmlns:xlink='http://www.w3.org/1999/xlink'\n                  xml:space='preserve'\nwidth='300px' height='300px' viewBox='0 0 300 300'>\n<!-- END OF HEADER -->\n<rect style='opacity:1.0;fill:#FFFFFF;stroke:none' width='300.0' height='300.0' x='0.0' y='0.0'> </rect>\n<path class='bond-0 atom-0 atom-1' d='M 13.6,188.6 L 150.3,110.4' style='fill:none;fill-rule:evenodd;stroke:#000000;stroke-width:2.0px;stroke-linecap:butt;stroke-linejoin:miter;stroke-opacity:1' />\n<path class='bond-1 atom-1 atom-2' d='M 150.3,110.4 L 286.4,189.6' style='fill:none;fill-rule:evenodd;stroke:#000000;stroke-width:2.0px;stroke-linecap:butt;stroke-linejoin:miter;stroke-opacity:1' />\n<path d='M 143.5,114.3 L 150.3,110.4 L 157.1,114.3' style='fill:none;stroke:#000000;stroke-width:2.0px;stroke-linecap:butt;stroke-linejoin:miter;stroke-opacity:1;' />\n</svg>\n",
            "image/png": "[encoded data removed]"
          },
          "metadata": {},
          "execution_count": 3
        }
      ],
      "source": [
        "propane = Chem.MolFromSmiles(\"CCC\")\n",
        "propane"
      ]
    },
    {
      "cell_type": "markdown",
      "id": "3975d0aa",
      "metadata": {
        "id": "3975d0aa"
      },
      "source": [
        "We can also simply display the results of **Chem.MolFromSmiles**."
      ]
    },
    {
      "cell_type": "code",
      "execution_count": 7,
      "id": "66a61b74",
      "metadata": {
        "id": "66a61b74",
        "outputId": "6bb725eb-432e-4f3a-906f-bbd138425619",
        "colab": {
          "base_uri": "https://localhost:8080/",
          "height": 321
        }
      },
      "outputs": [
        {
          "output_type": "execute_result",
          "data": {
            "text/plain": [
              "<rdkit.Chem.rdchem.Mol at 0x794a5e983760>"
            ],
            "text/html": [
              "<?xml version='1.0' encoding='iso-8859-1'?>\n",
              "<svg version='1.1' baseProfile='full'\n",
              "              xmlns='http://www.w3.org/2000/svg'\n",
              "                      xmlns:rdkit='http://www.rdkit.org/xml'\n",
              "                      xmlns:xlink='http://www.w3.org/1999/xlink'\n",
              "                  xml:space='preserve'\n",
              "width='300px' height='300px' viewBox='0 0 300 300'>\n",
              "<!-- END OF HEADER -->\n",
              "<rect style='opacity:1.0;fill:#FFFFFF;stroke:none' width='300.0' height='300.0' x='0.0' y='0.0'> </rect>\n",
              "<path class='bond-0 atom-0 atom-1' d='M 13.6,188.6 L 150.3,110.4' style='fill:none;fill-rule:evenodd;stroke:#000000;stroke-width:2.0px;stroke-linecap:butt;stroke-linejoin:miter;stroke-opacity:1' />\n",
              "<path class='bond-1 atom-1 atom-2' d='M 150.3,110.4 L 286.4,189.6' style='fill:none;fill-rule:evenodd;stroke:#000000;stroke-width:2.0px;stroke-linecap:butt;stroke-linejoin:miter;stroke-opacity:1' />\n",
              "<path d='M 143.5,114.3 L 150.3,110.4 L 157.1,114.3' style='fill:none;stroke:#000000;stroke-width:2.0px;stroke-linecap:butt;stroke-linejoin:miter;stroke-opacity:1;' />\n",
              "</svg>\n"
            ],
            "image/svg+xml": "<?xml version='1.0' encoding='iso-8859-1'?>\n<svg version='1.1' baseProfile='full'\n              xmlns='http://www.w3.org/2000/svg'\n                      xmlns:rdkit='http://www.rdkit.org/xml'\n                      xmlns:xlink='http://www.w3.org/1999/xlink'\n                  xml:space='preserve'\nwidth='300px' height='300px' viewBox='0 0 300 300'>\n<!-- END OF HEADER -->\n<rect style='opacity:1.0;fill:#FFFFFF;stroke:none' width='300.0' height='300.0' x='0.0' y='0.0'> </rect>\n<path class='bond-0 atom-0 atom-1' d='M 13.6,188.6 L 150.3,110.4' style='fill:none;fill-rule:evenodd;stroke:#000000;stroke-width:2.0px;stroke-linecap:butt;stroke-linejoin:miter;stroke-opacity:1' />\n<path class='bond-1 atom-1 atom-2' d='M 150.3,110.4 L 286.4,189.6' style='fill:none;fill-rule:evenodd;stroke:#000000;stroke-width:2.0px;stroke-linecap:butt;stroke-linejoin:miter;stroke-opacity:1' />\n<path d='M 143.5,114.3 L 150.3,110.4 L 157.1,114.3' style='fill:none;stroke:#000000;stroke-width:2.0px;stroke-linecap:butt;stroke-linejoin:miter;stroke-opacity:1;' />\n</svg>\n",
            "image/png": "[encoded data removed]"
          },
          "metadata": {},
          "execution_count": 7
        }
      ],
      "source": [
        "Chem.MolFromSmiles(\"CCC\")"
      ]
    },
    {
      "cell_type": "markdown",
      "id": "introductory-triumph",
      "metadata": {
        "id": "introductory-triumph"
      },
      "source": [
        "Let's use a double bond to construct the SMILES for 2-pentene.  You may ask why I didn't call the variable in the cell below **2-penente**.  In Python, variable names cannot begin with a number.  In python, the string \"2-pentene\" would be interpreted as \"two minus pentene\"."
      ]
    },
    {
      "cell_type": "code",
      "execution_count": 8,
      "id": "lovely-houston",
      "metadata": {
        "id": "lovely-houston",
        "outputId": "7cae4774-cdb1-4b24-bc7d-90b8a43f6da6",
        "colab": {
          "base_uri": "https://localhost:8080/",
          "height": 321
        }
      },
      "outputs": [
        {
          "output_type": "execute_result",
          "data": {
            "text/plain": [
              "<rdkit.Chem.rdchem.Mol at 0x794a5e983920>"
            ],
            "text/html": [
              "<?xml version='1.0' encoding='iso-8859-1'?>\n",
              "<svg version='1.1' baseProfile='full'\n",
              "              xmlns='http://www.w3.org/2000/svg'\n",
              "                      xmlns:rdkit='http://www.rdkit.org/xml'\n",
              "                      xmlns:xlink='http://www.w3.org/1999/xlink'\n",
              "                  xml:space='preserve'\n",
              "width='300px' height='300px' viewBox='0 0 300 300'>\n",
              "<!-- END OF HEADER -->\n",
              "<rect style='opacity:1.0;fill:#FFFFFF;stroke:none' width='300.0' height='300.0' x='0.0' y='0.0'> </rect>\n",
              "<path class='bond-0 atom-0 atom-1' d='M 13.6,164.5 L 81.8,125.2' style='fill:none;fill-rule:evenodd;stroke:#000000;stroke-width:2.0px;stroke-linecap:butt;stroke-linejoin:miter;stroke-opacity:1' />\n",
              "<path class='bond-1 atom-1 atom-2' d='M 81.8,125.2 L 150.0,164.6' style='fill:none;fill-rule:evenodd;stroke:#000000;stroke-width:2.0px;stroke-linecap:butt;stroke-linejoin:miter;stroke-opacity:1' />\n",
              "<path class='bond-1 atom-1 atom-2' d='M 81.8,138.8 L 144.1,174.8' style='fill:none;fill-rule:evenodd;stroke:#000000;stroke-width:2.0px;stroke-linecap:butt;stroke-linejoin:miter;stroke-opacity:1' />\n",
              "<path class='bond-2 atom-2 atom-3' d='M 150.0,164.6 L 218.2,125.3' style='fill:none;fill-rule:evenodd;stroke:#000000;stroke-width:2.0px;stroke-linecap:butt;stroke-linejoin:miter;stroke-opacity:1' />\n",
              "<path class='bond-3 atom-3 atom-4' d='M 218.2,125.3 L 286.4,164.7' style='fill:none;fill-rule:evenodd;stroke:#000000;stroke-width:2.0px;stroke-linecap:butt;stroke-linejoin:miter;stroke-opacity:1' />\n",
              "<path d='M 78.4,127.1 L 81.8,125.2 L 85.3,127.2' style='fill:none;stroke:#000000;stroke-width:2.0px;stroke-linecap:butt;stroke-linejoin:miter;stroke-opacity:1;' />\n",
              "<path d='M 146.6,162.6 L 150.0,164.6 L 153.4,162.6' style='fill:none;stroke:#000000;stroke-width:2.0px;stroke-linecap:butt;stroke-linejoin:miter;stroke-opacity:1;' />\n",
              "<path d='M 214.8,127.2 L 218.2,125.3 L 221.6,127.2' style='fill:none;stroke:#000000;stroke-width:2.0px;stroke-linecap:butt;stroke-linejoin:miter;stroke-opacity:1;' />\n",
              "</svg>\n"
            ],
            "image/svg+xml": "<?xml version='1.0' encoding='iso-8859-1'?>\n<svg version='1.1' baseProfile='full'\n              xmlns='http://www.w3.org/2000/svg'\n                      xmlns:rdkit='http://www.rdkit.org/xml'\n                      xmlns:xlink='http://www.w3.org/1999/xlink'\n                  xml:space='preserve'\nwidth='300px' height='300px' viewBox='0 0 300 300'>\n<!-- END OF HEADER -->\n<rect style='opacity:1.0;fill:#FFFFFF;stroke:none' width='300.0' height='300.0' x='0.0' y='0.0'> </rect>\n<path class='bond-0 atom-0 atom-1' d='M 13.6,164.5 L 81.8,125.2' style='fill:none;fill-rule:evenodd;stroke:#000000;stroke-width:2.0px;stroke-linecap:butt;stroke-linejoin:miter;stroke-opacity:1' />\n<path class='bond-1 atom-1 atom-2' d='M 81.8,125.2 L 150.0,164.6' style='fill:none;fill-rule:evenodd;stroke:#000000;stroke-width:2.0px;stroke-linecap:butt;stroke-linejoin:miter;stroke-opacity:1' />\n<path class='bond-1 atom-1 atom-2' d='M 81.8,138.8 L 144.1,174.8' style='fill:none;fill-rule:evenodd;stroke:#000000;stroke-width:2.0px;stroke-linecap:butt;stroke-linejoin:miter;stroke-opacity:1' />\n<path class='bond-2 atom-2 atom-3' d='M 150.0,164.6 L 218.2,125.3' style='fill:none;fill-rule:evenodd;stroke:#000000;stroke-width:2.0px;stroke-linecap:butt;stroke-linejoin:miter;stroke-opacity:1' />\n<path class='bond-3 atom-3 atom-4' d='M 218.2,125.3 L 286.4,164.7' style='fill:none;fill-rule:evenodd;stroke:#000000;stroke-width:2.0px;stroke-linecap:butt;stroke-linejoin:miter;stroke-opacity:1' />\n<path d='M 78.4,127.1 L 81.8,125.2 L 85.3,127.2' style='fill:none;stroke:#000000;stroke-width:2.0px;stroke-linecap:butt;stroke-linejoin:miter;stroke-opacity:1;' />\n<path d='M 146.6,162.6 L 150.0,164.6 L 153.4,162.6' style='fill:none;stroke:#000000;stroke-width:2.0px;stroke-linecap:butt;stroke-linejoin:miter;stroke-opacity:1;' />\n<path d='M 214.8,127.2 L 218.2,125.3 L 221.6,127.2' style='fill:none;stroke:#000000;stroke-width:2.0px;stroke-linecap:butt;stroke-linejoin:miter;stroke-opacity:1;' />\n</svg>\n",
            "image/png": "[encoded data removed]"
          },
          "metadata": {},
          "execution_count": 8
        }
      ],
      "source": [
        "pentene = Chem.MolFromSmiles(\"CC=CCC\")\n",
        "pentene"
      ]
    },
    {
      "cell_type": "markdown",
      "id": "coastal-leadership",
      "metadata": {
        "id": "coastal-leadership"
      },
      "source": [
        "In a similar fashion, we can incorporate a triple bond and write the SMILES for 2-pentene."
      ]
    },
    {
      "cell_type": "code",
      "execution_count": 9,
      "id": "wrong-services",
      "metadata": {
        "id": "wrong-services",
        "outputId": "7716fb99-a5b5-4a1e-e9eb-e11f9d1b7ce0",
        "colab": {
          "base_uri": "https://localhost:8080/",
          "height": 321
        }
      },
      "outputs": [
        {
          "output_type": "execute_result",
          "data": {
            "text/plain": [
              "<rdkit.Chem.rdchem.Mol at 0x794a5e983a70>"
            ],
            "text/html": [
              "<?xml version='1.0' encoding='iso-8859-1'?>\n",
              "<svg version='1.1' baseProfile='full'\n",
              "              xmlns='http://www.w3.org/2000/svg'\n",
              "                      xmlns:rdkit='http://www.rdkit.org/xml'\n",
              "                      xmlns:xlink='http://www.w3.org/1999/xlink'\n",
              "                  xml:space='preserve'\n",
              "width='300px' height='300px' viewBox='0 0 300 300'>\n",
              "<!-- END OF HEADER -->\n",
              "<rect style='opacity:1.0;fill:#FFFFFF;stroke:none' width='300.0' height='300.0' x='0.0' y='0.0'> </rect>\n",
              "<path class='bond-0 atom-0 atom-1' d='M 13.6,91.2 L 81.9,130.4' style='fill:none;fill-rule:evenodd;stroke:#000000;stroke-width:2.0px;stroke-linecap:butt;stroke-linejoin:miter;stroke-opacity:1' />\n",
              "<path class='bond-1 atom-1 atom-2' d='M 81.9,130.4 L 150.1,169.6' style='fill:none;fill-rule:evenodd;stroke:#000000;stroke-width:2.0px;stroke-linecap:butt;stroke-linejoin:miter;stroke-opacity:1' />\n",
              "<path class='bond-1 atom-1 atom-2' d='M 87.7,120.2 L 156.0,159.4' style='fill:none;fill-rule:evenodd;stroke:#000000;stroke-width:2.0px;stroke-linecap:butt;stroke-linejoin:miter;stroke-opacity:1' />\n",
              "<path class='bond-1 atom-1 atom-2' d='M 76.0,140.6 L 144.2,179.8' style='fill:none;fill-rule:evenodd;stroke:#000000;stroke-width:2.0px;stroke-linecap:butt;stroke-linejoin:miter;stroke-opacity:1' />\n",
              "<path class='bond-2 atom-2 atom-3' d='M 150.1,169.6 L 218.3,208.8' style='fill:none;fill-rule:evenodd;stroke:#000000;stroke-width:2.0px;stroke-linecap:butt;stroke-linejoin:miter;stroke-opacity:1' />\n",
              "<path class='bond-3 atom-3 atom-4' d='M 218.3,208.8 L 286.4,169.3' style='fill:none;fill-rule:evenodd;stroke:#000000;stroke-width:2.0px;stroke-linecap:butt;stroke-linejoin:miter;stroke-opacity:1' />\n",
              "<path d='M 78.4,128.4 L 81.9,130.4 L 85.3,132.4' style='fill:none;stroke:#000000;stroke-width:2.0px;stroke-linecap:butt;stroke-linejoin:miter;stroke-opacity:1;' />\n",
              "<path d='M 146.7,167.6 L 150.1,169.6 L 153.5,171.6' style='fill:none;stroke:#000000;stroke-width:2.0px;stroke-linecap:butt;stroke-linejoin:miter;stroke-opacity:1;' />\n",
              "<path d='M 214.9,206.9 L 218.3,208.8 L 221.7,206.8' style='fill:none;stroke:#000000;stroke-width:2.0px;stroke-linecap:butt;stroke-linejoin:miter;stroke-opacity:1;' />\n",
              "</svg>\n"
            ],
            "image/svg+xml": "<?xml version='1.0' encoding='iso-8859-1'?>\n<svg version='1.1' baseProfile='full'\n              xmlns='http://www.w3.org/2000/svg'\n                      xmlns:rdkit='http://www.rdkit.org/xml'\n                      xmlns:xlink='http://www.w3.org/1999/xlink'\n                  xml:space='preserve'\nwidth='300px' height='300px' viewBox='0 0 300 300'>\n<!-- END OF HEADER -->\n<rect style='opacity:1.0;fill:#FFFFFF;stroke:none' width='300.0' height='300.0' x='0.0' y='0.0'> </rect>\n<path class='bond-0 atom-0 atom-1' d='M 13.6,91.2 L 81.9,130.4' style='fill:none;fill-rule:evenodd;stroke:#000000;stroke-width:2.0px;stroke-linecap:butt;stroke-linejoin:miter;stroke-opacity:1' />\n<path class='bond-1 atom-1 atom-2' d='M 81.9,130.4 L 150.1,169.6' style='fill:none;fill-rule:evenodd;stroke:#000000;stroke-width:2.0px;stroke-linecap:butt;stroke-linejoin:miter;stroke-opacity:1' />\n<path class='bond-1 atom-1 atom-2' d='M 87.7,120.2 L 156.0,159.4' style='fill:none;fill-rule:evenodd;stroke:#000000;stroke-width:2.0px;stroke-linecap:butt;stroke-linejoin:miter;stroke-opacity:1' />\n<path class='bond-1 atom-1 atom-2' d='M 76.0,140.6 L 144.2,179.8' style='fill:none;fill-rule:evenodd;stroke:#000000;stroke-width:2.0px;stroke-linecap:butt;stroke-linejoin:miter;stroke-opacity:1' />\n<path class='bond-2 atom-2 atom-3' d='M 150.1,169.6 L 218.3,208.8' style='fill:none;fill-rule:evenodd;stroke:#000000;stroke-width:2.0px;stroke-linecap:butt;stroke-linejoin:miter;stroke-opacity:1' />\n<path class='bond-3 atom-3 atom-4' d='M 218.3,208.8 L 286.4,169.3' style='fill:none;fill-rule:evenodd;stroke:#000000;stroke-width:2.0px;stroke-linecap:butt;stroke-linejoin:miter;stroke-opacity:1' />\n<path d='M 78.4,128.4 L 81.9,130.4 L 85.3,132.4' style='fill:none;stroke:#000000;stroke-width:2.0px;stroke-linecap:butt;stroke-linejoin:miter;stroke-opacity:1;' />\n<path d='M 146.7,167.6 L 150.1,169.6 L 153.5,171.6' style='fill:none;stroke:#000000;stroke-width:2.0px;stroke-linecap:butt;stroke-linejoin:miter;stroke-opacity:1;' />\n<path d='M 214.9,206.9 L 218.3,208.8 L 221.7,206.8' style='fill:none;stroke:#000000;stroke-width:2.0px;stroke-linecap:butt;stroke-linejoin:miter;stroke-opacity:1;' />\n</svg>\n",
            "image/png": "[encoded data removed]"
          },
          "metadata": {},
          "execution_count": 9
        }
      ],
      "source": [
        "pentyne = Chem.MolFromSmiles(\"CC#CCC\")\n",
        "pentyne"
      ]
    },
    {
      "cell_type": "markdown",
      "id": "natural-right",
      "metadata": {
        "id": "natural-right"
      },
      "source": [
        "Of course, we can go beyond simple hydrocarbons, let's look at some more interesting examples."
      ]
    },
    {
      "cell_type": "code",
      "execution_count": 10,
      "id": "unsigned-halifax",
      "metadata": {
        "id": "unsigned-halifax",
        "outputId": "e8987a9b-1950-41f6-9838-e38d53cd6991",
        "colab": {
          "base_uri": "https://localhost:8080/",
          "height": 321
        }
      },
      "outputs": [
        {
          "output_type": "execute_result",
          "data": {
            "text/plain": [
              "<rdkit.Chem.rdchem.Mol at 0x794a5e983a00>"
            ],
            "text/html": [
              "<?xml version='1.0' encoding='iso-8859-1'?>\n",
              "<svg version='1.1' baseProfile='full'\n",
              "              xmlns='http://www.w3.org/2000/svg'\n",
              "                      xmlns:rdkit='http://www.rdkit.org/xml'\n",
              "                      xmlns:xlink='http://www.w3.org/1999/xlink'\n",
              "                  xml:space='preserve'\n",
              "width='300px' height='300px' viewBox='0 0 300 300'>\n",
              "<!-- END OF HEADER -->\n",
              "<rect style='opacity:1.0;fill:#FFFFFF;stroke:none' width='300.0' height='300.0' x='0.0' y='0.0'> </rect>\n",
              "<path class='bond-0 atom-0 atom-1' d='M 271.1,171.8 L 170.5,113.6' style='fill:none;fill-rule:evenodd;stroke:#000000;stroke-width:2.0px;stroke-linecap:butt;stroke-linejoin:miter;stroke-opacity:1' />\n",
              "<path class='bond-1 atom-1 atom-2' d='M 170.5,113.6 L 128.6,137.8' style='fill:none;fill-rule:evenodd;stroke:#000000;stroke-width:2.0px;stroke-linecap:butt;stroke-linejoin:miter;stroke-opacity:1' />\n",
              "<path class='bond-1 atom-1 atom-2' d='M 128.6,137.8 L 86.7,161.9' style='fill:none;fill-rule:evenodd;stroke:#FF0000;stroke-width:2.0px;stroke-linecap:butt;stroke-linejoin:miter;stroke-opacity:1' />\n",
              "<path d='M 175.6,116.5 L 170.5,113.6 L 168.4,114.8' style='fill:none;stroke:#000000;stroke-width:2.0px;stroke-linecap:butt;stroke-linejoin:miter;stroke-opacity:1;' />\n",
              "<path class='atom-2' d='M 28.9 157.6\n",
              "L 32.7 157.6\n",
              "L 32.7 169.7\n",
              "L 47.2 169.7\n",
              "L 47.2 157.6\n",
              "L 51.0 157.6\n",
              "L 51.0 186.0\n",
              "L 47.2 186.0\n",
              "L 47.2 172.9\n",
              "L 32.7 172.9\n",
              "L 32.7 186.0\n",
              "L 28.9 186.0\n",
              "L 28.9 157.6\n",
              "' fill='#FF0000'/>\n",
              "<path class='atom-2' d='M 56.8 171.7\n",
              "Q 56.8 164.9, 60.2 161.1\n",
              "Q 63.6 157.3, 69.8 157.3\n",
              "Q 76.1 157.3, 79.5 161.1\n",
              "Q 82.8 164.9, 82.8 171.7\n",
              "Q 82.8 178.6, 79.4 182.5\n",
              "Q 76.0 186.4, 69.8 186.4\n",
              "Q 63.6 186.4, 60.2 182.5\n",
              "Q 56.8 178.6, 56.8 171.7\n",
              "M 69.8 183.2\n",
              "Q 74.2 183.2, 76.5 180.3\n",
              "Q 78.8 177.4, 78.8 171.7\n",
              "Q 78.8 166.2, 76.5 163.4\n",
              "Q 74.2 160.5, 69.8 160.5\n",
              "Q 65.5 160.5, 63.2 163.3\n",
              "Q 60.8 166.1, 60.8 171.7\n",
              "Q 60.8 177.4, 63.2 180.3\n",
              "Q 65.5 183.2, 69.8 183.2\n",
              "' fill='#FF0000'/>\n",
              "</svg>\n"
            ],
            "image/svg+xml": "<?xml version='1.0' encoding='iso-8859-1'?>\n<svg version='1.1' baseProfile='full'\n              xmlns='http://www.w3.org/2000/svg'\n                      xmlns:rdkit='http://www.rdkit.org/xml'\n                      xmlns:xlink='http://www.w3.org/1999/xlink'\n                  xml:space='preserve'\nwidth='300px' height='300px' viewBox='0 0 300 300'>\n<!-- END OF HEADER -->\n<rect style='opacity:1.0;fill:#FFFFFF;stroke:none' width='300.0' height='300.0' x='0.0' y='0.0'> </rect>\n<path class='bond-0 atom-0 atom-1' d='M 271.1,171.8 L 170.5,113.6' style='fill:none;fill-rule:evenodd;stroke:#000000;stroke-width:2.0px;stroke-linecap:butt;stroke-linejoin:miter;stroke-opacity:1' />\n<path class='bond-1 atom-1 atom-2' d='M 170.5,113.6 L 128.6,137.8' style='fill:none;fill-rule:evenodd;stroke:#000000;stroke-width:2.0px;stroke-linecap:butt;stroke-linejoin:miter;stroke-opacity:1' />\n<path class='bond-1 atom-1 atom-2' d='M 128.6,137.8 L 86.7,161.9' style='fill:none;fill-rule:evenodd;stroke:#FF0000;stroke-width:2.0px;stroke-linecap:butt;stroke-linejoin:miter;stroke-opacity:1' />\n<path d='M 175.6,116.5 L 170.5,113.6 L 168.4,114.8' style='fill:none;stroke:#000000;stroke-width:2.0px;stroke-linecap:butt;stroke-linejoin:miter;stroke-opacity:1;' />\n<path class='atom-2' d='M 28.9 157.6\nL 32.7 157.6\nL 32.7 169.7\nL 47.2 169.7\nL 47.2 157.6\nL 51.0 157.6\nL 51.0 186.0\nL 47.2 186.0\nL 47.2 172.9\nL 32.7 172.9\nL 32.7 186.0\nL 28.9 186.0\nL 28.9 157.6\n' fill='#FF0000'/>\n<path class='atom-2' d='M 56.8 171.7\nQ 56.8 164.9, 60.2 161.1\nQ 63.6 157.3, 69.8 157.3\nQ 76.1 157.3, 79.5 161.1\nQ 82.8 164.9, 82.8 171.7\nQ 82.8 178.6, 79.4 182.5\nQ 76.0 186.4, 69.8 186.4\nQ 63.6 186.4, 60.2 182.5\nQ 56.8 178.6, 56.8 171.7\nM 69.8 183.2\nQ 74.2 183.2, 76.5 180.3\nQ 78.8 177.4, 78.8 171.7\nQ 78.8 166.2, 76.5 163.4\nQ 74.2 160.5, 69.8 160.5\nQ 65.5 160.5, 63.2 163.3\nQ 60.8 166.1, 60.8 171.7\nQ 60.8 177.4, 63.2 180.3\nQ 65.5 183.2, 69.8 183.2\n' fill='#FF0000'/>\n</svg>\n",
            "image/png": "[encoded data removed]"
          },
          "metadata": {},
          "execution_count": 10
        }
      ],
      "source": [
        "ethanol = Chem.MolFromSmiles(\"CCO\")\n",
        "ethanol"
      ]
    },
    {
      "cell_type": "markdown",
      "id": "strategic-boutique",
      "metadata": {
        "id": "strategic-boutique"
      },
      "source": [
        "The ethanol example above brings up another interesting point about SMILES, hydrogens are **usually** implicit.  There are a few exceptions that we'll get to later.  Note that when we wrote the SMILES for ethanol, we didn't have to specify the hydrogen on the oxygen.  Oxygen normally has a valence of two, the oxygen in ethanol only has one attached hydrogen, therefore we assume it has one hydrogen attached.  Similarly, the first carbon in ethanol has one other carbon attached, since carbon typically has a valence of four we assume that it has three hydrogens attached.  Neither the hydrogen on the alcohol oxygen nor the carbons needs to be explicitly specified.\n",
        "\n",
        "This brings up another point.  Hydrogen atoms can be used in SMILES, but the hydrogens must be contained within square brackets and associated with a heavy atom.  For instance, it is valid to write the SMILES for ethanol as CC[OH], it's equally valid to write ethanol as [CH3][CH2][OH].  As an exercise, depict the two representations above for ethanol. Note that if you specify the wrong number of explicit hydrogens, the molecule will be considered to be a radical.  Try depicting [CH2][CH2][OH]."
      ]
    },
    {
      "cell_type": "code",
      "execution_count": 11,
      "id": "c10894be",
      "metadata": {
        "id": "c10894be",
        "outputId": "8e104b14-f277-4997-c057-6171dc4a26aa",
        "colab": {
          "base_uri": "https://localhost:8080/",
          "height": 321
        }
      },
      "outputs": [
        {
          "output_type": "execute_result",
          "data": {
            "text/plain": [
              "<rdkit.Chem.rdchem.Mol at 0x794a5e9cb300>"
            ],
            "text/html": [
              "<?xml version='1.0' encoding='iso-8859-1'?>\n",
              "<svg version='1.1' baseProfile='full'\n",
              "              xmlns='http://www.w3.org/2000/svg'\n",
              "                      xmlns:rdkit='http://www.rdkit.org/xml'\n",
              "                      xmlns:xlink='http://www.w3.org/1999/xlink'\n",
              "                  xml:space='preserve'\n",
              "width='300px' height='300px' viewBox='0 0 300 300'>\n",
              "<!-- END OF HEADER -->\n",
              "<rect style='opacity:1.0;fill:#FFFFFF;stroke:none' width='300.0' height='300.0' x='0.0' y='0.0'> </rect>\n",
              "<path class='bond-0 atom-0 atom-1' d='M 271.1,171.8 L 170.5,113.6' style='fill:none;fill-rule:evenodd;stroke:#000000;stroke-width:2.0px;stroke-linecap:butt;stroke-linejoin:miter;stroke-opacity:1' />\n",
              "<path class='bond-1 atom-1 atom-2' d='M 170.5,113.6 L 128.6,137.8' style='fill:none;fill-rule:evenodd;stroke:#000000;stroke-width:2.0px;stroke-linecap:butt;stroke-linejoin:miter;stroke-opacity:1' />\n",
              "<path class='bond-1 atom-1 atom-2' d='M 128.6,137.8 L 86.7,161.9' style='fill:none;fill-rule:evenodd;stroke:#FF0000;stroke-width:2.0px;stroke-linecap:butt;stroke-linejoin:miter;stroke-opacity:1' />\n",
              "<path d='M 175.6,116.5 L 170.5,113.6 L 168.4,114.8' style='fill:none;stroke:#000000;stroke-width:2.0px;stroke-linecap:butt;stroke-linejoin:miter;stroke-opacity:1;' />\n",
              "<path class='atom-2' d='M 28.9 157.6\n",
              "L 32.7 157.6\n",
              "L 32.7 169.7\n",
              "L 47.2 169.7\n",
              "L 47.2 157.6\n",
              "L 51.0 157.6\n",
              "L 51.0 186.0\n",
              "L 47.2 186.0\n",
              "L 47.2 172.9\n",
              "L 32.7 172.9\n",
              "L 32.7 186.0\n",
              "L 28.9 186.0\n",
              "L 28.9 157.6\n",
              "' fill='#FF0000'/>\n",
              "<path class='atom-2' d='M 56.8 171.7\n",
              "Q 56.8 164.9, 60.2 161.1\n",
              "Q 63.6 157.3, 69.8 157.3\n",
              "Q 76.1 157.3, 79.5 161.1\n",
              "Q 82.8 164.9, 82.8 171.7\n",
              "Q 82.8 178.6, 79.4 182.5\n",
              "Q 76.0 186.4, 69.8 186.4\n",
              "Q 63.6 186.4, 60.2 182.5\n",
              "Q 56.8 178.6, 56.8 171.7\n",
              "M 69.8 183.2\n",
              "Q 74.2 183.2, 76.5 180.3\n",
              "Q 78.8 177.4, 78.8 171.7\n",
              "Q 78.8 166.2, 76.5 163.4\n",
              "Q 74.2 160.5, 69.8 160.5\n",
              "Q 65.5 160.5, 63.2 163.3\n",
              "Q 60.8 166.1, 60.8 171.7\n",
              "Q 60.8 177.4, 63.2 180.3\n",
              "Q 65.5 183.2, 69.8 183.2\n",
              "' fill='#FF0000'/>\n",
              "</svg>\n"
            ],
            "image/svg+xml": "<?xml version='1.0' encoding='iso-8859-1'?>\n<svg version='1.1' baseProfile='full'\n              xmlns='http://www.w3.org/2000/svg'\n                      xmlns:rdkit='http://www.rdkit.org/xml'\n                      xmlns:xlink='http://www.w3.org/1999/xlink'\n                  xml:space='preserve'\nwidth='300px' height='300px' viewBox='0 0 300 300'>\n<!-- END OF HEADER -->\n<rect style='opacity:1.0;fill:#FFFFFF;stroke:none' width='300.0' height='300.0' x='0.0' y='0.0'> </rect>\n<path class='bond-0 atom-0 atom-1' d='M 271.1,171.8 L 170.5,113.6' style='fill:none;fill-rule:evenodd;stroke:#000000;stroke-width:2.0px;stroke-linecap:butt;stroke-linejoin:miter;stroke-opacity:1' />\n<path class='bond-1 atom-1 atom-2' d='M 170.5,113.6 L 128.6,137.8' style='fill:none;fill-rule:evenodd;stroke:#000000;stroke-width:2.0px;stroke-linecap:butt;stroke-linejoin:miter;stroke-opacity:1' />\n<path class='bond-1 atom-1 atom-2' d='M 128.6,137.8 L 86.7,161.9' style='fill:none;fill-rule:evenodd;stroke:#FF0000;stroke-width:2.0px;stroke-linecap:butt;stroke-linejoin:miter;stroke-opacity:1' />\n<path d='M 175.6,116.5 L 170.5,113.6 L 168.4,114.8' style='fill:none;stroke:#000000;stroke-width:2.0px;stroke-linecap:butt;stroke-linejoin:miter;stroke-opacity:1;' />\n<path class='atom-2' d='M 28.9 157.6\nL 32.7 157.6\nL 32.7 169.7\nL 47.2 169.7\nL 47.2 157.6\nL 51.0 157.6\nL 51.0 186.0\nL 47.2 186.0\nL 47.2 172.9\nL 32.7 172.9\nL 32.7 186.0\nL 28.9 186.0\nL 28.9 157.6\n' fill='#FF0000'/>\n<path class='atom-2' d='M 56.8 171.7\nQ 56.8 164.9, 60.2 161.1\nQ 63.6 157.3, 69.8 157.3\nQ 76.1 157.3, 79.5 161.1\nQ 82.8 164.9, 82.8 171.7\nQ 82.8 178.6, 79.4 182.5\nQ 76.0 186.4, 69.8 186.4\nQ 63.6 186.4, 60.2 182.5\nQ 56.8 178.6, 56.8 171.7\nM 69.8 183.2\nQ 74.2 183.2, 76.5 180.3\nQ 78.8 177.4, 78.8 171.7\nQ 78.8 166.2, 76.5 163.4\nQ 74.2 160.5, 69.8 160.5\nQ 65.5 160.5, 63.2 163.3\nQ 60.8 166.1, 60.8 171.7\nQ 60.8 177.4, 63.2 180.3\nQ 65.5 183.2, 69.8 183.2\n' fill='#FF0000'/>\n</svg>\n",
            "image/png": "[encoded data removed]"
          },
          "metadata": {},
          "execution_count": 11
        }
      ],
      "source": [
        "Chem.MolFromSmiles(\"CC[OH]\")"
      ]
    },
    {
      "cell_type": "code",
      "source": [
        "Chem.MolFromSmiles(\"[CH3][CH2][OH]\")"
      ],
      "metadata": {
        "id": "AVL3meI6FOAS",
        "outputId": "860bb101-d87b-45ef-d9ba-a04b9f5f2140",
        "colab": {
          "base_uri": "https://localhost:8080/",
          "height": 321
        }
      },
      "id": "AVL3meI6FOAS",
      "execution_count": 13,
      "outputs": [
        {
          "output_type": "execute_result",
          "data": {
            "text/plain": [
              "<rdkit.Chem.rdchem.Mol at 0x794a5e9cb760>"
            ],
            "text/html": [
              "<?xml version='1.0' encoding='iso-8859-1'?>\n",
              "<svg version='1.1' baseProfile='full'\n",
              "              xmlns='http://www.w3.org/2000/svg'\n",
              "                      xmlns:rdkit='http://www.rdkit.org/xml'\n",
              "                      xmlns:xlink='http://www.w3.org/1999/xlink'\n",
              "                  xml:space='preserve'\n",
              "width='300px' height='300px' viewBox='0 0 300 300'>\n",
              "<!-- END OF HEADER -->\n",
              "<rect style='opacity:1.0;fill:#FFFFFF;stroke:none' width='300.0' height='300.0' x='0.0' y='0.0'> </rect>\n",
              "<path class='bond-0 atom-0 atom-1' d='M 271.1,171.8 L 170.5,113.6' style='fill:none;fill-rule:evenodd;stroke:#000000;stroke-width:2.0px;stroke-linecap:butt;stroke-linejoin:miter;stroke-opacity:1' />\n",
              "<path class='bond-1 atom-1 atom-2' d='M 170.5,113.6 L 128.6,137.8' style='fill:none;fill-rule:evenodd;stroke:#000000;stroke-width:2.0px;stroke-linecap:butt;stroke-linejoin:miter;stroke-opacity:1' />\n",
              "<path class='bond-1 atom-1 atom-2' d='M 128.6,137.8 L 86.7,161.9' style='fill:none;fill-rule:evenodd;stroke:#FF0000;stroke-width:2.0px;stroke-linecap:butt;stroke-linejoin:miter;stroke-opacity:1' />\n",
              "<path d='M 175.6,116.5 L 170.5,113.6 L 168.4,114.8' style='fill:none;stroke:#000000;stroke-width:2.0px;stroke-linecap:butt;stroke-linejoin:miter;stroke-opacity:1;' />\n",
              "<path class='atom-2' d='M 28.9 157.6\n",
              "L 32.7 157.6\n",
              "L 32.7 169.7\n",
              "L 47.2 169.7\n",
              "L 47.2 157.6\n",
              "L 51.0 157.6\n",
              "L 51.0 186.0\n",
              "L 47.2 186.0\n",
              "L 47.2 172.9\n",
              "L 32.7 172.9\n",
              "L 32.7 186.0\n",
              "L 28.9 186.0\n",
              "L 28.9 157.6\n",
              "' fill='#FF0000'/>\n",
              "<path class='atom-2' d='M 56.8 171.7\n",
              "Q 56.8 164.9, 60.2 161.1\n",
              "Q 63.6 157.3, 69.8 157.3\n",
              "Q 76.1 157.3, 79.5 161.1\n",
              "Q 82.8 164.9, 82.8 171.7\n",
              "Q 82.8 178.6, 79.4 182.5\n",
              "Q 76.0 186.4, 69.8 186.4\n",
              "Q 63.6 186.4, 60.2 182.5\n",
              "Q 56.8 178.6, 56.8 171.7\n",
              "M 69.8 183.2\n",
              "Q 74.2 183.2, 76.5 180.3\n",
              "Q 78.8 177.4, 78.8 171.7\n",
              "Q 78.8 166.2, 76.5 163.4\n",
              "Q 74.2 160.5, 69.8 160.5\n",
              "Q 65.5 160.5, 63.2 163.3\n",
              "Q 60.8 166.1, 60.8 171.7\n",
              "Q 60.8 177.4, 63.2 180.3\n",
              "Q 65.5 183.2, 69.8 183.2\n",
              "' fill='#FF0000'/>\n",
              "</svg>\n"
            ],
            "image/svg+xml": "<?xml version='1.0' encoding='iso-8859-1'?>\n<svg version='1.1' baseProfile='full'\n              xmlns='http://www.w3.org/2000/svg'\n                      xmlns:rdkit='http://www.rdkit.org/xml'\n                      xmlns:xlink='http://www.w3.org/1999/xlink'\n                  xml:space='preserve'\nwidth='300px' height='300px' viewBox='0 0 300 300'>\n<!-- END OF HEADER -->\n<rect style='opacity:1.0;fill:#FFFFFF;stroke:none' width='300.0' height='300.0' x='0.0' y='0.0'> </rect>\n<path class='bond-0 atom-0 atom-1' d='M 271.1,171.8 L 170.5,113.6' style='fill:none;fill-rule:evenodd;stroke:#000000;stroke-width:2.0px;stroke-linecap:butt;stroke-linejoin:miter;stroke-opacity:1' />\n<path class='bond-1 atom-1 atom-2' d='M 170.5,113.6 L 128.6,137.8' style='fill:none;fill-rule:evenodd;stroke:#000000;stroke-width:2.0px;stroke-linecap:butt;stroke-linejoin:miter;stroke-opacity:1' />\n<path class='bond-1 atom-1 atom-2' d='M 128.6,137.8 L 86.7,161.9' style='fill:none;fill-rule:evenodd;stroke:#FF0000;stroke-width:2.0px;stroke-linecap:butt;stroke-linejoin:miter;stroke-opacity:1' />\n<path d='M 175.6,116.5 L 170.5,113.6 L 168.4,114.8' style='fill:none;stroke:#000000;stroke-width:2.0px;stroke-linecap:butt;stroke-linejoin:miter;stroke-opacity:1;' />\n<path class='atom-2' d='M 28.9 157.6\nL 32.7 157.6\nL 32.7 169.7\nL 47.2 169.7\nL 47.2 157.6\nL 51.0 157.6\nL 51.0 186.0\nL 47.2 186.0\nL 47.2 172.9\nL 32.7 172.9\nL 32.7 186.0\nL 28.9 186.0\nL 28.9 157.6\n' fill='#FF0000'/>\n<path class='atom-2' d='M 56.8 171.7\nQ 56.8 164.9, 60.2 161.1\nQ 63.6 157.3, 69.8 157.3\nQ 76.1 157.3, 79.5 161.1\nQ 82.8 164.9, 82.8 171.7\nQ 82.8 178.6, 79.4 182.5\nQ 76.0 186.4, 69.8 186.4\nQ 63.6 186.4, 60.2 182.5\nQ 56.8 178.6, 56.8 171.7\nM 69.8 183.2\nQ 74.2 183.2, 76.5 180.3\nQ 78.8 177.4, 78.8 171.7\nQ 78.8 166.2, 76.5 163.4\nQ 74.2 160.5, 69.8 160.5\nQ 65.5 160.5, 63.2 163.3\nQ 60.8 166.1, 60.8 171.7\nQ 60.8 177.4, 63.2 180.3\nQ 65.5 183.2, 69.8 183.2\n' fill='#FF0000'/>\n</svg>\n",
            "image/png": "[encoded data removed]"
          },
          "metadata": {},
          "execution_count": 13
        }
      ]
    },
    {
      "cell_type": "markdown",
      "id": "06421bd9",
      "metadata": {
        "id": "06421bd9"
      },
      "source": [
        "### Charges\n",
        "\n",
        "Positive and negative charges are included by adding \"+\" or \"-\" in square brackets with the atom type. In addition, hydrogens attached to the atom must be explicitly specified.\n",
        "Here's ethylamine"
      ]
    },
    {
      "cell_type": "code",
      "execution_count": 14,
      "id": "526f3c76",
      "metadata": {
        "id": "526f3c76",
        "outputId": "451c9741-c509-4a0b-cb5d-7bb24bf151ef",
        "colab": {
          "base_uri": "https://localhost:8080/",
          "height": 321
        }
      },
      "outputs": [
        {
          "output_type": "execute_result",
          "data": {
            "text/plain": [
              "<rdkit.Chem.rdchem.Mol at 0x794a5e9cb5a0>"
            ],
            "text/html": [
              "<?xml version='1.0' encoding='iso-8859-1'?>\n",
              "<svg version='1.1' baseProfile='full'\n",
              "              xmlns='http://www.w3.org/2000/svg'\n",
              "                      xmlns:rdkit='http://www.rdkit.org/xml'\n",
              "                      xmlns:xlink='http://www.w3.org/1999/xlink'\n",
              "                  xml:space='preserve'\n",
              "width='300px' height='300px' viewBox='0 0 300 300'>\n",
              "<!-- END OF HEADER -->\n",
              "<rect style='opacity:1.0;fill:#FFFFFF;stroke:none' width='300.0' height='300.0' x='0.0' y='0.0'> </rect>\n",
              "<path class='bond-0 atom-0 atom-1' d='M 269.9,162.6 L 177.3,109.0' style='fill:none;fill-rule:evenodd;stroke:#000000;stroke-width:2.0px;stroke-linecap:butt;stroke-linejoin:miter;stroke-opacity:1' />\n",
              "<path class='bond-1 atom-1 atom-2' d='M 177.3,109.0 L 146.4,126.8' style='fill:none;fill-rule:evenodd;stroke:#000000;stroke-width:2.0px;stroke-linecap:butt;stroke-linejoin:miter;stroke-opacity:1' />\n",
              "<path class='bond-1 atom-1 atom-2' d='M 146.4,126.8 L 115.6,144.6' style='fill:none;fill-rule:evenodd;stroke:#0000FF;stroke-width:2.0px;stroke-linecap:butt;stroke-linejoin:miter;stroke-opacity:1' />\n",
              "<path d='M 181.9,111.7 L 177.3,109.0 L 175.7,109.9' style='fill:none;stroke:#000000;stroke-width:2.0px;stroke-linecap:butt;stroke-linejoin:miter;stroke-opacity:1;' />\n",
              "<path class='atom-2' d='M 30.1 148.3\n",
              "L 34.0 148.3\n",
              "L 34.0 160.3\n",
              "L 48.4 160.3\n",
              "L 48.4 148.3\n",
              "L 52.3 148.3\n",
              "L 52.3 176.6\n",
              "L 48.4 176.6\n",
              "L 48.4 163.5\n",
              "L 34.0 163.5\n",
              "L 34.0 176.6\n",
              "L 30.1 176.6\n",
              "L 30.1 148.3\n",
              "' fill='#0000FF'/>\n",
              "<path class='atom-2' d='M 66.7 180.9\n",
              "Q 68.5 181.4, 69.4 182.6\n",
              "Q 70.3 183.8, 70.3 185.6\n",
              "Q 70.3 187.2, 69.5 188.4\n",
              "Q 68.7 189.7, 67.2 190.3\n",
              "Q 65.8 191.0, 63.9 191.0\n",
              "Q 61.9 191.0, 60.4 190.3\n",
              "Q 58.9 189.6, 57.7 188.2\n",
              "L 59.2 186.6\n",
              "Q 60.4 187.9, 61.3 188.4\n",
              "Q 62.3 188.9, 63.9 188.9\n",
              "Q 65.6 188.9, 66.6 188.0\n",
              "Q 67.6 187.1, 67.6 185.6\n",
              "Q 67.6 183.7, 66.5 182.8\n",
              "Q 65.5 182.0, 63.2 182.0\n",
              "L 61.8 182.0\n",
              "L 61.8 180.1\n",
              "L 63.0 180.1\n",
              "Q 65.1 180.0, 66.2 179.2\n",
              "Q 67.2 178.3, 67.2 176.6\n",
              "Q 67.2 175.4, 66.3 174.7\n",
              "Q 65.4 173.9, 63.9 173.9\n",
              "Q 62.4 173.9, 61.4 174.5\n",
              "Q 60.4 175.1, 59.7 176.5\n",
              "L 57.9 175.5\n",
              "Q 58.5 173.9, 60.1 172.9\n",
              "Q 61.7 171.8, 63.9 171.8\n",
              "Q 66.7 171.8, 68.3 173.1\n",
              "Q 69.9 174.4, 69.9 176.6\n",
              "Q 69.9 178.1, 69.1 179.2\n",
              "Q 68.2 180.3, 66.7 180.9\n",
              "' fill='#0000FF'/>\n",
              "<path class='atom-2' d='M 78.3 148.3\n",
              "L 87.6 163.3\n",
              "Q 88.5 164.7, 90.0 167.4\n",
              "Q 91.5 170.1, 91.6 170.3\n",
              "L 91.6 148.3\n",
              "L 95.3 148.3\n",
              "L 95.3 176.6\n",
              "L 91.5 176.6\n",
              "L 81.5 160.2\n",
              "Q 80.3 158.3, 79.1 156.1\n",
              "Q 77.9 153.9, 77.5 153.2\n",
              "L 77.5 176.6\n",
              "L 73.9 176.6\n",
              "L 73.9 148.3\n",
              "L 78.3 148.3\n",
              "' fill='#0000FF'/>\n",
              "<path class='atom-2' d='M 100.7 153.4\n",
              "L 105.7 153.4\n",
              "L 105.7 148.1\n",
              "L 107.9 148.1\n",
              "L 107.9 153.4\n",
              "L 113.0 153.4\n",
              "L 113.0 155.3\n",
              "L 107.9 155.3\n",
              "L 107.9 160.5\n",
              "L 105.7 160.5\n",
              "L 105.7 155.3\n",
              "L 100.7 155.3\n",
              "L 100.7 153.4\n",
              "' fill='#0000FF'/>\n",
              "</svg>\n"
            ],
            "image/svg+xml": "<?xml version='1.0' encoding='iso-8859-1'?>\n<svg version='1.1' baseProfile='full'\n              xmlns='http://www.w3.org/2000/svg'\n                      xmlns:rdkit='http://www.rdkit.org/xml'\n                      xmlns:xlink='http://www.w3.org/1999/xlink'\n                  xml:space='preserve'\nwidth='300px' height='300px' viewBox='0 0 300 300'>\n<!-- END OF HEADER -->\n<rect style='opacity:1.0;fill:#FFFFFF;stroke:none' width='300.0' height='300.0' x='0.0' y='0.0'> </rect>\n<path class='bond-0 atom-0 atom-1' d='M 269.9,162.6 L 177.3,109.0' style='fill:none;fill-rule:evenodd;stroke:#000000;stroke-width:2.0px;stroke-linecap:butt;stroke-linejoin:miter;stroke-opacity:1' />\n<path class='bond-1 atom-1 atom-2' d='M 177.3,109.0 L 146.4,126.8' style='fill:none;fill-rule:evenodd;stroke:#000000;stroke-width:2.0px;stroke-linecap:butt;stroke-linejoin:miter;stroke-opacity:1' />\n<path class='bond-1 atom-1 atom-2' d='M 146.4,126.8 L 115.6,144.6' style='fill:none;fill-rule:evenodd;stroke:#0000FF;stroke-width:2.0px;stroke-linecap:butt;stroke-linejoin:miter;stroke-opacity:1' />\n<path d='M 181.9,111.7 L 177.3,109.0 L 175.7,109.9' style='fill:none;stroke:#000000;stroke-width:2.0px;stroke-linecap:butt;stroke-linejoin:miter;stroke-opacity:1;' />\n<path class='atom-2' d='M 30.1 148.3\nL 34.0 148.3\nL 34.0 160.3\nL 48.4 160.3\nL 48.4 148.3\nL 52.3 148.3\nL 52.3 176.6\nL 48.4 176.6\nL 48.4 163.5\nL 34.0 163.5\nL 34.0 176.6\nL 30.1 176.6\nL 30.1 148.3\n' fill='#0000FF'/>\n<path class='atom-2' d='M 66.7 180.9\nQ 68.5 181.4, 69.4 182.6\nQ 70.3 183.8, 70.3 185.6\nQ 70.3 187.2, 69.5 188.4\nQ 68.7 189.7, 67.2 190.3\nQ 65.8 191.0, 63.9 191.0\nQ 61.9 191.0, 60.4 190.3\nQ 58.9 189.6, 57.7 188.2\nL 59.2 186.6\nQ 60.4 187.9, 61.3 188.4\nQ 62.3 188.9, 63.9 188.9\nQ 65.6 188.9, 66.6 188.0\nQ 67.6 187.1, 67.6 185.6\nQ 67.6 183.7, 66.5 182.8\nQ 65.5 182.0, 63.2 182.0\nL 61.8 182.0\nL 61.8 180.1\nL 63.0 180.1\nQ 65.1 180.0, 66.2 179.2\nQ 67.2 178.3, 67.2 176.6\nQ 67.2 175.4, 66.3 174.7\nQ 65.4 173.9, 63.9 173.9\nQ 62.4 173.9, 61.4 174.5\nQ 60.4 175.1, 59.7 176.5\nL 57.9 175.5\nQ 58.5 173.9, 60.1 172.9\nQ 61.7 171.8, 63.9 171.8\nQ 66.7 171.8, 68.3 173.1\nQ 69.9 174.4, 69.9 176.6\nQ 69.9 178.1, 69.1 179.2\nQ 68.2 180.3, 66.7 180.9\n' fill='#0000FF'/>\n<path class='atom-2' d='M 78.3 148.3\nL 87.6 163.3\nQ 88.5 164.7, 90.0 167.4\nQ 91.5 170.1, 91.6 170.3\nL 91.6 148.3\nL 95.3 148.3\nL 95.3 176.6\nL 91.5 176.6\nL 81.5 160.2\nQ 80.3 158.3, 79.1 156.1\nQ 77.9 153.9, 77.5 153.2\nL 77.5 176.6\nL 73.9 176.6\nL 73.9 148.3\nL 78.3 148.3\n' fill='#0000FF'/>\n<path class='atom-2' d='M 100.7 153.4\nL 105.7 153.4\nL 105.7 148.1\nL 107.9 148.1\nL 107.9 153.4\nL 113.0 153.4\nL 113.0 155.3\nL 107.9 155.3\nL 107.9 160.5\nL 105.7 160.5\nL 105.7 155.3\nL 100.7 155.3\nL 100.7 153.4\n' fill='#0000FF'/>\n</svg>\n",
            "image/png": "[encoded data removed]"
          },
          "metadata": {},
          "execution_count": 14
        }
      ],
      "source": [
        "ethylamine = Chem.MolFromSmiles(\"CC[NH3+]\")\n",
        "ethylamine"
      ]
    },
    {
      "cell_type": "markdown",
      "id": "0baa9b25",
      "metadata": {
        "id": "0baa9b25"
      },
      "source": [
        "Here's acetate, more on parentheses and branching below."
      ]
    },
    {
      "cell_type": "code",
      "execution_count": 15,
      "id": "0f52827a",
      "metadata": {
        "id": "0f52827a",
        "outputId": "03aebd31-6ea0-4b86-e3df-d0573dc78c2b",
        "colab": {
          "base_uri": "https://localhost:8080/",
          "height": 321
        }
      },
      "outputs": [
        {
          "output_type": "execute_result",
          "data": {
            "text/plain": [
              "<rdkit.Chem.rdchem.Mol at 0x794a5e9cb840>"
            ],
            "text/html": [
              "<?xml version='1.0' encoding='iso-8859-1'?>\n",
              "<svg version='1.1' baseProfile='full'\n",
              "              xmlns='http://www.w3.org/2000/svg'\n",
              "                      xmlns:rdkit='http://www.rdkit.org/xml'\n",
              "                      xmlns:xlink='http://www.w3.org/1999/xlink'\n",
              "                  xml:space='preserve'\n",
              "width='300px' height='300px' viewBox='0 0 300 300'>\n",
              "<!-- END OF HEADER -->\n",
              "<rect style='opacity:1.0;fill:#FFFFFF;stroke:none' width='300.0' height='300.0' x='0.0' y='0.0'> </rect>\n",
              "<path class='bond-0 atom-0 atom-1' d='M 25.9,245.1 L 136.9,181.6' style='fill:none;fill-rule:evenodd;stroke:#000000;stroke-width:2.0px;stroke-linecap:butt;stroke-linejoin:miter;stroke-opacity:1' />\n",
              "<path class='bond-1 atom-1 atom-2' d='M 146.4,187.1 L 146.6,129.9' style='fill:none;fill-rule:evenodd;stroke:#000000;stroke-width:2.0px;stroke-linecap:butt;stroke-linejoin:miter;stroke-opacity:1' />\n",
              "<path class='bond-1 atom-1 atom-2' d='M 146.6,129.9 L 146.9,72.7' style='fill:none;fill-rule:evenodd;stroke:#FF0000;stroke-width:2.0px;stroke-linecap:butt;stroke-linejoin:miter;stroke-opacity:1' />\n",
              "<path class='bond-1 atom-1 atom-2' d='M 127.3,187.1 L 127.5,129.8' style='fill:none;fill-rule:evenodd;stroke:#000000;stroke-width:2.0px;stroke-linecap:butt;stroke-linejoin:miter;stroke-opacity:1' />\n",
              "<path class='bond-1 atom-1 atom-2' d='M 127.5,129.8 L 127.7,72.6' style='fill:none;fill-rule:evenodd;stroke:#FF0000;stroke-width:2.0px;stroke-linecap:butt;stroke-linejoin:miter;stroke-opacity:1' />\n",
              "<path class='bond-2 atom-1 atom-3' d='M 136.9,181.6 L 183.5,208.7' style='fill:none;fill-rule:evenodd;stroke:#000000;stroke-width:2.0px;stroke-linecap:butt;stroke-linejoin:miter;stroke-opacity:1' />\n",
              "<path class='bond-2 atom-1 atom-3' d='M 183.5,208.7 L 230.2,235.9' style='fill:none;fill-rule:evenodd;stroke:#FF0000;stroke-width:2.0px;stroke-linecap:butt;stroke-linejoin:miter;stroke-opacity:1' />\n",
              "<path d='M 131.3,184.7 L 136.9,181.6 L 139.2,182.9' style='fill:none;stroke:#000000;stroke-width:2.0px;stroke-linecap:butt;stroke-linejoin:miter;stroke-opacity:1;' />\n",
              "<path class='atom-2' d='M 124.3 53.8\n",
              "Q 124.3 47.0, 127.7 43.2\n",
              "Q 131.0 39.4, 137.3 39.4\n",
              "Q 143.6 39.4, 147.0 43.2\n",
              "Q 150.3 47.0, 150.3 53.8\n",
              "Q 150.3 60.6, 146.9 64.6\n",
              "Q 143.5 68.4, 137.3 68.4\n",
              "Q 131.1 68.4, 127.7 64.6\n",
              "Q 124.3 60.7, 124.3 53.8\n",
              "M 137.3 65.2\n",
              "Q 141.6 65.2, 144.0 62.4\n",
              "Q 146.3 59.4, 146.3 53.8\n",
              "Q 146.3 48.2, 144.0 45.4\n",
              "Q 141.6 42.6, 137.3 42.6\n",
              "Q 133.0 42.6, 130.6 45.4\n",
              "Q 128.3 48.2, 128.3 53.8\n",
              "Q 128.3 59.5, 130.6 62.4\n",
              "Q 133.0 65.2, 137.3 65.2\n",
              "' fill='#FF0000'/>\n",
              "<path class='atom-3' d='M 234.4 246.0\n",
              "Q 234.4 239.2, 237.7 235.4\n",
              "Q 241.1 231.6, 247.4 231.6\n",
              "Q 253.7 231.6, 257.0 235.4\n",
              "Q 260.4 239.2, 260.4 246.0\n",
              "Q 260.4 252.8, 257.0 256.8\n",
              "Q 253.6 260.6, 247.4 260.6\n",
              "Q 241.1 260.6, 237.7 256.8\n",
              "Q 234.4 252.9, 234.4 246.0\n",
              "M 247.4 257.4\n",
              "Q 251.7 257.4, 254.0 254.6\n",
              "Q 256.4 251.6, 256.4 246.0\n",
              "Q 256.4 240.4, 254.0 237.6\n",
              "Q 251.7 234.8, 247.4 234.8\n",
              "Q 243.1 234.8, 240.7 237.6\n",
              "Q 238.4 240.4, 238.4 246.0\n",
              "Q 238.4 251.7, 240.7 254.6\n",
              "Q 243.1 257.4, 247.4 257.4\n",
              "' fill='#FF0000'/>\n",
              "<path class='atom-3' d='M 264.4 236.2\n",
              "L 274.1 236.2\n",
              "L 274.1 238.3\n",
              "L 264.4 238.3\n",
              "L 264.4 236.2\n",
              "' fill='#FF0000'/>\n",
              "</svg>\n"
            ],
            "image/svg+xml": "<?xml version='1.0' encoding='iso-8859-1'?>\n<svg version='1.1' baseProfile='full'\n              xmlns='http://www.w3.org/2000/svg'\n                      xmlns:rdkit='http://www.rdkit.org/xml'\n                      xmlns:xlink='http://www.w3.org/1999/xlink'\n                  xml:space='preserve'\nwidth='300px' height='300px' viewBox='0 0 300 300'>\n<!-- END OF HEADER -->\n<rect style='opacity:1.0;fill:#FFFFFF;stroke:none' width='300.0' height='300.0' x='0.0' y='0.0'> </rect>\n<path class='bond-0 atom-0 atom-1' d='M 25.9,245.1 L 136.9,181.6' style='fill:none;fill-rule:evenodd;stroke:#000000;stroke-width:2.0px;stroke-linecap:butt;stroke-linejoin:miter;stroke-opacity:1' />\n<path class='bond-1 atom-1 atom-2' d='M 146.4,187.1 L 146.6,129.9' style='fill:none;fill-rule:evenodd;stroke:#000000;stroke-width:2.0px;stroke-linecap:butt;stroke-linejoin:miter;stroke-opacity:1' />\n<path class='bond-1 atom-1 atom-2' d='M 146.6,129.9 L 146.9,72.7' style='fill:none;fill-rule:evenodd;stroke:#FF0000;stroke-width:2.0px;stroke-linecap:butt;stroke-linejoin:miter;stroke-opacity:1' />\n<path class='bond-1 atom-1 atom-2' d='M 127.3,187.1 L 127.5,129.8' style='fill:none;fill-rule:evenodd;stroke:#000000;stroke-width:2.0px;stroke-linecap:butt;stroke-linejoin:miter;stroke-opacity:1' />\n<path class='bond-1 atom-1 atom-2' d='M 127.5,129.8 L 127.7,72.6' style='fill:none;fill-rule:evenodd;stroke:#FF0000;stroke-width:2.0px;stroke-linecap:butt;stroke-linejoin:miter;stroke-opacity:1' />\n<path class='bond-2 atom-1 atom-3' d='M 136.9,181.6 L 183.5,208.7' style='fill:none;fill-rule:evenodd;stroke:#000000;stroke-width:2.0px;stroke-linecap:butt;stroke-linejoin:miter;stroke-opacity:1' />\n<path class='bond-2 atom-1 atom-3' d='M 183.5,208.7 L 230.2,235.9' style='fill:none;fill-rule:evenodd;stroke:#FF0000;stroke-width:2.0px;stroke-linecap:butt;stroke-linejoin:miter;stroke-opacity:1' />\n<path d='M 131.3,184.7 L 136.9,181.6 L 139.2,182.9' style='fill:none;stroke:#000000;stroke-width:2.0px;stroke-linecap:butt;stroke-linejoin:miter;stroke-opacity:1;' />\n<path class='atom-2' d='M 124.3 53.8\nQ 124.3 47.0, 127.7 43.2\nQ 131.0 39.4, 137.3 39.4\nQ 143.6 39.4, 147.0 43.2\nQ 150.3 47.0, 150.3 53.8\nQ 150.3 60.6, 146.9 64.6\nQ 143.5 68.4, 137.3 68.4\nQ 131.1 68.4, 127.7 64.6\nQ 124.3 60.7, 124.3 53.8\nM 137.3 65.2\nQ 141.6 65.2, 144.0 62.4\nQ 146.3 59.4, 146.3 53.8\nQ 146.3 48.2, 144.0 45.4\nQ 141.6 42.6, 137.3 42.6\nQ 133.0 42.6, 130.6 45.4\nQ 128.3 48.2, 128.3 53.8\nQ 128.3 59.5, 130.6 62.4\nQ 133.0 65.2, 137.3 65.2\n' fill='#FF0000'/>\n<path class='atom-3' d='M 234.4 246.0\nQ 234.4 239.2, 237.7 235.4\nQ 241.1 231.6, 247.4 231.6\nQ 253.7 231.6, 257.0 235.4\nQ 260.4 239.2, 260.4 246.0\nQ 260.4 252.8, 257.0 256.8\nQ 253.6 260.6, 247.4 260.6\nQ 241.1 260.6, 237.7 256.8\nQ 234.4 252.9, 234.4 246.0\nM 247.4 257.4\nQ 251.7 257.4, 254.0 254.6\nQ 256.4 251.6, 256.4 246.0\nQ 256.4 240.4, 254.0 237.6\nQ 251.7 234.8, 247.4 234.8\nQ 243.1 234.8, 240.7 237.6\nQ 238.4 240.4, 238.4 246.0\nQ 238.4 251.7, 240.7 254.6\nQ 243.1 257.4, 247.4 257.4\n' fill='#FF0000'/>\n<path class='atom-3' d='M 264.4 236.2\nL 274.1 236.2\nL 274.1 238.3\nL 264.4 238.3\nL 264.4 236.2\n' fill='#FF0000'/>\n</svg>\n",
            "image/png": "[encoded data removed]"
          },
          "metadata": {},
          "execution_count": 15
        }
      ],
      "source": [
        "acetate = Chem.MolFromSmiles(\"CC(=O)[O-]\")\n",
        "acetate"
      ]
    },
    {
      "cell_type": "markdown",
      "id": "2abd1eb3",
      "metadata": {
        "id": "2abd1eb3"
      },
      "source": [
        "### Disconnected Structures\n",
        "\n",
        "In some cases, a molecule may contain multiple entities that are not connected by a covalent bond.  In SMILES, the two entities are represented as two SMILES separated by a \".\".  For instance, let's look at acetate with a sodium salt.  The positioning of the sodium salt in the depiction isn't ideal but the SMILES is valid."
      ]
    },
    {
      "cell_type": "code",
      "execution_count": 16,
      "id": "e3129715",
      "metadata": {
        "id": "e3129715",
        "outputId": "8d67fea6-9e8c-4994-a756-e3a43604de36",
        "colab": {
          "base_uri": "https://localhost:8080/",
          "height": 321
        }
      },
      "outputs": [
        {
          "output_type": "execute_result",
          "data": {
            "text/plain": [
              "<rdkit.Chem.rdchem.Mol at 0x794a5e9cb990>"
            ],
            "text/html": [
              "<?xml version='1.0' encoding='iso-8859-1'?>\n",
              "<svg version='1.1' baseProfile='full'\n",
              "              xmlns='http://www.w3.org/2000/svg'\n",
              "                      xmlns:rdkit='http://www.rdkit.org/xml'\n",
              "                      xmlns:xlink='http://www.w3.org/1999/xlink'\n",
              "                  xml:space='preserve'\n",
              "width='300px' height='300px' viewBox='0 0 300 300'>\n",
              "<!-- END OF HEADER -->\n",
              "<rect style='opacity:1.0;fill:#FFFFFF;stroke:none' width='300.0' height='300.0' x='0.0' y='0.0'> </rect>\n",
              "<path class='bond-0 atom-0 atom-1' d='M 18.0,208.1 L 85.9,169.2' style='fill:none;fill-rule:evenodd;stroke:#000000;stroke-width:2.0px;stroke-linecap:butt;stroke-linejoin:miter;stroke-opacity:1' />\n",
              "<path class='bond-1 atom-1 atom-2' d='M 91.8,172.6 L 91.9,140.5' style='fill:none;fill-rule:evenodd;stroke:#000000;stroke-width:2.0px;stroke-linecap:butt;stroke-linejoin:miter;stroke-opacity:1' />\n",
              "<path class='bond-1 atom-1 atom-2' d='M 91.9,140.5 L 92.0,108.3' style='fill:none;fill-rule:evenodd;stroke:#FF0000;stroke-width:2.0px;stroke-linecap:butt;stroke-linejoin:miter;stroke-opacity:1' />\n",
              "<path class='bond-1 atom-1 atom-2' d='M 80.0,172.6 L 80.1,140.4' style='fill:none;fill-rule:evenodd;stroke:#000000;stroke-width:2.0px;stroke-linecap:butt;stroke-linejoin:miter;stroke-opacity:1' />\n",
              "<path class='bond-1 atom-1 atom-2' d='M 80.1,140.4 L 80.3,108.3' style='fill:none;fill-rule:evenodd;stroke:#FF0000;stroke-width:2.0px;stroke-linecap:butt;stroke-linejoin:miter;stroke-opacity:1' />\n",
              "<path class='bond-2 atom-1 atom-3' d='M 85.9,169.2 L 111.9,184.4' style='fill:none;fill-rule:evenodd;stroke:#000000;stroke-width:2.0px;stroke-linecap:butt;stroke-linejoin:miter;stroke-opacity:1' />\n",
              "<path class='bond-2 atom-1 atom-3' d='M 111.9,184.4 L 138.0,199.5' style='fill:none;fill-rule:evenodd;stroke:#FF0000;stroke-width:2.0px;stroke-linecap:butt;stroke-linejoin:miter;stroke-opacity:1' />\n",
              "<path d='M 82.5,171.2 L 85.9,169.2 L 87.2,170.0' style='fill:none;stroke:#000000;stroke-width:2.0px;stroke-linecap:butt;stroke-linejoin:miter;stroke-opacity:1;' />\n",
              "<path class='atom-2' d='M 73.2 91.0\n",
              "Q 73.2 84.2, 76.6 80.4\n",
              "Q 79.9 76.6, 86.2 76.6\n",
              "Q 92.5 76.6, 95.8 80.4\n",
              "Q 99.2 84.2, 99.2 91.0\n",
              "Q 99.2 97.9, 95.8 101.8\n",
              "Q 92.4 105.7, 86.2 105.7\n",
              "Q 80.0 105.7, 76.6 101.8\n",
              "Q 73.2 98.0, 73.2 91.0\n",
              "M 86.2 102.5\n",
              "Q 90.5 102.5, 92.8 99.6\n",
              "Q 95.2 96.7, 95.2 91.0\n",
              "Q 95.2 85.5, 92.8 82.7\n",
              "Q 90.5 79.8, 86.2 79.8\n",
              "Q 81.9 79.8, 79.5 82.6\n",
              "Q 77.2 85.4, 77.2 91.0\n",
              "Q 77.2 96.8, 79.5 99.6\n",
              "Q 81.9 102.5, 86.2 102.5\n",
              "' fill='#FF0000'/>\n",
              "<path class='atom-3' d='M 140.5 208.7\n",
              "Q 140.5 201.9, 143.9 198.1\n",
              "Q 147.3 194.3, 153.5 194.3\n",
              "Q 159.8 194.3, 163.2 198.1\n",
              "Q 166.5 201.9, 166.5 208.7\n",
              "Q 166.5 215.6, 163.1 219.5\n",
              "Q 159.7 223.4, 153.5 223.4\n",
              "Q 147.3 223.4, 143.9 219.5\n",
              "Q 140.5 215.6, 140.5 208.7\n",
              "M 153.5 220.2\n",
              "Q 157.9 220.2, 160.2 217.3\n",
              "Q 162.5 214.4, 162.5 208.7\n",
              "Q 162.5 203.1, 160.2 200.3\n",
              "Q 157.9 197.5, 153.5 197.5\n",
              "Q 149.2 197.5, 146.9 200.3\n",
              "Q 144.5 203.1, 144.5 208.7\n",
              "Q 144.5 214.4, 146.9 217.3\n",
              "Q 149.2 220.2, 153.5 220.2\n",
              "' fill='#FF0000'/>\n",
              "<path class='atom-3' d='M 170.6 198.9\n",
              "L 180.3 198.9\n",
              "L 180.3 201.0\n",
              "L 170.6 201.0\n",
              "L 170.6 198.9\n",
              "' fill='#FF0000'/>\n",
              "<path class='atom-4' d='M 225.5 194.4\n",
              "L 234.8 209.4\n",
              "Q 235.7 210.9, 237.2 213.6\n",
              "Q 238.7 216.3, 238.8 216.4\n",
              "L 238.8 194.4\n",
              "L 242.5 194.4\n",
              "L 242.5 222.8\n",
              "L 238.7 222.8\n",
              "L 228.7 206.4\n",
              "Q 227.5 204.4, 226.3 202.2\n",
              "Q 225.1 200.0, 224.7 199.4\n",
              "L 224.7 222.8\n",
              "L 221.1 222.8\n",
              "L 221.1 194.4\n",
              "L 225.5 194.4\n",
              "' fill='#000000'/>\n",
              "<path class='atom-4' d='M 247.8 217.2\n",
              "Q 247.8 213.9, 250.4 212.1\n",
              "Q 253.0 210.3, 257.9 210.3\n",
              "L 260.9 210.3\n",
              "L 260.9 209.5\n",
              "Q 260.9 207.0, 259.8 205.9\n",
              "Q 258.8 204.8, 256.2 204.8\n",
              "Q 254.6 204.8, 253.3 205.1\n",
              "Q 252.0 205.4, 250.0 206.3\n",
              "L 248.9 203.7\n",
              "Q 252.7 201.8, 256.3 201.8\n",
              "Q 260.7 201.8, 262.7 203.7\n",
              "Q 264.7 205.6, 264.7 209.6\n",
              "L 264.7 222.8\n",
              "L 261.8 222.8\n",
              "Q 261.7 222.6, 261.6 222.0\n",
              "Q 261.5 221.4, 261.2 220.4\n",
              "Q 258.4 223.2, 254.5 223.2\n",
              "Q 251.4 223.2, 249.6 221.6\n",
              "Q 247.8 220.0, 247.8 217.2\n",
              "M 251.5 217.1\n",
              "Q 251.5 218.6, 252.5 219.5\n",
              "Q 253.4 220.3, 255.2 220.3\n",
              "Q 256.8 220.3, 258.4 219.6\n",
              "Q 259.9 218.8, 260.9 217.5\n",
              "L 260.9 213.1\n",
              "L 258.1 213.1\n",
              "Q 254.8 213.1, 253.2 214.1\n",
              "Q 251.5 215.1, 251.5 217.1\n",
              "' fill='#000000'/>\n",
              "<path class='atom-4' d='M 269.7 203.0\n",
              "L 274.7 203.0\n",
              "L 274.7 197.7\n",
              "L 276.9 197.7\n",
              "L 276.9 203.0\n",
              "L 282.0 203.0\n",
              "L 282.0 204.9\n",
              "L 276.9 204.9\n",
              "L 276.9 210.2\n",
              "L 274.7 210.2\n",
              "L 274.7 204.9\n",
              "L 269.7 204.9\n",
              "L 269.7 203.0\n",
              "' fill='#000000'/>\n",
              "</svg>\n"
            ],
            "image/svg+xml": "<?xml version='1.0' encoding='iso-8859-1'?>\n<svg version='1.1' baseProfile='full'\n              xmlns='http://www.w3.org/2000/svg'\n                      xmlns:rdkit='http://www.rdkit.org/xml'\n                      xmlns:xlink='http://www.w3.org/1999/xlink'\n                  xml:space='preserve'\nwidth='300px' height='300px' viewBox='0 0 300 300'>\n<!-- END OF HEADER -->\n<rect style='opacity:1.0;fill:#FFFFFF;stroke:none' width='300.0' height='300.0' x='0.0' y='0.0'> </rect>\n<path class='bond-0 atom-0 atom-1' d='M 18.0,208.1 L 85.9,169.2' style='fill:none;fill-rule:evenodd;stroke:#000000;stroke-width:2.0px;stroke-linecap:butt;stroke-linejoin:miter;stroke-opacity:1' />\n<path class='bond-1 atom-1 atom-2' d='M 91.8,172.6 L 91.9,140.5' style='fill:none;fill-rule:evenodd;stroke:#000000;stroke-width:2.0px;stroke-linecap:butt;stroke-linejoin:miter;stroke-opacity:1' />\n<path class='bond-1 atom-1 atom-2' d='M 91.9,140.5 L 92.0,108.3' style='fill:none;fill-rule:evenodd;stroke:#FF0000;stroke-width:2.0px;stroke-linecap:butt;stroke-linejoin:miter;stroke-opacity:1' />\n<path class='bond-1 atom-1 atom-2' d='M 80.0,172.6 L 80.1,140.4' style='fill:none;fill-rule:evenodd;stroke:#000000;stroke-width:2.0px;stroke-linecap:butt;stroke-linejoin:miter;stroke-opacity:1' />\n<path class='bond-1 atom-1 atom-2' d='M 80.1,140.4 L 80.3,108.3' style='fill:none;fill-rule:evenodd;stroke:#FF0000;stroke-width:2.0px;stroke-linecap:butt;stroke-linejoin:miter;stroke-opacity:1' />\n<path class='bond-2 atom-1 atom-3' d='M 85.9,169.2 L 111.9,184.4' style='fill:none;fill-rule:evenodd;stroke:#000000;stroke-width:2.0px;stroke-linecap:butt;stroke-linejoin:miter;stroke-opacity:1' />\n<path class='bond-2 atom-1 atom-3' d='M 111.9,184.4 L 138.0,199.5' style='fill:none;fill-rule:evenodd;stroke:#FF0000;stroke-width:2.0px;stroke-linecap:butt;stroke-linejoin:miter;stroke-opacity:1' />\n<path d='M 82.5,171.2 L 85.9,169.2 L 87.2,170.0' style='fill:none;stroke:#000000;stroke-width:2.0px;stroke-linecap:butt;stroke-linejoin:miter;stroke-opacity:1;' />\n<path class='atom-2' d='M 73.2 91.0\nQ 73.2 84.2, 76.6 80.4\nQ 79.9 76.6, 86.2 76.6\nQ 92.5 76.6, 95.8 80.4\nQ 99.2 84.2, 99.2 91.0\nQ 99.2 97.9, 95.8 101.8\nQ 92.4 105.7, 86.2 105.7\nQ 80.0 105.7, 76.6 101.8\nQ 73.2 98.0, 73.2 91.0\nM 86.2 102.5\nQ 90.5 102.5, 92.8 99.6\nQ 95.2 96.7, 95.2 91.0\nQ 95.2 85.5, 92.8 82.7\nQ 90.5 79.8, 86.2 79.8\nQ 81.9 79.8, 79.5 82.6\nQ 77.2 85.4, 77.2 91.0\nQ 77.2 96.8, 79.5 99.6\nQ 81.9 102.5, 86.2 102.5\n' fill='#FF0000'/>\n<path class='atom-3' d='M 140.5 208.7\nQ 140.5 201.9, 143.9 198.1\nQ 147.3 194.3, 153.5 194.3\nQ 159.8 194.3, 163.2 198.1\nQ 166.5 201.9, 166.5 208.7\nQ 166.5 215.6, 163.1 219.5\nQ 159.7 223.4, 153.5 223.4\nQ 147.3 223.4, 143.9 219.5\nQ 140.5 215.6, 140.5 208.7\nM 153.5 220.2\nQ 157.9 220.2, 160.2 217.3\nQ 162.5 214.4, 162.5 208.7\nQ 162.5 203.1, 160.2 200.3\nQ 157.9 197.5, 153.5 197.5\nQ 149.2 197.5, 146.9 200.3\nQ 144.5 203.1, 144.5 208.7\nQ 144.5 214.4, 146.9 217.3\nQ 149.2 220.2, 153.5 220.2\n' fill='#FF0000'/>\n<path class='atom-3' d='M 170.6 198.9\nL 180.3 198.9\nL 180.3 201.0\nL 170.6 201.0\nL 170.6 198.9\n' fill='#FF0000'/>\n<path class='atom-4' d='M 225.5 194.4\nL 234.8 209.4\nQ 235.7 210.9, 237.2 213.6\nQ 238.7 216.3, 238.8 216.4\nL 238.8 194.4\nL 242.5 194.4\nL 242.5 222.8\nL 238.7 222.8\nL 228.7 206.4\nQ 227.5 204.4, 226.3 202.2\nQ 225.1 200.0, 224.7 199.4\nL 224.7 222.8\nL 221.1 222.8\nL 221.1 194.4\nL 225.5 194.4\n' fill='#000000'/>\n<path class='atom-4' d='M 247.8 217.2\nQ 247.8 213.9, 250.4 212.1\nQ 253.0 210.3, 257.9 210.3\nL 260.9 210.3\nL 260.9 209.5\nQ 260.9 207.0, 259.8 205.9\nQ 258.8 204.8, 256.2 204.8\nQ 254.6 204.8, 253.3 205.1\nQ 252.0 205.4, 250.0 206.3\nL 248.9 203.7\nQ 252.7 201.8, 256.3 201.8\nQ 260.7 201.8, 262.7 203.7\nQ 264.7 205.6, 264.7 209.6\nL 264.7 222.8\nL 261.8 222.8\nQ 261.7 222.6, 261.6 222.0\nQ 261.5 221.4, 261.2 220.4\nQ 258.4 223.2, 254.5 223.2\nQ 251.4 223.2, 249.6 221.6\nQ 247.8 220.0, 247.8 217.2\nM 251.5 217.1\nQ 251.5 218.6, 252.5 219.5\nQ 253.4 220.3, 255.2 220.3\nQ 256.8 220.3, 258.4 219.6\nQ 259.9 218.8, 260.9 217.5\nL 260.9 213.1\nL 258.1 213.1\nQ 254.8 213.1, 253.2 214.1\nQ 251.5 215.1, 251.5 217.1\n' fill='#000000'/>\n<path class='atom-4' d='M 269.7 203.0\nL 274.7 203.0\nL 274.7 197.7\nL 276.9 197.7\nL 276.9 203.0\nL 282.0 203.0\nL 282.0 204.9\nL 276.9 204.9\nL 276.9 210.2\nL 274.7 210.2\nL 274.7 204.9\nL 269.7 204.9\nL 269.7 203.0\n' fill='#000000'/>\n</svg>\n",
            "image/png": "[encoded data removed]"
          },
          "metadata": {},
          "execution_count": 16
        }
      ],
      "source": [
        "acetate_salt = Chem.MolFromSmiles(\"CC(=O)[O-].[Na+]\")\n",
        "acetate_salt"
      ]
    },
    {
      "cell_type": "markdown",
      "id": "black-astronomy",
      "metadata": {
        "id": "black-astronomy"
      },
      "source": [
        "### Branching\n",
        "\n",
        "Branching in SMILES is indicated with parentheses.  For instance, one can depict acetone using the SMILES \"CC(=O)C\". Note how the parentheses are used to indicate the branching in the carbonyl."
      ]
    },
    {
      "cell_type": "code",
      "execution_count": 17,
      "id": "gothic-passenger",
      "metadata": {
        "id": "gothic-passenger",
        "outputId": "294e3275-ca42-41bf-b88e-194dc6540b81",
        "colab": {
          "base_uri": "https://localhost:8080/",
          "height": 321
        }
      },
      "outputs": [
        {
          "output_type": "execute_result",
          "data": {
            "text/plain": [
              "<rdkit.Chem.rdchem.Mol at 0x794a5e9cb6f0>"
            ],
            "text/html": [
              "<?xml version='1.0' encoding='iso-8859-1'?>\n",
              "<svg version='1.1' baseProfile='full'\n",
              "              xmlns='http://www.w3.org/2000/svg'\n",
              "                      xmlns:rdkit='http://www.rdkit.org/xml'\n",
              "                      xmlns:xlink='http://www.w3.org/1999/xlink'\n",
              "                  xml:space='preserve'\n",
              "width='300px' height='300px' viewBox='0 0 300 300'>\n",
              "<!-- END OF HEADER -->\n",
              "<rect style='opacity:1.0;fill:#FFFFFF;stroke:none' width='300.0' height='300.0' x='0.0' y='0.0'> </rect>\n",
              "<path class='bond-0 atom-0 atom-1' d='M 286.4,275.5 L 150.3,196.3' style='fill:none;fill-rule:evenodd;stroke:#000000;stroke-width:2.0px;stroke-linecap:butt;stroke-linejoin:miter;stroke-opacity:1' />\n",
              "<path class='bond-1 atom-1 atom-2' d='M 162.1,203.1 L 162.3,131.0' style='fill:none;fill-rule:evenodd;stroke:#000000;stroke-width:2.0px;stroke-linecap:butt;stroke-linejoin:miter;stroke-opacity:1' />\n",
              "<path class='bond-1 atom-1 atom-2' d='M 162.3,131.0 L 162.6,58.8' style='fill:none;fill-rule:evenodd;stroke:#FF0000;stroke-width:2.0px;stroke-linecap:butt;stroke-linejoin:miter;stroke-opacity:1' />\n",
              "<path class='bond-1 atom-1 atom-2' d='M 138.4,203.1 L 138.7,130.9' style='fill:none;fill-rule:evenodd;stroke:#000000;stroke-width:2.0px;stroke-linecap:butt;stroke-linejoin:miter;stroke-opacity:1' />\n",
              "<path class='bond-1 atom-1 atom-2' d='M 138.7,130.9 L 139.0,58.7' style='fill:none;fill-rule:evenodd;stroke:#FF0000;stroke-width:2.0px;stroke-linecap:butt;stroke-linejoin:miter;stroke-opacity:1' />\n",
              "<path class='bond-2 atom-1 atom-3' d='M 150.3,196.3 L 13.6,274.5' style='fill:none;fill-rule:evenodd;stroke:#000000;stroke-width:2.0px;stroke-linecap:butt;stroke-linejoin:miter;stroke-opacity:1' />\n",
              "<path d='M 157.1,200.2 L 150.3,196.3 L 143.5,200.2' style='fill:none;stroke:#000000;stroke-width:2.0px;stroke-linecap:butt;stroke-linejoin:miter;stroke-opacity:1;' />\n",
              "<path class='atom-2' d='M 137.9 38.9\n",
              "Q 137.9 32.1, 141.2 28.3\n",
              "Q 144.6 24.5, 150.9 24.5\n",
              "Q 157.1 24.5, 160.5 28.3\n",
              "Q 163.9 32.1, 163.9 38.9\n",
              "Q 163.9 45.8, 160.5 49.7\n",
              "Q 157.1 53.6, 150.9 53.6\n",
              "Q 144.6 53.6, 141.2 49.7\n",
              "Q 137.9 45.8, 137.9 38.9\n",
              "M 150.9 50.4\n",
              "Q 155.2 50.4, 157.5 47.5\n",
              "Q 159.9 44.6, 159.9 38.9\n",
              "Q 159.9 33.3, 157.5 30.5\n",
              "Q 155.2 27.7, 150.9 27.7\n",
              "Q 146.5 27.7, 144.2 30.5\n",
              "Q 141.9 33.3, 141.9 38.9\n",
              "Q 141.9 44.6, 144.2 47.5\n",
              "Q 146.5 50.4, 150.9 50.4\n",
              "' fill='#FF0000'/>\n",
              "</svg>\n"
            ],
            "image/svg+xml": "<?xml version='1.0' encoding='iso-8859-1'?>\n<svg version='1.1' baseProfile='full'\n              xmlns='http://www.w3.org/2000/svg'\n                      xmlns:rdkit='http://www.rdkit.org/xml'\n                      xmlns:xlink='http://www.w3.org/1999/xlink'\n                  xml:space='preserve'\nwidth='300px' height='300px' viewBox='0 0 300 300'>\n<!-- END OF HEADER -->\n<rect style='opacity:1.0;fill:#FFFFFF;stroke:none' width='300.0' height='300.0' x='0.0' y='0.0'> </rect>\n<path class='bond-0 atom-0 atom-1' d='M 286.4,275.5 L 150.3,196.3' style='fill:none;fill-rule:evenodd;stroke:#000000;stroke-width:2.0px;stroke-linecap:butt;stroke-linejoin:miter;stroke-opacity:1' />\n<path class='bond-1 atom-1 atom-2' d='M 162.1,203.1 L 162.3,131.0' style='fill:none;fill-rule:evenodd;stroke:#000000;stroke-width:2.0px;stroke-linecap:butt;stroke-linejoin:miter;stroke-opacity:1' />\n<path class='bond-1 atom-1 atom-2' d='M 162.3,131.0 L 162.6,58.8' style='fill:none;fill-rule:evenodd;stroke:#FF0000;stroke-width:2.0px;stroke-linecap:butt;stroke-linejoin:miter;stroke-opacity:1' />\n<path class='bond-1 atom-1 atom-2' d='M 138.4,203.1 L 138.7,130.9' style='fill:none;fill-rule:evenodd;stroke:#000000;stroke-width:2.0px;stroke-linecap:butt;stroke-linejoin:miter;stroke-opacity:1' />\n<path class='bond-1 atom-1 atom-2' d='M 138.7,130.9 L 139.0,58.7' style='fill:none;fill-rule:evenodd;stroke:#FF0000;stroke-width:2.0px;stroke-linecap:butt;stroke-linejoin:miter;stroke-opacity:1' />\n<path class='bond-2 atom-1 atom-3' d='M 150.3,196.3 L 13.6,274.5' style='fill:none;fill-rule:evenodd;stroke:#000000;stroke-width:2.0px;stroke-linecap:butt;stroke-linejoin:miter;stroke-opacity:1' />\n<path d='M 157.1,200.2 L 150.3,196.3 L 143.5,200.2' style='fill:none;stroke:#000000;stroke-width:2.0px;stroke-linecap:butt;stroke-linejoin:miter;stroke-opacity:1;' />\n<path class='atom-2' d='M 137.9 38.9\nQ 137.9 32.1, 141.2 28.3\nQ 144.6 24.5, 150.9 24.5\nQ 157.1 24.5, 160.5 28.3\nQ 163.9 32.1, 163.9 38.9\nQ 163.9 45.8, 160.5 49.7\nQ 157.1 53.6, 150.9 53.6\nQ 144.6 53.6, 141.2 49.7\nQ 137.9 45.8, 137.9 38.9\nM 150.9 50.4\nQ 155.2 50.4, 157.5 47.5\nQ 159.9 44.6, 159.9 38.9\nQ 159.9 33.3, 157.5 30.5\nQ 155.2 27.7, 150.9 27.7\nQ 146.5 27.7, 144.2 30.5\nQ 141.9 33.3, 141.9 38.9\nQ 141.9 44.6, 144.2 47.5\nQ 146.5 50.4, 150.9 50.4\n' fill='#FF0000'/>\n</svg>\n",
            "image/png": "[encoded data removed]"
          },
          "metadata": {},
          "execution_count": 17
        }
      ],
      "source": [
        "acetone = Chem.MolFromSmiles(\"CC(=O)C\")\n",
        "acetone"
      ]
    },
    {
      "cell_type": "markdown",
      "id": "b7400e5b",
      "metadata": {
        "id": "b7400e5b"
      },
      "source": [
        "Let's take a look at a few more examples.  In order to look at more than one example, we'll put the SMILES and the names of the associated molecules into a text buffer."
      ]
    },
    {
      "cell_type": "code",
      "execution_count": 18,
      "id": "impressed-prize",
      "metadata": {
        "id": "impressed-prize"
      },
      "outputs": [],
      "source": [
        "# define a text buffer for our examples\n",
        "examples = \"\"\"C(C)(C)O isopropanol\n",
        "C(Cl)(Cl)(Cl)Cl carbon tetrachloride\n",
        "CC(=O)O acetic acid\"\"\"\n",
        "# not that we use the second argumen to split to only return two tokens\n",
        "smiles_list = [x.split(\" \",1) for x in examples.split(\"\\n\")]"
      ]
    },
    {
      "cell_type": "code",
      "execution_count": 19,
      "id": "10155939",
      "metadata": {
        "id": "10155939",
        "outputId": "c8b27950-bab7-4959-82b1-344bded16bda",
        "colab": {
          "base_uri": "https://localhost:8080/"
        }
      },
      "outputs": [
        {
          "output_type": "execute_result",
          "data": {
            "text/plain": [
              "[['C(C)(C)O', 'isopropanol'],\n",
              " ['C(Cl)(Cl)(Cl)Cl', 'carbon tetrachloride'],\n",
              " ['CC(=O)O', 'acetic acid']]"
            ]
          },
          "metadata": {},
          "execution_count": 19
        }
      ],
      "source": [
        "smiles_list"
      ]
    },
    {
      "cell_type": "markdown",
      "id": "valuable-construction",
      "metadata": {
        "id": "valuable-construction"
      },
      "source": [
        "In order to make our lives a little easier, we're going to define a function that will use the MolsToGridImage function from the  RDKit to display multiple structures."
      ]
    },
    {
      "cell_type": "code",
      "execution_count": 20,
      "id": "overall-technique",
      "metadata": {
        "id": "overall-technique"
      },
      "outputs": [],
      "source": [
        "from rdkit.Chem.Draw import MolsToGridImage\n",
        "\n",
        "def display_structures(smiles_list):\n",
        "    mol_list = []\n",
        "    name_list = []\n",
        "    for smiles, name in smiles_list:\n",
        "        mol_list.append(Chem.MolFromSmiles(smiles))\n",
        "        name_list.append(name)\n",
        "    return MolsToGridImage(mol_list,legends=name_list,molsPerRow=4)"
      ]
    },
    {
      "cell_type": "code",
      "execution_count": 21,
      "id": "e1b5a8a7",
      "metadata": {
        "id": "e1b5a8a7",
        "outputId": "9b1be419-9fee-4ead-8a0a-0c46b6e3b450",
        "colab": {
          "base_uri": "https://localhost:8080/",
          "height": 221
        }
      },
      "outputs": [
        {
          "output_type": "execute_result",
          "data": {
            "text/plain": [
              "<IPython.core.display.SVG object>"
            ],
            "image/svg+xml": "<svg xmlns=\"http://www.w3.org/2000/svg\" xmlns:rdkit=\"http://www.rdkit.org/xml\" xmlns:xlink=\"http://www.w3.org/1999/xlink\" version=\"1.1\" baseProfile=\"full\" xml:space=\"preserve\" width=\"800px\" height=\"200px\" viewBox=\"0 0 800 200\">\n<!-- END OF HEADER -->\n<rect style=\"opacity:1.0;fill:#FFFFFF;stroke:none\" width=\"800.0\" height=\"200.0\" x=\"0.0\" y=\"0.0\"> </rect>\n<path class=\"bond-0 atom-0 atom-1\" d=\"M 100.1,116.0 L 165.8,154.3\" style=\"fill:none;fill-rule:evenodd;stroke:#000000;stroke-width:2.0px;stroke-linecap:butt;stroke-linejoin:miter;stroke-opacity:1\"/>\n<path class=\"bond-1 atom-0 atom-2\" d=\"M 100.1,116.0 L 34.2,153.8\" style=\"fill:none;fill-rule:evenodd;stroke:#000000;stroke-width:2.0px;stroke-linecap:butt;stroke-linejoin:miter;stroke-opacity:1\"/>\n<path class=\"bond-2 atom-0 atom-3\" d=\"M 100.1,116.0 L 100.2,86.7\" style=\"fill:none;fill-rule:evenodd;stroke:#000000;stroke-width:2.0px;stroke-linecap:butt;stroke-linejoin:miter;stroke-opacity:1\"/>\n<path class=\"bond-2 atom-0 atom-3\" d=\"M 100.2,86.7 L 100.3,57.3\" style=\"fill:none;fill-rule:evenodd;stroke:#FF0000;stroke-width:2.0px;stroke-linecap:butt;stroke-linejoin:miter;stroke-opacity:1\"/>\n<path class=\"atom-3\" d=\"M 87.4 40.1 Q 87.4 33.3, 90.8 29.5 Q 94.1 25.7, 100.4 25.7 Q 106.7 25.7, 110.1 29.5 Q 113.4 33.3, 113.4 40.1 Q 113.4 47.0, 110.0 50.9 Q 106.6 54.8, 100.4 54.8 Q 94.2 54.8, 90.8 50.9 Q 87.4 47.0, 87.4 40.1 M 100.4 51.6 Q 104.7 51.6, 107.1 48.7 Q 109.4 45.8, 109.4 40.1 Q 109.4 34.6, 107.1 31.8 Q 104.7 28.9, 100.4 28.9 Q 96.1 28.9, 93.7 31.7 Q 91.4 34.5, 91.4 40.1 Q 91.4 45.8, 93.7 48.7 Q 96.1 51.6, 100.4 51.6 \" fill=\"#FF0000\"/>\n<path class=\"atom-3\" d=\"M 117.8 26.0 L 121.7 26.0 L 121.7 38.1 L 136.1 38.1 L 136.1 26.0 L 140.0 26.0 L 140.0 54.4 L 136.1 54.4 L 136.1 41.3 L 121.7 41.3 L 121.7 54.4 L 117.8 54.4 L 117.8 26.0 \" fill=\"#FF0000\"/>\n<path class=\"legend\" d=\"M 62.6 180.8 L 64.0 180.8 L 64.0 182.1 L 62.6 182.1 L 62.6 180.8 M 62.6 183.7 L 64.0 183.7 L 64.0 191.3 L 62.6 191.3 L 62.6 183.7 \" fill=\"#000000\"/>\n<path class=\"legend\" d=\"M 66.3 189.8 Q 66.9 190.0, 67.4 190.2 Q 67.9 190.3, 68.4 190.3 Q 69.1 190.3, 69.5 190.0 Q 69.9 189.7, 69.9 189.2 Q 69.9 188.8, 69.6 188.6 Q 69.5 188.4, 69.2 188.3 Q 69.0 188.2, 68.3 188.0 Q 68.2 187.9, 67.5 187.7 Q 66.8 187.5, 66.4 187.0 Q 66.1 186.5, 66.1 185.7 Q 66.1 184.8, 66.8 184.2 Q 67.5 183.5, 68.9 183.5 Q 69.5 183.5, 70.0 183.7 Q 70.5 183.8, 71.1 184.0 L 70.7 185.1 Q 70.2 184.9, 69.8 184.8 Q 69.4 184.7, 68.9 184.7 Q 68.2 184.7, 67.8 185.0 Q 67.5 185.2, 67.5 185.7 Q 67.5 186.1, 67.8 186.3 Q 68.1 186.5, 68.7 186.7 Q 68.8 186.8, 69.0 186.8 L 69.3 187.0 Q 70.0 187.2, 70.3 187.4 Q 70.7 187.6, 71.0 188.0 Q 71.3 188.5, 71.3 189.2 Q 71.3 190.3, 70.5 190.9 Q 69.7 191.5, 68.4 191.5 Q 67.7 191.5, 67.1 191.3 Q 66.5 191.2, 65.8 190.9 L 66.3 189.8 \" fill=\"#000000\"/>\n<path class=\"legend\" d=\"M 72.6 187.5 Q 72.6 185.6, 73.6 184.6 Q 74.5 183.5, 76.3 183.5 Q 78.0 183.5, 78.9 184.6 Q 79.9 185.6, 79.9 187.5 Q 79.9 189.4, 78.9 190.4 Q 78.0 191.5, 76.3 191.5 Q 74.5 191.5, 73.6 190.4 Q 72.6 189.4, 72.6 187.5 M 74.0 187.5 Q 74.0 188.9, 74.6 189.6 Q 75.2 190.4, 76.3 190.4 Q 77.3 190.4, 77.9 189.6 Q 78.5 188.9, 78.5 187.5 Q 78.5 186.1, 77.9 185.4 Q 77.3 184.6, 76.3 184.6 Q 75.2 184.6, 74.6 185.4 Q 74.0 186.1, 74.0 187.5 \" fill=\"#000000\"/>\n<path class=\"legend\" d=\"M 84.7 183.5 Q 86.3 183.5, 87.2 184.5 Q 88.1 185.5, 88.1 187.4 Q 88.1 189.3, 87.0 190.4 Q 86.0 191.5, 84.1 191.5 Q 83.3 191.5, 82.5 191.2 L 82.5 195.0 L 81.1 195.0 L 81.1 183.7 L 82.3 183.7 L 82.5 184.6 Q 82.9 184.1, 83.4 183.8 Q 84.0 183.5, 84.7 183.5 M 84.1 190.4 Q 85.3 190.4, 86.0 189.6 Q 86.7 188.8, 86.7 187.4 Q 86.7 186.1, 86.1 185.3 Q 85.6 184.6, 84.6 184.6 Q 83.9 184.6, 83.3 185.0 Q 82.8 185.4, 82.5 186.2 L 82.5 190.1 Q 83.3 190.4, 84.1 190.4 \" fill=\"#000000\"/>\n<path class=\"legend\" d=\"M 90.5 183.7 L 90.6 184.7 Q 91.4 183.5, 92.7 183.5 Q 93.2 183.5, 93.7 183.7 L 93.5 184.9 Q 92.9 184.8, 92.5 184.8 Q 91.9 184.8, 91.5 185.0 Q 91.1 185.3, 90.7 185.9 L 90.7 191.3 L 89.3 191.3 L 89.3 183.7 L 90.5 183.7 \" fill=\"#000000\"/>\n<path class=\"legend\" d=\"M 94.5 187.5 Q 94.5 185.6, 95.5 184.6 Q 96.4 183.5, 98.2 183.5 Q 99.9 183.5, 100.8 184.6 Q 101.8 185.6, 101.8 187.5 Q 101.8 189.4, 100.8 190.4 Q 99.9 191.5, 98.2 191.5 Q 96.4 191.5, 95.5 190.4 Q 94.5 189.4, 94.5 187.5 M 95.9 187.5 Q 95.9 188.9, 96.5 189.6 Q 97.1 190.4, 98.2 190.4 Q 99.2 190.4, 99.8 189.6 Q 100.4 188.9, 100.4 187.5 Q 100.4 186.1, 99.8 185.4 Q 99.2 184.6, 98.2 184.6 Q 97.1 184.6, 96.5 185.4 Q 95.9 186.1, 95.9 187.5 \" fill=\"#000000\"/>\n<path class=\"legend\" d=\"M 106.6 183.5 Q 108.2 183.5, 109.1 184.5 Q 110.0 185.5, 110.0 187.4 Q 110.0 189.3, 108.9 190.4 Q 107.9 191.5, 106.0 191.5 Q 105.2 191.5, 104.4 191.2 L 104.4 195.0 L 103.0 195.0 L 103.0 183.7 L 104.2 183.7 L 104.4 184.6 Q 104.8 184.1, 105.3 183.8 Q 105.9 183.5, 106.6 183.5 M 106.0 190.4 Q 107.2 190.4, 107.9 189.6 Q 108.6 188.8, 108.6 187.4 Q 108.6 186.1, 108.0 185.3 Q 107.5 184.6, 106.5 184.6 Q 105.8 184.6, 105.2 185.0 Q 104.7 185.4, 104.4 186.2 L 104.4 190.1 Q 105.2 190.4, 106.0 190.4 \" fill=\"#000000\"/>\n<path class=\"legend\" d=\"M 111.2 189.3 Q 111.2 188.0, 112.2 187.4 Q 113.2 186.7, 115.0 186.7 L 116.1 186.7 L 116.1 186.4 Q 116.1 185.4, 115.7 185.0 Q 115.3 184.6, 114.4 184.6 Q 113.8 184.6, 113.3 184.8 Q 112.8 184.9, 112.1 185.2 L 111.7 184.2 Q 113.1 183.5, 114.4 183.5 Q 116.0 183.5, 116.8 184.2 Q 117.5 184.9, 117.5 186.4 L 117.5 191.3 L 116.4 191.3 Q 116.4 191.3, 116.4 191.1 Q 116.3 190.8, 116.3 190.4 Q 115.2 191.5, 113.7 191.5 Q 112.6 191.5, 111.9 190.9 Q 111.2 190.3, 111.2 189.3 M 112.6 189.2 Q 112.6 189.8, 113.0 190.1 Q 113.3 190.4, 114.0 190.4 Q 114.6 190.4, 115.2 190.1 Q 115.7 189.9, 116.1 189.4 L 116.1 187.7 L 115.1 187.7 Q 113.9 187.7, 113.2 188.1 Q 112.6 188.5, 112.6 189.2 \" fill=\"#000000\"/>\n<path class=\"legend\" d=\"M 123.3 183.5 Q 124.5 183.5, 125.1 184.2 Q 125.8 184.9, 125.8 186.3 L 125.8 191.3 L 124.4 191.3 L 124.4 186.4 Q 124.4 185.5, 124.0 185.0 Q 123.7 184.6, 122.9 184.6 Q 122.2 184.6, 121.6 185.0 Q 121.0 185.3, 120.7 185.8 L 120.7 191.3 L 119.2 191.3 L 119.2 183.7 L 120.4 183.7 L 120.6 184.7 Q 121.6 183.5, 123.3 183.5 \" fill=\"#000000\"/>\n<path class=\"legend\" d=\"M 127.5 187.5 Q 127.5 185.6, 128.4 184.6 Q 129.4 183.5, 131.1 183.5 Q 132.9 183.5, 133.8 184.6 Q 134.8 185.6, 134.8 187.5 Q 134.8 189.4, 133.8 190.4 Q 132.9 191.5, 131.1 191.5 Q 129.4 191.5, 128.4 190.4 Q 127.5 189.4, 127.5 187.5 M 128.9 187.5 Q 128.9 188.9, 129.5 189.6 Q 130.1 190.4, 131.1 190.4 Q 132.2 190.4, 132.8 189.6 Q 133.3 188.9, 133.3 187.5 Q 133.3 186.1, 132.8 185.4 Q 132.2 184.6, 131.1 184.6 Q 130.1 184.6, 129.5 185.4 Q 128.9 186.1, 128.9 187.5 \" fill=\"#000000\"/>\n<path class=\"legend\" d=\"M 136.0 180.0 L 137.4 180.0 L 137.4 191.3 L 136.0 191.3 L 136.0 180.0 \" fill=\"#000000\"/>\n<path class=\"bond-0 atom-0 atom-1\" d=\"M 304.6,103.7 L 318.5,79.9\" style=\"fill:none;fill-rule:evenodd;stroke:#000000;stroke-width:2.0px;stroke-linecap:butt;stroke-linejoin:miter;stroke-opacity:1\"/>\n<path class=\"bond-0 atom-0 atom-1\" d=\"M 318.5,79.9 L 332.3,56.0\" style=\"fill:none;fill-rule:evenodd;stroke:#00CC00;stroke-width:2.0px;stroke-linecap:butt;stroke-linejoin:miter;stroke-opacity:1\"/>\n<path class=\"bond-1 atom-0 atom-2\" d=\"M 304.6,103.7 L 287.9,74.5\" style=\"fill:none;fill-rule:evenodd;stroke:#000000;stroke-width:2.0px;stroke-linecap:butt;stroke-linejoin:miter;stroke-opacity:1\"/>\n<path class=\"bond-1 atom-0 atom-2\" d=\"M 287.9,74.5 L 271.2,45.3\" style=\"fill:none;fill-rule:evenodd;stroke:#00CC00;stroke-width:2.0px;stroke-linecap:butt;stroke-linejoin:miter;stroke-opacity:1\"/>\n<path class=\"bond-2 atom-0 atom-3\" d=\"M 304.6,103.7 L 330.8,118.9\" style=\"fill:none;fill-rule:evenodd;stroke:#000000;stroke-width:2.0px;stroke-linecap:butt;stroke-linejoin:miter;stroke-opacity:1\"/>\n<path class=\"bond-2 atom-0 atom-3\" d=\"M 330.8,118.9 L 356.9,134.1\" style=\"fill:none;fill-rule:evenodd;stroke:#00CC00;stroke-width:2.0px;stroke-linecap:butt;stroke-linejoin:miter;stroke-opacity:1\"/>\n<path class=\"bond-3 atom-0 atom-4\" d=\"M 304.6,103.7 L 273.9,121.3\" style=\"fill:none;fill-rule:evenodd;stroke:#000000;stroke-width:2.0px;stroke-linecap:butt;stroke-linejoin:miter;stroke-opacity:1\"/>\n<path class=\"bond-3 atom-0 atom-4\" d=\"M 273.9,121.3 L 243.1,139.0\" style=\"fill:none;fill-rule:evenodd;stroke:#00CC00;stroke-width:2.0px;stroke-linecap:butt;stroke-linejoin:miter;stroke-opacity:1\"/>\n<path class=\"atom-1\" d=\"M 331.9 39.0 Q 331.9 31.9, 335.2 28.2 Q 338.5 24.5, 344.8 24.5 Q 350.6 24.5, 353.7 28.6 L 351.1 30.8 Q 348.8 27.8, 344.8 27.8 Q 340.5 27.8, 338.2 30.7 Q 336.0 33.5, 336.0 39.0 Q 336.0 44.6, 338.3 47.4 Q 340.7 50.3, 345.2 50.3 Q 348.3 50.3, 352.0 48.4 L 353.1 51.4 Q 351.6 52.4, 349.4 53.0 Q 347.1 53.5, 344.7 53.5 Q 338.5 53.5, 335.2 49.8 Q 331.9 46.0, 331.9 39.0 \" fill=\"#00CC00\"/>\n<path class=\"atom-1\" d=\"M 356.6 22.8 L 360.3 22.8 L 360.3 53.2 L 356.6 53.2 L 356.6 22.8 \" fill=\"#00CC00\"/>\n<path class=\"atom-2\" d=\"M 240.3 38.8 Q 240.3 31.7, 243.6 28.0 Q 246.9 24.3, 253.2 24.3 Q 259.0 24.3, 262.1 28.4 L 259.5 30.6 Q 257.2 27.6, 253.2 27.6 Q 248.9 27.6, 246.6 30.5 Q 244.4 33.3, 244.4 38.8 Q 244.4 44.4, 246.7 47.2 Q 249.0 50.1, 253.6 50.1 Q 256.7 50.1, 260.4 48.2 L 261.5 51.2 Q 260.0 52.2, 257.8 52.8 Q 255.5 53.3, 253.0 53.3 Q 246.9 53.3, 243.6 49.6 Q 240.3 45.8, 240.3 38.8 \" fill=\"#00CC00\"/>\n<path class=\"atom-2\" d=\"M 265.0 22.6 L 268.7 22.6 L 268.7 53.0 L 265.0 53.0 L 265.0 22.6 \" fill=\"#00CC00\"/>\n<path class=\"atom-3\" d=\"M 359.4 142.8 Q 359.4 135.8, 362.7 132.1 Q 366.0 128.4, 372.3 128.4 Q 378.2 128.4, 381.3 132.5 L 378.6 134.7 Q 376.4 131.7, 372.3 131.7 Q 368.0 131.7, 365.8 134.6 Q 363.5 137.4, 363.5 142.8 Q 363.5 148.4, 365.8 151.3 Q 368.2 154.2, 372.8 154.2 Q 375.9 154.2, 379.5 152.3 L 380.6 155.3 Q 379.2 156.3, 376.9 156.8 Q 374.7 157.4, 372.2 157.4 Q 366.0 157.4, 362.7 153.6 Q 359.4 149.9, 359.4 142.8 \" fill=\"#00CC00\"/>\n<path class=\"atom-3\" d=\"M 384.1 126.7 L 387.8 126.7 L 387.8 157.0 L 384.1 157.0 L 384.1 126.7 \" fill=\"#00CC00\"/>\n<path class=\"atom-4\" d=\"M 212.2 142.5 Q 212.2 135.4, 215.5 131.8 Q 218.8 128.0, 225.1 128.0 Q 230.9 128.0, 234.0 132.2 L 231.4 134.3 Q 229.1 131.3, 225.1 131.3 Q 220.8 131.3, 218.5 134.2 Q 216.3 137.0, 216.3 142.5 Q 216.3 148.1, 218.6 151.0 Q 220.9 153.8, 225.5 153.8 Q 228.6 153.8, 232.3 152.0 L 233.4 155.0 Q 231.9 155.9, 229.7 156.5 Q 227.4 157.0, 224.9 157.0 Q 218.8 157.0, 215.5 153.3 Q 212.2 149.5, 212.2 142.5 \" fill=\"#00CC00\"/>\n<path class=\"atom-4\" d=\"M 236.9 126.3 L 240.6 126.3 L 240.6 156.7 L 236.9 156.7 L 236.9 126.3 \" fill=\"#00CC00\"/>\n<path class=\"legend\" d=\"M 227.6 190.7 Q 227.6 188.7, 228.6 187.6 Q 229.6 186.4, 231.6 186.4 Q 233.4 186.4, 234.4 187.8 L 233.4 188.6 Q 233.0 188.1, 232.6 187.9 Q 232.1 187.6, 231.6 187.6 Q 230.4 187.6, 229.8 188.4 Q 229.2 189.2, 229.2 190.7 Q 229.2 192.2, 229.8 193.0 Q 230.5 193.8, 231.7 193.8 Q 232.3 193.8, 232.8 193.6 Q 233.3 193.4, 233.8 193.2 L 234.3 194.2 Q 233.1 194.9, 231.6 194.9 Q 229.6 194.9, 228.6 193.8 Q 227.6 192.7, 227.6 190.7 \" fill=\"#000000\"/>\n<path class=\"legend\" d=\"M 235.4 192.6 Q 235.4 191.3, 236.4 190.6 Q 237.5 189.8, 239.4 189.8 L 240.6 189.8 L 240.6 189.5 Q 240.6 188.5, 240.2 188.1 Q 239.8 187.6, 238.8 187.6 Q 238.1 187.6, 237.6 187.8 Q 237.1 187.9, 236.3 188.2 L 235.8 187.2 Q 237.3 186.4, 238.8 186.4 Q 240.5 186.4, 241.3 187.2 Q 242.1 187.9, 242.1 189.5 L 242.1 194.8 L 241.0 194.8 Q 241.0 194.7, 240.9 194.5 Q 240.9 194.2, 240.8 193.8 Q 239.6 195.0, 238.1 195.0 Q 236.8 195.0, 236.1 194.3 Q 235.4 193.7, 235.4 192.6 M 236.9 192.6 Q 236.9 193.2, 237.3 193.5 Q 237.6 193.8, 238.4 193.8 Q 239.0 193.8, 239.6 193.5 Q 240.2 193.2, 240.6 192.7 L 240.6 191.0 L 239.5 191.0 Q 238.2 191.0, 237.5 191.4 Q 236.9 191.8, 236.9 192.6 \" fill=\"#000000\"/>\n<path class=\"legend\" d=\"M 245.2 186.6 L 245.3 187.7 Q 246.2 186.4, 247.6 186.4 Q 248.1 186.4, 248.7 186.6 L 248.4 187.9 Q 247.7 187.8, 247.4 187.8 Q 246.7 187.8, 246.2 188.1 Q 245.8 188.3, 245.4 188.9 L 245.4 194.8 L 243.9 194.8 L 243.9 186.6 L 245.2 186.6 \" fill=\"#000000\"/>\n<path class=\"legend\" d=\"M 253.3 186.4 Q 255.0 186.4, 256.0 187.5 Q 256.9 188.6, 256.9 190.6 Q 256.9 192.6, 255.8 193.8 Q 254.7 194.9, 252.7 194.9 Q 251.4 194.9, 250.2 194.5 L 249.5 194.3 L 249.5 182.7 L 251.0 182.7 L 251.0 187.5 Q 251.8 186.4, 253.3 186.4 M 252.7 193.8 Q 254.0 193.8, 254.7 192.9 Q 255.4 192.1, 255.4 190.6 Q 255.4 189.1, 254.8 188.4 Q 254.3 187.6, 253.2 187.6 Q 252.4 187.6, 251.8 188.1 Q 251.2 188.5, 251.0 189.3 L 251.0 193.5 Q 251.8 193.8, 252.7 193.8 \" fill=\"#000000\"/>\n<path class=\"legend\" d=\"M 258.2 190.7 Q 258.2 188.7, 259.2 187.6 Q 260.3 186.4, 262.1 186.4 Q 264.0 186.4, 265.0 187.6 Q 266.0 188.7, 266.0 190.7 Q 266.0 192.7, 265.0 193.8 Q 264.0 194.9, 262.1 194.9 Q 260.3 194.9, 259.2 193.8 Q 258.2 192.7, 258.2 190.7 M 259.8 190.7 Q 259.8 192.2, 260.4 193.0 Q 261.0 193.8, 262.1 193.8 Q 263.3 193.8, 263.9 193.0 Q 264.5 192.2, 264.5 190.7 Q 264.5 189.2, 263.9 188.4 Q 263.3 187.6, 262.1 187.6 Q 261.0 187.6, 260.4 188.4 Q 259.8 189.2, 259.8 190.7 \" fill=\"#000000\"/>\n<path class=\"legend\" d=\"M 271.6 186.4 Q 273.0 186.4, 273.6 187.2 Q 274.3 187.9, 274.3 189.4 L 274.3 194.8 L 272.8 194.8 L 272.8 189.5 Q 272.8 188.5, 272.5 188.1 Q 272.1 187.6, 271.3 187.6 Q 270.5 187.6, 269.9 188.0 Q 269.3 188.3, 268.9 188.9 L 268.9 194.8 L 267.4 194.8 L 267.4 186.6 L 268.6 186.6 L 268.8 187.7 Q 269.9 186.4, 271.6 186.4 \" fill=\"#000000\"/>\n<path class=\"legend\" d=\"\" fill=\"#000000\"/>\n<path class=\"legend\" d=\"M 282.1 187.7 L 282.1 186.6 L 283.6 186.6 L 283.9 184.2 L 285.0 184.2 L 285.0 186.6 L 287.5 186.6 L 287.5 187.7 L 285.0 187.7 L 285.0 192.3 Q 285.0 193.7, 286.2 193.7 Q 286.7 193.7, 287.4 193.5 L 287.6 194.5 Q 286.8 194.9, 285.9 194.9 Q 284.9 194.9, 284.2 194.3 Q 283.5 193.6, 283.5 192.4 L 283.5 187.7 L 282.1 187.7 \" fill=\"#000000\"/>\n<path class=\"legend\" d=\"M 288.6 190.7 Q 288.6 188.7, 289.6 187.6 Q 290.6 186.4, 292.5 186.4 Q 294.3 186.4, 295.1 187.5 Q 295.9 188.6, 295.9 190.6 L 295.9 190.9 L 290.2 190.9 Q 290.2 192.3, 290.8 193.0 Q 291.4 193.8, 292.6 193.8 Q 293.2 193.8, 293.8 193.6 Q 294.4 193.4, 295.1 193.1 L 295.6 194.2 Q 294.8 194.6, 294.0 194.8 Q 293.3 194.9, 292.5 194.9 Q 290.7 194.9, 289.6 193.8 Q 288.6 192.7, 288.6 190.7 M 292.5 187.6 Q 291.5 187.6, 291.0 188.2 Q 290.4 188.7, 290.2 189.8 L 294.3 189.8 Q 294.2 188.7, 293.8 188.2 Q 293.3 187.6, 292.5 187.6 \" fill=\"#000000\"/>\n<path class=\"legend\" d=\"M 297.1 187.7 L 297.1 186.6 L 298.6 186.6 L 298.9 184.2 L 300.0 184.2 L 300.0 186.6 L 302.5 186.6 L 302.5 187.7 L 300.0 187.7 L 300.0 192.3 Q 300.0 193.7, 301.2 193.7 Q 301.7 193.7, 302.4 193.5 L 302.7 194.5 Q 301.8 194.9, 300.9 194.9 Q 299.9 194.9, 299.2 194.3 Q 298.5 193.6, 298.5 192.4 L 298.5 187.7 L 297.1 187.7 \" fill=\"#000000\"/>\n<path class=\"legend\" d=\"M 304.8 186.6 L 305.0 187.7 Q 305.9 186.4, 307.3 186.4 Q 307.7 186.4, 308.4 186.6 L 308.1 187.9 Q 307.4 187.8, 307.0 187.8 Q 306.4 187.8, 305.9 188.1 Q 305.5 188.3, 305.1 188.9 L 305.1 194.8 L 303.6 194.8 L 303.6 186.6 L 304.8 186.6 \" fill=\"#000000\"/>\n<path class=\"legend\" d=\"M 309.2 192.6 Q 309.2 191.3, 310.2 190.6 Q 311.3 189.8, 313.2 189.8 L 314.4 189.8 L 314.4 189.5 Q 314.4 188.5, 314.0 188.1 Q 313.6 187.6, 312.6 187.6 Q 311.9 187.6, 311.4 187.8 Q 310.9 187.9, 310.1 188.2 L 309.6 187.2 Q 311.1 186.4, 312.6 186.4 Q 314.3 186.4, 315.1 187.2 Q 315.9 187.9, 315.9 189.5 L 315.9 194.8 L 314.8 194.8 Q 314.7 194.7, 314.7 194.5 Q 314.7 194.2, 314.6 193.8 Q 313.4 195.0, 311.9 195.0 Q 310.6 195.0, 309.9 194.3 Q 309.2 193.7, 309.2 192.6 M 310.7 192.6 Q 310.7 193.2, 311.1 193.5 Q 311.4 193.8, 312.2 193.8 Q 312.8 193.8, 313.4 193.5 Q 314.0 193.2, 314.4 192.7 L 314.4 191.0 L 313.3 191.0 Q 312.0 191.0, 311.3 191.4 Q 310.7 191.8, 310.7 192.6 \" fill=\"#000000\"/>\n<path class=\"legend\" d=\"M 317.7 190.7 Q 317.7 188.7, 318.7 187.6 Q 319.7 186.4, 321.7 186.4 Q 323.5 186.4, 324.5 187.8 L 323.5 188.6 Q 323.1 188.1, 322.7 187.9 Q 322.2 187.6, 321.7 187.6 Q 320.5 187.6, 319.9 188.4 Q 319.3 189.2, 319.3 190.7 Q 319.3 192.2, 319.9 193.0 Q 320.6 193.8, 321.8 193.8 Q 322.4 193.8, 322.9 193.6 Q 323.4 193.4, 323.9 193.2 L 324.4 194.2 Q 323.2 194.9, 321.7 194.9 Q 319.7 194.9, 318.7 193.8 Q 317.7 192.7, 317.7 190.7 \" fill=\"#000000\"/>\n<path class=\"legend\" d=\"M 329.8 186.4 Q 331.1 186.4, 331.8 187.2 Q 332.5 187.9, 332.5 189.4 L 332.5 194.8 L 331.0 194.8 L 331.0 189.5 Q 331.0 188.5, 330.6 188.1 Q 330.2 187.6, 329.4 187.6 Q 328.6 187.6, 328.0 188.0 Q 327.4 188.3, 327.0 188.9 L 327.0 194.8 L 325.5 194.8 L 325.5 182.7 L 327.0 182.7 L 327.0 187.6 Q 328.1 186.4, 329.8 186.4 \" fill=\"#000000\"/>\n<path class=\"legend\" d=\"M 334.3 182.7 L 335.7 182.7 L 335.7 194.8 L 334.3 194.8 L 334.3 182.7 \" fill=\"#000000\"/>\n<path class=\"legend\" d=\"M 337.7 190.7 Q 337.7 188.7, 338.7 187.6 Q 339.7 186.4, 341.6 186.4 Q 343.5 186.4, 344.5 187.6 Q 345.5 188.7, 345.5 190.7 Q 345.5 192.7, 344.5 193.8 Q 343.5 194.9, 341.6 194.9 Q 339.7 194.9, 338.7 193.8 Q 337.7 192.7, 337.7 190.7 M 339.2 190.7 Q 339.2 192.2, 339.8 193.0 Q 340.5 193.8, 341.6 193.8 Q 342.7 193.8, 343.3 193.0 Q 344.0 192.2, 344.0 190.7 Q 344.0 189.2, 343.3 188.4 Q 342.7 187.6, 341.6 187.6 Q 340.5 187.6, 339.8 188.4 Q 339.2 189.2, 339.2 190.7 \" fill=\"#000000\"/>\n<path class=\"legend\" d=\"M 348.0 186.6 L 348.2 187.7 Q 349.1 186.4, 350.5 186.4 Q 350.9 186.4, 351.5 186.6 L 351.3 187.9 Q 350.6 187.8, 350.2 187.8 Q 349.5 187.8, 349.1 188.1 Q 348.7 188.3, 348.3 188.9 L 348.3 194.8 L 346.8 194.8 L 346.8 186.6 L 348.0 186.6 \" fill=\"#000000\"/>\n<path class=\"legend\" d=\"M 352.3 183.5 L 353.8 183.5 L 353.8 184.9 L 352.3 184.9 L 352.3 183.5 M 352.3 186.6 L 353.8 186.6 L 353.8 194.8 L 352.3 194.8 L 352.3 186.6 \" fill=\"#000000\"/>\n<path class=\"legend\" d=\"M 363.2 182.7 L 363.2 194.8 L 362.0 194.8 L 361.8 193.8 Q 360.9 194.9, 359.4 194.9 Q 357.7 194.9, 356.7 193.9 Q 355.8 192.8, 355.8 190.8 Q 355.8 188.8, 356.9 187.6 Q 358.0 186.4, 360.0 186.4 Q 360.8 186.4, 361.7 186.7 L 361.7 182.7 L 363.2 182.7 M 359.5 193.8 Q 360.3 193.8, 360.9 193.3 Q 361.5 192.8, 361.7 192.0 L 361.7 187.9 Q 360.9 187.6, 360.0 187.6 Q 358.7 187.6, 358.0 188.5 Q 357.3 189.3, 357.3 190.8 Q 357.3 192.2, 357.9 193.0 Q 358.4 193.8, 359.5 193.8 \" fill=\"#000000\"/>\n<path class=\"legend\" d=\"M 365.1 190.7 Q 365.1 188.7, 366.1 187.6 Q 367.1 186.4, 368.9 186.4 Q 370.8 186.4, 371.6 187.5 Q 372.4 188.6, 372.4 190.6 L 372.4 190.9 L 366.6 190.9 Q 366.7 192.3, 367.3 193.0 Q 367.9 193.8, 369.1 193.8 Q 369.7 193.8, 370.3 193.6 Q 370.9 193.4, 371.6 193.1 L 372.0 194.2 Q 371.2 194.6, 370.5 194.8 Q 369.8 194.9, 369.0 194.9 Q 367.1 194.9, 366.1 193.8 Q 365.1 192.7, 365.1 190.7 M 368.9 187.6 Q 368.0 187.6, 367.4 188.2 Q 366.9 188.7, 366.7 189.8 L 370.8 189.8 Q 370.7 188.7, 370.2 188.2 Q 369.8 187.6, 368.9 187.6 \" fill=\"#000000\"/>\n<path class=\"bond-0 atom-0 atom-1\" d=\"M 414.4,146.4 L 480.4,108.7\" style=\"fill:none;fill-rule:evenodd;stroke:#000000;stroke-width:2.0px;stroke-linecap:butt;stroke-linejoin:miter;stroke-opacity:1\"/>\n<path class=\"bond-1 atom-1 atom-2\" d=\"M 486.0,112.0 L 486.2,81.0\" style=\"fill:none;fill-rule:evenodd;stroke:#000000;stroke-width:2.0px;stroke-linecap:butt;stroke-linejoin:miter;stroke-opacity:1\"/>\n<path class=\"bond-1 atom-1 atom-2\" d=\"M 486.2,81.0 L 486.3,50.0\" style=\"fill:none;fill-rule:evenodd;stroke:#FF0000;stroke-width:2.0px;stroke-linecap:butt;stroke-linejoin:miter;stroke-opacity:1\"/>\n<path class=\"bond-1 atom-1 atom-2\" d=\"M 474.6,111.9 L 474.8,80.9\" style=\"fill:none;fill-rule:evenodd;stroke:#000000;stroke-width:2.0px;stroke-linecap:butt;stroke-linejoin:miter;stroke-opacity:1\"/>\n<path class=\"bond-1 atom-1 atom-2\" d=\"M 474.8,80.9 L 474.9,49.9\" style=\"fill:none;fill-rule:evenodd;stroke:#FF0000;stroke-width:2.0px;stroke-linecap:butt;stroke-linejoin:miter;stroke-opacity:1\"/>\n<path class=\"bond-2 atom-1 atom-3\" d=\"M 480.4,108.7 L 505.4,123.3\" style=\"fill:none;fill-rule:evenodd;stroke:#000000;stroke-width:2.0px;stroke-linecap:butt;stroke-linejoin:miter;stroke-opacity:1\"/>\n<path class=\"bond-2 atom-1 atom-3\" d=\"M 505.4,123.3 L 530.5,137.9\" style=\"fill:none;fill-rule:evenodd;stroke:#FF0000;stroke-width:2.0px;stroke-linecap:butt;stroke-linejoin:miter;stroke-opacity:1\"/>\n<path d=\"M 477.1,110.6 L 480.4,108.7 L 481.6,109.4\" style=\"fill:none;stroke:#000000;stroke-width:2.0px;stroke-linecap:butt;stroke-linejoin:miter;stroke-opacity:1;\"/>\n<path class=\"atom-2\" d=\"M 467.6 32.7 Q 467.6 25.9, 471.0 22.1 Q 474.3 18.3, 480.6 18.3 Q 486.9 18.3, 490.3 22.1 Q 493.6 25.9, 493.6 32.7 Q 493.6 39.6, 490.2 43.5 Q 486.8 47.4, 480.6 47.4 Q 474.4 47.4, 471.0 43.5 Q 467.6 39.7, 467.6 32.7 M 480.6 44.2 Q 484.9 44.2, 487.3 41.3 Q 489.6 38.4, 489.6 32.7 Q 489.6 27.2, 487.3 24.4 Q 484.9 21.5, 480.6 21.5 Q 476.3 21.5, 473.9 24.3 Q 471.6 27.1, 471.6 32.7 Q 471.6 38.5, 473.9 41.3 Q 476.3 44.2, 480.6 44.2 \" fill=\"#FF0000\"/>\n<path class=\"atom-3\" d=\"M 533.0 147.0 Q 533.0 140.2, 536.4 136.4 Q 539.7 132.6, 546.0 132.6 Q 552.3 132.6, 555.7 136.4 Q 559.0 140.2, 559.0 147.0 Q 559.0 153.9, 555.6 157.8 Q 552.2 161.7, 546.0 161.7 Q 539.8 161.7, 536.4 157.8 Q 533.0 153.9, 533.0 147.0 M 546.0 158.5 Q 550.3 158.5, 552.7 155.6 Q 555.0 152.7, 555.0 147.0 Q 555.0 141.4, 552.7 138.6 Q 550.3 135.8, 546.0 135.8 Q 541.7 135.8, 539.3 138.6 Q 537.0 141.4, 537.0 147.0 Q 537.0 152.7, 539.3 155.6 Q 541.7 158.5, 546.0 158.5 \" fill=\"#FF0000\"/>\n<path class=\"atom-3\" d=\"M 563.4 132.9 L 567.3 132.9 L 567.3 144.9 L 581.8 144.9 L 581.8 132.9 L 585.6 132.9 L 585.6 161.2 L 581.8 161.2 L 581.8 148.1 L 567.3 148.1 L 567.3 161.2 L 563.4 161.2 L 563.4 132.9 \" fill=\"#FF0000\"/>\n<path class=\"legend\" d=\"M 462.5 192.6 Q 462.5 191.3, 463.5 190.6 Q 464.6 189.8, 466.5 189.8 L 467.7 189.8 L 467.7 189.5 Q 467.7 188.5, 467.3 188.1 Q 466.9 187.6, 465.9 187.6 Q 465.2 187.6, 464.7 187.8 Q 464.2 187.9, 463.4 188.2 L 462.9 187.2 Q 464.4 186.4, 465.9 186.4 Q 467.6 186.4, 468.4 187.2 Q 469.2 187.9, 469.2 189.5 L 469.2 194.8 L 468.1 194.8 Q 468.0 194.7, 468.0 194.5 Q 468.0 194.2, 467.9 193.8 Q 466.7 195.0, 465.2 195.0 Q 463.9 195.0, 463.2 194.3 Q 462.5 193.7, 462.5 192.6 M 464.0 192.6 Q 464.0 193.2, 464.4 193.5 Q 464.7 193.8, 465.5 193.8 Q 466.1 193.8, 466.7 193.5 Q 467.3 193.2, 467.7 192.7 L 467.7 191.0 L 466.6 191.0 Q 465.3 191.0, 464.6 191.4 Q 464.0 191.8, 464.0 192.6 \" fill=\"#000000\"/>\n<path class=\"legend\" d=\"M 471.0 190.7 Q 471.0 188.7, 472.0 187.6 Q 473.0 186.4, 474.9 186.4 Q 476.8 186.4, 477.8 187.8 L 476.8 188.6 Q 476.4 188.1, 475.9 187.9 Q 475.5 187.6, 474.9 187.6 Q 473.8 187.6, 473.1 188.4 Q 472.5 189.2, 472.5 190.7 Q 472.5 192.2, 473.2 193.0 Q 473.8 193.8, 475.0 193.8 Q 475.7 193.8, 476.2 193.6 Q 476.6 193.4, 477.2 193.2 L 477.6 194.2 Q 476.4 194.9, 474.9 194.9 Q 473.0 194.9, 472.0 193.8 Q 471.0 192.7, 471.0 190.7 \" fill=\"#000000\"/>\n<path class=\"legend\" d=\"M 478.7 190.7 Q 478.7 188.7, 479.7 187.6 Q 480.7 186.4, 482.5 186.4 Q 484.3 186.4, 485.1 187.5 Q 486.0 188.6, 486.0 190.6 L 486.0 190.9 L 480.2 190.9 Q 480.2 192.3, 480.9 193.0 Q 481.5 193.8, 482.7 193.8 Q 483.3 193.8, 483.9 193.6 Q 484.5 193.4, 485.2 193.1 L 485.6 194.2 Q 484.8 194.6, 484.1 194.8 Q 483.3 194.9, 482.6 194.9 Q 480.7 194.9, 479.7 193.8 Q 478.7 192.7, 478.7 190.7 M 482.5 187.6 Q 481.6 187.6, 481.0 188.2 Q 480.4 188.7, 480.3 189.8 L 484.4 189.8 Q 484.3 188.7, 483.8 188.2 Q 483.4 187.6, 482.5 187.6 \" fill=\"#000000\"/>\n<path class=\"legend\" d=\"M 487.1 187.7 L 487.1 186.6 L 488.6 186.6 L 488.9 184.2 L 490.0 184.2 L 490.0 186.6 L 492.5 186.6 L 492.5 187.7 L 490.0 187.7 L 490.0 192.3 Q 490.0 193.7, 491.2 193.7 Q 491.7 193.7, 492.4 193.5 L 492.7 194.5 Q 491.8 194.9, 490.9 194.9 Q 489.9 194.9, 489.2 194.3 Q 488.5 193.6, 488.5 192.4 L 488.5 187.7 L 487.1 187.7 \" fill=\"#000000\"/>\n<path class=\"legend\" d=\"M 493.6 183.5 L 495.1 183.5 L 495.1 184.9 L 493.6 184.9 L 493.6 183.5 M 493.6 186.6 L 495.1 186.6 L 495.1 194.8 L 493.6 194.8 L 493.6 186.6 \" fill=\"#000000\"/>\n<path class=\"legend\" d=\"M 496.9 190.7 Q 496.9 188.7, 497.9 187.6 Q 498.9 186.4, 500.9 186.4 Q 502.8 186.4, 503.7 187.8 L 502.7 188.6 Q 502.3 188.1, 501.9 187.9 Q 501.5 187.6, 500.9 187.6 Q 499.7 187.6, 499.1 188.4 Q 498.5 189.2, 498.5 190.7 Q 498.5 192.2, 499.1 193.0 Q 499.8 193.8, 501.0 193.8 Q 501.7 193.8, 502.1 193.6 Q 502.6 193.4, 503.2 193.2 L 503.6 194.2 Q 502.4 194.9, 500.9 194.9 Q 498.9 194.9, 497.9 193.8 Q 496.9 192.7, 496.9 190.7 \" fill=\"#000000\"/>\n<path class=\"legend\" d=\"\" fill=\"#000000\"/>\n<path class=\"legend\" d=\"M 510.5 192.6 Q 510.5 191.3, 511.5 190.6 Q 512.6 189.8, 514.5 189.8 L 515.8 189.8 L 515.8 189.5 Q 515.8 188.5, 515.3 188.1 Q 514.9 187.6, 513.9 187.6 Q 513.2 187.6, 512.7 187.8 Q 512.2 187.9, 511.4 188.2 L 511.0 187.2 Q 512.5 186.4, 513.9 186.4 Q 515.7 186.4, 516.5 187.2 Q 517.3 187.9, 517.3 189.5 L 517.3 194.8 L 516.1 194.8 Q 516.1 194.7, 516.0 194.5 Q 516.0 194.2, 515.9 193.8 Q 514.7 195.0, 513.2 195.0 Q 512.0 195.0, 511.2 194.3 Q 510.5 193.7, 510.5 192.6 M 512.0 192.6 Q 512.0 193.2, 512.4 193.5 Q 512.8 193.8, 513.5 193.8 Q 514.1 193.8, 514.7 193.5 Q 515.3 193.2, 515.8 192.7 L 515.8 191.0 L 514.6 191.0 Q 513.3 191.0, 512.7 191.4 Q 512.0 191.8, 512.0 192.6 \" fill=\"#000000\"/>\n<path class=\"legend\" d=\"M 519.0 190.7 Q 519.0 188.7, 520.0 187.6 Q 521.0 186.4, 522.9 186.4 Q 524.8 186.4, 525.8 187.8 L 524.8 188.6 Q 524.4 188.1, 524.0 187.9 Q 523.5 187.6, 522.9 187.6 Q 521.8 187.6, 521.2 188.4 Q 520.5 189.2, 520.5 190.7 Q 520.5 192.2, 521.2 193.0 Q 521.8 193.8, 523.0 193.8 Q 523.7 193.8, 524.2 193.6 Q 524.6 193.4, 525.2 193.2 L 525.6 194.2 Q 524.4 194.9, 522.9 194.9 Q 521.0 194.9, 520.0 193.8 Q 519.0 192.7, 519.0 190.7 \" fill=\"#000000\"/>\n<path class=\"legend\" d=\"M 526.7 183.5 L 528.2 183.5 L 528.2 184.9 L 526.7 184.9 L 526.7 183.5 M 526.7 186.6 L 528.2 186.6 L 528.2 194.8 L 526.7 194.8 L 526.7 186.6 \" fill=\"#000000\"/>\n<path class=\"legend\" d=\"M 537.5 182.7 L 537.5 194.8 L 536.3 194.8 L 536.1 193.8 Q 535.2 194.9, 533.7 194.9 Q 532.0 194.9, 531.0 193.9 Q 530.1 192.8, 530.1 190.8 Q 530.1 188.8, 531.2 187.6 Q 532.3 186.4, 534.3 186.4 Q 535.1 186.4, 536.0 186.7 L 536.0 182.7 L 537.5 182.7 M 533.8 193.8 Q 534.6 193.8, 535.2 193.3 Q 535.8 192.8, 536.0 192.0 L 536.0 187.9 Q 535.2 187.6, 534.3 187.6 Q 533.0 187.6, 532.3 188.5 Q 531.6 189.3, 531.6 190.8 Q 531.6 192.2, 532.2 193.0 Q 532.7 193.8, 533.8 193.8 \" fill=\"#000000\"/>\n</svg>"
          },
          "metadata": {},
          "execution_count": 21
        }
      ],
      "source": [
        "display_structures(smiles_list)"
      ]
    },
    {
      "cell_type": "markdown",
      "id": "12884cef",
      "metadata": {
        "id": "12884cef"
      },
      "source": [
        "### Exercise\n",
        "\n",
        "Write the SMILES and display a table of chemical structures for the following. If you don't know the structures, google the names.\n",
        "\n",
        "1. 2-menthylpentene CC(C)CCC\n",
        "2. isopropanal\n",
        "3. 2-pentyn-1-ol\n",
        "4. 1,2,2,3-tetrafluorobutane\n",
        "5. propanoic acid\n",
        "6. 2-t-butyl-3-hydroxy-propane"
      ]
    },
    {
      "cell_type": "code",
      "execution_count": 29,
      "id": "e344b43f",
      "metadata": {
        "id": "e344b43f"
      },
      "outputs": [],
      "source": [
        "from re import S\n",
        "# prompt: convert names to smiles\n",
        "smiles_list2=[[\"CC(C)CCC\",\"2-menthylpentene\"], ['C(C)(C)O', 'isopropanol'], ['CC(=O)O', '2-pentyn-1-ol']]\n"
      ]
    },
    {
      "cell_type": "code",
      "source": [
        "display_structures(smiles_list2)"
      ],
      "metadata": {
        "id": "Z2wcF8MMHivJ",
        "outputId": "34460fc0-06d6-4777-ebd0-a15e5d23da63",
        "colab": {
          "base_uri": "https://localhost:8080/",
          "height": 221
        }
      },
      "id": "Z2wcF8MMHivJ",
      "execution_count": 30,
      "outputs": [
        {
          "output_type": "execute_result",
          "data": {
            "text/plain": [
              "<IPython.core.display.SVG object>"
            ],
            "image/svg+xml": "<svg xmlns=\"http://www.w3.org/2000/svg\" xmlns:rdkit=\"http://www.rdkit.org/xml\" xmlns:xlink=\"http://www.w3.org/1999/xlink\" version=\"1.1\" baseProfile=\"full\" xml:space=\"preserve\" width=\"800px\" height=\"200px\" viewBox=\"0 0 800 200\">\n<!-- END OF HEADER -->\n<rect style=\"opacity:1.0;fill:#FFFFFF;stroke:none\" width=\"800.0\" height=\"200.0\" x=\"0.0\" y=\"0.0\"> </rect>\n<path class=\"bond-0 atom-0 atom-1\" d=\"M 190.9,129.3 L 145.4,103.1\" style=\"fill:none;fill-rule:evenodd;stroke:#000000;stroke-width:2.0px;stroke-linecap:butt;stroke-linejoin:miter;stroke-opacity:1\"/>\n<path class=\"bond-1 atom-1 atom-2\" d=\"M 145.4,103.1 L 145.4,50.6\" style=\"fill:none;fill-rule:evenodd;stroke:#000000;stroke-width:2.0px;stroke-linecap:butt;stroke-linejoin:miter;stroke-opacity:1\"/>\n<path class=\"bond-2 atom-1 atom-3\" d=\"M 145.4,103.1 L 100.0,129.3\" style=\"fill:none;fill-rule:evenodd;stroke:#000000;stroke-width:2.0px;stroke-linecap:butt;stroke-linejoin:miter;stroke-opacity:1\"/>\n<path class=\"bond-3 atom-3 atom-4\" d=\"M 100.0,129.3 L 54.5,103.1\" style=\"fill:none;fill-rule:evenodd;stroke:#000000;stroke-width:2.0px;stroke-linecap:butt;stroke-linejoin:miter;stroke-opacity:1\"/>\n<path class=\"bond-4 atom-4 atom-5\" d=\"M 54.5,103.1 L 9.1,129.4\" style=\"fill:none;fill-rule:evenodd;stroke:#000000;stroke-width:2.0px;stroke-linecap:butt;stroke-linejoin:miter;stroke-opacity:1\"/>\n<path d=\"M 102.3,128.0 L 100.0,129.3 L 97.7,128.0\" style=\"fill:none;stroke:#000000;stroke-width:2.0px;stroke-linecap:butt;stroke-linejoin:miter;stroke-opacity:1;\"/>\n<path d=\"M 56.8,104.5 L 54.5,103.1 L 52.3,104.5\" style=\"fill:none;stroke:#000000;stroke-width:2.0px;stroke-linecap:butt;stroke-linejoin:miter;stroke-opacity:1;\"/>\n<path class=\"legend\" d=\"M 37.6 182.8 Q 37.9 181.8, 38.9 181.2 Q 39.8 180.6, 41.1 180.6 Q 42.7 180.6, 43.6 181.5 Q 44.5 182.4, 44.5 183.9 Q 44.5 185.5, 43.3 186.9 Q 42.1 188.4, 39.8 190.1 L 44.6 190.1 L 44.6 191.3 L 37.5 191.3 L 37.5 190.3 Q 39.5 188.9, 40.7 187.9 Q 41.8 186.8, 42.4 185.9 Q 43.0 185.0, 43.0 184.0 Q 43.0 183.0, 42.5 182.4 Q 42.0 181.8, 41.1 181.8 Q 40.2 181.8, 39.7 182.2 Q 39.1 182.5, 38.7 183.3 L 37.6 182.8 \" fill=\"#000000\"/>\n<path class=\"legend\" d=\"M 46.2 186.0 L 51.7 186.0 L 51.7 187.2 L 46.2 187.2 L 46.2 186.0 \" fill=\"#000000\"/>\n<path class=\"legend\" d=\"M 61.9 183.5 Q 63.2 183.5, 63.9 184.2 Q 64.5 184.9, 64.5 186.3 L 64.5 191.3 L 63.1 191.3 L 63.1 186.4 Q 63.1 185.4, 62.8 185.0 Q 62.4 184.6, 61.6 184.6 Q 61.0 184.6, 60.4 185.0 Q 59.8 185.3, 59.5 185.8 Q 59.5 186.0, 59.5 186.3 L 59.5 191.3 L 58.1 191.3 L 58.1 186.4 Q 58.1 185.4, 57.7 185.0 Q 57.4 184.6, 56.6 184.6 Q 55.9 184.6, 55.4 185.0 Q 54.8 185.3, 54.5 185.8 L 54.5 191.3 L 53.1 191.3 L 53.1 183.7 L 54.2 183.7 L 54.4 184.7 Q 55.4 183.5, 56.9 183.5 Q 58.7 183.5, 59.3 184.9 Q 60.3 183.5, 61.9 183.5 \" fill=\"#000000\"/>\n<path class=\"legend\" d=\"M 66.3 187.5 Q 66.3 185.6, 67.3 184.6 Q 68.2 183.5, 69.9 183.5 Q 71.6 183.5, 72.4 184.5 Q 73.1 185.5, 73.1 187.4 L 73.1 187.7 L 67.8 187.7 Q 67.8 189.0, 68.4 189.7 Q 69.0 190.3, 70.0 190.3 Q 70.6 190.3, 71.2 190.2 Q 71.7 190.1, 72.4 189.8 L 72.8 190.7 Q 72.1 191.1, 71.4 191.3 Q 70.7 191.4, 70.0 191.4 Q 68.2 191.4, 67.3 190.4 Q 66.3 189.4, 66.3 187.5 M 69.9 184.6 Q 69.0 184.6, 68.5 185.1 Q 68.0 185.6, 67.8 186.6 L 71.6 186.6 Q 71.5 185.6, 71.1 185.1 Q 70.7 184.6, 69.9 184.6 \" fill=\"#000000\"/>\n<path class=\"legend\" d=\"M 78.3 183.5 Q 79.6 183.5, 80.2 184.2 Q 80.9 184.9, 80.9 186.3 L 80.9 191.3 L 79.4 191.3 L 79.4 186.4 Q 79.4 185.4, 79.1 185.0 Q 78.7 184.6, 78.0 184.6 Q 77.3 184.6, 76.7 185.0 Q 76.1 185.3, 75.7 185.8 L 75.7 191.3 L 74.3 191.3 L 74.3 183.7 L 75.5 183.7 L 75.6 184.7 Q 76.7 183.5, 78.3 183.5 \" fill=\"#000000\"/>\n<path class=\"legend\" d=\"M 82.6 184.7 L 82.6 183.7 L 84.1 183.7 L 84.3 181.4 L 85.4 181.4 L 85.4 183.7 L 87.7 183.7 L 87.7 184.7 L 85.4 184.7 L 85.4 189.0 Q 85.4 190.3, 86.5 190.3 Q 87.0 190.3, 87.6 190.1 L 87.9 191.1 Q 87.0 191.4, 86.3 191.4 Q 85.3 191.4, 84.6 190.8 Q 84.0 190.2, 84.0 189.0 L 84.0 184.7 L 82.6 184.7 \" fill=\"#000000\"/>\n<path class=\"legend\" d=\"M 92.9 183.5 Q 94.1 183.5, 94.7 184.2 Q 95.4 184.9, 95.4 186.3 L 95.4 191.3 L 94.0 191.3 L 94.0 186.4 Q 94.0 185.4, 93.6 185.0 Q 93.3 184.6, 92.5 184.6 Q 91.8 184.6, 91.2 185.0 Q 90.7 185.3, 90.3 185.8 L 90.3 191.3 L 88.9 191.3 L 88.9 180.0 L 90.3 180.0 L 90.3 184.6 Q 91.3 183.5, 92.9 183.5 \" fill=\"#000000\"/>\n<path class=\"legend\" d=\"M 103.1 183.7 L 104.5 183.7 L 100.5 195.0 L 99.2 195.0 L 100.5 191.3 L 99.9 191.3 L 97.2 183.7 L 98.6 183.7 L 100.9 190.1 L 103.1 183.7 \" fill=\"#000000\"/>\n<path class=\"legend\" d=\"M 105.3 180.0 L 106.6 180.0 L 106.6 191.3 L 105.3 191.3 L 105.3 180.0 \" fill=\"#000000\"/>\n<path class=\"legend\" d=\"M 112.1 183.5 Q 113.7 183.5, 114.6 184.5 Q 115.5 185.5, 115.5 187.4 Q 115.5 189.3, 114.4 190.4 Q 113.4 191.4, 111.6 191.4 Q 110.7 191.4, 110.0 191.2 L 110.0 195.0 L 108.6 195.0 L 108.6 183.7 L 109.7 183.7 L 109.9 184.6 Q 110.3 184.1, 110.8 183.8 Q 111.4 183.5, 112.1 183.5 M 111.5 190.3 Q 112.7 190.3, 113.4 189.6 Q 114.1 188.8, 114.1 187.4 Q 114.1 186.0, 113.5 185.3 Q 113.0 184.6, 112.0 184.6 Q 111.3 184.6, 110.7 185.0 Q 110.2 185.4, 110.0 186.1 L 110.0 190.1 Q 110.7 190.3, 111.5 190.3 \" fill=\"#000000\"/>\n<path class=\"legend\" d=\"M 116.8 187.5 Q 116.8 185.6, 117.8 184.6 Q 118.7 183.5, 120.4 183.5 Q 122.1 183.5, 122.8 184.5 Q 123.6 185.5, 123.6 187.4 L 123.6 187.7 L 118.2 187.7 Q 118.3 189.0, 118.9 189.7 Q 119.4 190.3, 120.5 190.3 Q 121.1 190.3, 121.7 190.2 Q 122.2 190.1, 122.9 189.8 L 123.3 190.7 Q 122.5 191.1, 121.9 191.3 Q 121.2 191.4, 120.5 191.4 Q 118.7 191.4, 117.8 190.4 Q 116.8 189.4, 116.8 187.5 M 120.4 184.6 Q 119.5 184.6, 119.0 185.1 Q 118.5 185.6, 118.3 186.6 L 122.1 186.6 Q 122.0 185.6, 121.6 185.1 Q 121.2 184.6, 120.4 184.6 \" fill=\"#000000\"/>\n<path class=\"legend\" d=\"M 128.8 183.5 Q 130.0 183.5, 130.7 184.2 Q 131.3 184.9, 131.3 186.3 L 131.3 191.3 L 129.9 191.3 L 129.9 186.4 Q 129.9 185.4, 129.6 185.0 Q 129.2 184.6, 128.5 184.6 Q 127.8 184.6, 127.2 185.0 Q 126.6 185.3, 126.2 185.8 L 126.2 191.3 L 124.8 191.3 L 124.8 183.7 L 126.0 183.7 L 126.1 184.7 Q 127.2 183.5, 128.8 183.5 \" fill=\"#000000\"/>\n<path class=\"legend\" d=\"M 133.1 184.7 L 133.1 183.7 L 134.6 183.7 L 134.8 181.4 L 135.9 181.4 L 135.9 183.7 L 138.2 183.7 L 138.2 184.7 L 135.9 184.7 L 135.9 189.0 Q 135.9 190.3, 137.0 190.3 Q 137.5 190.3, 138.1 190.1 L 138.3 191.1 Q 137.5 191.4, 136.7 191.4 Q 135.7 191.4, 135.1 190.8 Q 134.5 190.2, 134.5 189.0 L 134.5 184.7 L 133.1 184.7 \" fill=\"#000000\"/>\n<path class=\"legend\" d=\"M 139.4 187.5 Q 139.4 185.6, 140.3 184.6 Q 141.2 183.5, 143.0 183.5 Q 144.6 183.5, 145.4 184.5 Q 146.2 185.5, 146.2 187.4 L 146.2 187.7 L 140.8 187.7 Q 140.8 189.0, 141.4 189.7 Q 142.0 190.3, 143.1 190.3 Q 143.7 190.3, 144.2 190.2 Q 144.8 190.1, 145.5 189.8 L 145.9 190.7 Q 145.1 191.1, 144.4 191.3 Q 143.7 191.4, 143.0 191.4 Q 141.3 191.4, 140.3 190.4 Q 139.4 189.4, 139.4 187.5 M 143.0 184.6 Q 142.1 184.6, 141.5 185.1 Q 141.0 185.6, 140.9 186.6 L 144.7 186.6 Q 144.6 185.6, 144.2 185.1 Q 143.7 184.6, 143.0 184.6 \" fill=\"#000000\"/>\n<path class=\"legend\" d=\"M 151.4 183.5 Q 152.6 183.5, 153.2 184.2 Q 153.9 184.9, 153.9 186.3 L 153.9 191.3 L 152.5 191.3 L 152.5 186.4 Q 152.5 185.4, 152.1 185.0 Q 151.8 184.6, 151.0 184.6 Q 150.3 184.6, 149.7 185.0 Q 149.1 185.3, 148.8 185.8 L 148.8 191.3 L 147.4 191.3 L 147.4 183.7 L 148.5 183.7 L 148.7 184.7 Q 149.7 183.5, 151.4 183.5 \" fill=\"#000000\"/>\n<path class=\"legend\" d=\"M 155.7 187.5 Q 155.7 185.6, 156.6 184.6 Q 157.6 183.5, 159.3 183.5 Q 161.0 183.5, 161.7 184.5 Q 162.5 185.5, 162.5 187.4 L 162.5 187.7 L 157.1 187.7 Q 157.1 189.0, 157.7 189.7 Q 158.3 190.3, 159.4 190.3 Q 160.0 190.3, 160.6 190.2 Q 161.1 190.1, 161.8 189.8 L 162.2 190.7 Q 161.4 191.1, 160.7 191.3 Q 160.0 191.4, 159.3 191.4 Q 157.6 191.4, 156.6 190.4 Q 155.7 189.4, 155.7 187.5 M 159.3 184.6 Q 158.4 184.6, 157.9 185.1 Q 157.3 185.6, 157.2 186.6 L 161.0 186.6 Q 160.9 185.6, 160.5 185.1 Q 160.1 184.6, 159.3 184.6 \" fill=\"#000000\"/>\n<path class=\"bond-0 atom-0 atom-1\" d=\"M 300.1,108.7 L 345.5,135.1\" style=\"fill:none;fill-rule:evenodd;stroke:#000000;stroke-width:2.0px;stroke-linecap:butt;stroke-linejoin:miter;stroke-opacity:1\"/>\n<path class=\"bond-1 atom-0 atom-2\" d=\"M 300.1,108.7 L 254.5,134.8\" style=\"fill:none;fill-rule:evenodd;stroke:#000000;stroke-width:2.0px;stroke-linecap:butt;stroke-linejoin:miter;stroke-opacity:1\"/>\n<path class=\"bond-2 atom-0 atom-3\" d=\"M 300.1,108.7 L 300.2,89.1\" style=\"fill:none;fill-rule:evenodd;stroke:#000000;stroke-width:2.0px;stroke-linecap:butt;stroke-linejoin:miter;stroke-opacity:1\"/>\n<path class=\"bond-2 atom-0 atom-3\" d=\"M 300.2,89.1 L 300.2,69.5\" style=\"fill:none;fill-rule:evenodd;stroke:#FF0000;stroke-width:2.0px;stroke-linecap:butt;stroke-linejoin:miter;stroke-opacity:1\"/>\n<path class=\"atom-3\" d=\"M 290.0 56.3 Q 290.0 50.9, 292.7 47.9 Q 295.3 44.9, 300.3 44.9 Q 305.2 44.9, 307.9 47.9 Q 310.5 50.9, 310.5 56.3 Q 310.5 61.7, 307.8 64.8 Q 305.2 67.8, 300.3 67.8 Q 295.4 67.8, 292.7 64.8 Q 290.0 61.7, 290.0 56.3 M 300.3 65.3 Q 303.7 65.3, 305.5 63.0 Q 307.4 60.7, 307.4 56.3 Q 307.4 51.9, 305.5 49.7 Q 303.7 47.4, 300.3 47.4 Q 296.9 47.4, 295.0 49.6 Q 293.2 51.8, 293.2 56.3 Q 293.2 60.8, 295.0 63.0 Q 296.9 65.3, 300.3 65.3 \" fill=\"#FF0000\"/>\n<path class=\"atom-3\" d=\"M 314.0 45.2 L 317.0 45.2 L 317.0 54.6 L 328.4 54.6 L 328.4 45.2 L 331.4 45.2 L 331.4 67.5 L 328.4 67.5 L 328.4 57.2 L 317.0 57.2 L 317.0 67.5 L 314.0 67.5 L 314.0 45.2 \" fill=\"#FF0000\"/>\n<path class=\"legend\" d=\"M 262.6 180.8 L 264.0 180.8 L 264.0 182.1 L 262.6 182.1 L 262.6 180.8 M 262.6 183.7 L 264.0 183.7 L 264.0 191.3 L 262.6 191.3 L 262.6 183.7 \" fill=\"#000000\"/>\n<path class=\"legend\" d=\"M 266.3 189.8 Q 266.9 190.0, 267.4 190.2 Q 267.9 190.3, 268.4 190.3 Q 269.1 190.3, 269.5 190.0 Q 269.9 189.7, 269.9 189.2 Q 269.9 188.8, 269.6 188.6 Q 269.5 188.4, 269.2 188.3 Q 269.0 188.2, 268.3 188.0 Q 268.2 187.9, 267.5 187.7 Q 266.8 187.5, 266.4 187.0 Q 266.1 186.5, 266.1 185.7 Q 266.1 184.8, 266.8 184.2 Q 267.5 183.5, 268.9 183.5 Q 269.5 183.5, 270.0 183.7 Q 270.5 183.8, 271.1 184.0 L 270.7 185.1 Q 270.2 184.9, 269.8 184.8 Q 269.4 184.7, 268.9 184.7 Q 268.2 184.7, 267.8 185.0 Q 267.5 185.2, 267.5 185.7 Q 267.5 186.1, 267.8 186.3 Q 268.1 186.5, 268.7 186.7 Q 268.8 186.8, 269.0 186.8 L 269.3 187.0 Q 270.0 187.2, 270.3 187.4 Q 270.7 187.6, 271.0 188.0 Q 271.3 188.5, 271.3 189.2 Q 271.3 190.3, 270.5 190.9 Q 269.7 191.5, 268.4 191.5 Q 267.7 191.5, 267.1 191.3 Q 266.5 191.2, 265.8 190.9 L 266.3 189.8 \" fill=\"#000000\"/>\n<path class=\"legend\" d=\"M 272.6 187.5 Q 272.6 185.6, 273.6 184.6 Q 274.5 183.5, 276.3 183.5 Q 278.0 183.5, 278.9 184.6 Q 279.9 185.6, 279.9 187.5 Q 279.9 189.4, 278.9 190.4 Q 278.0 191.5, 276.3 191.5 Q 274.5 191.5, 273.6 190.4 Q 272.6 189.4, 272.6 187.5 M 274.0 187.5 Q 274.0 188.9, 274.6 189.6 Q 275.2 190.4, 276.3 190.4 Q 277.3 190.4, 277.9 189.6 Q 278.5 188.9, 278.5 187.5 Q 278.5 186.1, 277.9 185.4 Q 277.3 184.6, 276.3 184.6 Q 275.2 184.6, 274.6 185.4 Q 274.0 186.1, 274.0 187.5 \" fill=\"#000000\"/>\n<path class=\"legend\" d=\"M 284.7 183.5 Q 286.3 183.5, 287.2 184.5 Q 288.1 185.5, 288.1 187.4 Q 288.1 189.3, 287.0 190.4 Q 286.0 191.5, 284.1 191.5 Q 283.3 191.5, 282.5 191.2 L 282.5 195.0 L 281.1 195.0 L 281.1 183.7 L 282.3 183.7 L 282.5 184.6 Q 282.9 184.1, 283.4 183.8 Q 284.0 183.5, 284.7 183.5 M 284.1 190.4 Q 285.3 190.4, 286.0 189.6 Q 286.7 188.8, 286.7 187.4 Q 286.7 186.1, 286.1 185.3 Q 285.6 184.6, 284.6 184.6 Q 283.9 184.6, 283.3 185.0 Q 282.8 185.4, 282.5 186.2 L 282.5 190.1 Q 283.3 190.4, 284.1 190.4 \" fill=\"#000000\"/>\n<path class=\"legend\" d=\"M 290.5 183.7 L 290.6 184.7 Q 291.4 183.5, 292.7 183.5 Q 293.2 183.5, 293.7 183.7 L 293.5 184.9 Q 292.9 184.8, 292.5 184.8 Q 291.9 184.8, 291.5 185.0 Q 291.1 185.3, 290.7 185.9 L 290.7 191.3 L 289.3 191.3 L 289.3 183.7 L 290.5 183.7 \" fill=\"#000000\"/>\n<path class=\"legend\" d=\"M 294.5 187.5 Q 294.5 185.6, 295.5 184.6 Q 296.4 183.5, 298.2 183.5 Q 299.9 183.5, 300.8 184.6 Q 301.8 185.6, 301.8 187.5 Q 301.8 189.4, 300.8 190.4 Q 299.9 191.5, 298.2 191.5 Q 296.4 191.5, 295.5 190.4 Q 294.5 189.4, 294.5 187.5 M 295.9 187.5 Q 295.9 188.9, 296.5 189.6 Q 297.1 190.4, 298.2 190.4 Q 299.2 190.4, 299.8 189.6 Q 300.4 188.9, 300.4 187.5 Q 300.4 186.1, 299.8 185.4 Q 299.2 184.6, 298.2 184.6 Q 297.1 184.6, 296.5 185.4 Q 295.9 186.1, 295.9 187.5 \" fill=\"#000000\"/>\n<path class=\"legend\" d=\"M 306.6 183.5 Q 308.2 183.5, 309.1 184.5 Q 310.0 185.5, 310.0 187.4 Q 310.0 189.3, 308.9 190.4 Q 307.9 191.5, 306.0 191.5 Q 305.2 191.5, 304.4 191.2 L 304.4 195.0 L 303.0 195.0 L 303.0 183.7 L 304.2 183.7 L 304.4 184.6 Q 304.8 184.1, 305.3 183.8 Q 305.9 183.5, 306.6 183.5 M 306.0 190.4 Q 307.2 190.4, 307.9 189.6 Q 308.6 188.8, 308.6 187.4 Q 308.6 186.1, 308.0 185.3 Q 307.5 184.6, 306.5 184.6 Q 305.8 184.6, 305.2 185.0 Q 304.7 185.4, 304.4 186.2 L 304.4 190.1 Q 305.2 190.4, 306.0 190.4 \" fill=\"#000000\"/>\n<path class=\"legend\" d=\"M 311.2 189.3 Q 311.2 188.0, 312.2 187.4 Q 313.2 186.7, 315.0 186.7 L 316.1 186.7 L 316.1 186.4 Q 316.1 185.4, 315.7 185.0 Q 315.3 184.6, 314.4 184.6 Q 313.8 184.6, 313.3 184.8 Q 312.8 184.9, 312.1 185.2 L 311.7 184.2 Q 313.1 183.5, 314.4 183.5 Q 316.0 183.5, 316.8 184.2 Q 317.5 184.9, 317.5 186.4 L 317.5 191.3 L 316.4 191.3 Q 316.4 191.3, 316.4 191.1 Q 316.3 190.8, 316.3 190.4 Q 315.2 191.5, 313.7 191.5 Q 312.6 191.5, 311.9 190.9 Q 311.2 190.3, 311.2 189.3 M 312.6 189.2 Q 312.6 189.8, 313.0 190.1 Q 313.3 190.4, 314.0 190.4 Q 314.6 190.4, 315.2 190.1 Q 315.7 189.9, 316.1 189.4 L 316.1 187.7 L 315.1 187.7 Q 313.9 187.7, 313.2 188.1 Q 312.6 188.5, 312.6 189.2 \" fill=\"#000000\"/>\n<path class=\"legend\" d=\"M 323.3 183.5 Q 324.5 183.5, 325.1 184.2 Q 325.8 184.9, 325.8 186.3 L 325.8 191.3 L 324.4 191.3 L 324.4 186.4 Q 324.4 185.5, 324.0 185.0 Q 323.7 184.6, 322.9 184.6 Q 322.2 184.6, 321.6 185.0 Q 321.0 185.3, 320.7 185.8 L 320.7 191.3 L 319.2 191.3 L 319.2 183.7 L 320.4 183.7 L 320.6 184.7 Q 321.6 183.5, 323.3 183.5 \" fill=\"#000000\"/>\n<path class=\"legend\" d=\"M 327.5 187.5 Q 327.5 185.6, 328.4 184.6 Q 329.4 183.5, 331.1 183.5 Q 332.9 183.5, 333.8 184.6 Q 334.8 185.6, 334.8 187.5 Q 334.8 189.4, 333.8 190.4 Q 332.9 191.5, 331.1 191.5 Q 329.4 191.5, 328.4 190.4 Q 327.5 189.4, 327.5 187.5 M 328.9 187.5 Q 328.9 188.9, 329.5 189.6 Q 330.1 190.4, 331.1 190.4 Q 332.2 190.4, 332.8 189.6 Q 333.3 188.9, 333.3 187.5 Q 333.3 186.1, 332.8 185.4 Q 332.2 184.6, 331.1 184.6 Q 330.1 184.6, 329.5 185.4 Q 328.9 186.1, 328.9 187.5 \" fill=\"#000000\"/>\n<path class=\"legend\" d=\"M 336.0 180.0 L 337.4 180.0 L 337.4 191.3 L 336.0 191.3 L 336.0 180.0 \" fill=\"#000000\"/>\n<path class=\"bond-0 atom-0 atom-1\" d=\"M 439.0,128.9 L 484.5,102.9\" style=\"fill:none;fill-rule:evenodd;stroke:#000000;stroke-width:2.0px;stroke-linecap:butt;stroke-linejoin:miter;stroke-opacity:1\"/>\n<path class=\"bond-1 atom-1 atom-2\" d=\"M 488.4,105.2 L 488.5,84.5\" style=\"fill:none;fill-rule:evenodd;stroke:#000000;stroke-width:2.0px;stroke-linecap:butt;stroke-linejoin:miter;stroke-opacity:1\"/>\n<path class=\"bond-1 atom-1 atom-2\" d=\"M 488.5,84.5 L 488.6,63.7\" style=\"fill:none;fill-rule:evenodd;stroke:#FF0000;stroke-width:2.0px;stroke-linecap:butt;stroke-linejoin:miter;stroke-opacity:1\"/>\n<path class=\"bond-1 atom-1 atom-2\" d=\"M 480.6,105.1 L 480.6,84.4\" style=\"fill:none;fill-rule:evenodd;stroke:#000000;stroke-width:2.0px;stroke-linecap:butt;stroke-linejoin:miter;stroke-opacity:1\"/>\n<path class=\"bond-1 atom-1 atom-2\" d=\"M 480.6,84.4 L 480.7,63.7\" style=\"fill:none;fill-rule:evenodd;stroke:#FF0000;stroke-width:2.0px;stroke-linecap:butt;stroke-linejoin:miter;stroke-opacity:1\"/>\n<path class=\"bond-2 atom-1 atom-3\" d=\"M 484.5,102.9 L 501.2,112.6\" style=\"fill:none;fill-rule:evenodd;stroke:#000000;stroke-width:2.0px;stroke-linecap:butt;stroke-linejoin:miter;stroke-opacity:1\"/>\n<path class=\"bond-2 atom-1 atom-3\" d=\"M 501.2,112.6 L 517.9,122.3\" style=\"fill:none;fill-rule:evenodd;stroke:#FF0000;stroke-width:2.0px;stroke-linecap:butt;stroke-linejoin:miter;stroke-opacity:1\"/>\n<path d=\"M 482.2,104.2 L 484.5,102.9 L 485.4,103.4\" style=\"fill:none;stroke:#000000;stroke-width:2.0px;stroke-linecap:butt;stroke-linejoin:miter;stroke-opacity:1;\"/>\n<path class=\"atom-2\" d=\"M 474.5 50.4 Q 474.5 45.1, 477.1 42.1 Q 479.8 39.1, 484.7 39.1 Q 489.7 39.1, 492.3 42.1 Q 494.9 45.1, 494.9 50.4 Q 494.9 55.9, 492.3 58.9 Q 489.6 62.0, 484.7 62.0 Q 479.8 62.0, 477.1 58.9 Q 474.5 55.9, 474.5 50.4 M 484.7 59.5 Q 488.1 59.5, 489.9 57.2 Q 491.8 54.9, 491.8 50.4 Q 491.8 46.1, 489.9 43.9 Q 488.1 41.6, 484.7 41.6 Q 481.3 41.6, 479.4 43.8 Q 477.6 46.0, 477.6 50.4 Q 477.6 54.9, 479.4 57.2 Q 481.3 59.5, 484.7 59.5 \" fill=\"#FF0000\"/>\n<path class=\"atom-3\" d=\"M 519.6 129.3 Q 519.6 124.0, 522.3 121.0 Q 524.9 118.0, 529.9 118.0 Q 534.8 118.0, 537.5 121.0 Q 540.1 124.0, 540.1 129.3 Q 540.1 134.8, 537.4 137.8 Q 534.8 140.9, 529.9 140.9 Q 525.0 140.9, 522.3 137.8 Q 519.6 134.8, 519.6 129.3 M 529.9 138.4 Q 533.3 138.4, 535.1 136.1 Q 537.0 133.8, 537.0 129.3 Q 537.0 125.0, 535.1 122.8 Q 533.3 120.5, 529.9 120.5 Q 526.5 120.5, 524.6 122.7 Q 522.8 124.9, 522.8 129.3 Q 522.8 133.8, 524.6 136.1 Q 526.5 138.4, 529.9 138.4 \" fill=\"#FF0000\"/>\n<path class=\"atom-3\" d=\"M 543.6 118.2 L 546.6 118.2 L 546.6 127.7 L 558.0 127.7 L 558.0 118.2 L 561.0 118.2 L 561.0 140.5 L 558.0 140.5 L 558.0 130.2 L 546.6 130.2 L 546.6 140.5 L 543.6 140.5 L 543.6 118.2 \" fill=\"#FF0000\"/>\n<path class=\"legend\" d=\"M 453.3 182.8 Q 453.7 181.8, 454.6 181.2 Q 455.5 180.6, 456.8 180.6 Q 458.4 180.6, 459.3 181.5 Q 460.2 182.4, 460.2 183.9 Q 460.2 185.5, 459.0 186.9 Q 457.9 188.4, 455.5 190.1 L 460.4 190.1 L 460.4 191.3 L 453.2 191.3 L 453.2 190.3 Q 455.2 188.9, 456.4 187.9 Q 457.5 186.8, 458.1 185.9 Q 458.7 185.0, 458.7 184.0 Q 458.7 183.0, 458.2 182.4 Q 457.7 181.8, 456.8 181.8 Q 455.9 181.8, 455.4 182.2 Q 454.8 182.5, 454.4 183.3 L 453.3 182.8 \" fill=\"#000000\"/>\n<path class=\"legend\" d=\"M 461.8 186.0 L 467.3 186.0 L 467.3 187.2 L 461.8 187.2 L 461.8 186.0 \" fill=\"#000000\"/>\n<path class=\"legend\" d=\"M 472.2 183.5 Q 473.8 183.5, 474.7 184.5 Q 475.6 185.5, 475.6 187.4 Q 475.6 189.3, 474.6 190.4 Q 473.5 191.4, 471.7 191.4 Q 470.8 191.4, 470.1 191.2 L 470.1 195.0 L 468.7 195.0 L 468.7 183.7 L 469.8 183.7 L 470.0 184.6 Q 470.4 184.1, 471.0 183.8 Q 471.5 183.5, 472.2 183.5 M 471.7 190.3 Q 472.8 190.3, 473.5 189.6 Q 474.2 188.8, 474.2 187.4 Q 474.2 186.0, 473.6 185.3 Q 473.1 184.6, 472.1 184.6 Q 471.4 184.6, 470.8 185.0 Q 470.3 185.4, 470.1 186.1 L 470.1 190.1 Q 470.8 190.3, 471.7 190.3 \" fill=\"#000000\"/>\n<path class=\"legend\" d=\"M 476.9 187.5 Q 476.9 185.6, 477.8 184.6 Q 478.8 183.5, 480.5 183.5 Q 482.2 183.5, 482.9 184.5 Q 483.7 185.5, 483.7 187.4 L 483.7 187.7 L 478.3 187.7 Q 478.3 189.0, 478.9 189.7 Q 479.5 190.3, 480.6 190.3 Q 481.2 190.3, 481.7 190.2 Q 482.3 190.1, 483.0 189.8 L 483.4 190.7 Q 482.6 191.1, 481.9 191.3 Q 481.2 191.4, 480.5 191.4 Q 478.8 191.4, 477.8 190.4 Q 476.9 189.4, 476.9 187.5 M 480.5 184.6 Q 479.6 184.6, 479.1 185.1 Q 478.5 185.6, 478.4 186.6 L 482.2 186.6 Q 482.1 185.6, 481.7 185.1 Q 481.3 184.6, 480.5 184.6 \" fill=\"#000000\"/>\n<path class=\"legend\" d=\"M 488.8 183.5 Q 490.1 183.5, 490.7 184.2 Q 491.4 184.9, 491.4 186.3 L 491.4 191.3 L 490.0 191.3 L 490.0 186.4 Q 490.0 185.4, 489.6 185.0 Q 489.3 184.6, 488.5 184.6 Q 487.8 184.6, 487.2 185.0 Q 486.6 185.3, 486.2 185.8 L 486.2 191.3 L 484.8 191.3 L 484.8 183.7 L 486.0 183.7 L 486.2 184.7 Q 487.2 183.5, 488.8 183.5 \" fill=\"#000000\"/>\n<path class=\"legend\" d=\"M 493.1 184.7 L 493.1 183.7 L 494.6 183.7 L 494.8 181.4 L 495.9 181.4 L 495.9 183.7 L 498.2 183.7 L 498.2 184.7 L 495.9 184.7 L 495.9 189.0 Q 495.9 190.3, 497.0 190.3 Q 497.4 190.3, 498.1 190.1 L 498.3 191.1 Q 497.5 191.4, 496.7 191.4 Q 495.7 191.4, 495.1 190.8 Q 494.5 190.2, 494.5 189.0 L 494.5 184.7 L 493.1 184.7 \" fill=\"#000000\"/>\n<path class=\"legend\" d=\"M 505.2 183.7 L 506.6 183.7 L 502.6 195.0 L 501.3 195.0 L 502.6 191.3 L 502.0 191.3 L 499.3 183.7 L 500.7 183.7 L 503.0 190.1 L 505.2 183.7 \" fill=\"#000000\"/>\n<path class=\"legend\" d=\"M 511.3 183.5 Q 512.5 183.5, 513.2 184.2 Q 513.8 184.9, 513.8 186.3 L 513.8 191.3 L 512.4 191.3 L 512.4 186.4 Q 512.4 185.4, 512.1 185.0 Q 511.7 184.6, 510.9 184.6 Q 510.2 184.6, 509.7 185.0 Q 509.1 185.3, 508.7 185.8 L 508.7 191.3 L 507.3 191.3 L 507.3 183.7 L 508.5 183.7 L 508.6 184.7 Q 509.7 183.5, 511.3 183.5 \" fill=\"#000000\"/>\n<path class=\"legend\" d=\"M 515.6 186.0 L 521.1 186.0 L 521.1 187.2 L 515.6 187.2 L 515.6 186.0 \" fill=\"#000000\"/>\n<path class=\"legend\" d=\"M 523.0 190.1 L 525.3 190.1 L 525.3 182.2 L 522.7 183.0 L 522.4 182.1 L 525.6 180.7 L 526.7 180.9 L 526.7 190.1 L 528.8 190.1 L 528.8 191.3 L 523.0 191.3 L 523.0 190.1 \" fill=\"#000000\"/>\n<path class=\"legend\" d=\"M 530.0 186.0 L 535.5 186.0 L 535.5 187.2 L 530.0 187.2 L 530.0 186.0 \" fill=\"#000000\"/>\n<path class=\"legend\" d=\"M 536.8 187.5 Q 536.8 185.6, 537.8 184.6 Q 538.7 183.5, 540.5 183.5 Q 542.2 183.5, 543.2 184.6 Q 544.1 185.6, 544.1 187.5 Q 544.1 189.3, 543.2 190.4 Q 542.2 191.4, 540.5 191.4 Q 538.7 191.4, 537.8 190.4 Q 536.8 189.3, 536.8 187.5 M 538.3 187.5 Q 538.3 188.9, 538.8 189.6 Q 539.4 190.3, 540.5 190.3 Q 541.5 190.3, 542.1 189.6 Q 542.7 188.9, 542.7 187.5 Q 542.7 186.1, 542.1 185.4 Q 541.5 184.6, 540.5 184.6 Q 539.4 184.6, 538.8 185.4 Q 538.3 186.1, 538.3 187.5 \" fill=\"#000000\"/>\n<path class=\"legend\" d=\"M 545.4 180.0 L 546.8 180.0 L 546.8 191.3 L 545.4 191.3 L 545.4 180.0 \" fill=\"#000000\"/>\n</svg>"
          },
          "metadata": {},
          "execution_count": 30
        }
      ]
    },
    {
      "cell_type": "markdown",
      "id": "b4d62fbb",
      "metadata": {
        "id": "b4d62fbb"
      },
      "source": [
        "### Rings\n",
        "In SMILES, rings are indicated by specifying a \"closure digit\" indicating atoms that are connected.  For instance, the SMILES for cyclohexane is C1CCCCC1."
      ]
    },
    {
      "cell_type": "code",
      "execution_count": null,
      "id": "1a6c7f2c",
      "metadata": {
        "id": "1a6c7f2c",
        "outputId": "8a1da0a2-08f5-48a7-f1a2-0ec5f5293986"
      },
      "outputs": [
        {
          "data": {
            "image/png": "[encoded data removed]",
            "image/svg+xml": [
              "<?xml version='1.0' encoding='iso-8859-1'?>\n",
              "<svg version='1.1' baseProfile='full'\n",
              "              xmlns='http://www.w3.org/2000/svg'\n",
              "                      xmlns:rdkit='http://www.rdkit.org/xml'\n",
              "                      xmlns:xlink='http://www.w3.org/1999/xlink'\n",
              "                  xml:space='preserve'\n",
              "width='300px' height='300px' viewBox='0 0 300 300'>\n",
              "<!-- END OF HEADER -->\n",
              "<rect style='opacity:1.0;fill:#FFFFFF;stroke:none' width='300' height='300' x='0' y='0'> </rect>\n",
              "<path class='bond-0 atom-0 atom-1' d='M 31.8545,218.1 L 31.9636,81.7364' style='fill:none;fill-rule:evenodd;stroke:#000000;stroke-width:2.0px;stroke-linecap:butt;stroke-linejoin:miter;stroke-opacity:1' />\n",
              "<path class='bond-5 atom-5 atom-0' d='M 149.891,286.364 L 31.8545,218.1' style='fill:none;fill-rule:evenodd;stroke:#000000;stroke-width:2.0px;stroke-linecap:butt;stroke-linejoin:miter;stroke-opacity:1' />\n",
              "<path class='bond-1 atom-1 atom-2' d='M 31.9636,81.7364 L 150.109,13.6364' style='fill:none;fill-rule:evenodd;stroke:#000000;stroke-width:2.0px;stroke-linecap:butt;stroke-linejoin:miter;stroke-opacity:1' />\n",
              "<path class='bond-2 atom-2 atom-3' d='M 150.109,13.6364 L 268.145,81.9' style='fill:none;fill-rule:evenodd;stroke:#000000;stroke-width:2.0px;stroke-linecap:butt;stroke-linejoin:miter;stroke-opacity:1' />\n",
              "<path class='bond-3 atom-3 atom-4' d='M 268.145,81.9 L 268.036,218.264' style='fill:none;fill-rule:evenodd;stroke:#000000;stroke-width:2.0px;stroke-linecap:butt;stroke-linejoin:miter;stroke-opacity:1' />\n",
              "<path class='bond-4 atom-4 atom-5' d='M 268.036,218.264 L 149.891,286.364' style='fill:none;fill-rule:evenodd;stroke:#000000;stroke-width:2.0px;stroke-linecap:butt;stroke-linejoin:miter;stroke-opacity:1' />\n",
              "</svg>\n"
            ],
            "text/plain": [
              "<rdkit.Chem.rdchem.Mol at 0x124dcd040>"
            ]
          },
          "execution_count": 20,
          "metadata": {},
          "output_type": "execute_result"
        }
      ],
      "source": [
        "Chem.MolFromSmiles(\"C1CCCCC1\")"
      ]
    },
    {
      "cell_type": "markdown",
      "id": "c63609a6",
      "metadata": {
        "id": "c63609a6"
      },
      "source": [
        "Double bonds and heteroatoms can be put into rings in the same way they were in acyclic structures."
      ]
    },
    {
      "cell_type": "code",
      "execution_count": null,
      "id": "53ae4880",
      "metadata": {
        "id": "53ae4880",
        "outputId": "92b74a8b-ce2f-475f-ca29-859b1a5e2f37"
      },
      "outputs": [
        {
          "data": {
            "image/png": "[encoded data removed]",
            "image/svg+xml": [
              "<?xml version='1.0' encoding='iso-8859-1'?>\n",
              "<svg version='1.1' baseProfile='full'\n",
              "              xmlns='http://www.w3.org/2000/svg'\n",
              "                      xmlns:rdkit='http://www.rdkit.org/xml'\n",
              "                      xmlns:xlink='http://www.w3.org/1999/xlink'\n",
              "                  xml:space='preserve'\n",
              "width='300px' height='300px' viewBox='0 0 300 300'>\n",
              "<!-- END OF HEADER -->\n",
              "<rect style='opacity:1.0;fill:#FFFFFF;stroke:none' width='300' height='300' x='0' y='0'> </rect>\n",
              "<path class='bond-0 atom-0 atom-1' d='M 139.062,15.6544 L 13.6364,129.785' style='fill:none;fill-rule:evenodd;stroke:#000000;stroke-width:2.0px;stroke-linecap:butt;stroke-linejoin:miter;stroke-opacity:1' />\n",
              "<path class='bond-0 atom-0 atom-1' d='M 140.792,55.3514 L 52.9944,135.243' style='fill:none;fill-rule:evenodd;stroke:#000000;stroke-width:2.0px;stroke-linecap:butt;stroke-linejoin:miter;stroke-opacity:1' />\n",
              "<path class='bond-4 atom-4 atom-0' d='M 286.364,99.667 L 139.062,15.6544' style='fill:none;fill-rule:evenodd;stroke:#000000;stroke-width:2.0px;stroke-linecap:butt;stroke-linejoin:miter;stroke-opacity:1' />\n",
              "<path class='bond-1 atom-1 atom-2' d='M 13.6364,129.785 L 83.4377,284.346' style='fill:none;fill-rule:evenodd;stroke:#000000;stroke-width:2.0px;stroke-linecap:butt;stroke-linejoin:miter;stroke-opacity:1' />\n",
              "<path class='bond-2 atom-2 atom-3' d='M 83.4377,284.346 L 159.102,275.988' style='fill:none;fill-rule:evenodd;stroke:#000000;stroke-width:2.0px;stroke-linecap:butt;stroke-linejoin:miter;stroke-opacity:1' />\n",
              "<path class='bond-2 atom-2 atom-3' d='M 159.102,275.988 L 234.766,267.629' style='fill:none;fill-rule:evenodd;stroke:#FF0000;stroke-width:2.0px;stroke-linecap:butt;stroke-linejoin:miter;stroke-opacity:1' />\n",
              "<path class='bond-3 atom-3 atom-4' d='M 255.846,247.166 L 271.105,173.416' style='fill:none;fill-rule:evenodd;stroke:#FF0000;stroke-width:2.0px;stroke-linecap:butt;stroke-linejoin:miter;stroke-opacity:1' />\n",
              "<path class='bond-3 atom-3 atom-4' d='M 271.105,173.416 L 286.364,99.667' style='fill:none;fill-rule:evenodd;stroke:#000000;stroke-width:2.0px;stroke-linecap:butt;stroke-linejoin:miter;stroke-opacity:1' />\n",
              "<path  class='atom-3' d='M 239.006 265.805\n",
              "Q 239.006 259.005, 242.366 255.205\n",
              "Q 245.726 251.405, 252.006 251.405\n",
              "Q 258.286 251.405, 261.646 255.205\n",
              "Q 265.006 259.005, 265.006 265.805\n",
              "Q 265.006 272.685, 261.606 276.605\n",
              "Q 258.206 280.485, 252.006 280.485\n",
              "Q 245.766 280.485, 242.366 276.605\n",
              "Q 239.006 272.725, 239.006 265.805\n",
              "M 252.006 277.285\n",
              "Q 256.326 277.285, 258.646 274.405\n",
              "Q 261.006 271.485, 261.006 265.805\n",
              "Q 261.006 260.245, 258.646 257.445\n",
              "Q 256.326 254.605, 252.006 254.605\n",
              "Q 247.686 254.605, 245.326 257.405\n",
              "Q 243.006 260.205, 243.006 265.805\n",
              "Q 243.006 271.525, 245.326 274.405\n",
              "Q 247.686 277.285, 252.006 277.285\n",
              "' fill='#FF0000'/>\n",
              "</svg>\n"
            ],
            "text/plain": [
              "<rdkit.Chem.rdchem.Mol at 0x124e16e80>"
            ]
          },
          "execution_count": 21,
          "metadata": {},
          "output_type": "execute_result"
        }
      ],
      "source": [
        "mol = Chem.MolFromSmiles(\"C1=CCOC1\")\n",
        "mol"
      ]
    },
    {
      "cell_type": "code",
      "execution_count": 33,
      "id": "02a509c4",
      "metadata": {
        "id": "02a509c4"
      },
      "outputs": [],
      "source": [
        "# define a text buffer for our examples\n",
        "examples = \"\"\"C1CC1 cyclohexane\n",
        "C1CCC1 cyclobutane\n",
        "C1CCC=C1 cyclopentene\"\"\"\n",
        "# note that we use the second argumen to split to only return two tokens\n",
        "ring_smiles_list = [x.split(\" \",1) for x in examples.split(\"\\n\")]"
      ]
    },
    {
      "cell_type": "code",
      "execution_count": 34,
      "id": "91f3ff76",
      "metadata": {
        "id": "91f3ff76",
        "outputId": "7d5fbf52-202c-4f12-a84f-77088472f1b7",
        "colab": {
          "base_uri": "https://localhost:8080/",
          "height": 221
        }
      },
      "outputs": [
        {
          "output_type": "execute_result",
          "data": {
            "text/plain": [
              "<IPython.core.display.SVG object>"
            ],
            "image/svg+xml": "<svg xmlns=\"http://www.w3.org/2000/svg\" xmlns:rdkit=\"http://www.rdkit.org/xml\" xmlns:xlink=\"http://www.w3.org/1999/xlink\" version=\"1.1\" baseProfile=\"full\" xml:space=\"preserve\" width=\"800px\" height=\"200px\" viewBox=\"0 0 800 200\">\n<!-- END OF HEADER -->\n<rect style=\"opacity:1.0;fill:#FFFFFF;stroke:none\" width=\"800.0\" height=\"200.0\" x=\"0.0\" y=\"0.0\"> </rect>\n<path class=\"bond-0 atom-0 atom-1\" d=\"M 55.2,90.3 L 144.8,141.6\" style=\"fill:none;fill-rule:evenodd;stroke:#000000;stroke-width:2.0px;stroke-linecap:butt;stroke-linejoin:miter;stroke-opacity:1\"/>\n<path class=\"bond-1 atom-1 atom-2\" d=\"M 144.8,141.6 L 144.4,38.4\" style=\"fill:none;fill-rule:evenodd;stroke:#000000;stroke-width:2.0px;stroke-linecap:butt;stroke-linejoin:miter;stroke-opacity:1\"/>\n<path class=\"bond-2 atom-2 atom-0\" d=\"M 144.4,38.4 L 55.2,90.3\" style=\"fill:none;fill-rule:evenodd;stroke:#000000;stroke-width:2.0px;stroke-linecap:butt;stroke-linejoin:miter;stroke-opacity:1\"/>\n<path d=\"M 59.7,92.9 L 55.2,90.3 L 59.6,87.7\" style=\"fill:none;stroke:#000000;stroke-width:2.0px;stroke-linecap:butt;stroke-linejoin:miter;stroke-opacity:1;\"/>\n<path d=\"M 140.3,139.1 L 144.8,141.6 L 144.8,136.5\" style=\"fill:none;stroke:#000000;stroke-width:2.0px;stroke-linecap:butt;stroke-linejoin:miter;stroke-opacity:1;\"/>\n<path d=\"M 144.5,43.5 L 144.4,38.4 L 140.0,41.0\" style=\"fill:none;stroke:#000000;stroke-width:2.0px;stroke-linecap:butt;stroke-linejoin:miter;stroke-opacity:1;\"/>\n<path class=\"legend\" d=\"M 59.0 187.5 Q 59.0 185.6, 59.9 184.6 Q 60.9 183.5, 62.7 183.5 Q 64.4 183.5, 65.3 184.8 L 64.4 185.5 Q 64.0 185.1, 63.6 184.9 Q 63.2 184.6, 62.7 184.6 Q 61.6 184.6, 61.0 185.4 Q 60.4 186.1, 60.4 187.5 Q 60.4 188.9, 61.0 189.6 Q 61.6 190.3, 62.8 190.3 Q 63.4 190.3, 63.8 190.2 Q 64.3 190.1, 64.8 189.8 L 65.2 190.8 Q 64.1 191.4, 62.7 191.4 Q 60.9 191.4, 59.9 190.4 Q 59.0 189.3, 59.0 187.5 \" fill=\"#000000\"/>\n<path class=\"legend\" d=\"M 72.2 183.7 L 73.6 183.7 L 69.6 195.0 L 68.4 195.0 L 69.6 191.3 L 69.0 191.3 L 66.3 183.7 L 67.8 183.7 L 70.0 190.1 L 72.2 183.7 \" fill=\"#000000\"/>\n<path class=\"legend\" d=\"M 74.4 187.5 Q 74.4 185.6, 75.3 184.6 Q 76.2 183.5, 78.0 183.5 Q 79.8 183.5, 80.7 184.8 L 79.7 185.5 Q 79.4 185.1, 79.0 184.9 Q 78.6 184.6, 78.0 184.6 Q 77.0 184.6, 76.4 185.4 Q 75.8 186.1, 75.8 187.5 Q 75.8 188.9, 76.4 189.6 Q 77.0 190.3, 78.1 190.3 Q 78.7 190.3, 79.2 190.2 Q 79.6 190.1, 80.1 189.8 L 80.5 190.8 Q 79.4 191.4, 78.0 191.4 Q 76.2 191.4, 75.3 190.4 Q 74.4 189.3, 74.4 187.5 \" fill=\"#000000\"/>\n<path class=\"legend\" d=\"M 81.7 180.0 L 83.0 180.0 L 83.0 191.3 L 81.7 191.3 L 81.7 180.0 \" fill=\"#000000\"/>\n<path class=\"legend\" d=\"M 84.9 187.5 Q 84.9 185.6, 85.9 184.6 Q 86.8 183.5, 88.6 183.5 Q 90.3 183.5, 91.3 184.6 Q 92.2 185.6, 92.2 187.5 Q 92.2 189.3, 91.3 190.4 Q 90.3 191.4, 88.6 191.4 Q 86.8 191.4, 85.9 190.4 Q 84.9 189.3, 84.9 187.5 M 86.4 187.5 Q 86.4 188.9, 86.9 189.6 Q 87.5 190.3, 88.6 190.3 Q 89.7 190.3, 90.2 189.6 Q 90.8 188.9, 90.8 187.5 Q 90.8 186.1, 90.2 185.4 Q 89.7 184.6, 88.6 184.6 Q 87.5 184.6, 86.9 185.4 Q 86.4 186.1, 86.4 187.5 \" fill=\"#000000\"/>\n<path class=\"legend\" d=\"M 97.5 183.5 Q 98.8 183.5, 99.4 184.2 Q 100.1 184.9, 100.1 186.3 L 100.1 191.3 L 98.7 191.3 L 98.7 186.4 Q 98.7 185.4, 98.3 185.0 Q 98.0 184.6, 97.2 184.6 Q 96.5 184.6, 95.9 185.0 Q 95.3 185.3, 94.9 185.8 L 94.9 191.3 L 93.5 191.3 L 93.5 180.0 L 94.9 180.0 L 94.9 184.6 Q 96.0 183.5, 97.5 183.5 \" fill=\"#000000\"/>\n<path class=\"legend\" d=\"M 101.8 187.5 Q 101.8 185.6, 102.8 184.6 Q 103.7 183.5, 105.4 183.5 Q 107.1 183.5, 107.9 184.5 Q 108.6 185.5, 108.6 187.4 L 108.6 187.7 L 103.3 187.7 Q 103.3 189.0, 103.9 189.7 Q 104.5 190.3, 105.6 190.3 Q 106.2 190.3, 106.7 190.2 Q 107.3 190.1, 107.9 189.8 L 108.3 190.7 Q 107.6 191.1, 106.9 191.3 Q 106.2 191.4, 105.5 191.4 Q 103.8 191.4, 102.8 190.4 Q 101.8 189.4, 101.8 187.5 M 105.4 184.6 Q 104.6 184.6, 104.0 185.1 Q 103.5 185.6, 103.3 186.6 L 107.2 186.6 Q 107.1 185.6, 106.6 185.1 Q 106.2 184.6, 105.4 184.6 \" fill=\"#000000\"/>\n<path class=\"legend\" d=\"M 112.6 187.4 L 110.0 183.7 L 111.6 183.7 L 113.5 186.3 L 115.3 183.7 L 116.8 183.7 L 114.2 187.3 L 117.1 191.3 L 115.4 191.3 L 113.4 188.4 L 111.3 191.3 L 109.8 191.3 L 112.6 187.4 \" fill=\"#000000\"/>\n<path class=\"legend\" d=\"M 117.8 189.3 Q 117.8 188.0, 118.8 187.4 Q 119.8 186.7, 121.6 186.7 L 122.7 186.7 L 122.7 186.4 Q 122.7 185.4, 122.3 185.0 Q 121.9 184.6, 121.0 184.6 Q 120.4 184.6, 119.9 184.7 Q 119.4 184.9, 118.7 185.2 L 118.3 184.2 Q 119.7 183.5, 121.0 183.5 Q 122.6 183.5, 123.4 184.2 Q 124.1 184.9, 124.1 186.4 L 124.1 191.3 L 123.0 191.3 Q 123.0 191.3, 123.0 191.0 Q 122.9 190.8, 122.9 190.4 Q 121.8 191.5, 120.3 191.5 Q 119.2 191.5, 118.5 190.9 Q 117.8 190.3, 117.8 189.3 M 119.2 189.2 Q 119.2 189.8, 119.6 190.1 Q 119.9 190.4, 120.6 190.4 Q 121.2 190.4, 121.8 190.1 Q 122.3 189.9, 122.7 189.4 L 122.7 187.7 L 121.7 187.7 Q 120.5 187.7, 119.8 188.1 Q 119.2 188.5, 119.2 189.2 \" fill=\"#000000\"/>\n<path class=\"legend\" d=\"M 129.9 183.5 Q 131.1 183.5, 131.8 184.2 Q 132.4 184.9, 132.4 186.3 L 132.4 191.3 L 131.0 191.3 L 131.0 186.4 Q 131.0 185.4, 130.7 185.0 Q 130.3 184.6, 129.6 184.6 Q 128.9 184.6, 128.3 185.0 Q 127.7 185.3, 127.3 185.8 L 127.3 191.3 L 125.9 191.3 L 125.9 183.7 L 127.1 183.7 L 127.2 184.7 Q 128.3 183.5, 129.9 183.5 \" fill=\"#000000\"/>\n<path class=\"legend\" d=\"M 134.2 187.5 Q 134.2 185.6, 135.1 184.6 Q 136.1 183.5, 137.8 183.5 Q 139.5 183.5, 140.2 184.5 Q 141.0 185.5, 141.0 187.4 L 141.0 187.7 L 135.6 187.7 Q 135.7 189.0, 136.3 189.7 Q 136.8 190.3, 137.9 190.3 Q 138.5 190.3, 139.1 190.2 Q 139.6 190.1, 140.3 189.8 L 140.7 190.7 Q 139.9 191.1, 139.3 191.3 Q 138.6 191.4, 137.8 191.4 Q 136.1 191.4, 135.2 190.4 Q 134.2 189.4, 134.2 187.5 M 137.8 184.6 Q 136.9 184.6, 136.4 185.1 Q 135.9 185.6, 135.7 186.6 L 139.5 186.6 Q 139.4 185.6, 139.0 185.1 Q 138.6 184.6, 137.8 184.6 \" fill=\"#000000\"/>\n<path class=\"bond-0 atom-0 atom-1\" d=\"M 229.5,109.1 L 280.9,19.5\" style=\"fill:none;fill-rule:evenodd;stroke:#000000;stroke-width:2.0px;stroke-linecap:butt;stroke-linejoin:miter;stroke-opacity:1\"/>\n<path class=\"bond-1 atom-1 atom-2\" d=\"M 280.9,19.5 L 370.5,70.9\" style=\"fill:none;fill-rule:evenodd;stroke:#000000;stroke-width:2.0px;stroke-linecap:butt;stroke-linejoin:miter;stroke-opacity:1\"/>\n<path class=\"bond-2 atom-2 atom-3\" d=\"M 370.5,70.9 L 319.1,160.5\" style=\"fill:none;fill-rule:evenodd;stroke:#000000;stroke-width:2.0px;stroke-linecap:butt;stroke-linejoin:miter;stroke-opacity:1\"/>\n<path class=\"bond-3 atom-3 atom-0\" d=\"M 319.1,160.5 L 229.5,109.1\" style=\"fill:none;fill-rule:evenodd;stroke:#000000;stroke-width:2.0px;stroke-linecap:butt;stroke-linejoin:miter;stroke-opacity:1\"/>\n<path d=\"M 232.1,104.6 L 229.5,109.1 L 234.0,111.7\" style=\"fill:none;stroke:#000000;stroke-width:2.0px;stroke-linecap:butt;stroke-linejoin:miter;stroke-opacity:1;\"/>\n<path d=\"M 278.3,24.0 L 280.9,19.5 L 285.4,22.1\" style=\"fill:none;stroke:#000000;stroke-width:2.0px;stroke-linecap:butt;stroke-linejoin:miter;stroke-opacity:1;\"/>\n<path d=\"M 366.0,68.3 L 370.5,70.9 L 367.9,75.4\" style=\"fill:none;stroke:#000000;stroke-width:2.0px;stroke-linecap:butt;stroke-linejoin:miter;stroke-opacity:1;\"/>\n<path d=\"M 321.7,156.0 L 319.1,160.5 L 314.6,157.9\" style=\"fill:none;stroke:#000000;stroke-width:2.0px;stroke-linecap:butt;stroke-linejoin:miter;stroke-opacity:1;\"/>\n<path class=\"legend\" d=\"M 259.8 187.5 Q 259.8 185.6, 260.7 184.6 Q 261.7 183.5, 263.5 183.5 Q 265.2 183.5, 266.1 184.8 L 265.2 185.5 Q 264.8 185.1, 264.4 184.9 Q 264.0 184.6, 263.5 184.6 Q 262.4 184.6, 261.8 185.4 Q 261.2 186.1, 261.2 187.5 Q 261.2 188.9, 261.8 189.6 Q 262.4 190.3, 263.6 190.3 Q 264.2 190.3, 264.6 190.2 Q 265.1 190.1, 265.6 189.8 L 266.0 190.8 Q 264.9 191.4, 263.5 191.4 Q 261.7 191.4, 260.7 190.4 Q 259.8 189.3, 259.8 187.5 \" fill=\"#000000\"/>\n<path class=\"legend\" d=\"M 273.0 183.7 L 274.4 183.7 L 270.4 195.0 L 269.1 195.0 L 270.4 191.3 L 269.8 191.3 L 267.1 183.7 L 268.5 183.7 L 270.8 190.1 L 273.0 183.7 \" fill=\"#000000\"/>\n<path class=\"legend\" d=\"M 275.1 187.5 Q 275.1 185.6, 276.0 184.6 Q 277.0 183.5, 278.8 183.5 Q 280.5 183.5, 281.5 184.8 L 280.5 185.5 Q 280.2 185.1, 279.7 184.9 Q 279.3 184.6, 278.8 184.6 Q 277.7 184.6, 277.1 185.4 Q 276.6 186.1, 276.6 187.5 Q 276.6 188.9, 277.2 189.6 Q 277.8 190.3, 278.9 190.3 Q 279.5 190.3, 279.9 190.2 Q 280.4 190.1, 280.9 189.8 L 281.3 190.8 Q 280.2 191.4, 278.8 191.4 Q 277.0 191.4, 276.0 190.4 Q 275.1 189.3, 275.1 187.5 \" fill=\"#000000\"/>\n<path class=\"legend\" d=\"M 282.4 180.0 L 283.8 180.0 L 283.8 191.3 L 282.4 191.3 L 282.4 180.0 \" fill=\"#000000\"/>\n<path class=\"legend\" d=\"M 285.7 187.5 Q 285.7 185.6, 286.6 184.6 Q 287.6 183.5, 289.3 183.5 Q 291.1 183.5, 292.0 184.6 Q 293.0 185.6, 293.0 187.5 Q 293.0 189.3, 292.0 190.4 Q 291.1 191.4, 289.3 191.4 Q 287.6 191.4, 286.6 190.4 Q 285.7 189.3, 285.7 187.5 M 287.1 187.5 Q 287.1 188.9, 287.7 189.6 Q 288.3 190.3, 289.3 190.3 Q 290.4 190.3, 291.0 189.6 Q 291.5 188.9, 291.5 187.5 Q 291.5 186.1, 291.0 185.4 Q 290.4 184.6, 289.3 184.6 Q 288.3 184.6, 287.7 185.4 Q 287.1 186.1, 287.1 187.5 \" fill=\"#000000\"/>\n<path class=\"legend\" d=\"M 297.8 183.5 Q 299.4 183.5, 300.3 184.5 Q 301.2 185.5, 301.2 187.4 Q 301.2 189.3, 300.2 190.4 Q 299.1 191.4, 297.3 191.4 Q 296.1 191.4, 294.9 191.0 L 294.3 190.8 L 294.3 180.0 L 295.7 180.0 L 295.7 184.5 Q 296.5 183.5, 297.8 183.5 M 297.3 190.3 Q 298.4 190.3, 299.1 189.6 Q 299.8 188.8, 299.8 187.4 Q 299.8 186.0, 299.2 185.3 Q 298.7 184.6, 297.8 184.6 Q 297.0 184.6, 296.4 185.0 Q 295.9 185.5, 295.7 186.2 L 295.7 190.1 Q 296.4 190.3, 297.3 190.3 \" fill=\"#000000\"/>\n<path class=\"legend\" d=\"M 309.0 183.7 L 309.0 191.3 L 307.9 191.3 L 307.7 190.3 Q 306.7 191.5, 305.1 191.5 Q 303.8 191.5, 303.2 190.8 Q 302.5 190.1, 302.5 188.7 L 302.5 183.7 L 303.9 183.7 L 303.9 188.6 Q 303.9 189.5, 304.3 190.0 Q 304.6 190.4, 305.4 190.4 Q 306.1 190.4, 306.7 190.0 Q 307.3 189.7, 307.6 189.1 L 307.6 183.7 L 309.0 183.7 \" fill=\"#000000\"/>\n<path class=\"legend\" d=\"M 310.9 184.7 L 310.9 183.7 L 312.3 183.7 L 312.6 181.4 L 313.6 181.4 L 313.6 183.7 L 316.0 183.7 L 316.0 184.7 L 313.6 184.7 L 313.6 189.0 Q 313.6 190.3, 314.7 190.3 Q 315.2 190.3, 315.8 190.1 L 316.1 191.1 Q 315.3 191.4, 314.5 191.4 Q 313.5 191.4, 312.8 190.8 Q 312.2 190.2, 312.2 189.0 L 312.2 184.7 L 310.9 184.7 \" fill=\"#000000\"/>\n<path class=\"legend\" d=\"M 317.1 189.3 Q 317.1 188.0, 318.0 187.4 Q 319.0 186.7, 320.8 186.7 L 322.0 186.7 L 322.0 186.4 Q 322.0 185.4, 321.6 185.0 Q 321.2 184.6, 320.2 184.6 Q 319.6 184.6, 319.1 184.7 Q 318.7 184.9, 317.9 185.2 L 317.5 184.2 Q 318.9 183.5, 320.2 183.5 Q 321.9 183.5, 322.6 184.2 Q 323.4 184.9, 323.4 186.4 L 323.4 191.3 L 322.3 191.3 Q 322.3 191.3, 322.2 191.0 Q 322.2 190.8, 322.1 190.4 Q 321.0 191.5, 319.6 191.5 Q 318.4 191.5, 317.7 190.9 Q 317.1 190.3, 317.1 189.3 M 318.5 189.2 Q 318.5 189.8, 318.8 190.1 Q 319.2 190.4, 319.8 190.4 Q 320.4 190.4, 321.0 190.1 Q 321.6 189.9, 322.0 189.4 L 322.0 187.7 L 320.9 187.7 Q 319.7 187.7, 319.1 188.1 Q 318.5 188.5, 318.5 189.2 \" fill=\"#000000\"/>\n<path class=\"legend\" d=\"M 329.1 183.5 Q 330.4 183.5, 331.0 184.2 Q 331.6 184.9, 331.6 186.3 L 331.6 191.3 L 330.2 191.3 L 330.2 186.4 Q 330.2 185.4, 329.9 185.0 Q 329.5 184.6, 328.8 184.6 Q 328.1 184.6, 327.5 185.0 Q 326.9 185.3, 326.5 185.8 L 326.5 191.3 L 325.1 191.3 L 325.1 183.7 L 326.3 183.7 L 326.4 184.7 Q 327.5 183.5, 329.1 183.5 \" fill=\"#000000\"/>\n<path class=\"legend\" d=\"M 333.4 187.5 Q 333.4 185.6, 334.3 184.6 Q 335.3 183.5, 337.0 183.5 Q 338.7 183.5, 339.4 184.5 Q 340.2 185.5, 340.2 187.4 L 340.2 187.7 L 334.8 187.7 Q 334.9 189.0, 335.5 189.7 Q 336.0 190.3, 337.1 190.3 Q 337.7 190.3, 338.3 190.2 Q 338.8 190.1, 339.5 189.8 L 339.9 190.7 Q 339.1 191.1, 338.5 191.3 Q 337.8 191.4, 337.0 191.4 Q 335.3 191.4, 334.4 190.4 Q 333.4 189.4, 333.4 187.5 M 337.0 184.6 Q 336.1 184.6, 335.6 185.1 Q 335.1 185.6, 334.9 186.6 L 338.7 186.6 Q 338.6 185.6, 338.2 185.1 Q 337.8 184.6, 337.0 184.6 \" fill=\"#000000\"/>\n<path class=\"bond-0 atom-0 atom-1\" d=\"M 562.1,160.5 L 459.5,171.8\" style=\"fill:none;fill-rule:evenodd;stroke:#000000;stroke-width:2.0px;stroke-linecap:butt;stroke-linejoin:miter;stroke-opacity:1\"/>\n<path class=\"bond-1 atom-1 atom-2\" d=\"M 459.5,171.8 L 417.0,77.7\" style=\"fill:none;fill-rule:evenodd;stroke:#000000;stroke-width:2.0px;stroke-linecap:butt;stroke-linejoin:miter;stroke-opacity:1\"/>\n<path class=\"bond-2 atom-2 atom-3\" d=\"M 417.0,77.7 L 493.3,8.2\" style=\"fill:none;fill-rule:evenodd;stroke:#000000;stroke-width:2.0px;stroke-linecap:butt;stroke-linejoin:miter;stroke-opacity:1\"/>\n<path class=\"bond-3 atom-3 atom-4\" d=\"M 493.3,8.2 L 583.0,59.3\" style=\"fill:none;fill-rule:evenodd;stroke:#000000;stroke-width:2.0px;stroke-linecap:butt;stroke-linejoin:miter;stroke-opacity:1\"/>\n<path class=\"bond-3 atom-3 atom-4\" d=\"M 495.4,27.2 L 565.6,67.2\" style=\"fill:none;fill-rule:evenodd;stroke:#000000;stroke-width:2.0px;stroke-linecap:butt;stroke-linejoin:miter;stroke-opacity:1\"/>\n<path class=\"bond-4 atom-4 atom-0\" d=\"M 583.0,59.3 L 562.1,160.5\" style=\"fill:none;fill-rule:evenodd;stroke:#000000;stroke-width:2.0px;stroke-linecap:butt;stroke-linejoin:miter;stroke-opacity:1\"/>\n<path d=\"M 557.0,161.0 L 562.1,160.5 L 563.2,155.4\" style=\"fill:none;stroke:#000000;stroke-width:2.0px;stroke-linecap:butt;stroke-linejoin:miter;stroke-opacity:1;\"/>\n<path d=\"M 464.6,171.3 L 459.5,171.8 L 457.3,167.1\" style=\"fill:none;stroke:#000000;stroke-width:2.0px;stroke-linecap:butt;stroke-linejoin:miter;stroke-opacity:1;\"/>\n<path d=\"M 419.1,82.4 L 417.0,77.7 L 420.8,74.2\" style=\"fill:none;stroke:#000000;stroke-width:2.0px;stroke-linecap:butt;stroke-linejoin:miter;stroke-opacity:1;\"/>\n<path d=\"M 489.5,11.7 L 493.3,8.2 L 497.8,10.7\" style=\"fill:none;stroke:#000000;stroke-width:2.0px;stroke-linecap:butt;stroke-linejoin:miter;stroke-opacity:1;\"/>\n<path d=\"M 578.6,56.8 L 583.0,59.3 L 582.0,64.4\" style=\"fill:none;stroke:#000000;stroke-width:2.0px;stroke-linecap:butt;stroke-linejoin:miter;stroke-opacity:1;\"/>\n<path class=\"legend\" d=\"M 455.9 187.5 Q 455.9 185.6, 456.8 184.6 Q 457.7 183.5, 459.5 183.5 Q 461.3 183.5, 462.2 184.8 L 461.3 185.5 Q 460.9 185.1, 460.5 184.9 Q 460.1 184.6, 459.5 184.6 Q 458.5 184.6, 457.9 185.4 Q 457.3 186.1, 457.3 187.5 Q 457.3 188.9, 457.9 189.6 Q 458.5 190.3, 459.6 190.3 Q 460.3 190.3, 460.7 190.2 Q 461.1 190.1, 461.7 189.8 L 462.0 190.8 Q 460.9 191.4, 459.5 191.4 Q 457.7 191.4, 456.8 190.4 Q 455.9 189.3, 455.9 187.5 \" fill=\"#000000\"/>\n<path class=\"legend\" d=\"M 469.1 183.7 L 470.4 183.7 L 466.5 195.0 L 465.2 195.0 L 466.5 191.3 L 465.9 191.3 L 463.2 183.7 L 464.6 183.7 L 466.9 190.1 L 469.1 183.7 \" fill=\"#000000\"/>\n<path class=\"legend\" d=\"M 471.2 187.5 Q 471.2 185.6, 472.1 184.6 Q 473.1 183.5, 474.9 183.5 Q 476.6 183.5, 477.5 184.8 L 476.6 185.5 Q 476.2 185.1, 475.8 184.9 Q 475.4 184.6, 474.9 184.6 Q 473.8 184.6, 473.2 185.4 Q 472.6 186.1, 472.6 187.5 Q 472.6 188.9, 473.2 189.6 Q 473.9 190.3, 475.0 190.3 Q 475.6 190.3, 476.0 190.2 Q 476.5 190.1, 477.0 189.8 L 477.4 190.8 Q 476.3 191.4, 474.9 191.4 Q 473.1 191.4, 472.1 190.4 Q 471.2 189.3, 471.2 187.5 \" fill=\"#000000\"/>\n<path class=\"legend\" d=\"M 478.5 180.0 L 479.9 180.0 L 479.9 191.3 L 478.5 191.3 L 478.5 180.0 \" fill=\"#000000\"/>\n<path class=\"legend\" d=\"M 481.8 187.5 Q 481.8 185.6, 482.7 184.6 Q 483.7 183.5, 485.4 183.5 Q 487.2 183.5, 488.1 184.6 Q 489.1 185.6, 489.1 187.5 Q 489.1 189.3, 488.1 190.4 Q 487.2 191.4, 485.4 191.4 Q 483.7 191.4, 482.7 190.4 Q 481.8 189.3, 481.8 187.5 M 483.2 187.5 Q 483.2 188.9, 483.8 189.6 Q 484.4 190.3, 485.4 190.3 Q 486.5 190.3, 487.1 189.6 Q 487.6 188.9, 487.6 187.5 Q 487.6 186.1, 487.1 185.4 Q 486.5 184.6, 485.4 184.6 Q 484.4 184.6, 483.8 185.4 Q 483.2 186.1, 483.2 187.5 \" fill=\"#000000\"/>\n<path class=\"legend\" d=\"M 493.9 183.5 Q 495.5 183.5, 496.4 184.5 Q 497.3 185.5, 497.3 187.4 Q 497.3 189.3, 496.3 190.4 Q 495.2 191.4, 493.4 191.4 Q 492.5 191.4, 491.8 191.2 L 491.8 195.0 L 490.4 195.0 L 490.4 183.7 L 491.5 183.7 L 491.7 184.6 Q 492.1 184.1, 492.7 183.8 Q 493.2 183.5, 493.9 183.5 M 493.4 190.3 Q 494.5 190.3, 495.2 189.6 Q 495.9 188.8, 495.9 187.4 Q 495.9 186.0, 495.3 185.3 Q 494.8 184.6, 493.9 184.6 Q 493.1 184.6, 492.5 185.0 Q 492.0 185.4, 491.8 186.1 L 491.8 190.1 Q 492.5 190.3, 493.4 190.3 \" fill=\"#000000\"/>\n<path class=\"legend\" d=\"M 498.6 187.5 Q 498.6 185.6, 499.5 184.6 Q 500.5 183.5, 502.2 183.5 Q 503.9 183.5, 504.6 184.5 Q 505.4 185.5, 505.4 187.4 L 505.4 187.7 L 500.0 187.7 Q 500.1 189.0, 500.7 189.7 Q 501.2 190.3, 502.3 190.3 Q 502.9 190.3, 503.5 190.2 Q 504.0 190.1, 504.7 189.8 L 505.1 190.7 Q 504.3 191.1, 503.7 191.3 Q 503.0 191.4, 502.2 191.4 Q 500.5 191.4, 499.6 190.4 Q 498.6 189.4, 498.6 187.5 M 502.2 184.6 Q 501.3 184.6, 500.8 185.1 Q 500.3 185.6, 500.1 186.6 L 503.9 186.6 Q 503.8 185.6, 503.4 185.1 Q 503.0 184.6, 502.2 184.6 \" fill=\"#000000\"/>\n<path class=\"legend\" d=\"M 510.6 183.5 Q 511.8 183.5, 512.4 184.2 Q 513.1 184.9, 513.1 186.3 L 513.1 191.3 L 511.7 191.3 L 511.7 186.4 Q 511.7 185.4, 511.3 185.0 Q 511.0 184.6, 510.2 184.6 Q 509.5 184.6, 508.9 185.0 Q 508.4 185.3, 508.0 185.8 L 508.0 191.3 L 506.6 191.3 L 506.6 183.7 L 507.7 183.7 L 507.9 184.7 Q 508.9 183.5, 510.6 183.5 \" fill=\"#000000\"/>\n<path class=\"legend\" d=\"M 514.9 184.7 L 514.9 183.7 L 516.3 183.7 L 516.6 181.4 L 517.6 181.4 L 517.6 183.7 L 520.0 183.7 L 520.0 184.7 L 517.6 184.7 L 517.6 189.0 Q 517.6 190.3, 518.7 190.3 Q 519.2 190.3, 519.8 190.1 L 520.1 191.1 Q 519.3 191.4, 518.5 191.4 Q 517.5 191.4, 516.8 190.8 Q 516.2 190.2, 516.2 189.0 L 516.2 184.7 L 514.9 184.7 \" fill=\"#000000\"/>\n<path class=\"legend\" d=\"M 521.1 187.5 Q 521.1 185.6, 522.0 184.6 Q 523.0 183.5, 524.7 183.5 Q 526.4 183.5, 527.1 184.5 Q 527.9 185.5, 527.9 187.4 L 527.9 187.7 L 522.5 187.7 Q 522.5 189.0, 523.1 189.7 Q 523.7 190.3, 524.8 190.3 Q 525.4 190.3, 525.9 190.2 Q 526.5 190.1, 527.2 189.8 L 527.6 190.7 Q 526.8 191.1, 526.1 191.3 Q 525.4 191.4, 524.7 191.4 Q 523.0 191.4, 522.0 190.4 Q 521.1 189.4, 521.1 187.5 M 524.7 184.6 Q 523.8 184.6, 523.3 185.1 Q 522.7 185.6, 522.6 186.6 L 526.4 186.6 Q 526.3 185.6, 525.9 185.1 Q 525.4 184.6, 524.7 184.6 \" fill=\"#000000\"/>\n<path class=\"legend\" d=\"M 533.0 183.5 Q 534.3 183.5, 534.9 184.2 Q 535.6 184.9, 535.6 186.3 L 535.6 191.3 L 534.2 191.3 L 534.2 186.4 Q 534.2 185.4, 533.8 185.0 Q 533.5 184.6, 532.7 184.6 Q 532.0 184.6, 531.4 185.0 Q 530.8 185.3, 530.5 185.8 L 530.5 191.3 L 529.0 191.3 L 529.0 183.7 L 530.2 183.7 L 530.4 184.7 Q 531.4 183.5, 533.0 183.5 \" fill=\"#000000\"/>\n<path class=\"legend\" d=\"M 537.3 187.5 Q 537.3 185.6, 538.3 184.6 Q 539.2 183.5, 540.9 183.5 Q 542.6 183.5, 543.4 184.5 Q 544.1 185.5, 544.1 187.4 L 544.1 187.7 L 538.8 187.7 Q 538.8 189.0, 539.4 189.7 Q 540.0 190.3, 541.1 190.3 Q 541.7 190.3, 542.2 190.2 Q 542.8 190.1, 543.4 189.8 L 543.8 190.7 Q 543.1 191.1, 542.4 191.3 Q 541.7 191.4, 541.0 191.4 Q 539.2 191.4, 538.3 190.4 Q 537.3 189.4, 537.3 187.5 M 540.9 184.6 Q 540.1 184.6, 539.5 185.1 Q 539.0 185.6, 538.8 186.6 L 542.7 186.6 Q 542.5 185.6, 542.1 185.1 Q 541.7 184.6, 540.9 184.6 \" fill=\"#000000\"/>\n</svg>"
          },
          "metadata": {},
          "execution_count": 34
        }
      ],
      "source": [
        "display_structures(ring_smiles_list)"
      ]
    },
    {
      "cell_type": "markdown",
      "id": "b3bb2e03",
      "metadata": {
        "id": "b3bb2e03"
      },
      "source": [
        "In the case of fused ring systems, a single atom can have multiple ring closure digits."
      ]
    },
    {
      "cell_type": "code",
      "execution_count": 35,
      "id": "624a8bf4",
      "metadata": {
        "id": "624a8bf4",
        "outputId": "e3593200-27a2-4f7c-e185-e16328b2fb42",
        "colab": {
          "base_uri": "https://localhost:8080/",
          "height": 321
        }
      },
      "outputs": [
        {
          "output_type": "execute_result",
          "data": {
            "text/plain": [
              "<rdkit.Chem.rdchem.Mol at 0x794a5e8d3d80>"
            ],
            "text/html": [
              "<?xml version='1.0' encoding='iso-8859-1'?>\n",
              "<svg version='1.1' baseProfile='full'\n",
              "              xmlns='http://www.w3.org/2000/svg'\n",
              "                      xmlns:rdkit='http://www.rdkit.org/xml'\n",
              "                      xmlns:xlink='http://www.w3.org/1999/xlink'\n",
              "                  xml:space='preserve'\n",
              "width='300px' height='300px' viewBox='0 0 300 300'>\n",
              "<!-- END OF HEADER -->\n",
              "<rect style='opacity:1.0;fill:#FFFFFF;stroke:none' width='300.0' height='300.0' x='0.0' y='0.0'> </rect>\n",
              "<path class='bond-0 atom-0 atom-1' d='M 150.0,189.4 L 81.8,228.7' style='fill:none;fill-rule:evenodd;stroke:#000000;stroke-width:2.0px;stroke-linecap:butt;stroke-linejoin:miter;stroke-opacity:1' />\n",
              "<path class='bond-1 atom-1 atom-2' d='M 81.8,228.7 L 13.6,189.2' style='fill:none;fill-rule:evenodd;stroke:#000000;stroke-width:2.0px;stroke-linecap:butt;stroke-linejoin:miter;stroke-opacity:1' />\n",
              "<path class='bond-2 atom-2 atom-3' d='M 13.6,189.2 L 13.7,110.5' style='fill:none;fill-rule:evenodd;stroke:#000000;stroke-width:2.0px;stroke-linecap:butt;stroke-linejoin:miter;stroke-opacity:1' />\n",
              "<path class='bond-3 atom-3 atom-4' d='M 13.7,110.5 L 81.9,71.2' style='fill:none;fill-rule:evenodd;stroke:#000000;stroke-width:2.0px;stroke-linecap:butt;stroke-linejoin:miter;stroke-opacity:1' />\n",
              "<path class='bond-4 atom-4 atom-5' d='M 81.9,71.2 L 150.0,110.6' style='fill:none;fill-rule:evenodd;stroke:#000000;stroke-width:2.0px;stroke-linecap:butt;stroke-linejoin:miter;stroke-opacity:1' />\n",
              "<path class='bond-5 atom-5 atom-6' d='M 150.0,110.6 L 218.2,71.3' style='fill:none;fill-rule:evenodd;stroke:#000000;stroke-width:2.0px;stroke-linecap:butt;stroke-linejoin:miter;stroke-opacity:1' />\n",
              "<path class='bond-6 atom-6 atom-7' d='M 218.2,71.3 L 286.4,110.8' style='fill:none;fill-rule:evenodd;stroke:#000000;stroke-width:2.0px;stroke-linecap:butt;stroke-linejoin:miter;stroke-opacity:1' />\n",
              "<path class='bond-7 atom-7 atom-8' d='M 286.4,110.8 L 286.3,189.5' style='fill:none;fill-rule:evenodd;stroke:#000000;stroke-width:2.0px;stroke-linecap:butt;stroke-linejoin:miter;stroke-opacity:1' />\n",
              "<path class='bond-8 atom-8 atom-9' d='M 286.3,189.5 L 218.1,228.8' style='fill:none;fill-rule:evenodd;stroke:#000000;stroke-width:2.0px;stroke-linecap:butt;stroke-linejoin:miter;stroke-opacity:1' />\n",
              "<path class='bond-9 atom-5 atom-0' d='M 150.0,110.6 L 150.0,189.4' style='fill:none;fill-rule:evenodd;stroke:#000000;stroke-width:2.0px;stroke-linecap:butt;stroke-linejoin:miter;stroke-opacity:1' />\n",
              "<path class='bond-10 atom-9 atom-0' d='M 218.1,228.8 L 150.0,189.4' style='fill:none;fill-rule:evenodd;stroke:#000000;stroke-width:2.0px;stroke-linecap:butt;stroke-linejoin:miter;stroke-opacity:1' />\n",
              "<path d='M 85.2,226.7 L 81.8,228.7 L 78.4,226.7' style='fill:none;stroke:#000000;stroke-width:2.0px;stroke-linecap:butt;stroke-linejoin:miter;stroke-opacity:1;' />\n",
              "<path d='M 17.0,191.2 L 13.6,189.2 L 13.6,185.3' style='fill:none;stroke:#000000;stroke-width:2.0px;stroke-linecap:butt;stroke-linejoin:miter;stroke-opacity:1;' />\n",
              "<path d='M 13.7,114.5 L 13.7,110.5 L 17.1,108.6' style='fill:none;stroke:#000000;stroke-width:2.0px;stroke-linecap:butt;stroke-linejoin:miter;stroke-opacity:1;' />\n",
              "<path d='M 78.5,73.2 L 81.9,71.2 L 85.3,73.2' style='fill:none;stroke:#000000;stroke-width:2.0px;stroke-linecap:butt;stroke-linejoin:miter;stroke-opacity:1;' />\n",
              "<path d='M 214.8,73.3 L 218.2,71.3 L 221.6,73.3' style='fill:none;stroke:#000000;stroke-width:2.0px;stroke-linecap:butt;stroke-linejoin:miter;stroke-opacity:1;' />\n",
              "<path d='M 283.0,108.8 L 286.4,110.8 L 286.4,114.7' style='fill:none;stroke:#000000;stroke-width:2.0px;stroke-linecap:butt;stroke-linejoin:miter;stroke-opacity:1;' />\n",
              "<path d='M 286.3,185.5 L 286.3,189.5 L 282.9,191.4' style='fill:none;stroke:#000000;stroke-width:2.0px;stroke-linecap:butt;stroke-linejoin:miter;stroke-opacity:1;' />\n",
              "<path d='M 221.5,226.8 L 218.1,228.8 L 214.7,226.8' style='fill:none;stroke:#000000;stroke-width:2.0px;stroke-linecap:butt;stroke-linejoin:miter;stroke-opacity:1;' />\n",
              "</svg>\n"
            ],
            "image/svg+xml": "<?xml version='1.0' encoding='iso-8859-1'?>\n<svg version='1.1' baseProfile='full'\n              xmlns='http://www.w3.org/2000/svg'\n                      xmlns:rdkit='http://www.rdkit.org/xml'\n                      xmlns:xlink='http://www.w3.org/1999/xlink'\n                  xml:space='preserve'\nwidth='300px' height='300px' viewBox='0 0 300 300'>\n<!-- END OF HEADER -->\n<rect style='opacity:1.0;fill:#FFFFFF;stroke:none' width='300.0' height='300.0' x='0.0' y='0.0'> </rect>\n<path class='bond-0 atom-0 atom-1' d='M 150.0,189.4 L 81.8,228.7' style='fill:none;fill-rule:evenodd;stroke:#000000;stroke-width:2.0px;stroke-linecap:butt;stroke-linejoin:miter;stroke-opacity:1' />\n<path class='bond-1 atom-1 atom-2' d='M 81.8,228.7 L 13.6,189.2' style='fill:none;fill-rule:evenodd;stroke:#000000;stroke-width:2.0px;stroke-linecap:butt;stroke-linejoin:miter;stroke-opacity:1' />\n<path class='bond-2 atom-2 atom-3' d='M 13.6,189.2 L 13.7,110.5' style='fill:none;fill-rule:evenodd;stroke:#000000;stroke-width:2.0px;stroke-linecap:butt;stroke-linejoin:miter;stroke-opacity:1' />\n<path class='bond-3 atom-3 atom-4' d='M 13.7,110.5 L 81.9,71.2' style='fill:none;fill-rule:evenodd;stroke:#000000;stroke-width:2.0px;stroke-linecap:butt;stroke-linejoin:miter;stroke-opacity:1' />\n<path class='bond-4 atom-4 atom-5' d='M 81.9,71.2 L 150.0,110.6' style='fill:none;fill-rule:evenodd;stroke:#000000;stroke-width:2.0px;stroke-linecap:butt;stroke-linejoin:miter;stroke-opacity:1' />\n<path class='bond-5 atom-5 atom-6' d='M 150.0,110.6 L 218.2,71.3' style='fill:none;fill-rule:evenodd;stroke:#000000;stroke-width:2.0px;stroke-linecap:butt;stroke-linejoin:miter;stroke-opacity:1' />\n<path class='bond-6 atom-6 atom-7' d='M 218.2,71.3 L 286.4,110.8' style='fill:none;fill-rule:evenodd;stroke:#000000;stroke-width:2.0px;stroke-linecap:butt;stroke-linejoin:miter;stroke-opacity:1' />\n<path class='bond-7 atom-7 atom-8' d='M 286.4,110.8 L 286.3,189.5' style='fill:none;fill-rule:evenodd;stroke:#000000;stroke-width:2.0px;stroke-linecap:butt;stroke-linejoin:miter;stroke-opacity:1' />\n<path class='bond-8 atom-8 atom-9' d='M 286.3,189.5 L 218.1,228.8' style='fill:none;fill-rule:evenodd;stroke:#000000;stroke-width:2.0px;stroke-linecap:butt;stroke-linejoin:miter;stroke-opacity:1' />\n<path class='bond-9 atom-5 atom-0' d='M 150.0,110.6 L 150.0,189.4' style='fill:none;fill-rule:evenodd;stroke:#000000;stroke-width:2.0px;stroke-linecap:butt;stroke-linejoin:miter;stroke-opacity:1' />\n<path class='bond-10 atom-9 atom-0' d='M 218.1,228.8 L 150.0,189.4' style='fill:none;fill-rule:evenodd;stroke:#000000;stroke-width:2.0px;stroke-linecap:butt;stroke-linejoin:miter;stroke-opacity:1' />\n<path d='M 85.2,226.7 L 81.8,228.7 L 78.4,226.7' style='fill:none;stroke:#000000;stroke-width:2.0px;stroke-linecap:butt;stroke-linejoin:miter;stroke-opacity:1;' />\n<path d='M 17.0,191.2 L 13.6,189.2 L 13.6,185.3' style='fill:none;stroke:#000000;stroke-width:2.0px;stroke-linecap:butt;stroke-linejoin:miter;stroke-opacity:1;' />\n<path d='M 13.7,114.5 L 13.7,110.5 L 17.1,108.6' style='fill:none;stroke:#000000;stroke-width:2.0px;stroke-linecap:butt;stroke-linejoin:miter;stroke-opacity:1;' />\n<path d='M 78.5,73.2 L 81.9,71.2 L 85.3,73.2' style='fill:none;stroke:#000000;stroke-width:2.0px;stroke-linecap:butt;stroke-linejoin:miter;stroke-opacity:1;' />\n<path d='M 214.8,73.3 L 218.2,71.3 L 221.6,73.3' style='fill:none;stroke:#000000;stroke-width:2.0px;stroke-linecap:butt;stroke-linejoin:miter;stroke-opacity:1;' />\n<path d='M 283.0,108.8 L 286.4,110.8 L 286.4,114.7' style='fill:none;stroke:#000000;stroke-width:2.0px;stroke-linecap:butt;stroke-linejoin:miter;stroke-opacity:1;' />\n<path d='M 286.3,185.5 L 286.3,189.5 L 282.9,191.4' style='fill:none;stroke:#000000;stroke-width:2.0px;stroke-linecap:butt;stroke-linejoin:miter;stroke-opacity:1;' />\n<path d='M 221.5,226.8 L 218.1,228.8 L 214.7,226.8' style='fill:none;stroke:#000000;stroke-width:2.0px;stroke-linecap:butt;stroke-linejoin:miter;stroke-opacity:1;' />\n</svg>\n",
            "image/png": "[encoded data removed]"
          },
          "metadata": {},
          "execution_count": 35
        }
      ],
      "source": [
        "mol = Chem.MolFromSmiles(\"C12CCCCC1CCCC2\")\n",
        "mol"
      ]
    },
    {
      "cell_type": "markdown",
      "id": "373c3c3a",
      "metadata": {
        "id": "373c3c3a"
      },
      "source": [
        "Also, note that a ring closure digit can be \"reused\".  In the SMILES below the digit \"1\" is used to indicate the closure of two different rings.  Note that the SMILES could also be expressed as \"C1CCCCC1C2CCCCO2\".  Go ahead, try it."
      ]
    },
    {
      "cell_type": "code",
      "execution_count": 36,
      "id": "794fed10",
      "metadata": {
        "id": "794fed10",
        "outputId": "d48cf2a9-77c5-48cb-9b36-26e0a0b84c27",
        "colab": {
          "base_uri": "https://localhost:8080/",
          "height": 321
        }
      },
      "outputs": [
        {
          "output_type": "execute_result",
          "data": {
            "text/plain": [
              "<rdkit.Chem.rdchem.Mol at 0x794a5e8d3c30>"
            ],
            "text/html": [
              "<?xml version='1.0' encoding='iso-8859-1'?>\n",
              "<svg version='1.1' baseProfile='full'\n",
              "              xmlns='http://www.w3.org/2000/svg'\n",
              "                      xmlns:rdkit='http://www.rdkit.org/xml'\n",
              "                      xmlns:xlink='http://www.w3.org/1999/xlink'\n",
              "                  xml:space='preserve'\n",
              "width='300px' height='300px' viewBox='0 0 300 300'>\n",
              "<!-- END OF HEADER -->\n",
              "<rect style='opacity:1.0;fill:#FFFFFF;stroke:none' width='300.0' height='300.0' x='0.0' y='0.0'> </rect>\n",
              "<path class='bond-0 atom-0 atom-1' d='M 108.1,204.6 L 108.2,259.2' style='fill:none;fill-rule:evenodd;stroke:#000000;stroke-width:2.0px;stroke-linecap:butt;stroke-linejoin:miter;stroke-opacity:1' />\n",
              "<path class='bond-1 atom-1 atom-2' d='M 108.2,259.2 L 155.5,286.4' style='fill:none;fill-rule:evenodd;stroke:#000000;stroke-width:2.0px;stroke-linecap:butt;stroke-linejoin:miter;stroke-opacity:1' />\n",
              "<path class='bond-2 atom-2 atom-3' d='M 155.5,286.4 L 202.7,259.0' style='fill:none;fill-rule:evenodd;stroke:#000000;stroke-width:2.0px;stroke-linecap:butt;stroke-linejoin:miter;stroke-opacity:1' />\n",
              "<path class='bond-3 atom-3 atom-4' d='M 202.7,259.0 L 202.6,204.4' style='fill:none;fill-rule:evenodd;stroke:#000000;stroke-width:2.0px;stroke-linecap:butt;stroke-linejoin:miter;stroke-opacity:1' />\n",
              "<path class='bond-4 atom-4 atom-5' d='M 202.6,204.4 L 155.3,177.3' style='fill:none;fill-rule:evenodd;stroke:#000000;stroke-width:2.0px;stroke-linecap:butt;stroke-linejoin:miter;stroke-opacity:1' />\n",
              "<path class='bond-5 atom-5 atom-6' d='M 155.3,177.3 L 155.2,122.7' style='fill:none;fill-rule:evenodd;stroke:#000000;stroke-width:2.0px;stroke-linecap:butt;stroke-linejoin:miter;stroke-opacity:1' />\n",
              "<path class='bond-6 atom-6 atom-7' d='M 155.2,122.7 L 202.4,95.4' style='fill:none;fill-rule:evenodd;stroke:#000000;stroke-width:2.0px;stroke-linecap:butt;stroke-linejoin:miter;stroke-opacity:1' />\n",
              "<path class='bond-7 atom-7 atom-8' d='M 202.4,95.4 L 202.3,40.8' style='fill:none;fill-rule:evenodd;stroke:#000000;stroke-width:2.0px;stroke-linecap:butt;stroke-linejoin:miter;stroke-opacity:1' />\n",
              "<path class='bond-8 atom-8 atom-9' d='M 202.3,40.8 L 155.0,13.6' style='fill:none;fill-rule:evenodd;stroke:#000000;stroke-width:2.0px;stroke-linecap:butt;stroke-linejoin:miter;stroke-opacity:1' />\n",
              "<path class='bond-9 atom-9 atom-10' d='M 155.0,13.6 L 107.8,41.0' style='fill:none;fill-rule:evenodd;stroke:#000000;stroke-width:2.0px;stroke-linecap:butt;stroke-linejoin:miter;stroke-opacity:1' />\n",
              "<path class='bond-10 atom-10 atom-11' d='M 107.8,41.0 L 107.9,61.5' style='fill:none;fill-rule:evenodd;stroke:#000000;stroke-width:2.0px;stroke-linecap:butt;stroke-linejoin:miter;stroke-opacity:1' />\n",
              "<path class='bond-10 atom-10 atom-11' d='M 107.9,61.5 L 107.9,82.0' style='fill:none;fill-rule:evenodd;stroke:#FF0000;stroke-width:2.0px;stroke-linecap:butt;stroke-linejoin:miter;stroke-opacity:1' />\n",
              "<path class='bond-11 atom-5 atom-0' d='M 155.3,177.3 L 108.1,204.6' style='fill:none;fill-rule:evenodd;stroke:#000000;stroke-width:2.0px;stroke-linecap:butt;stroke-linejoin:miter;stroke-opacity:1' />\n",
              "<path class='bond-12 atom-11 atom-6' d='M 120.4,102.7 L 137.8,112.7' style='fill:none;fill-rule:evenodd;stroke:#FF0000;stroke-width:2.0px;stroke-linecap:butt;stroke-linejoin:miter;stroke-opacity:1' />\n",
              "<path class='bond-12 atom-11 atom-6' d='M 137.8,112.7 L 155.2,122.7' style='fill:none;fill-rule:evenodd;stroke:#000000;stroke-width:2.0px;stroke-linecap:butt;stroke-linejoin:miter;stroke-opacity:1' />\n",
              "<path d='M 108.1,207.4 L 108.1,204.6 L 110.5,203.3' style='fill:none;stroke:#000000;stroke-width:2.0px;stroke-linecap:butt;stroke-linejoin:miter;stroke-opacity:1;' />\n",
              "<path d='M 108.2,256.5 L 108.2,259.2 L 110.6,260.5' style='fill:none;stroke:#000000;stroke-width:2.0px;stroke-linecap:butt;stroke-linejoin:miter;stroke-opacity:1;' />\n",
              "<path d='M 153.2,285.0 L 155.5,286.4 L 157.9,285.0' style='fill:none;stroke:#000000;stroke-width:2.0px;stroke-linecap:butt;stroke-linejoin:miter;stroke-opacity:1;' />\n",
              "<path d='M 200.4,260.4 L 202.7,259.0 L 202.7,256.3' style='fill:none;stroke:#000000;stroke-width:2.0px;stroke-linecap:butt;stroke-linejoin:miter;stroke-opacity:1;' />\n",
              "<path d='M 202.6,207.2 L 202.6,204.4 L 200.2,203.1' style='fill:none;stroke:#000000;stroke-width:2.0px;stroke-linecap:butt;stroke-linejoin:miter;stroke-opacity:1;' />\n",
              "<path d='M 200.0,96.7 L 202.4,95.4 L 202.4,92.6' style='fill:none;stroke:#000000;stroke-width:2.0px;stroke-linecap:butt;stroke-linejoin:miter;stroke-opacity:1;' />\n",
              "<path d='M 202.3,43.5 L 202.3,40.8 L 199.9,39.5' style='fill:none;stroke:#000000;stroke-width:2.0px;stroke-linecap:butt;stroke-linejoin:miter;stroke-opacity:1;' />\n",
              "<path d='M 157.4,15.0 L 155.0,13.6 L 152.6,15.0' style='fill:none;stroke:#000000;stroke-width:2.0px;stroke-linecap:butt;stroke-linejoin:miter;stroke-opacity:1;' />\n",
              "<path d='M 110.2,39.6 L 107.8,41.0 L 107.8,42.0' style='fill:none;stroke:#000000;stroke-width:2.0px;stroke-linecap:butt;stroke-linejoin:miter;stroke-opacity:1;' />\n",
              "<path class='atom-11' d='M 97.3 95.6\n",
              "Q 97.3 90.1, 100.0 86.9\n",
              "Q 102.8 83.8, 107.9 83.8\n",
              "Q 113.1 83.8, 115.8 86.9\n",
              "Q 118.6 90.1, 118.6 95.6\n",
              "Q 118.6 101.2, 115.8 104.5\n",
              "Q 113.0 107.6, 107.9 107.6\n",
              "Q 102.8 107.6, 100.0 104.5\n",
              "Q 97.3 101.3, 97.3 95.6\n",
              "M 107.9 105.0\n",
              "Q 111.5 105.0, 113.4 102.7\n",
              "Q 115.3 100.3, 115.3 95.6\n",
              "Q 115.3 91.1, 113.4 88.8\n",
              "Q 111.5 86.5, 107.9 86.5\n",
              "Q 104.4 86.5, 102.5 88.7\n",
              "Q 100.6 91.0, 100.6 95.6\n",
              "Q 100.6 100.3, 102.5 102.7\n",
              "Q 104.4 105.0, 107.9 105.0\n",
              "' fill='#FF0000'/>\n",
              "</svg>\n"
            ],
            "image/svg+xml": "<?xml version='1.0' encoding='iso-8859-1'?>\n<svg version='1.1' baseProfile='full'\n              xmlns='http://www.w3.org/2000/svg'\n                      xmlns:rdkit='http://www.rdkit.org/xml'\n                      xmlns:xlink='http://www.w3.org/1999/xlink'\n                  xml:space='preserve'\nwidth='300px' height='300px' viewBox='0 0 300 300'>\n<!-- END OF HEADER -->\n<rect style='opacity:1.0;fill:#FFFFFF;stroke:none' width='300.0' height='300.0' x='0.0' y='0.0'> </rect>\n<path class='bond-0 atom-0 atom-1' d='M 108.1,204.6 L 108.2,259.2' style='fill:none;fill-rule:evenodd;stroke:#000000;stroke-width:2.0px;stroke-linecap:butt;stroke-linejoin:miter;stroke-opacity:1' />\n<path class='bond-1 atom-1 atom-2' d='M 108.2,259.2 L 155.5,286.4' style='fill:none;fill-rule:evenodd;stroke:#000000;stroke-width:2.0px;stroke-linecap:butt;stroke-linejoin:miter;stroke-opacity:1' />\n<path class='bond-2 atom-2 atom-3' d='M 155.5,286.4 L 202.7,259.0' style='fill:none;fill-rule:evenodd;stroke:#000000;stroke-width:2.0px;stroke-linecap:butt;stroke-linejoin:miter;stroke-opacity:1' />\n<path class='bond-3 atom-3 atom-4' d='M 202.7,259.0 L 202.6,204.4' style='fill:none;fill-rule:evenodd;stroke:#000000;stroke-width:2.0px;stroke-linecap:butt;stroke-linejoin:miter;stroke-opacity:1' />\n<path class='bond-4 atom-4 atom-5' d='M 202.6,204.4 L 155.3,177.3' style='fill:none;fill-rule:evenodd;stroke:#000000;stroke-width:2.0px;stroke-linecap:butt;stroke-linejoin:miter;stroke-opacity:1' />\n<path class='bond-5 atom-5 atom-6' d='M 155.3,177.3 L 155.2,122.7' style='fill:none;fill-rule:evenodd;stroke:#000000;stroke-width:2.0px;stroke-linecap:butt;stroke-linejoin:miter;stroke-opacity:1' />\n<path class='bond-6 atom-6 atom-7' d='M 155.2,122.7 L 202.4,95.4' style='fill:none;fill-rule:evenodd;stroke:#000000;stroke-width:2.0px;stroke-linecap:butt;stroke-linejoin:miter;stroke-opacity:1' />\n<path class='bond-7 atom-7 atom-8' d='M 202.4,95.4 L 202.3,40.8' style='fill:none;fill-rule:evenodd;stroke:#000000;stroke-width:2.0px;stroke-linecap:butt;stroke-linejoin:miter;stroke-opacity:1' />\n<path class='bond-8 atom-8 atom-9' d='M 202.3,40.8 L 155.0,13.6' style='fill:none;fill-rule:evenodd;stroke:#000000;stroke-width:2.0px;stroke-linecap:butt;stroke-linejoin:miter;stroke-opacity:1' />\n<path class='bond-9 atom-9 atom-10' d='M 155.0,13.6 L 107.8,41.0' style='fill:none;fill-rule:evenodd;stroke:#000000;stroke-width:2.0px;stroke-linecap:butt;stroke-linejoin:miter;stroke-opacity:1' />\n<path class='bond-10 atom-10 atom-11' d='M 107.8,41.0 L 107.9,61.5' style='fill:none;fill-rule:evenodd;stroke:#000000;stroke-width:2.0px;stroke-linecap:butt;stroke-linejoin:miter;stroke-opacity:1' />\n<path class='bond-10 atom-10 atom-11' d='M 107.9,61.5 L 107.9,82.0' style='fill:none;fill-rule:evenodd;stroke:#FF0000;stroke-width:2.0px;stroke-linecap:butt;stroke-linejoin:miter;stroke-opacity:1' />\n<path class='bond-11 atom-5 atom-0' d='M 155.3,177.3 L 108.1,204.6' style='fill:none;fill-rule:evenodd;stroke:#000000;stroke-width:2.0px;stroke-linecap:butt;stroke-linejoin:miter;stroke-opacity:1' />\n<path class='bond-12 atom-11 atom-6' d='M 120.4,102.7 L 137.8,112.7' style='fill:none;fill-rule:evenodd;stroke:#FF0000;stroke-width:2.0px;stroke-linecap:butt;stroke-linejoin:miter;stroke-opacity:1' />\n<path class='bond-12 atom-11 atom-6' d='M 137.8,112.7 L 155.2,122.7' style='fill:none;fill-rule:evenodd;stroke:#000000;stroke-width:2.0px;stroke-linecap:butt;stroke-linejoin:miter;stroke-opacity:1' />\n<path d='M 108.1,207.4 L 108.1,204.6 L 110.5,203.3' style='fill:none;stroke:#000000;stroke-width:2.0px;stroke-linecap:butt;stroke-linejoin:miter;stroke-opacity:1;' />\n<path d='M 108.2,256.5 L 108.2,259.2 L 110.6,260.5' style='fill:none;stroke:#000000;stroke-width:2.0px;stroke-linecap:butt;stroke-linejoin:miter;stroke-opacity:1;' />\n<path d='M 153.2,285.0 L 155.5,286.4 L 157.9,285.0' style='fill:none;stroke:#000000;stroke-width:2.0px;stroke-linecap:butt;stroke-linejoin:miter;stroke-opacity:1;' />\n<path d='M 200.4,260.4 L 202.7,259.0 L 202.7,256.3' style='fill:none;stroke:#000000;stroke-width:2.0px;stroke-linecap:butt;stroke-linejoin:miter;stroke-opacity:1;' />\n<path d='M 202.6,207.2 L 202.6,204.4 L 200.2,203.1' style='fill:none;stroke:#000000;stroke-width:2.0px;stroke-linecap:butt;stroke-linejoin:miter;stroke-opacity:1;' />\n<path d='M 200.0,96.7 L 202.4,95.4 L 202.4,92.6' style='fill:none;stroke:#000000;stroke-width:2.0px;stroke-linecap:butt;stroke-linejoin:miter;stroke-opacity:1;' />\n<path d='M 202.3,43.5 L 202.3,40.8 L 199.9,39.5' style='fill:none;stroke:#000000;stroke-width:2.0px;stroke-linecap:butt;stroke-linejoin:miter;stroke-opacity:1;' />\n<path d='M 157.4,15.0 L 155.0,13.6 L 152.6,15.0' style='fill:none;stroke:#000000;stroke-width:2.0px;stroke-linecap:butt;stroke-linejoin:miter;stroke-opacity:1;' />\n<path d='M 110.2,39.6 L 107.8,41.0 L 107.8,42.0' style='fill:none;stroke:#000000;stroke-width:2.0px;stroke-linecap:butt;stroke-linejoin:miter;stroke-opacity:1;' />\n<path class='atom-11' d='M 97.3 95.6\nQ 97.3 90.1, 100.0 86.9\nQ 102.8 83.8, 107.9 83.8\nQ 113.1 83.8, 115.8 86.9\nQ 118.6 90.1, 118.6 95.6\nQ 118.6 101.2, 115.8 104.5\nQ 113.0 107.6, 107.9 107.6\nQ 102.8 107.6, 100.0 104.5\nQ 97.3 101.3, 97.3 95.6\nM 107.9 105.0\nQ 111.5 105.0, 113.4 102.7\nQ 115.3 100.3, 115.3 95.6\nQ 115.3 91.1, 113.4 88.8\nQ 111.5 86.5, 107.9 86.5\nQ 104.4 86.5, 102.5 88.7\nQ 100.6 91.0, 100.6 95.6\nQ 100.6 100.3, 102.5 102.7\nQ 104.4 105.0, 107.9 105.0\n' fill='#FF0000'/>\n</svg>\n",
            "image/png": "[encoded data removed]"
          },
          "metadata": {},
          "execution_count": 36
        }
      ],
      "source": [
        "Chem.MolFromSmiles(\"C1CCCCC1C1CCCCO1\")"
      ]
    },
    {
      "cell_type": "markdown",
      "id": "379dd936",
      "metadata": {
        "id": "379dd936"
      },
      "source": [
        "### Exercise\n",
        "Write the SMILES and display a table of chemical structures for the following.\n",
        "1. 1,2-dimethylcyclopropane\n",
        "2. 1-methyl-3,3-dimethylcyclohexane\n",
        "3. piperazine\n",
        "4. hydrindane\n",
        "5. norbornane\n",
        "6. cyclopentanol"
      ]
    },
    {
      "cell_type": "code",
      "execution_count": 37,
      "id": "7cda01de",
      "metadata": {
        "id": "7cda01de"
      },
      "outputs": [],
      "source": [
        "#Write your code here"
      ]
    },
    {
      "cell_type": "markdown",
      "id": "4f88ea34",
      "metadata": {
        "id": "4f88ea34"
      },
      "source": [
        "### Aromaticity\n",
        "\n",
        "Aromatic atoms are indicated by lower case characters. According to Daylight C,N,P,O,S,As, and Se can be considered aromatic.  As an example, benzene can be expressed as c1ccccc1 and pyridine as c1ccccn1. Note that in the same way there are implicit single bonds between uppercase characters (e.g. CCC) there are implicit aromatic bonds between lowercase characters."
      ]
    },
    {
      "cell_type": "code",
      "execution_count": 38,
      "id": "02a51c8d",
      "metadata": {
        "id": "02a51c8d",
        "outputId": "6e6e5e78-1707-48e5-847c-123fefb746eb",
        "colab": {
          "base_uri": "https://localhost:8080/",
          "height": 221
        }
      },
      "outputs": [
        {
          "output_type": "execute_result",
          "data": {
            "text/plain": [
              "<IPython.core.display.SVG object>"
            ],
            "image/svg+xml": "<svg xmlns=\"http://www.w3.org/2000/svg\" xmlns:rdkit=\"http://www.rdkit.org/xml\" xmlns:xlink=\"http://www.w3.org/1999/xlink\" version=\"1.1\" baseProfile=\"full\" xml:space=\"preserve\" width=\"800px\" height=\"200px\" viewBox=\"0 0 800 200\">\n<!-- END OF HEADER -->\n<rect style=\"opacity:1.0;fill:#FFFFFF;stroke:none\" width=\"800.0\" height=\"200.0\" x=\"0.0\" y=\"0.0\"> </rect>\n<path class=\"bond-0 atom-0 atom-1\" d=\"M 29.1,130.9 L 29.2,49.0\" style=\"fill:none;fill-rule:evenodd;stroke:#000000;stroke-width:2.0px;stroke-linecap:butt;stroke-linejoin:miter;stroke-opacity:1\"/>\n<path class=\"bond-0 atom-0 atom-1\" d=\"M 41.4,123.8 L 41.4,56.1\" style=\"fill:none;fill-rule:evenodd;stroke:#000000;stroke-width:2.0px;stroke-linecap:butt;stroke-linejoin:miter;stroke-opacity:1\"/>\n<path class=\"bond-1 atom-1 atom-2\" d=\"M 29.2,49.0 L 100.1,8.2\" style=\"fill:none;fill-rule:evenodd;stroke:#000000;stroke-width:2.0px;stroke-linecap:butt;stroke-linejoin:miter;stroke-opacity:1\"/>\n<path class=\"bond-2 atom-2 atom-3\" d=\"M 100.1,8.2 L 170.9,49.1\" style=\"fill:none;fill-rule:evenodd;stroke:#000000;stroke-width:2.0px;stroke-linecap:butt;stroke-linejoin:miter;stroke-opacity:1\"/>\n<path class=\"bond-2 atom-2 atom-3\" d=\"M 100.1,22.4 L 158.6,56.2\" style=\"fill:none;fill-rule:evenodd;stroke:#000000;stroke-width:2.0px;stroke-linecap:butt;stroke-linejoin:miter;stroke-opacity:1\"/>\n<path class=\"bond-3 atom-3 atom-4\" d=\"M 170.9,49.1 L 170.8,131.0\" style=\"fill:none;fill-rule:evenodd;stroke:#000000;stroke-width:2.0px;stroke-linecap:butt;stroke-linejoin:miter;stroke-opacity:1\"/>\n<path class=\"bond-4 atom-4 atom-5\" d=\"M 170.8,131.0 L 99.9,171.8\" style=\"fill:none;fill-rule:evenodd;stroke:#000000;stroke-width:2.0px;stroke-linecap:butt;stroke-linejoin:miter;stroke-opacity:1\"/>\n<path class=\"bond-4 atom-4 atom-5\" d=\"M 158.6,123.9 L 99.9,157.6\" style=\"fill:none;fill-rule:evenodd;stroke:#000000;stroke-width:2.0px;stroke-linecap:butt;stroke-linejoin:miter;stroke-opacity:1\"/>\n<path class=\"bond-5 atom-5 atom-0\" d=\"M 99.9,171.8 L 29.1,130.9\" style=\"fill:none;fill-rule:evenodd;stroke:#000000;stroke-width:2.0px;stroke-linecap:butt;stroke-linejoin:miter;stroke-opacity:1\"/>\n<path d=\"M 29.1,126.8 L 29.1,130.9 L 32.7,132.9\" style=\"fill:none;stroke:#000000;stroke-width:2.0px;stroke-linecap:butt;stroke-linejoin:miter;stroke-opacity:1;\"/>\n<path d=\"M 29.2,53.1 L 29.2,49.0 L 32.7,47.0\" style=\"fill:none;stroke:#000000;stroke-width:2.0px;stroke-linecap:butt;stroke-linejoin:miter;stroke-opacity:1;\"/>\n<path d=\"M 96.5,10.2 L 100.1,8.2 L 103.6,10.2\" style=\"fill:none;stroke:#000000;stroke-width:2.0px;stroke-linecap:butt;stroke-linejoin:miter;stroke-opacity:1;\"/>\n<path d=\"M 167.3,47.1 L 170.9,49.1 L 170.9,53.2\" style=\"fill:none;stroke:#000000;stroke-width:2.0px;stroke-linecap:butt;stroke-linejoin:miter;stroke-opacity:1;\"/>\n<path d=\"M 170.8,126.9 L 170.8,131.0 L 167.3,133.0\" style=\"fill:none;stroke:#000000;stroke-width:2.0px;stroke-linecap:butt;stroke-linejoin:miter;stroke-opacity:1;\"/>\n<path d=\"M 103.5,169.8 L 99.9,171.8 L 96.4,169.8\" style=\"fill:none;stroke:#000000;stroke-width:2.0px;stroke-linecap:butt;stroke-linejoin:miter;stroke-opacity:1;\"/>\n<path class=\"legend\" d=\"M 74.4 186.5 Q 76.1 186.5, 77.1 187.6 Q 78.0 188.6, 78.0 190.6 Q 78.0 192.7, 76.9 193.8 Q 75.8 195.0, 73.8 195.0 Q 72.5 195.0, 71.3 194.5 L 70.6 194.3 L 70.6 182.7 L 72.1 182.7 L 72.1 187.5 Q 73.0 186.5, 74.4 186.5 M 73.8 193.8 Q 75.1 193.8, 75.8 193.0 Q 76.5 192.1, 76.5 190.6 Q 76.5 189.2, 75.9 188.5 Q 75.4 187.7, 74.3 187.7 Q 73.5 187.7, 72.9 188.1 Q 72.3 188.6, 72.1 189.4 L 72.1 193.6 Q 72.9 193.8, 73.8 193.8 \" fill=\"#000000\"/>\n<path class=\"legend\" d=\"M 79.5 190.7 Q 79.5 188.7, 80.5 187.6 Q 81.5 186.5, 83.3 186.5 Q 85.2 186.5, 86.0 187.6 Q 86.8 188.7, 86.8 190.7 L 86.8 191.0 L 81.0 191.0 Q 81.1 192.3, 81.7 193.1 Q 82.3 193.8, 83.5 193.8 Q 84.1 193.8, 84.7 193.7 Q 85.3 193.5, 86.0 193.2 L 86.4 194.2 Q 85.6 194.6, 84.9 194.8 Q 84.2 195.0, 83.4 195.0 Q 81.5 195.0, 80.5 193.9 Q 79.5 192.8, 79.5 190.7 M 83.3 187.7 Q 82.4 187.7, 81.8 188.2 Q 81.3 188.8, 81.1 189.8 L 85.2 189.8 Q 85.1 188.7, 84.6 188.2 Q 84.2 187.7, 83.3 187.7 \" fill=\"#000000\"/>\n<path class=\"legend\" d=\"M 92.4 186.5 Q 93.7 186.5, 94.4 187.3 Q 95.1 188.0, 95.1 189.4 L 95.1 194.9 L 93.6 194.9 L 93.6 189.5 Q 93.6 188.6, 93.2 188.1 Q 92.8 187.7, 92.0 187.7 Q 91.2 187.7, 90.6 188.0 Q 90.0 188.4, 89.6 189.0 L 89.6 194.9 L 88.1 194.9 L 88.1 186.6 L 89.3 186.6 L 89.5 187.8 Q 90.6 186.5, 92.4 186.5 \" fill=\"#000000\"/>\n<path class=\"legend\" d=\"M 98.8 193.7 L 103.3 193.7 L 103.3 194.9 L 97.0 194.9 L 97.0 193.9 L 101.3 187.8 L 97.2 187.8 L 97.2 186.6 L 103.2 186.6 L 103.2 187.6 L 98.8 193.7 \" fill=\"#000000\"/>\n<path class=\"legend\" d=\"M 104.6 190.7 Q 104.6 188.7, 105.6 187.6 Q 106.6 186.5, 108.5 186.5 Q 110.3 186.5, 111.1 187.6 Q 111.9 188.7, 111.9 190.7 L 111.9 191.0 L 106.1 191.0 Q 106.2 192.3, 106.8 193.1 Q 107.4 193.8, 108.6 193.8 Q 109.2 193.8, 109.8 193.7 Q 110.4 193.5, 111.1 193.2 L 111.6 194.2 Q 110.7 194.6, 110.0 194.8 Q 109.3 195.0, 108.5 195.0 Q 106.7 195.0, 105.6 193.9 Q 104.6 192.8, 104.6 190.7 M 108.5 187.7 Q 107.5 187.7, 106.9 188.2 Q 106.4 188.8, 106.2 189.8 L 110.3 189.8 Q 110.2 188.7, 109.7 188.2 Q 109.3 187.7, 108.5 187.7 \" fill=\"#000000\"/>\n<path class=\"legend\" d=\"M 117.5 186.5 Q 118.8 186.5, 119.5 187.3 Q 120.2 188.0, 120.2 189.4 L 120.2 194.9 L 118.7 194.9 L 118.7 189.5 Q 118.7 188.6, 118.3 188.1 Q 117.9 187.7, 117.1 187.7 Q 116.4 187.7, 115.7 188.0 Q 115.1 188.4, 114.7 189.0 L 114.7 194.9 L 113.2 194.9 L 113.2 186.6 L 114.4 186.6 L 114.6 187.8 Q 115.7 186.5, 117.5 186.5 \" fill=\"#000000\"/>\n<path class=\"legend\" d=\"M 122.1 190.7 Q 122.1 188.7, 123.1 187.6 Q 124.1 186.5, 126.0 186.5 Q 127.8 186.5, 128.6 187.6 Q 129.4 188.7, 129.4 190.7 L 129.4 191.0 L 123.7 191.0 Q 123.7 192.3, 124.3 193.1 Q 124.9 193.8, 126.1 193.8 Q 126.8 193.8, 127.3 193.7 Q 127.9 193.5, 128.7 193.2 L 129.1 194.2 Q 128.3 194.6, 127.5 194.8 Q 126.8 195.0, 126.0 195.0 Q 124.2 195.0, 123.2 193.9 Q 122.1 192.8, 122.1 190.7 M 126.0 187.7 Q 125.0 187.7, 124.5 188.2 Q 123.9 188.8, 123.7 189.8 L 127.8 189.8 Q 127.7 188.7, 127.3 188.2 Q 126.8 187.7, 126.0 187.7 \" fill=\"#000000\"/>\n<path class=\"bond-0 atom-0 atom-1\" d=\"M 305.3,171.8 L 376.2,131.0\" style=\"fill:none;fill-rule:evenodd;stroke:#000000;stroke-width:2.0px;stroke-linecap:butt;stroke-linejoin:miter;stroke-opacity:1\"/>\n<path class=\"bond-0 atom-0 atom-1\" d=\"M 305.3,157.6 L 363.9,123.9\" style=\"fill:none;fill-rule:evenodd;stroke:#000000;stroke-width:2.0px;stroke-linecap:butt;stroke-linejoin:miter;stroke-opacity:1\"/>\n<path class=\"bond-1 atom-1 atom-2\" d=\"M 376.2,131.0 L 376.3,49.1\" style=\"fill:none;fill-rule:evenodd;stroke:#000000;stroke-width:2.0px;stroke-linecap:butt;stroke-linejoin:miter;stroke-opacity:1\"/>\n<path class=\"bond-2 atom-2 atom-3\" d=\"M 376.3,49.1 L 305.4,8.2\" style=\"fill:none;fill-rule:evenodd;stroke:#000000;stroke-width:2.0px;stroke-linecap:butt;stroke-linejoin:miter;stroke-opacity:1\"/>\n<path class=\"bond-2 atom-2 atom-3\" d=\"M 364.0,56.2 L 305.4,22.4\" style=\"fill:none;fill-rule:evenodd;stroke:#000000;stroke-width:2.0px;stroke-linecap:butt;stroke-linejoin:miter;stroke-opacity:1\"/>\n<path class=\"bond-3 atom-3 atom-4\" d=\"M 305.4,8.2 L 234.5,49.0\" style=\"fill:none;fill-rule:evenodd;stroke:#000000;stroke-width:2.0px;stroke-linecap:butt;stroke-linejoin:miter;stroke-opacity:1\"/>\n<path class=\"bond-4 atom-4 atom-5\" d=\"M 234.5,49.0 L 234.5,81.5\" style=\"fill:none;fill-rule:evenodd;stroke:#000000;stroke-width:2.0px;stroke-linecap:butt;stroke-linejoin:miter;stroke-opacity:1\"/>\n<path class=\"bond-4 atom-4 atom-5\" d=\"M 234.5,81.5 L 234.5,114.0\" style=\"fill:none;fill-rule:evenodd;stroke:#0000FF;stroke-width:2.0px;stroke-linecap:butt;stroke-linejoin:miter;stroke-opacity:1\"/>\n<path class=\"bond-4 atom-4 atom-5\" d=\"M 246.8,56.1 L 246.8,85.1\" style=\"fill:none;fill-rule:evenodd;stroke:#000000;stroke-width:2.0px;stroke-linecap:butt;stroke-linejoin:miter;stroke-opacity:1\"/>\n<path class=\"bond-4 atom-4 atom-5\" d=\"M 246.8,85.1 L 246.8,114.0\" style=\"fill:none;fill-rule:evenodd;stroke:#0000FF;stroke-width:2.0px;stroke-linecap:butt;stroke-linejoin:miter;stroke-opacity:1\"/>\n<path class=\"bond-5 atom-5 atom-0\" d=\"M 247.9,138.6 L 276.6,155.2\" style=\"fill:none;fill-rule:evenodd;stroke:#0000FF;stroke-width:2.0px;stroke-linecap:butt;stroke-linejoin:miter;stroke-opacity:1\"/>\n<path class=\"bond-5 atom-5 atom-0\" d=\"M 276.6,155.2 L 305.3,171.8\" style=\"fill:none;fill-rule:evenodd;stroke:#000000;stroke-width:2.0px;stroke-linecap:butt;stroke-linejoin:miter;stroke-opacity:1\"/>\n<path d=\"M 308.8,169.8 L 305.3,171.8 L 303.9,171.0\" style=\"fill:none;stroke:#000000;stroke-width:2.0px;stroke-linecap:butt;stroke-linejoin:miter;stroke-opacity:1;\"/>\n<path d=\"M 372.6,133.0 L 376.2,131.0 L 376.2,126.9\" style=\"fill:none;stroke:#000000;stroke-width:2.0px;stroke-linecap:butt;stroke-linejoin:miter;stroke-opacity:1;\"/>\n<path d=\"M 376.3,53.2 L 376.3,49.1 L 372.7,47.1\" style=\"fill:none;stroke:#000000;stroke-width:2.0px;stroke-linecap:butt;stroke-linejoin:miter;stroke-opacity:1;\"/>\n<path d=\"M 309.0,10.2 L 305.4,8.2 L 301.9,10.2\" style=\"fill:none;stroke:#000000;stroke-width:2.0px;stroke-linecap:butt;stroke-linejoin:miter;stroke-opacity:1;\"/>\n<path d=\"M 238.1,47.0 L 234.5,49.0 L 234.5,50.7\" style=\"fill:none;stroke:#000000;stroke-width:2.0px;stroke-linecap:butt;stroke-linejoin:miter;stroke-opacity:1;\"/>\n<path class=\"atom-5\" d=\"M 228.2 116.7 L 237.5 131.7 Q 238.4 133.2, 239.9 135.9 Q 241.4 138.5, 241.5 138.7 L 241.5 116.7 L 245.2 116.7 L 245.2 145.0 L 241.3 145.0 L 231.4 128.6 Q 230.2 126.7, 229.0 124.5 Q 227.8 122.3, 227.4 121.6 L 227.4 145.0 L 223.7 145.0 L 223.7 116.7 L 228.2 116.7 \" fill=\"#0000FF\"/>\n<path class=\"legend\" d=\"M 277.9 183.5 Q 279.5 183.5, 280.4 184.5 Q 281.3 185.5, 281.3 187.4 Q 281.3 189.3, 280.3 190.4 Q 279.2 191.4, 277.4 191.4 Q 276.5 191.4, 275.8 191.2 L 275.8 195.0 L 274.4 195.0 L 274.4 183.7 L 275.5 183.7 L 275.7 184.6 Q 276.1 184.1, 276.7 183.8 Q 277.2 183.5, 277.9 183.5 M 277.4 190.3 Q 278.5 190.3, 279.2 189.6 Q 279.9 188.8, 279.9 187.4 Q 279.9 186.0, 279.3 185.3 Q 278.8 184.6, 277.9 184.6 Q 277.1 184.6, 276.5 185.0 Q 276.0 185.4, 275.8 186.1 L 275.8 190.1 Q 276.5 190.3, 277.4 190.3 \" fill=\"#000000\"/>\n<path class=\"legend\" d=\"M 288.4 183.7 L 289.8 183.7 L 285.8 195.0 L 284.6 195.0 L 285.8 191.3 L 285.2 191.3 L 282.5 183.7 L 284.0 183.7 L 286.2 190.1 L 288.4 183.7 \" fill=\"#000000\"/>\n<path class=\"legend\" d=\"M 291.6 183.7 L 291.7 184.7 Q 292.6 183.5, 293.9 183.5 Q 294.3 183.5, 294.9 183.7 L 294.6 184.9 Q 294.0 184.8, 293.6 184.8 Q 293.0 184.8, 292.6 185.0 Q 292.2 185.3, 291.9 185.9 L 291.9 191.3 L 290.5 191.3 L 290.5 183.7 L 291.6 183.7 \" fill=\"#000000\"/>\n<path class=\"legend\" d=\"M 295.6 180.8 L 297.0 180.8 L 297.0 182.1 L 295.6 182.1 L 295.6 180.8 M 295.6 183.7 L 297.0 183.7 L 297.0 191.3 L 295.6 191.3 L 295.6 183.7 \" fill=\"#000000\"/>\n<path class=\"legend\" d=\"M 305.7 180.0 L 305.7 191.3 L 304.6 191.3 L 304.4 190.4 Q 303.6 191.4, 302.1 191.4 Q 300.6 191.4, 299.7 190.5 Q 298.8 189.5, 298.8 187.6 Q 298.8 185.7, 299.8 184.6 Q 300.9 183.5, 302.7 183.5 Q 303.5 183.5, 304.3 183.7 L 304.3 180.0 L 305.7 180.0 M 302.2 190.3 Q 303.0 190.3, 303.6 189.9 Q 304.1 189.5, 304.3 188.7 L 304.3 184.9 Q 303.6 184.6, 302.7 184.6 Q 301.6 184.6, 300.9 185.4 Q 300.2 186.2, 300.2 187.6 Q 300.2 188.9, 300.7 189.6 Q 301.3 190.3, 302.2 190.3 \" fill=\"#000000\"/>\n<path class=\"legend\" d=\"M 307.5 180.8 L 308.8 180.8 L 308.8 182.1 L 307.5 182.1 L 307.5 180.8 M 307.5 183.7 L 308.8 183.7 L 308.8 191.3 L 307.5 191.3 L 307.5 183.7 \" fill=\"#000000\"/>\n<path class=\"legend\" d=\"M 314.6 183.5 Q 315.9 183.5, 316.5 184.2 Q 317.2 184.9, 317.2 186.3 L 317.2 191.3 L 315.8 191.3 L 315.8 186.4 Q 315.8 185.4, 315.4 185.0 Q 315.1 184.6, 314.3 184.6 Q 313.6 184.6, 313.0 185.0 Q 312.4 185.3, 312.0 185.8 L 312.0 191.3 L 310.6 191.3 L 310.6 183.7 L 311.8 183.7 L 312.0 184.7 Q 313.0 183.5, 314.6 183.5 \" fill=\"#000000\"/>\n<path class=\"legend\" d=\"M 318.8 187.5 Q 318.8 185.6, 319.8 184.6 Q 320.7 183.5, 322.4 183.5 Q 324.1 183.5, 324.9 184.5 Q 325.6 185.5, 325.6 187.4 L 325.6 187.7 L 320.3 187.7 Q 320.3 189.0, 320.9 189.7 Q 321.5 190.3, 322.5 190.3 Q 323.1 190.3, 323.7 190.2 Q 324.2 190.1, 324.9 189.8 L 325.3 190.7 Q 324.6 191.1, 323.9 191.3 Q 323.2 191.4, 322.5 191.4 Q 320.7 191.4, 319.8 190.4 Q 318.8 189.4, 318.8 187.5 M 322.4 184.6 Q 321.5 184.6, 321.0 185.1 Q 320.5 185.6, 320.3 186.6 L 324.1 186.6 Q 324.0 185.6, 323.6 185.1 Q 323.2 184.6, 322.4 184.6 \" fill=\"#000000\"/>\n</svg>"
          },
          "metadata": {},
          "execution_count": 38
        }
      ],
      "source": [
        "# define a text buffer for our examples\n",
        "examples = \"\"\"c1ccccc1 benzene\n",
        "c1ccccn1 pyridine\"\"\"\n",
        "aromatic_smiles_list = [x.split(\" \",1) for x in examples.split(\"\\n\")]\n",
        "display_structures(aromatic_smiles_list)"
      ]
    },
    {
      "cell_type": "markdown",
      "id": "0d71f22a",
      "metadata": {
        "id": "0d71f22a"
      },
      "source": [
        "When an aromatic nitrogen has an attached hydrogen, this hydrogen must be explicitly specified. Note that if we don't specify an explicit hydrogen on the nitrogen in pyrrole, we get an error."
      ]
    },
    {
      "cell_type": "code",
      "execution_count": 39,
      "id": "04c442b2",
      "metadata": {
        "id": "04c442b2",
        "outputId": "24ef2d43-f643-467d-8d0c-06b70873c2e5",
        "colab": {
          "base_uri": "https://localhost:8080/"
        }
      },
      "outputs": [
        {
          "output_type": "stream",
          "name": "stderr",
          "text": [
            "[05:05:10] Can't kekulize mol.  Unkekulized atoms: 0 1 2 3 4\n"
          ]
        }
      ],
      "source": [
        "mol = Chem.MolFromSmiles(\"c1cccn1\")"
      ]
    },
    {
      "cell_type": "markdown",
      "id": "a81fcecd",
      "metadata": {
        "id": "a81fcecd"
      },
      "source": [
        "If we include the attached hydrogen, the valid SMILES is processed."
      ]
    },
    {
      "cell_type": "code",
      "execution_count": 42,
      "id": "c9aba132",
      "metadata": {
        "id": "c9aba132",
        "outputId": "e6ca1b7f-b921-4762-c5fd-6bfd851ba34c",
        "colab": {
          "base_uri": "https://localhost:8080/",
          "height": 321
        }
      },
      "outputs": [
        {
          "output_type": "execute_result",
          "data": {
            "text/plain": [
              "<rdkit.Chem.rdchem.Mol at 0x794a5e8306d0>"
            ],
            "text/html": [
              "<?xml version='1.0' encoding='iso-8859-1'?>\n",
              "<svg version='1.1' baseProfile='full'\n",
              "              xmlns='http://www.w3.org/2000/svg'\n",
              "                      xmlns:rdkit='http://www.rdkit.org/xml'\n",
              "                      xmlns:xlink='http://www.w3.org/1999/xlink'\n",
              "                  xml:space='preserve'\n",
              "width='300px' height='300px' viewBox='0 0 300 300'>\n",
              "<!-- END OF HEADER -->\n",
              "<rect style='opacity:1.0;fill:#FFFFFF;stroke:none' width='300.0' height='300.0' x='0.0' y='0.0'> </rect>\n",
              "<path class='bond-0 atom-0 atom-1' d='M 255.4,109.2 L 135.9,41.0' style='fill:none;fill-rule:evenodd;stroke:#000000;stroke-width:2.0px;stroke-linecap:butt;stroke-linejoin:miter;stroke-opacity:1' />\n",
              "<path class='bond-0 atom-0 atom-1' d='M 232.2,119.7 L 138.7,66.3' style='fill:none;fill-rule:evenodd;stroke:#000000;stroke-width:2.0px;stroke-linecap:butt;stroke-linejoin:miter;stroke-opacity:1' />\n",
              "<path class='bond-1 atom-1 atom-2' d='M 135.9,41.0 L 34.1,133.6' style='fill:none;fill-rule:evenodd;stroke:#000000;stroke-width:2.0px;stroke-linecap:butt;stroke-linejoin:miter;stroke-opacity:1' />\n",
              "<path class='bond-2 atom-2 atom-3' d='M 34.1,133.6 L 90.7,259.0' style='fill:none;fill-rule:evenodd;stroke:#000000;stroke-width:2.0px;stroke-linecap:butt;stroke-linejoin:miter;stroke-opacity:1' />\n",
              "<path class='bond-2 atom-2 atom-3' d='M 59.1,138.8 L 103.4,236.9' style='fill:none;fill-rule:evenodd;stroke:#000000;stroke-width:2.0px;stroke-linecap:butt;stroke-linejoin:miter;stroke-opacity:1' />\n",
              "<path class='bond-3 atom-3 atom-4' d='M 90.7,259.0 L 151.5,252.3' style='fill:none;fill-rule:evenodd;stroke:#000000;stroke-width:2.0px;stroke-linecap:butt;stroke-linejoin:miter;stroke-opacity:1' />\n",
              "<path class='bond-3 atom-3 atom-4' d='M 151.5,252.3 L 212.2,245.6' style='fill:none;fill-rule:evenodd;stroke:#0000FF;stroke-width:2.0px;stroke-linecap:butt;stroke-linejoin:miter;stroke-opacity:1' />\n",
              "<path class='bond-4 atom-4 atom-0' d='M 231.4,225.2 L 243.4,167.2' style='fill:none;fill-rule:evenodd;stroke:#0000FF;stroke-width:2.0px;stroke-linecap:butt;stroke-linejoin:miter;stroke-opacity:1' />\n",
              "<path class='bond-4 atom-4 atom-0' d='M 243.4,167.2 L 255.4,109.2' style='fill:none;fill-rule:evenodd;stroke:#000000;stroke-width:2.0px;stroke-linecap:butt;stroke-linejoin:miter;stroke-opacity:1' />\n",
              "<path d='M 249.4,105.7 L 255.4,109.2 L 254.8,112.1' style='fill:none;stroke:#000000;stroke-width:2.0px;stroke-linecap:butt;stroke-linejoin:miter;stroke-opacity:1;' />\n",
              "<path d='M 141.8,44.4 L 135.9,41.0 L 130.8,45.6' style='fill:none;stroke:#000000;stroke-width:2.0px;stroke-linecap:butt;stroke-linejoin:miter;stroke-opacity:1;' />\n",
              "<path d='M 39.2,129.0 L 34.1,133.6 L 36.9,139.9' style='fill:none;stroke:#000000;stroke-width:2.0px;stroke-linecap:butt;stroke-linejoin:miter;stroke-opacity:1;' />\n",
              "<path d='M 87.9,252.8 L 90.7,259.0 L 93.8,258.7' style='fill:none;stroke:#000000;stroke-width:2.0px;stroke-linecap:butt;stroke-linejoin:miter;stroke-opacity:1;' />\n",
              "<path class='atom-4' d='M 221.3 229.8\n",
              "L 230.5 244.8\n",
              "Q 231.5 246.2, 232.9 248.9\n",
              "Q 234.4 251.6, 234.5 251.8\n",
              "L 234.5 229.8\n",
              "L 238.3 229.8\n",
              "L 238.3 258.1\n",
              "L 234.4 258.1\n",
              "L 224.4 241.7\n",
              "Q 223.3 239.8, 222.0 237.6\n",
              "Q 220.8 235.4, 220.5 234.7\n",
              "L 220.5 258.1\n",
              "L 216.8 258.1\n",
              "L 216.8 229.8\n",
              "L 221.3 229.8\n",
              "' fill='#0000FF'/>\n",
              "<path class='atom-4' d='M 243.8 229.8\n",
              "L 247.6 229.8\n",
              "L 247.6 241.8\n",
              "L 262.1 241.8\n",
              "L 262.1 229.8\n",
              "L 265.9 229.8\n",
              "L 265.9 258.1\n",
              "L 262.1 258.1\n",
              "L 262.1 245.0\n",
              "L 247.6 245.0\n",
              "L 247.6 258.1\n",
              "L 243.8 258.1\n",
              "L 243.8 229.8\n",
              "' fill='#0000FF'/>\n",
              "</svg>\n"
            ],
            "image/svg+xml": "<?xml version='1.0' encoding='iso-8859-1'?>\n<svg version='1.1' baseProfile='full'\n              xmlns='http://www.w3.org/2000/svg'\n                      xmlns:rdkit='http://www.rdkit.org/xml'\n                      xmlns:xlink='http://www.w3.org/1999/xlink'\n                  xml:space='preserve'\nwidth='300px' height='300px' viewBox='0 0 300 300'>\n<!-- END OF HEADER -->\n<rect style='opacity:1.0;fill:#FFFFFF;stroke:none' width='300.0' height='300.0' x='0.0' y='0.0'> </rect>\n<path class='bond-0 atom-0 atom-1' d='M 255.4,109.2 L 135.9,41.0' style='fill:none;fill-rule:evenodd;stroke:#000000;stroke-width:2.0px;stroke-linecap:butt;stroke-linejoin:miter;stroke-opacity:1' />\n<path class='bond-0 atom-0 atom-1' d='M 232.2,119.7 L 138.7,66.3' style='fill:none;fill-rule:evenodd;stroke:#000000;stroke-width:2.0px;stroke-linecap:butt;stroke-linejoin:miter;stroke-opacity:1' />\n<path class='bond-1 atom-1 atom-2' d='M 135.9,41.0 L 34.1,133.6' style='fill:none;fill-rule:evenodd;stroke:#000000;stroke-width:2.0px;stroke-linecap:butt;stroke-linejoin:miter;stroke-opacity:1' />\n<path class='bond-2 atom-2 atom-3' d='M 34.1,133.6 L 90.7,259.0' style='fill:none;fill-rule:evenodd;stroke:#000000;stroke-width:2.0px;stroke-linecap:butt;stroke-linejoin:miter;stroke-opacity:1' />\n<path class='bond-2 atom-2 atom-3' d='M 59.1,138.8 L 103.4,236.9' style='fill:none;fill-rule:evenodd;stroke:#000000;stroke-width:2.0px;stroke-linecap:butt;stroke-linejoin:miter;stroke-opacity:1' />\n<path class='bond-3 atom-3 atom-4' d='M 90.7,259.0 L 151.5,252.3' style='fill:none;fill-rule:evenodd;stroke:#000000;stroke-width:2.0px;stroke-linecap:butt;stroke-linejoin:miter;stroke-opacity:1' />\n<path class='bond-3 atom-3 atom-4' d='M 151.5,252.3 L 212.2,245.6' style='fill:none;fill-rule:evenodd;stroke:#0000FF;stroke-width:2.0px;stroke-linecap:butt;stroke-linejoin:miter;stroke-opacity:1' />\n<path class='bond-4 atom-4 atom-0' d='M 231.4,225.2 L 243.4,167.2' style='fill:none;fill-rule:evenodd;stroke:#0000FF;stroke-width:2.0px;stroke-linecap:butt;stroke-linejoin:miter;stroke-opacity:1' />\n<path class='bond-4 atom-4 atom-0' d='M 243.4,167.2 L 255.4,109.2' style='fill:none;fill-rule:evenodd;stroke:#000000;stroke-width:2.0px;stroke-linecap:butt;stroke-linejoin:miter;stroke-opacity:1' />\n<path d='M 249.4,105.7 L 255.4,109.2 L 254.8,112.1' style='fill:none;stroke:#000000;stroke-width:2.0px;stroke-linecap:butt;stroke-linejoin:miter;stroke-opacity:1;' />\n<path d='M 141.8,44.4 L 135.9,41.0 L 130.8,45.6' style='fill:none;stroke:#000000;stroke-width:2.0px;stroke-linecap:butt;stroke-linejoin:miter;stroke-opacity:1;' />\n<path d='M 39.2,129.0 L 34.1,133.6 L 36.9,139.9' style='fill:none;stroke:#000000;stroke-width:2.0px;stroke-linecap:butt;stroke-linejoin:miter;stroke-opacity:1;' />\n<path d='M 87.9,252.8 L 90.7,259.0 L 93.8,258.7' style='fill:none;stroke:#000000;stroke-width:2.0px;stroke-linecap:butt;stroke-linejoin:miter;stroke-opacity:1;' />\n<path class='atom-4' d='M 221.3 229.8\nL 230.5 244.8\nQ 231.5 246.2, 232.9 248.9\nQ 234.4 251.6, 234.5 251.8\nL 234.5 229.8\nL 238.3 229.8\nL 238.3 258.1\nL 234.4 258.1\nL 224.4 241.7\nQ 223.3 239.8, 222.0 237.6\nQ 220.8 235.4, 220.5 234.7\nL 220.5 258.1\nL 216.8 258.1\nL 216.8 229.8\nL 221.3 229.8\n' fill='#0000FF'/>\n<path class='atom-4' d='M 243.8 229.8\nL 247.6 229.8\nL 247.6 241.8\nL 262.1 241.8\nL 262.1 229.8\nL 265.9 229.8\nL 265.9 258.1\nL 262.1 258.1\nL 262.1 245.0\nL 247.6 245.0\nL 247.6 258.1\nL 243.8 258.1\nL 243.8 229.8\n' fill='#0000FF'/>\n</svg>\n",
            "image/png": "[encoded data removed]"
          },
          "metadata": {},
          "execution_count": 42
        }
      ],
      "source": [
        "mol = Chem.MolFromSmiles(\"c1ccc[nH]1\")\n",
        "mol"
      ]
    },
    {
      "cell_type": "markdown",
      "id": "c0fdcb1b",
      "metadata": {
        "id": "c0fdcb1b"
      },
      "source": [
        "We also need to include explicit hydrogens when we have an aromatic carbon with a charge.  For instance, we must include an explicit hydrogen on the anionic carbon in cyclopentadienyl anion."
      ]
    },
    {
      "cell_type": "code",
      "execution_count": 43,
      "id": "356a3038",
      "metadata": {
        "id": "356a3038",
        "outputId": "7df8d4e8-981f-488b-e9b1-0595e108af72",
        "colab": {
          "base_uri": "https://localhost:8080/",
          "height": 321
        }
      },
      "outputs": [
        {
          "output_type": "execute_result",
          "data": {
            "text/plain": [
              "<rdkit.Chem.rdchem.Mol at 0x794a5e832960>"
            ],
            "text/html": [
              "<?xml version='1.0' encoding='iso-8859-1'?>\n",
              "<svg version='1.1' baseProfile='full'\n",
              "              xmlns='http://www.w3.org/2000/svg'\n",
              "                      xmlns:rdkit='http://www.rdkit.org/xml'\n",
              "                      xmlns:xlink='http://www.w3.org/1999/xlink'\n",
              "                  xml:space='preserve'\n",
              "width='300px' height='300px' viewBox='0 0 300 300'>\n",
              "<!-- END OF HEADER -->\n",
              "<rect style='opacity:1.0;fill:#FFFFFF;stroke:none' width='300.0' height='300.0' x='0.0' y='0.0'> </rect>\n",
              "<path class='bond-0 atom-0 atom-1' d='M 221.3,244.5 L 83.6,259.7' style='fill:none;fill-rule:evenodd;stroke:#000000;stroke-width:2.0px;stroke-linecap:butt;stroke-linejoin:miter;stroke-opacity:1' />\n",
              "<path class='bond-0 atom-0 atom-1' d='M 204.0,225.5 L 96.3,237.4' style='fill:none;fill-rule:evenodd;stroke:#000000;stroke-width:2.0px;stroke-linecap:butt;stroke-linejoin:miter;stroke-opacity:1' />\n",
              "<path class='bond-1 atom-1 atom-2' d='M 83.6,259.7 L 26.6,133.5' style='fill:none;fill-rule:evenodd;stroke:#000000;stroke-width:2.0px;stroke-linecap:butt;stroke-linejoin:miter;stroke-opacity:1' />\n",
              "<path class='bond-2 atom-2 atom-3' d='M 26.6,133.5 L 129.0,40.3' style='fill:none;fill-rule:evenodd;stroke:#000000;stroke-width:2.0px;stroke-linecap:butt;stroke-linejoin:miter;stroke-opacity:1' />\n",
              "<path class='bond-2 atom-2 atom-3' d='M 51.7,138.7 L 131.9,65.8' style='fill:none;fill-rule:evenodd;stroke:#000000;stroke-width:2.0px;stroke-linecap:butt;stroke-linejoin:miter;stroke-opacity:1' />\n",
              "<path class='bond-3 atom-3 atom-4' d='M 129.0,40.3 L 233.9,100.0' style='fill:none;fill-rule:evenodd;stroke:#000000;stroke-width:2.0px;stroke-linecap:butt;stroke-linejoin:miter;stroke-opacity:1' />\n",
              "<path class='bond-4 atom-4 atom-0' d='M 245.4,128.1 L 221.3,244.5' style='fill:none;fill-rule:evenodd;stroke:#000000;stroke-width:2.0px;stroke-linecap:butt;stroke-linejoin:miter;stroke-opacity:1' />\n",
              "<path d='M 214.4,245.3 L 221.3,244.5 L 222.5,238.7' style='fill:none;stroke:#000000;stroke-width:2.0px;stroke-linecap:butt;stroke-linejoin:miter;stroke-opacity:1;' />\n",
              "<path d='M 90.5,259.0 L 83.6,259.7 L 80.8,253.4' style='fill:none;stroke:#000000;stroke-width:2.0px;stroke-linecap:butt;stroke-linejoin:miter;stroke-opacity:1;' />\n",
              "<path d='M 29.4,139.8 L 26.6,133.5 L 31.7,128.8' style='fill:none;stroke:#000000;stroke-width:2.0px;stroke-linecap:butt;stroke-linejoin:miter;stroke-opacity:1;' />\n",
              "<path d='M 123.9,44.9 L 129.0,40.3 L 134.3,43.2' style='fill:none;stroke:#000000;stroke-width:2.0px;stroke-linecap:butt;stroke-linejoin:miter;stroke-opacity:1;' />\n",
              "<path class='atom-4' d='M 238.5 109.0\n",
              "Q 238.5 102.0, 241.7 98.3\n",
              "Q 245.1 94.6, 251.3 94.6\n",
              "Q 257.2 94.6, 260.3 98.7\n",
              "L 257.7 100.8\n",
              "Q 255.4 97.8, 251.3 97.8\n",
              "Q 247.1 97.8, 244.8 100.7\n",
              "Q 242.5 103.6, 242.5 109.0\n",
              "Q 242.5 114.6, 244.9 117.5\n",
              "Q 247.2 120.4, 251.8 120.4\n",
              "Q 254.9 120.4, 258.5 118.5\n",
              "L 259.7 121.5\n",
              "Q 258.2 122.4, 255.9 123.0\n",
              "Q 253.7 123.6, 251.2 123.6\n",
              "Q 245.1 123.6, 241.7 119.8\n",
              "Q 238.5 116.0, 238.5 109.0\n",
              "' fill='#000000'/>\n",
              "<path class='atom-4' d='M 263.7 99.2\n",
              "L 273.4 99.2\n",
              "L 273.4 101.3\n",
              "L 263.7 101.3\n",
              "L 263.7 99.2\n",
              "' fill='#000000'/>\n",
              "</svg>\n"
            ],
            "image/svg+xml": "<?xml version='1.0' encoding='iso-8859-1'?>\n<svg version='1.1' baseProfile='full'\n              xmlns='http://www.w3.org/2000/svg'\n                      xmlns:rdkit='http://www.rdkit.org/xml'\n                      xmlns:xlink='http://www.w3.org/1999/xlink'\n                  xml:space='preserve'\nwidth='300px' height='300px' viewBox='0 0 300 300'>\n<!-- END OF HEADER -->\n<rect style='opacity:1.0;fill:#FFFFFF;stroke:none' width='300.0' height='300.0' x='0.0' y='0.0'> </rect>\n<path class='bond-0 atom-0 atom-1' d='M 221.3,244.5 L 83.6,259.7' style='fill:none;fill-rule:evenodd;stroke:#000000;stroke-width:2.0px;stroke-linecap:butt;stroke-linejoin:miter;stroke-opacity:1' />\n<path class='bond-0 atom-0 atom-1' d='M 204.0,225.5 L 96.3,237.4' style='fill:none;fill-rule:evenodd;stroke:#000000;stroke-width:2.0px;stroke-linecap:butt;stroke-linejoin:miter;stroke-opacity:1' />\n<path class='bond-1 atom-1 atom-2' d='M 83.6,259.7 L 26.6,133.5' style='fill:none;fill-rule:evenodd;stroke:#000000;stroke-width:2.0px;stroke-linecap:butt;stroke-linejoin:miter;stroke-opacity:1' />\n<path class='bond-2 atom-2 atom-3' d='M 26.6,133.5 L 129.0,40.3' style='fill:none;fill-rule:evenodd;stroke:#000000;stroke-width:2.0px;stroke-linecap:butt;stroke-linejoin:miter;stroke-opacity:1' />\n<path class='bond-2 atom-2 atom-3' d='M 51.7,138.7 L 131.9,65.8' style='fill:none;fill-rule:evenodd;stroke:#000000;stroke-width:2.0px;stroke-linecap:butt;stroke-linejoin:miter;stroke-opacity:1' />\n<path class='bond-3 atom-3 atom-4' d='M 129.0,40.3 L 233.9,100.0' style='fill:none;fill-rule:evenodd;stroke:#000000;stroke-width:2.0px;stroke-linecap:butt;stroke-linejoin:miter;stroke-opacity:1' />\n<path class='bond-4 atom-4 atom-0' d='M 245.4,128.1 L 221.3,244.5' style='fill:none;fill-rule:evenodd;stroke:#000000;stroke-width:2.0px;stroke-linecap:butt;stroke-linejoin:miter;stroke-opacity:1' />\n<path d='M 214.4,245.3 L 221.3,244.5 L 222.5,238.7' style='fill:none;stroke:#000000;stroke-width:2.0px;stroke-linecap:butt;stroke-linejoin:miter;stroke-opacity:1;' />\n<path d='M 90.5,259.0 L 83.6,259.7 L 80.8,253.4' style='fill:none;stroke:#000000;stroke-width:2.0px;stroke-linecap:butt;stroke-linejoin:miter;stroke-opacity:1;' />\n<path d='M 29.4,139.8 L 26.6,133.5 L 31.7,128.8' style='fill:none;stroke:#000000;stroke-width:2.0px;stroke-linecap:butt;stroke-linejoin:miter;stroke-opacity:1;' />\n<path d='M 123.9,44.9 L 129.0,40.3 L 134.3,43.2' style='fill:none;stroke:#000000;stroke-width:2.0px;stroke-linecap:butt;stroke-linejoin:miter;stroke-opacity:1;' />\n<path class='atom-4' d='M 238.5 109.0\nQ 238.5 102.0, 241.7 98.3\nQ 245.1 94.6, 251.3 94.6\nQ 257.2 94.6, 260.3 98.7\nL 257.7 100.8\nQ 255.4 97.8, 251.3 97.8\nQ 247.1 97.8, 244.8 100.7\nQ 242.5 103.6, 242.5 109.0\nQ 242.5 114.6, 244.9 117.5\nQ 247.2 120.4, 251.8 120.4\nQ 254.9 120.4, 258.5 118.5\nL 259.7 121.5\nQ 258.2 122.4, 255.9 123.0\nQ 253.7 123.6, 251.2 123.6\nQ 245.1 123.6, 241.7 119.8\nQ 238.5 116.0, 238.5 109.0\n' fill='#000000'/>\n<path class='atom-4' d='M 263.7 99.2\nL 273.4 99.2\nL 273.4 101.3\nL 263.7 101.3\nL 263.7 99.2\n' fill='#000000'/>\n</svg>\n",
            "image/png": "[encoded data removed]"
          },
          "metadata": {},
          "execution_count": 43
        }
      ],
      "source": [
        "mol = Chem.MolFromSmiles(\"c1ccc[cH-]1\")\n",
        "mol"
      ]
    },
    {
      "cell_type": "markdown",
      "id": "62fac59b",
      "metadata": {
        "id": "62fac59b"
      },
      "source": [
        "### Exercise\n",
        "\n",
        "Write the SMILES and display a table of chemical structures for the following.\n",
        "\n",
        "1. furan\n",
        "2. benzimidazole\n",
        "3. toluene\n",
        "4. indole\n",
        "5. tropyllium cation\n",
        "6. napthalene"
      ]
    },
    {
      "cell_type": "code",
      "execution_count": 44,
      "id": "47ee8466",
      "metadata": {
        "id": "47ee8466"
      },
      "outputs": [],
      "source": [
        "#Write your code here"
      ]
    },
    {
      "cell_type": "markdown",
      "id": "9d89dc1d",
      "metadata": {
        "id": "9d89dc1d"
      },
      "source": [
        "### Stereochemistry\n",
        "\n",
        "In SMILES, tetrahedral stereochemistry is indicated by \"@\" indicating anticlockwise and \"@@\" indicating clockwise. Quoting from the Daylight SMILES tutorial.\n",
        "<pre>\n",
        "Looking FROM the 1st neighbor listed in the SMILES TO the chiral atom, the other three neighbors appear anticlockwise or clockwise in the order listed.\n",
        "</pre>\n",
        "Also, note that a chiral atom will be listed in square brackets and any attached hydrogens must be explicitly specified."
      ]
    },
    {
      "cell_type": "code",
      "execution_count": 46,
      "id": "3071e8ce",
      "metadata": {
        "id": "3071e8ce",
        "outputId": "d81b0404-b693-452d-d226-ecee995c3090",
        "colab": {
          "base_uri": "https://localhost:8080/",
          "height": 321
        }
      },
      "outputs": [
        {
          "output_type": "execute_result",
          "data": {
            "text/plain": [
              "<rdkit.Chem.rdchem.Mol at 0x794a5e7111c0>"
            ],
            "text/html": [
              "<?xml version='1.0' encoding='iso-8859-1'?>\n",
              "<svg version='1.1' baseProfile='full'\n",
              "              xmlns='http://www.w3.org/2000/svg'\n",
              "                      xmlns:rdkit='http://www.rdkit.org/xml'\n",
              "                      xmlns:xlink='http://www.w3.org/1999/xlink'\n",
              "                  xml:space='preserve'\n",
              "width='300px' height='300px' viewBox='0 0 300 300'>\n",
              "<!-- END OF HEADER -->\n",
              "<rect style='opacity:1.0;fill:#FFFFFF;stroke:none' width='300.0' height='300.0' x='0.0' y='0.0'> </rect>\n",
              "<path class='bond-0 atom-0 atom-1' d='M 141.1,184.7 L 140.8,184.2' style='fill:none;fill-rule:evenodd;stroke:#000000;stroke-width:1.0px;stroke-linecap:butt;stroke-linejoin:miter;stroke-opacity:1' />\n",
              "<path class='bond-0 atom-0 atom-1' d='M 138.1,186.6 L 137.6,185.7' style='fill:none;fill-rule:evenodd;stroke:#000000;stroke-width:1.0px;stroke-linecap:butt;stroke-linejoin:miter;stroke-opacity:1' />\n",
              "<path class='bond-0 atom-0 atom-1' d='M 135.2,188.6 L 134.4,187.2' style='fill:none;fill-rule:evenodd;stroke:#000000;stroke-width:1.0px;stroke-linecap:butt;stroke-linejoin:miter;stroke-opacity:1' />\n",
              "<path class='bond-0 atom-0 atom-1' d='M 132.3,190.6 L 131.2,188.8' style='fill:none;fill-rule:evenodd;stroke:#000000;stroke-width:1.0px;stroke-linecap:butt;stroke-linejoin:miter;stroke-opacity:1' />\n",
              "<path class='bond-0 atom-0 atom-1' d='M 129.3,192.6 L 128.0,190.3' style='fill:none;fill-rule:evenodd;stroke:#000000;stroke-width:1.0px;stroke-linecap:butt;stroke-linejoin:miter;stroke-opacity:1' />\n",
              "<path class='bond-0 atom-0 atom-1' d='M 126.4,194.6 L 124.8,191.8' style='fill:none;fill-rule:evenodd;stroke:#000000;stroke-width:1.0px;stroke-linecap:butt;stroke-linejoin:miter;stroke-opacity:1' />\n",
              "<path class='bond-0 atom-0 atom-1' d='M 123.5,196.6 L 121.6,193.3' style='fill:none;fill-rule:evenodd;stroke:#000000;stroke-width:1.0px;stroke-linecap:butt;stroke-linejoin:miter;stroke-opacity:1' />\n",
              "<path class='bond-0 atom-0 atom-1' d='M 120.5,198.6 L 118.4,194.9' style='fill:none;fill-rule:evenodd;stroke:#000000;stroke-width:1.0px;stroke-linecap:butt;stroke-linejoin:miter;stroke-opacity:1' />\n",
              "<path class='bond-0 atom-0 atom-1' d='M 117.6,200.5 L 115.2,196.4' style='fill:none;fill-rule:evenodd;stroke:#000000;stroke-width:1.0px;stroke-linecap:butt;stroke-linejoin:miter;stroke-opacity:1' />\n",
              "<path class='bond-0 atom-0 atom-1' d='M 114.7,202.5 L 112.0,197.9' style='fill:none;fill-rule:evenodd;stroke:#000000;stroke-width:1.0px;stroke-linecap:butt;stroke-linejoin:miter;stroke-opacity:1' />\n",
              "<path class='bond-0 atom-0 atom-1' d='M 111.7,204.5 L 108.8,199.5' style='fill:none;fill-rule:evenodd;stroke:#000000;stroke-width:1.0px;stroke-linecap:butt;stroke-linejoin:miter;stroke-opacity:1' />\n",
              "<path class='bond-0 atom-0 atom-1' d='M 108.8,206.5 L 105.6,201.0' style='fill:none;fill-rule:evenodd;stroke:#000000;stroke-width:1.0px;stroke-linecap:butt;stroke-linejoin:miter;stroke-opacity:1' />\n",
              "<path class='bond-0 atom-0 atom-1' d='M 105.9,208.5 L 102.4,202.5' style='fill:none;fill-rule:evenodd;stroke:#000000;stroke-width:1.0px;stroke-linecap:butt;stroke-linejoin:miter;stroke-opacity:1' />\n",
              "<path class='bond-0 atom-0 atom-1' d='M 102.9,210.5 L 99.2,204.0' style='fill:none;fill-rule:evenodd;stroke:#000000;stroke-width:1.0px;stroke-linecap:butt;stroke-linejoin:miter;stroke-opacity:1' />\n",
              "<path class='bond-0 atom-0 atom-1' d='M 100.0,212.5 L 96.0,205.6' style='fill:none;fill-rule:evenodd;stroke:#000000;stroke-width:1.0px;stroke-linecap:butt;stroke-linejoin:miter;stroke-opacity:1' />\n",
              "<path class='bond-0 atom-0 atom-1' d='M 97.1,214.4 L 92.8,207.1' style='fill:none;fill-rule:evenodd;stroke:#000000;stroke-width:1.0px;stroke-linecap:butt;stroke-linejoin:miter;stroke-opacity:1' />\n",
              "<path class='bond-0 atom-0 atom-1' d='M 94.1,216.4 L 89.6,208.6' style='fill:none;fill-rule:evenodd;stroke:#000000;stroke-width:1.0px;stroke-linecap:butt;stroke-linejoin:miter;stroke-opacity:1' />\n",
              "<path class='bond-0 atom-0 atom-1' d='M 91.2,218.4 L 86.4,210.1' style='fill:none;fill-rule:evenodd;stroke:#000000;stroke-width:1.0px;stroke-linecap:butt;stroke-linejoin:miter;stroke-opacity:1' />\n",
              "<path class='bond-0 atom-0 atom-1' d='M 88.3,220.4 L 83.3,211.7' style='fill:none;fill-rule:evenodd;stroke:#000000;stroke-width:1.0px;stroke-linecap:butt;stroke-linejoin:miter;stroke-opacity:1' />\n",
              "<path class='bond-0 atom-0 atom-1' d='M 85.3,222.4 L 80.1,213.2' style='fill:none;fill-rule:evenodd;stroke:#000000;stroke-width:1.0px;stroke-linecap:butt;stroke-linejoin:miter;stroke-opacity:1' />\n",
              "<path class='bond-0 atom-0 atom-1' d='M 82.4,224.4 L 76.9,214.7' style='fill:none;fill-rule:evenodd;stroke:#000000;stroke-width:1.0px;stroke-linecap:butt;stroke-linejoin:miter;stroke-opacity:1' />\n",
              "<path class='bond-0 atom-0 atom-1' d='M 79.4,226.3 L 73.7,216.2' style='fill:none;fill-rule:evenodd;stroke:#000000;stroke-width:1.0px;stroke-linecap:butt;stroke-linejoin:miter;stroke-opacity:1' />\n",
              "<path class='bond-0 atom-0 atom-1' d='M 76.5,228.3 L 70.5,217.8' style='fill:none;fill-rule:evenodd;stroke:#000000;stroke-width:1.0px;stroke-linecap:butt;stroke-linejoin:miter;stroke-opacity:1' />\n",
              "<path class='bond-0 atom-0 atom-1' d='M 73.6,230.3 L 67.3,219.3' style='fill:none;fill-rule:evenodd;stroke:#000000;stroke-width:1.0px;stroke-linecap:butt;stroke-linejoin:miter;stroke-opacity:1' />\n",
              "<path class='bond-0 atom-0 atom-1' d='M 70.6,232.3 L 64.1,220.8' style='fill:none;fill-rule:evenodd;stroke:#000000;stroke-width:1.0px;stroke-linecap:butt;stroke-linejoin:miter;stroke-opacity:1' />\n",
              "<path class='bond-0 atom-0 atom-1' d='M 67.7,234.3 L 60.9,222.3' style='fill:none;fill-rule:evenodd;stroke:#000000;stroke-width:1.0px;stroke-linecap:butt;stroke-linejoin:miter;stroke-opacity:1' />\n",
              "<path class='bond-0 atom-0 atom-1' d='M 64.8,236.3 L 57.7,223.9' style='fill:none;fill-rule:evenodd;stroke:#000000;stroke-width:1.0px;stroke-linecap:butt;stroke-linejoin:miter;stroke-opacity:1' />\n",
              "<path class='bond-0 atom-0 atom-1' d='M 61.8,238.3 L 54.5,225.4' style='fill:none;fill-rule:evenodd;stroke:#000000;stroke-width:1.0px;stroke-linecap:butt;stroke-linejoin:miter;stroke-opacity:1' />\n",
              "<path class='bond-0 atom-0 atom-1' d='M 58.9,240.2 L 51.3,226.9' style='fill:none;fill-rule:evenodd;stroke:#000000;stroke-width:1.0px;stroke-linecap:butt;stroke-linejoin:miter;stroke-opacity:1' />\n",
              "<path class='bond-0 atom-0 atom-1' d='M 56.0,242.2 L 48.1,228.4' style='fill:none;fill-rule:evenodd;stroke:#000000;stroke-width:1.0px;stroke-linecap:butt;stroke-linejoin:miter;stroke-opacity:1' />\n",
              "<path class='bond-0 atom-0 atom-1' d='M 53.0,244.2 L 44.9,230.0' style='fill:none;fill-rule:evenodd;stroke:#000000;stroke-width:1.0px;stroke-linecap:butt;stroke-linejoin:miter;stroke-opacity:1' />\n",
              "<path class='bond-0 atom-0 atom-1' d='M 50.1,246.2 L 41.7,231.5' style='fill:none;fill-rule:evenodd;stroke:#000000;stroke-width:1.0px;stroke-linecap:butt;stroke-linejoin:miter;stroke-opacity:1' />\n",
              "<path class='bond-0 atom-0 atom-1' d='M 47.2,248.2 L 38.5,233.0' style='fill:none;fill-rule:evenodd;stroke:#000000;stroke-width:1.0px;stroke-linecap:butt;stroke-linejoin:miter;stroke-opacity:1' />\n",
              "<path class='bond-0 atom-0 atom-1' d='M 44.2,250.2 L 35.3,234.5' style='fill:none;fill-rule:evenodd;stroke:#000000;stroke-width:1.0px;stroke-linecap:butt;stroke-linejoin:miter;stroke-opacity:1' />\n",
              "<path class='bond-0 atom-0 atom-1' d='M 41.3,252.2 L 32.1,236.1' style='fill:none;fill-rule:evenodd;stroke:#000000;stroke-width:1.0px;stroke-linecap:butt;stroke-linejoin:miter;stroke-opacity:1' />\n",
              "<path class='bond-0 atom-0 atom-1' d='M 38.4,254.1 L 28.9,237.6' style='fill:none;fill-rule:evenodd;stroke:#000000;stroke-width:1.0px;stroke-linecap:butt;stroke-linejoin:miter;stroke-opacity:1' />\n",
              "<path class='bond-0 atom-0 atom-1' d='M 35.4,256.1 L 25.7,239.1' style='fill:none;fill-rule:evenodd;stroke:#000000;stroke-width:1.0px;stroke-linecap:butt;stroke-linejoin:miter;stroke-opacity:1' />\n",
              "<path class='bond-0 atom-0 atom-1' d='M 32.5,258.1 L 22.5,240.6' style='fill:none;fill-rule:evenodd;stroke:#000000;stroke-width:1.0px;stroke-linecap:butt;stroke-linejoin:miter;stroke-opacity:1' />\n",
              "<path class='bond-1 atom-0 atom-2' d='M 144.0,182.7 L 194.3,212.0' style='fill:none;fill-rule:evenodd;stroke:#000000;stroke-width:2.0px;stroke-linecap:butt;stroke-linejoin:miter;stroke-opacity:1' />\n",
              "<path class='bond-1 atom-0 atom-2' d='M 194.3,212.0 L 244.7,241.3' style='fill:none;fill-rule:evenodd;stroke:#00CC00;stroke-width:2.0px;stroke-linecap:butt;stroke-linejoin:miter;stroke-opacity:1' />\n",
              "<path class='bond-2 atom-0 atom-3' d='M 144.0,182.7 L 144.2,124.8' style='fill:none;fill-rule:evenodd;stroke:#000000;stroke-width:2.0px;stroke-linecap:butt;stroke-linejoin:miter;stroke-opacity:1' />\n",
              "<path class='bond-2 atom-0 atom-3' d='M 144.2,124.8 L 144.4,67.0' style='fill:none;fill-rule:evenodd;stroke:#7F4C19;stroke-width:2.0px;stroke-linecap:butt;stroke-linejoin:miter;stroke-opacity:1' />\n",
              "<path d='M 146.5,184.1 L 144.0,182.7 L 144.0,179.8' style='fill:none;stroke:#000000;stroke-width:2.0px;stroke-linecap:butt;stroke-linejoin:miter;stroke-opacity:1;' />\n",
              "<path class='atom-2' d='M 249.1 251.2\n",
              "Q 249.1 244.1, 252.4 240.5\n",
              "Q 255.7 236.7, 262.0 236.7\n",
              "Q 267.8 236.7, 270.9 240.9\n",
              "L 268.3 243.0\n",
              "Q 266.0 240.0, 262.0 240.0\n",
              "Q 257.7 240.0, 255.4 242.9\n",
              "Q 253.2 245.7, 253.2 251.2\n",
              "Q 253.2 256.8, 255.5 259.7\n",
              "Q 257.9 262.5, 262.4 262.5\n",
              "Q 265.5 262.5, 269.2 260.7\n",
              "L 270.3 263.7\n",
              "Q 268.8 264.6, 266.6 265.2\n",
              "Q 264.3 265.7, 261.9 265.7\n",
              "Q 255.7 265.7, 252.4 262.0\n",
              "Q 249.1 258.2, 249.1 251.2\n",
              "' fill='#00CC00'/>\n",
              "<path class='atom-2' d='M 273.8 235.0\n",
              "L 277.5 235.0\n",
              "L 277.5 265.4\n",
              "L 273.8 265.4\n",
              "L 273.8 235.0\n",
              "' fill='#00CC00'/>\n",
              "<path class='atom-3' d='M 148.6 47.7\n",
              "Q 151.3 48.5, 152.7 50.1\n",
              "Q 154.1 51.8, 154.1 54.2\n",
              "Q 154.1 58.1, 151.6 60.4\n",
              "Q 149.1 62.6, 144.4 62.6\n",
              "L 134.9 62.6\n",
              "L 134.9 34.3\n",
              "L 143.2 34.3\n",
              "Q 148.1 34.3, 150.5 36.2\n",
              "Q 152.9 38.2, 152.9 41.8\n",
              "Q 152.9 46.1, 148.6 47.7\n",
              "M 138.7 37.5\n",
              "L 138.7 46.3\n",
              "L 143.2 46.3\n",
              "Q 146.0 46.3, 147.5 45.2\n",
              "Q 148.9 44.1, 148.9 41.8\n",
              "Q 148.9 37.5, 143.2 37.5\n",
              "L 138.7 37.5\n",
              "M 144.4 59.4\n",
              "Q 147.1 59.4, 148.6 58.1\n",
              "Q 150.1 56.7, 150.1 54.2\n",
              "Q 150.1 51.9, 148.5 50.7\n",
              "Q 146.9 49.5, 143.8 49.5\n",
              "L 138.7 49.5\n",
              "L 138.7 59.4\n",
              "L 144.4 59.4\n",
              "' fill='#7F4C19'/>\n",
              "<path class='atom-3' d='M 160.5 42.0\n",
              "L 161.0 44.9\n",
              "Q 163.1 41.7, 166.7 41.7\n",
              "Q 167.8 41.7, 169.3 42.1\n",
              "L 168.7 45.4\n",
              "Q 167.0 45.0, 166.0 45.0\n",
              "Q 164.3 45.0, 163.2 45.7\n",
              "Q 162.1 46.3, 161.3 47.9\n",
              "L 161.3 62.6\n",
              "L 157.5 62.6\n",
              "L 157.5 42.0\n",
              "L 160.5 42.0\n",
              "' fill='#7F4C19'/>\n",
              "</svg>\n"
            ],
            "image/svg+xml": "<?xml version='1.0' encoding='iso-8859-1'?>\n<svg version='1.1' baseProfile='full'\n              xmlns='http://www.w3.org/2000/svg'\n                      xmlns:rdkit='http://www.rdkit.org/xml'\n                      xmlns:xlink='http://www.w3.org/1999/xlink'\n                  xml:space='preserve'\nwidth='300px' height='300px' viewBox='0 0 300 300'>\n<!-- END OF HEADER -->\n<rect style='opacity:1.0;fill:#FFFFFF;stroke:none' width='300.0' height='300.0' x='0.0' y='0.0'> </rect>\n<path class='bond-0 atom-0 atom-1' d='M 141.1,184.7 L 140.8,184.2' style='fill:none;fill-rule:evenodd;stroke:#000000;stroke-width:1.0px;stroke-linecap:butt;stroke-linejoin:miter;stroke-opacity:1' />\n<path class='bond-0 atom-0 atom-1' d='M 138.1,186.6 L 137.6,185.7' style='fill:none;fill-rule:evenodd;stroke:#000000;stroke-width:1.0px;stroke-linecap:butt;stroke-linejoin:miter;stroke-opacity:1' />\n<path class='bond-0 atom-0 atom-1' d='M 135.2,188.6 L 134.4,187.2' style='fill:none;fill-rule:evenodd;stroke:#000000;stroke-width:1.0px;stroke-linecap:butt;stroke-linejoin:miter;stroke-opacity:1' />\n<path class='bond-0 atom-0 atom-1' d='M 132.3,190.6 L 131.2,188.8' style='fill:none;fill-rule:evenodd;stroke:#000000;stroke-width:1.0px;stroke-linecap:butt;stroke-linejoin:miter;stroke-opacity:1' />\n<path class='bond-0 atom-0 atom-1' d='M 129.3,192.6 L 128.0,190.3' style='fill:none;fill-rule:evenodd;stroke:#000000;stroke-width:1.0px;stroke-linecap:butt;stroke-linejoin:miter;stroke-opacity:1' />\n<path class='bond-0 atom-0 atom-1' d='M 126.4,194.6 L 124.8,191.8' style='fill:none;fill-rule:evenodd;stroke:#000000;stroke-width:1.0px;stroke-linecap:butt;stroke-linejoin:miter;stroke-opacity:1' />\n<path class='bond-0 atom-0 atom-1' d='M 123.5,196.6 L 121.6,193.3' style='fill:none;fill-rule:evenodd;stroke:#000000;stroke-width:1.0px;stroke-linecap:butt;stroke-linejoin:miter;stroke-opacity:1' />\n<path class='bond-0 atom-0 atom-1' d='M 120.5,198.6 L 118.4,194.9' style='fill:none;fill-rule:evenodd;stroke:#000000;stroke-width:1.0px;stroke-linecap:butt;stroke-linejoin:miter;stroke-opacity:1' />\n<path class='bond-0 atom-0 atom-1' d='M 117.6,200.5 L 115.2,196.4' style='fill:none;fill-rule:evenodd;stroke:#000000;stroke-width:1.0px;stroke-linecap:butt;stroke-linejoin:miter;stroke-opacity:1' />\n<path class='bond-0 atom-0 atom-1' d='M 114.7,202.5 L 112.0,197.9' style='fill:none;fill-rule:evenodd;stroke:#000000;stroke-width:1.0px;stroke-linecap:butt;stroke-linejoin:miter;stroke-opacity:1' />\n<path class='bond-0 atom-0 atom-1' d='M 111.7,204.5 L 108.8,199.5' style='fill:none;fill-rule:evenodd;stroke:#000000;stroke-width:1.0px;stroke-linecap:butt;stroke-linejoin:miter;stroke-opacity:1' />\n<path class='bond-0 atom-0 atom-1' d='M 108.8,206.5 L 105.6,201.0' style='fill:none;fill-rule:evenodd;stroke:#000000;stroke-width:1.0px;stroke-linecap:butt;stroke-linejoin:miter;stroke-opacity:1' />\n<path class='bond-0 atom-0 atom-1' d='M 105.9,208.5 L 102.4,202.5' style='fill:none;fill-rule:evenodd;stroke:#000000;stroke-width:1.0px;stroke-linecap:butt;stroke-linejoin:miter;stroke-opacity:1' />\n<path class='bond-0 atom-0 atom-1' d='M 102.9,210.5 L 99.2,204.0' style='fill:none;fill-rule:evenodd;stroke:#000000;stroke-width:1.0px;stroke-linecap:butt;stroke-linejoin:miter;stroke-opacity:1' />\n<path class='bond-0 atom-0 atom-1' d='M 100.0,212.5 L 96.0,205.6' style='fill:none;fill-rule:evenodd;stroke:#000000;stroke-width:1.0px;stroke-linecap:butt;stroke-linejoin:miter;stroke-opacity:1' />\n<path class='bond-0 atom-0 atom-1' d='M 97.1,214.4 L 92.8,207.1' style='fill:none;fill-rule:evenodd;stroke:#000000;stroke-width:1.0px;stroke-linecap:butt;stroke-linejoin:miter;stroke-opacity:1' />\n<path class='bond-0 atom-0 atom-1' d='M 94.1,216.4 L 89.6,208.6' style='fill:none;fill-rule:evenodd;stroke:#000000;stroke-width:1.0px;stroke-linecap:butt;stroke-linejoin:miter;stroke-opacity:1' />\n<path class='bond-0 atom-0 atom-1' d='M 91.2,218.4 L 86.4,210.1' style='fill:none;fill-rule:evenodd;stroke:#000000;stroke-width:1.0px;stroke-linecap:butt;stroke-linejoin:miter;stroke-opacity:1' />\n<path class='bond-0 atom-0 atom-1' d='M 88.3,220.4 L 83.3,211.7' style='fill:none;fill-rule:evenodd;stroke:#000000;stroke-width:1.0px;stroke-linecap:butt;stroke-linejoin:miter;stroke-opacity:1' />\n<path class='bond-0 atom-0 atom-1' d='M 85.3,222.4 L 80.1,213.2' style='fill:none;fill-rule:evenodd;stroke:#000000;stroke-width:1.0px;stroke-linecap:butt;stroke-linejoin:miter;stroke-opacity:1' />\n<path class='bond-0 atom-0 atom-1' d='M 82.4,224.4 L 76.9,214.7' style='fill:none;fill-rule:evenodd;stroke:#000000;stroke-width:1.0px;stroke-linecap:butt;stroke-linejoin:miter;stroke-opacity:1' />\n<path class='bond-0 atom-0 atom-1' d='M 79.4,226.3 L 73.7,216.2' style='fill:none;fill-rule:evenodd;stroke:#000000;stroke-width:1.0px;stroke-linecap:butt;stroke-linejoin:miter;stroke-opacity:1' />\n<path class='bond-0 atom-0 atom-1' d='M 76.5,228.3 L 70.5,217.8' style='fill:none;fill-rule:evenodd;stroke:#000000;stroke-width:1.0px;stroke-linecap:butt;stroke-linejoin:miter;stroke-opacity:1' />\n<path class='bond-0 atom-0 atom-1' d='M 73.6,230.3 L 67.3,219.3' style='fill:none;fill-rule:evenodd;stroke:#000000;stroke-width:1.0px;stroke-linecap:butt;stroke-linejoin:miter;stroke-opacity:1' />\n<path class='bond-0 atom-0 atom-1' d='M 70.6,232.3 L 64.1,220.8' style='fill:none;fill-rule:evenodd;stroke:#000000;stroke-width:1.0px;stroke-linecap:butt;stroke-linejoin:miter;stroke-opacity:1' />\n<path class='bond-0 atom-0 atom-1' d='M 67.7,234.3 L 60.9,222.3' style='fill:none;fill-rule:evenodd;stroke:#000000;stroke-width:1.0px;stroke-linecap:butt;stroke-linejoin:miter;stroke-opacity:1' />\n<path class='bond-0 atom-0 atom-1' d='M 64.8,236.3 L 57.7,223.9' style='fill:none;fill-rule:evenodd;stroke:#000000;stroke-width:1.0px;stroke-linecap:butt;stroke-linejoin:miter;stroke-opacity:1' />\n<path class='bond-0 atom-0 atom-1' d='M 61.8,238.3 L 54.5,225.4' style='fill:none;fill-rule:evenodd;stroke:#000000;stroke-width:1.0px;stroke-linecap:butt;stroke-linejoin:miter;stroke-opacity:1' />\n<path class='bond-0 atom-0 atom-1' d='M 58.9,240.2 L 51.3,226.9' style='fill:none;fill-rule:evenodd;stroke:#000000;stroke-width:1.0px;stroke-linecap:butt;stroke-linejoin:miter;stroke-opacity:1' />\n<path class='bond-0 atom-0 atom-1' d='M 56.0,242.2 L 48.1,228.4' style='fill:none;fill-rule:evenodd;stroke:#000000;stroke-width:1.0px;stroke-linecap:butt;stroke-linejoin:miter;stroke-opacity:1' />\n<path class='bond-0 atom-0 atom-1' d='M 53.0,244.2 L 44.9,230.0' style='fill:none;fill-rule:evenodd;stroke:#000000;stroke-width:1.0px;stroke-linecap:butt;stroke-linejoin:miter;stroke-opacity:1' />\n<path class='bond-0 atom-0 atom-1' d='M 50.1,246.2 L 41.7,231.5' style='fill:none;fill-rule:evenodd;stroke:#000000;stroke-width:1.0px;stroke-linecap:butt;stroke-linejoin:miter;stroke-opacity:1' />\n<path class='bond-0 atom-0 atom-1' d='M 47.2,248.2 L 38.5,233.0' style='fill:none;fill-rule:evenodd;stroke:#000000;stroke-width:1.0px;stroke-linecap:butt;stroke-linejoin:miter;stroke-opacity:1' />\n<path class='bond-0 atom-0 atom-1' d='M 44.2,250.2 L 35.3,234.5' style='fill:none;fill-rule:evenodd;stroke:#000000;stroke-width:1.0px;stroke-linecap:butt;stroke-linejoin:miter;stroke-opacity:1' />\n<path class='bond-0 atom-0 atom-1' d='M 41.3,252.2 L 32.1,236.1' style='fill:none;fill-rule:evenodd;stroke:#000000;stroke-width:1.0px;stroke-linecap:butt;stroke-linejoin:miter;stroke-opacity:1' />\n<path class='bond-0 atom-0 atom-1' d='M 38.4,254.1 L 28.9,237.6' style='fill:none;fill-rule:evenodd;stroke:#000000;stroke-width:1.0px;stroke-linecap:butt;stroke-linejoin:miter;stroke-opacity:1' />\n<path class='bond-0 atom-0 atom-1' d='M 35.4,256.1 L 25.7,239.1' style='fill:none;fill-rule:evenodd;stroke:#000000;stroke-width:1.0px;stroke-linecap:butt;stroke-linejoin:miter;stroke-opacity:1' />\n<path class='bond-0 atom-0 atom-1' d='M 32.5,258.1 L 22.5,240.6' style='fill:none;fill-rule:evenodd;stroke:#000000;stroke-width:1.0px;stroke-linecap:butt;stroke-linejoin:miter;stroke-opacity:1' />\n<path class='bond-1 atom-0 atom-2' d='M 144.0,182.7 L 194.3,212.0' style='fill:none;fill-rule:evenodd;stroke:#000000;stroke-width:2.0px;stroke-linecap:butt;stroke-linejoin:miter;stroke-opacity:1' />\n<path class='bond-1 atom-0 atom-2' d='M 194.3,212.0 L 244.7,241.3' style='fill:none;fill-rule:evenodd;stroke:#00CC00;stroke-width:2.0px;stroke-linecap:butt;stroke-linejoin:miter;stroke-opacity:1' />\n<path class='bond-2 atom-0 atom-3' d='M 144.0,182.7 L 144.2,124.8' style='fill:none;fill-rule:evenodd;stroke:#000000;stroke-width:2.0px;stroke-linecap:butt;stroke-linejoin:miter;stroke-opacity:1' />\n<path class='bond-2 atom-0 atom-3' d='M 144.2,124.8 L 144.4,67.0' style='fill:none;fill-rule:evenodd;stroke:#7F4C19;stroke-width:2.0px;stroke-linecap:butt;stroke-linejoin:miter;stroke-opacity:1' />\n<path d='M 146.5,184.1 L 144.0,182.7 L 144.0,179.8' style='fill:none;stroke:#000000;stroke-width:2.0px;stroke-linecap:butt;stroke-linejoin:miter;stroke-opacity:1;' />\n<path class='atom-2' d='M 249.1 251.2\nQ 249.1 244.1, 252.4 240.5\nQ 255.7 236.7, 262.0 236.7\nQ 267.8 236.7, 270.9 240.9\nL 268.3 243.0\nQ 266.0 240.0, 262.0 240.0\nQ 257.7 240.0, 255.4 242.9\nQ 253.2 245.7, 253.2 251.2\nQ 253.2 256.8, 255.5 259.7\nQ 257.9 262.5, 262.4 262.5\nQ 265.5 262.5, 269.2 260.7\nL 270.3 263.7\nQ 268.8 264.6, 266.6 265.2\nQ 264.3 265.7, 261.9 265.7\nQ 255.7 265.7, 252.4 262.0\nQ 249.1 258.2, 249.1 251.2\n' fill='#00CC00'/>\n<path class='atom-2' d='M 273.8 235.0\nL 277.5 235.0\nL 277.5 265.4\nL 273.8 265.4\nL 273.8 235.0\n' fill='#00CC00'/>\n<path class='atom-3' d='M 148.6 47.7\nQ 151.3 48.5, 152.7 50.1\nQ 154.1 51.8, 154.1 54.2\nQ 154.1 58.1, 151.6 60.4\nQ 149.1 62.6, 144.4 62.6\nL 134.9 62.6\nL 134.9 34.3\nL 143.2 34.3\nQ 148.1 34.3, 150.5 36.2\nQ 152.9 38.2, 152.9 41.8\nQ 152.9 46.1, 148.6 47.7\nM 138.7 37.5\nL 138.7 46.3\nL 143.2 46.3\nQ 146.0 46.3, 147.5 45.2\nQ 148.9 44.1, 148.9 41.8\nQ 148.9 37.5, 143.2 37.5\nL 138.7 37.5\nM 144.4 59.4\nQ 147.1 59.4, 148.6 58.1\nQ 150.1 56.7, 150.1 54.2\nQ 150.1 51.9, 148.5 50.7\nQ 146.9 49.5, 143.8 49.5\nL 138.7 49.5\nL 138.7 59.4\nL 144.4 59.4\n' fill='#7F4C19'/>\n<path class='atom-3' d='M 160.5 42.0\nL 161.0 44.9\nQ 163.1 41.7, 166.7 41.7\nQ 167.8 41.7, 169.3 42.1\nL 168.7 45.4\nQ 167.0 45.0, 166.0 45.0\nQ 164.3 45.0, 163.2 45.7\nQ 162.1 46.3, 161.3 47.9\nL 161.3 62.6\nL 157.5 62.6\nL 157.5 42.0\nL 160.5 42.0\n' fill='#7F4C19'/>\n</svg>\n",
            "image/png": "[encoded data removed]"
          },
          "metadata": {},
          "execution_count": 46
        }
      ],
      "source": [
        "Chem.MolFromSmiles(\"[C@H](C)(Cl)(Br)\")"
      ]
    },
    {
      "cell_type": "code",
      "execution_count": 47,
      "id": "0e6e0bc1",
      "metadata": {
        "id": "0e6e0bc1",
        "outputId": "98f5dbf4-caf6-467f-9743-2131279bbe5e",
        "colab": {
          "base_uri": "https://localhost:8080/",
          "height": 321
        }
      },
      "outputs": [
        {
          "output_type": "execute_result",
          "data": {
            "text/plain": [
              "<rdkit.Chem.rdchem.Mol at 0x794a5e711230>"
            ],
            "text/html": [
              "<?xml version='1.0' encoding='iso-8859-1'?>\n",
              "<svg version='1.1' baseProfile='full'\n",
              "              xmlns='http://www.w3.org/2000/svg'\n",
              "                      xmlns:rdkit='http://www.rdkit.org/xml'\n",
              "                      xmlns:xlink='http://www.w3.org/1999/xlink'\n",
              "                  xml:space='preserve'\n",
              "width='300px' height='300px' viewBox='0 0 300 300'>\n",
              "<!-- END OF HEADER -->\n",
              "<rect style='opacity:1.0;fill:#FFFFFF;stroke:none' width='300.0' height='300.0' x='0.0' y='0.0'> </rect>\n",
              "<path class='bond-0 atom-0 atom-1' d='M 144.0,182.7 L 32.5,258.1 L 22.5,240.6 Z' style='fill:#000000;fill-rule:evenodd;fill-opacity:1;stroke:#000000;stroke-width:0.5px;stroke-linecap:butt;stroke-linejoin:miter;stroke-opacity:1;' />\n",
              "<path class='bond-1 atom-0 atom-2' d='M 144.0,182.7 L 194.3,212.0' style='fill:none;fill-rule:evenodd;stroke:#000000;stroke-width:2.0px;stroke-linecap:butt;stroke-linejoin:miter;stroke-opacity:1' />\n",
              "<path class='bond-1 atom-0 atom-2' d='M 194.3,212.0 L 244.7,241.3' style='fill:none;fill-rule:evenodd;stroke:#00CC00;stroke-width:2.0px;stroke-linecap:butt;stroke-linejoin:miter;stroke-opacity:1' />\n",
              "<path class='bond-2 atom-0 atom-3' d='M 144.0,182.7 L 144.2,124.8' style='fill:none;fill-rule:evenodd;stroke:#000000;stroke-width:2.0px;stroke-linecap:butt;stroke-linejoin:miter;stroke-opacity:1' />\n",
              "<path class='bond-2 atom-0 atom-3' d='M 144.2,124.8 L 144.4,67.0' style='fill:none;fill-rule:evenodd;stroke:#7F4C19;stroke-width:2.0px;stroke-linecap:butt;stroke-linejoin:miter;stroke-opacity:1' />\n",
              "<path d='M 146.5,184.1 L 144.0,182.7 L 144.0,179.8' style='fill:none;stroke:#000000;stroke-width:2.0px;stroke-linecap:butt;stroke-linejoin:miter;stroke-opacity:1;' />\n",
              "<path class='atom-2' d='M 249.1 251.2\n",
              "Q 249.1 244.1, 252.4 240.5\n",
              "Q 255.7 236.7, 262.0 236.7\n",
              "Q 267.8 236.7, 270.9 240.9\n",
              "L 268.3 243.0\n",
              "Q 266.0 240.0, 262.0 240.0\n",
              "Q 257.7 240.0, 255.4 242.9\n",
              "Q 253.2 245.7, 253.2 251.2\n",
              "Q 253.2 256.8, 255.5 259.7\n",
              "Q 257.9 262.5, 262.4 262.5\n",
              "Q 265.5 262.5, 269.2 260.7\n",
              "L 270.3 263.7\n",
              "Q 268.8 264.6, 266.6 265.2\n",
              "Q 264.3 265.7, 261.9 265.7\n",
              "Q 255.7 265.7, 252.4 262.0\n",
              "Q 249.1 258.2, 249.1 251.2\n",
              "' fill='#00CC00'/>\n",
              "<path class='atom-2' d='M 273.8 235.0\n",
              "L 277.5 235.0\n",
              "L 277.5 265.4\n",
              "L 273.8 265.4\n",
              "L 273.8 235.0\n",
              "' fill='#00CC00'/>\n",
              "<path class='atom-3' d='M 148.6 47.7\n",
              "Q 151.3 48.5, 152.7 50.1\n",
              "Q 154.1 51.8, 154.1 54.2\n",
              "Q 154.1 58.1, 151.6 60.4\n",
              "Q 149.1 62.6, 144.4 62.6\n",
              "L 134.9 62.6\n",
              "L 134.9 34.3\n",
              "L 143.2 34.3\n",
              "Q 148.1 34.3, 150.5 36.2\n",
              "Q 152.9 38.2, 152.9 41.8\n",
              "Q 152.9 46.1, 148.6 47.7\n",
              "M 138.7 37.5\n",
              "L 138.7 46.3\n",
              "L 143.2 46.3\n",
              "Q 146.0 46.3, 147.5 45.2\n",
              "Q 148.9 44.1, 148.9 41.8\n",
              "Q 148.9 37.5, 143.2 37.5\n",
              "L 138.7 37.5\n",
              "M 144.4 59.4\n",
              "Q 147.1 59.4, 148.6 58.1\n",
              "Q 150.1 56.7, 150.1 54.2\n",
              "Q 150.1 51.9, 148.5 50.7\n",
              "Q 146.9 49.5, 143.8 49.5\n",
              "L 138.7 49.5\n",
              "L 138.7 59.4\n",
              "L 144.4 59.4\n",
              "' fill='#7F4C19'/>\n",
              "<path class='atom-3' d='M 160.5 42.0\n",
              "L 161.0 44.9\n",
              "Q 163.1 41.7, 166.7 41.7\n",
              "Q 167.8 41.7, 169.3 42.1\n",
              "L 168.7 45.4\n",
              "Q 167.0 45.0, 166.0 45.0\n",
              "Q 164.3 45.0, 163.2 45.7\n",
              "Q 162.1 46.3, 161.3 47.9\n",
              "L 161.3 62.6\n",
              "L 157.5 62.6\n",
              "L 157.5 42.0\n",
              "L 160.5 42.0\n",
              "' fill='#7F4C19'/>\n",
              "</svg>\n"
            ],
            "image/svg+xml": "<?xml version='1.0' encoding='iso-8859-1'?>\n<svg version='1.1' baseProfile='full'\n              xmlns='http://www.w3.org/2000/svg'\n                      xmlns:rdkit='http://www.rdkit.org/xml'\n                      xmlns:xlink='http://www.w3.org/1999/xlink'\n                  xml:space='preserve'\nwidth='300px' height='300px' viewBox='0 0 300 300'>\n<!-- END OF HEADER -->\n<rect style='opacity:1.0;fill:#FFFFFF;stroke:none' width='300.0' height='300.0' x='0.0' y='0.0'> </rect>\n<path class='bond-0 atom-0 atom-1' d='M 144.0,182.7 L 32.5,258.1 L 22.5,240.6 Z' style='fill:#000000;fill-rule:evenodd;fill-opacity:1;stroke:#000000;stroke-width:0.5px;stroke-linecap:butt;stroke-linejoin:miter;stroke-opacity:1;' />\n<path class='bond-1 atom-0 atom-2' d='M 144.0,182.7 L 194.3,212.0' style='fill:none;fill-rule:evenodd;stroke:#000000;stroke-width:2.0px;stroke-linecap:butt;stroke-linejoin:miter;stroke-opacity:1' />\n<path class='bond-1 atom-0 atom-2' d='M 194.3,212.0 L 244.7,241.3' style='fill:none;fill-rule:evenodd;stroke:#00CC00;stroke-width:2.0px;stroke-linecap:butt;stroke-linejoin:miter;stroke-opacity:1' />\n<path class='bond-2 atom-0 atom-3' d='M 144.0,182.7 L 144.2,124.8' style='fill:none;fill-rule:evenodd;stroke:#000000;stroke-width:2.0px;stroke-linecap:butt;stroke-linejoin:miter;stroke-opacity:1' />\n<path class='bond-2 atom-0 atom-3' d='M 144.2,124.8 L 144.4,67.0' style='fill:none;fill-rule:evenodd;stroke:#7F4C19;stroke-width:2.0px;stroke-linecap:butt;stroke-linejoin:miter;stroke-opacity:1' />\n<path d='M 146.5,184.1 L 144.0,182.7 L 144.0,179.8' style='fill:none;stroke:#000000;stroke-width:2.0px;stroke-linecap:butt;stroke-linejoin:miter;stroke-opacity:1;' />\n<path class='atom-2' d='M 249.1 251.2\nQ 249.1 244.1, 252.4 240.5\nQ 255.7 236.7, 262.0 236.7\nQ 267.8 236.7, 270.9 240.9\nL 268.3 243.0\nQ 266.0 240.0, 262.0 240.0\nQ 257.7 240.0, 255.4 242.9\nQ 253.2 245.7, 253.2 251.2\nQ 253.2 256.8, 255.5 259.7\nQ 257.9 262.5, 262.4 262.5\nQ 265.5 262.5, 269.2 260.7\nL 270.3 263.7\nQ 268.8 264.6, 266.6 265.2\nQ 264.3 265.7, 261.9 265.7\nQ 255.7 265.7, 252.4 262.0\nQ 249.1 258.2, 249.1 251.2\n' fill='#00CC00'/>\n<path class='atom-2' d='M 273.8 235.0\nL 277.5 235.0\nL 277.5 265.4\nL 273.8 265.4\nL 273.8 235.0\n' fill='#00CC00'/>\n<path class='atom-3' d='M 148.6 47.7\nQ 151.3 48.5, 152.7 50.1\nQ 154.1 51.8, 154.1 54.2\nQ 154.1 58.1, 151.6 60.4\nQ 149.1 62.6, 144.4 62.6\nL 134.9 62.6\nL 134.9 34.3\nL 143.2 34.3\nQ 148.1 34.3, 150.5 36.2\nQ 152.9 38.2, 152.9 41.8\nQ 152.9 46.1, 148.6 47.7\nM 138.7 37.5\nL 138.7 46.3\nL 143.2 46.3\nQ 146.0 46.3, 147.5 45.2\nQ 148.9 44.1, 148.9 41.8\nQ 148.9 37.5, 143.2 37.5\nL 138.7 37.5\nM 144.4 59.4\nQ 147.1 59.4, 148.6 58.1\nQ 150.1 56.7, 150.1 54.2\nQ 150.1 51.9, 148.5 50.7\nQ 146.9 49.5, 143.8 49.5\nL 138.7 49.5\nL 138.7 59.4\nL 144.4 59.4\n' fill='#7F4C19'/>\n<path class='atom-3' d='M 160.5 42.0\nL 161.0 44.9\nQ 163.1 41.7, 166.7 41.7\nQ 167.8 41.7, 169.3 42.1\nL 168.7 45.4\nQ 167.0 45.0, 166.0 45.0\nQ 164.3 45.0, 163.2 45.7\nQ 162.1 46.3, 161.3 47.9\nL 161.3 62.6\nL 157.5 62.6\nL 157.5 42.0\nL 160.5 42.0\n' fill='#7F4C19'/>\n</svg>\n",
            "image/png": "[encoded data removed]"
          },
          "metadata": {},
          "execution_count": 47
        }
      ],
      "source": [
        "Chem.MolFromSmiles(\"[C@@H](C)(Cl)(Br)\")"
      ]
    },
    {
      "cell_type": "markdown",
      "id": "308ef232",
      "metadata": {
        "id": "308ef232"
      },
      "source": [
        "E,Z isomerism in double bonds is shown with \"/\" and \"\\\\\".  In the cells below, we can see the visual mnemonic with trans-2-butene as C/C=C/C and cis-2-butene as C/C=C\\C."
      ]
    },
    {
      "cell_type": "code",
      "execution_count": 50,
      "id": "4d01257e",
      "metadata": {
        "id": "4d01257e",
        "outputId": "b881feb7-c789-4ed6-c7a8-7bb09351e78f",
        "colab": {
          "base_uri": "https://localhost:8080/",
          "height": 321
        }
      },
      "outputs": [
        {
          "output_type": "execute_result",
          "data": {
            "text/plain": [
              "<rdkit.Chem.rdchem.Mol at 0x794a5e711000>"
            ],
            "text/html": [
              "<?xml version='1.0' encoding='iso-8859-1'?>\n",
              "<svg version='1.1' baseProfile='full'\n",
              "              xmlns='http://www.w3.org/2000/svg'\n",
              "                      xmlns:rdkit='http://www.rdkit.org/xml'\n",
              "                      xmlns:xlink='http://www.w3.org/1999/xlink'\n",
              "                  xml:space='preserve'\n",
              "width='300px' height='300px' viewBox='0 0 300 300'>\n",
              "<!-- END OF HEADER -->\n",
              "<rect style='opacity:1.0;fill:#FFFFFF;stroke:none' width='300.0' height='300.0' x='0.0' y='0.0'> </rect>\n",
              "<path class='bond-0 atom-0 atom-1' d='M 286.4,130.7 L 195.4,183.1' style='fill:none;fill-rule:evenodd;stroke:#000000;stroke-width:2.0px;stroke-linecap:butt;stroke-linejoin:miter;stroke-opacity:1' />\n",
              "<path class='bond-1 atom-1 atom-2' d='M 195.4,183.1 L 104.6,130.5' style='fill:none;fill-rule:evenodd;stroke:#000000;stroke-width:2.0px;stroke-linecap:butt;stroke-linejoin:miter;stroke-opacity:1' />\n",
              "<path class='bond-1 atom-1 atom-2' d='M 195.4,164.9 L 112.5,116.9' style='fill:none;fill-rule:evenodd;stroke:#000000;stroke-width:2.0px;stroke-linecap:butt;stroke-linejoin:miter;stroke-opacity:1' />\n",
              "<path class='bond-2 atom-2 atom-3' d='M 104.6,130.5 L 13.6,182.9' style='fill:none;fill-rule:evenodd;stroke:#000000;stroke-width:2.0px;stroke-linecap:butt;stroke-linejoin:miter;stroke-opacity:1' />\n",
              "<path d='M 200.0,180.5 L 195.4,183.1 L 190.9,180.5' style='fill:none;stroke:#000000;stroke-width:2.0px;stroke-linecap:butt;stroke-linejoin:miter;stroke-opacity:1;' />\n",
              "<path d='M 109.1,133.2 L 104.6,130.5 L 100.0,133.2' style='fill:none;stroke:#000000;stroke-width:2.0px;stroke-linecap:butt;stroke-linejoin:miter;stroke-opacity:1;' />\n",
              "</svg>\n"
            ],
            "image/svg+xml": "<?xml version='1.0' encoding='iso-8859-1'?>\n<svg version='1.1' baseProfile='full'\n              xmlns='http://www.w3.org/2000/svg'\n                      xmlns:rdkit='http://www.rdkit.org/xml'\n                      xmlns:xlink='http://www.w3.org/1999/xlink'\n                  xml:space='preserve'\nwidth='300px' height='300px' viewBox='0 0 300 300'>\n<!-- END OF HEADER -->\n<rect style='opacity:1.0;fill:#FFFFFF;stroke:none' width='300.0' height='300.0' x='0.0' y='0.0'> </rect>\n<path class='bond-0 atom-0 atom-1' d='M 286.4,130.7 L 195.4,183.1' style='fill:none;fill-rule:evenodd;stroke:#000000;stroke-width:2.0px;stroke-linecap:butt;stroke-linejoin:miter;stroke-opacity:1' />\n<path class='bond-1 atom-1 atom-2' d='M 195.4,183.1 L 104.6,130.5' style='fill:none;fill-rule:evenodd;stroke:#000000;stroke-width:2.0px;stroke-linecap:butt;stroke-linejoin:miter;stroke-opacity:1' />\n<path class='bond-1 atom-1 atom-2' d='M 195.4,164.9 L 112.5,116.9' style='fill:none;fill-rule:evenodd;stroke:#000000;stroke-width:2.0px;stroke-linecap:butt;stroke-linejoin:miter;stroke-opacity:1' />\n<path class='bond-2 atom-2 atom-3' d='M 104.6,130.5 L 13.6,182.9' style='fill:none;fill-rule:evenodd;stroke:#000000;stroke-width:2.0px;stroke-linecap:butt;stroke-linejoin:miter;stroke-opacity:1' />\n<path d='M 200.0,180.5 L 195.4,183.1 L 190.9,180.5' style='fill:none;stroke:#000000;stroke-width:2.0px;stroke-linecap:butt;stroke-linejoin:miter;stroke-opacity:1;' />\n<path d='M 109.1,133.2 L 104.6,130.5 L 100.0,133.2' style='fill:none;stroke:#000000;stroke-width:2.0px;stroke-linecap:butt;stroke-linejoin:miter;stroke-opacity:1;' />\n</svg>\n",
            "image/png": "[encoded data removed]"
          },
          "metadata": {},
          "execution_count": 50
        }
      ],
      "source": [
        "Chem.MolFromSmiles(\"C/C=C/C\")"
      ]
    },
    {
      "cell_type": "code",
      "execution_count": 51,
      "id": "0a5b2a7e",
      "metadata": {
        "id": "0a5b2a7e",
        "outputId": "4ad7473c-a184-458f-b585-0c843a643a1f",
        "colab": {
          "base_uri": "https://localhost:8080/",
          "height": 321
        }
      },
      "outputs": [
        {
          "output_type": "execute_result",
          "data": {
            "text/plain": [
              "<rdkit.Chem.rdchem.Mol at 0x794a5e711150>"
            ],
            "text/html": [
              "<?xml version='1.0' encoding='iso-8859-1'?>\n",
              "<svg version='1.1' baseProfile='full'\n",
              "              xmlns='http://www.w3.org/2000/svg'\n",
              "                      xmlns:rdkit='http://www.rdkit.org/xml'\n",
              "                      xmlns:xlink='http://www.w3.org/1999/xlink'\n",
              "                  xml:space='preserve'\n",
              "width='300px' height='300px' viewBox='0 0 300 300'>\n",
              "<!-- END OF HEADER -->\n",
              "<rect style='opacity:1.0;fill:#FFFFFF;stroke:none' width='300.0' height='300.0' x='0.0' y='0.0'> </rect>\n",
              "<path class='bond-0 atom-0 atom-1' d='M 286.2,31.9 L 286.4,189.3' style='fill:none;fill-rule:evenodd;stroke:#000000;stroke-width:2.0px;stroke-linecap:butt;stroke-linejoin:miter;stroke-opacity:1' />\n",
              "<path class='bond-1 atom-1 atom-2' d='M 286.4,189.3 L 150.1,268.1' style='fill:none;fill-rule:evenodd;stroke:#000000;stroke-width:2.0px;stroke-linecap:butt;stroke-linejoin:miter;stroke-opacity:1' />\n",
              "<path class='bond-1 atom-1 atom-2' d='M 262.7,175.7 L 150.0,240.9' style='fill:none;fill-rule:evenodd;stroke:#000000;stroke-width:2.0px;stroke-linecap:butt;stroke-linejoin:miter;stroke-opacity:1' />\n",
              "<path class='bond-2 atom-2 atom-3' d='M 150.1,268.1 L 13.6,189.5' style='fill:none;fill-rule:evenodd;stroke:#000000;stroke-width:2.0px;stroke-linecap:butt;stroke-linejoin:miter;stroke-opacity:1' />\n",
              "<path d='M 286.4,181.4 L 286.4,189.3 L 279.5,193.3' style='fill:none;stroke:#000000;stroke-width:2.0px;stroke-linecap:butt;stroke-linejoin:miter;stroke-opacity:1;' />\n",
              "<path d='M 156.9,264.2 L 150.1,268.1 L 143.2,264.2' style='fill:none;stroke:#000000;stroke-width:2.0px;stroke-linecap:butt;stroke-linejoin:miter;stroke-opacity:1;' />\n",
              "</svg>\n"
            ],
            "image/svg+xml": "<?xml version='1.0' encoding='iso-8859-1'?>\n<svg version='1.1' baseProfile='full'\n              xmlns='http://www.w3.org/2000/svg'\n                      xmlns:rdkit='http://www.rdkit.org/xml'\n                      xmlns:xlink='http://www.w3.org/1999/xlink'\n                  xml:space='preserve'\nwidth='300px' height='300px' viewBox='0 0 300 300'>\n<!-- END OF HEADER -->\n<rect style='opacity:1.0;fill:#FFFFFF;stroke:none' width='300.0' height='300.0' x='0.0' y='0.0'> </rect>\n<path class='bond-0 atom-0 atom-1' d='M 286.2,31.9 L 286.4,189.3' style='fill:none;fill-rule:evenodd;stroke:#000000;stroke-width:2.0px;stroke-linecap:butt;stroke-linejoin:miter;stroke-opacity:1' />\n<path class='bond-1 atom-1 atom-2' d='M 286.4,189.3 L 150.1,268.1' style='fill:none;fill-rule:evenodd;stroke:#000000;stroke-width:2.0px;stroke-linecap:butt;stroke-linejoin:miter;stroke-opacity:1' />\n<path class='bond-1 atom-1 atom-2' d='M 262.7,175.7 L 150.0,240.9' style='fill:none;fill-rule:evenodd;stroke:#000000;stroke-width:2.0px;stroke-linecap:butt;stroke-linejoin:miter;stroke-opacity:1' />\n<path class='bond-2 atom-2 atom-3' d='M 150.1,268.1 L 13.6,189.5' style='fill:none;fill-rule:evenodd;stroke:#000000;stroke-width:2.0px;stroke-linecap:butt;stroke-linejoin:miter;stroke-opacity:1' />\n<path d='M 286.4,181.4 L 286.4,189.3 L 279.5,193.3' style='fill:none;stroke:#000000;stroke-width:2.0px;stroke-linecap:butt;stroke-linejoin:miter;stroke-opacity:1;' />\n<path d='M 156.9,264.2 L 150.1,268.1 L 143.2,264.2' style='fill:none;stroke:#000000;stroke-width:2.0px;stroke-linecap:butt;stroke-linejoin:miter;stroke-opacity:1;' />\n</svg>\n",
            "image/png": "[encoded data removed]"
          },
          "metadata": {},
          "execution_count": 51
        }
      ],
      "source": [
        "Chem.MolFromSmiles(\"C/C=C\\C\")"
      ]
    },
    {
      "cell_type": "markdown",
      "id": "907edc5b",
      "metadata": {
        "id": "907edc5b"
      },
      "source": [
        "### Canonical SMILES"
      ]
    },
    {
      "cell_type": "markdown",
      "id": "f12a768f",
      "metadata": {
        "id": "f12a768f"
      },
      "source": [
        "There are many ways to write a SMILES for the same molecule.  For instance, in the cell below, we show five different ways to write the SMILES for pentane."
      ]
    },
    {
      "cell_type": "code",
      "execution_count": 52,
      "id": "29f3b247",
      "metadata": {
        "id": "29f3b247",
        "outputId": "fce373d9-4118-4463-a06a-7d7896fb982d",
        "colab": {
          "base_uri": "https://localhost:8080/",
          "height": 421
        }
      },
      "outputs": [
        {
          "output_type": "execute_result",
          "data": {
            "text/plain": [
              "<IPython.core.display.SVG object>"
            ],
            "image/svg+xml": "<svg xmlns=\"http://www.w3.org/2000/svg\" xmlns:rdkit=\"http://www.rdkit.org/xml\" xmlns:xlink=\"http://www.w3.org/1999/xlink\" version=\"1.1\" baseProfile=\"full\" xml:space=\"preserve\" width=\"600px\" height=\"400px\" viewBox=\"0 0 600 400\">\n<!-- END OF HEADER -->\n<rect style=\"opacity:1.0;fill:#FFFFFF;stroke:none\" width=\"600.0\" height=\"400.0\" x=\"0.0\" y=\"0.0\"> </rect>\n<path class=\"bond-0 atom-0 atom-1\" d=\"M 9.1,113.0 L 54.6,86.8\" style=\"fill:none;fill-rule:evenodd;stroke:#000000;stroke-width:2.0px;stroke-linecap:butt;stroke-linejoin:miter;stroke-opacity:1\"/>\n<path class=\"bond-1 atom-1 atom-2\" d=\"M 54.6,86.8 L 100.0,113.1\" style=\"fill:none;fill-rule:evenodd;stroke:#000000;stroke-width:2.0px;stroke-linecap:butt;stroke-linejoin:miter;stroke-opacity:1\"/>\n<path class=\"bond-2 atom-2 atom-3\" d=\"M 100.0,113.1 L 145.5,86.9\" style=\"fill:none;fill-rule:evenodd;stroke:#000000;stroke-width:2.0px;stroke-linecap:butt;stroke-linejoin:miter;stroke-opacity:1\"/>\n<path class=\"bond-3 atom-3 atom-4\" d=\"M 145.5,86.9 L 190.9,113.2\" style=\"fill:none;fill-rule:evenodd;stroke:#000000;stroke-width:2.0px;stroke-linecap:butt;stroke-linejoin:miter;stroke-opacity:1\"/>\n<path d=\"M 52.3,88.1 L 54.6,86.8 L 56.8,88.1\" style=\"fill:none;stroke:#000000;stroke-width:2.0px;stroke-linecap:butt;stroke-linejoin:miter;stroke-opacity:1;\"/>\n<path d=\"M 97.7,111.8 L 100.0,113.1 L 102.3,111.8\" style=\"fill:none;stroke:#000000;stroke-width:2.0px;stroke-linecap:butt;stroke-linejoin:miter;stroke-opacity:1;\"/>\n<path d=\"M 143.2,88.2 L 145.5,86.9 L 147.7,88.2\" style=\"fill:none;stroke:#000000;stroke-width:2.0px;stroke-linecap:butt;stroke-linejoin:miter;stroke-opacity:1;\"/>\n<path class=\"bond-0 atom-0 atom-1\" d=\"M 209.1,113.0 L 254.6,86.8\" style=\"fill:none;fill-rule:evenodd;stroke:#000000;stroke-width:2.0px;stroke-linecap:butt;stroke-linejoin:miter;stroke-opacity:1\"/>\n<path class=\"bond-1 atom-1 atom-2\" d=\"M 254.6,86.8 L 300.0,113.1\" style=\"fill:none;fill-rule:evenodd;stroke:#000000;stroke-width:2.0px;stroke-linecap:butt;stroke-linejoin:miter;stroke-opacity:1\"/>\n<path class=\"bond-2 atom-2 atom-3\" d=\"M 300.0,113.1 L 345.5,86.9\" style=\"fill:none;fill-rule:evenodd;stroke:#000000;stroke-width:2.0px;stroke-linecap:butt;stroke-linejoin:miter;stroke-opacity:1\"/>\n<path class=\"bond-3 atom-3 atom-4\" d=\"M 345.5,86.9 L 390.9,113.2\" style=\"fill:none;fill-rule:evenodd;stroke:#000000;stroke-width:2.0px;stroke-linecap:butt;stroke-linejoin:miter;stroke-opacity:1\"/>\n<path d=\"M 252.3,88.1 L 254.6,86.8 L 256.8,88.1\" style=\"fill:none;stroke:#000000;stroke-width:2.0px;stroke-linecap:butt;stroke-linejoin:miter;stroke-opacity:1;\"/>\n<path d=\"M 297.7,111.8 L 300.0,113.1 L 302.3,111.8\" style=\"fill:none;stroke:#000000;stroke-width:2.0px;stroke-linecap:butt;stroke-linejoin:miter;stroke-opacity:1;\"/>\n<path d=\"M 343.2,88.2 L 345.5,86.9 L 347.7,88.2\" style=\"fill:none;stroke:#000000;stroke-width:2.0px;stroke-linecap:butt;stroke-linejoin:miter;stroke-opacity:1;\"/>\n<path class=\"bond-0 atom-0 atom-1\" d=\"M 409.1,113.0 L 454.6,86.8\" style=\"fill:none;fill-rule:evenodd;stroke:#000000;stroke-width:2.0px;stroke-linecap:butt;stroke-linejoin:miter;stroke-opacity:1\"/>\n<path class=\"bond-1 atom-1 atom-2\" d=\"M 454.6,86.8 L 500.0,113.1\" style=\"fill:none;fill-rule:evenodd;stroke:#000000;stroke-width:2.0px;stroke-linecap:butt;stroke-linejoin:miter;stroke-opacity:1\"/>\n<path class=\"bond-2 atom-2 atom-3\" d=\"M 500.0,113.1 L 545.5,86.9\" style=\"fill:none;fill-rule:evenodd;stroke:#000000;stroke-width:2.0px;stroke-linecap:butt;stroke-linejoin:miter;stroke-opacity:1\"/>\n<path class=\"bond-3 atom-3 atom-4\" d=\"M 545.5,86.9 L 590.9,113.2\" style=\"fill:none;fill-rule:evenodd;stroke:#000000;stroke-width:2.0px;stroke-linecap:butt;stroke-linejoin:miter;stroke-opacity:1\"/>\n<path d=\"M 452.3,88.1 L 454.6,86.8 L 456.8,88.1\" style=\"fill:none;stroke:#000000;stroke-width:2.0px;stroke-linecap:butt;stroke-linejoin:miter;stroke-opacity:1;\"/>\n<path d=\"M 497.7,111.8 L 500.0,113.1 L 502.3,111.8\" style=\"fill:none;stroke:#000000;stroke-width:2.0px;stroke-linecap:butt;stroke-linejoin:miter;stroke-opacity:1;\"/>\n<path d=\"M 543.2,88.2 L 545.5,86.9 L 547.7,88.2\" style=\"fill:none;stroke:#000000;stroke-width:2.0px;stroke-linecap:butt;stroke-linejoin:miter;stroke-opacity:1;\"/>\n<path class=\"bond-0 atom-0 atom-1\" d=\"M 9.1,313.0 L 54.6,286.8\" style=\"fill:none;fill-rule:evenodd;stroke:#000000;stroke-width:2.0px;stroke-linecap:butt;stroke-linejoin:miter;stroke-opacity:1\"/>\n<path class=\"bond-1 atom-1 atom-2\" d=\"M 54.6,286.8 L 100.0,313.1\" style=\"fill:none;fill-rule:evenodd;stroke:#000000;stroke-width:2.0px;stroke-linecap:butt;stroke-linejoin:miter;stroke-opacity:1\"/>\n<path class=\"bond-2 atom-2 atom-3\" d=\"M 100.0,313.1 L 145.5,286.9\" style=\"fill:none;fill-rule:evenodd;stroke:#000000;stroke-width:2.0px;stroke-linecap:butt;stroke-linejoin:miter;stroke-opacity:1\"/>\n<path class=\"bond-3 atom-3 atom-4\" d=\"M 145.5,286.9 L 190.9,313.2\" style=\"fill:none;fill-rule:evenodd;stroke:#000000;stroke-width:2.0px;stroke-linecap:butt;stroke-linejoin:miter;stroke-opacity:1\"/>\n<path d=\"M 52.3,288.1 L 54.6,286.8 L 56.8,288.1\" style=\"fill:none;stroke:#000000;stroke-width:2.0px;stroke-linecap:butt;stroke-linejoin:miter;stroke-opacity:1;\"/>\n<path d=\"M 97.7,311.8 L 100.0,313.1 L 102.3,311.8\" style=\"fill:none;stroke:#000000;stroke-width:2.0px;stroke-linecap:butt;stroke-linejoin:miter;stroke-opacity:1;\"/>\n<path d=\"M 143.2,288.2 L 145.5,286.9 L 147.7,288.2\" style=\"fill:none;stroke:#000000;stroke-width:2.0px;stroke-linecap:butt;stroke-linejoin:miter;stroke-opacity:1;\"/>\n<path class=\"bond-0 atom-0 atom-1\" d=\"M 209.1,313.0 L 254.6,286.8\" style=\"fill:none;fill-rule:evenodd;stroke:#000000;stroke-width:2.0px;stroke-linecap:butt;stroke-linejoin:miter;stroke-opacity:1\"/>\n<path class=\"bond-1 atom-1 atom-2\" d=\"M 254.6,286.8 L 300.0,313.1\" style=\"fill:none;fill-rule:evenodd;stroke:#000000;stroke-width:2.0px;stroke-linecap:butt;stroke-linejoin:miter;stroke-opacity:1\"/>\n<path class=\"bond-2 atom-2 atom-3\" d=\"M 300.0,313.1 L 345.5,286.9\" style=\"fill:none;fill-rule:evenodd;stroke:#000000;stroke-width:2.0px;stroke-linecap:butt;stroke-linejoin:miter;stroke-opacity:1\"/>\n<path class=\"bond-3 atom-3 atom-4\" d=\"M 345.5,286.9 L 390.9,313.2\" style=\"fill:none;fill-rule:evenodd;stroke:#000000;stroke-width:2.0px;stroke-linecap:butt;stroke-linejoin:miter;stroke-opacity:1\"/>\n<path d=\"M 252.3,288.1 L 254.6,286.8 L 256.8,288.1\" style=\"fill:none;stroke:#000000;stroke-width:2.0px;stroke-linecap:butt;stroke-linejoin:miter;stroke-opacity:1;\"/>\n<path d=\"M 297.7,311.8 L 300.0,313.1 L 302.3,311.8\" style=\"fill:none;stroke:#000000;stroke-width:2.0px;stroke-linecap:butt;stroke-linejoin:miter;stroke-opacity:1;\"/>\n<path d=\"M 343.2,288.2 L 345.5,286.9 L 347.7,288.2\" style=\"fill:none;stroke:#000000;stroke-width:2.0px;stroke-linecap:butt;stroke-linejoin:miter;stroke-opacity:1;\"/>\n</svg>"
          },
          "metadata": {},
          "execution_count": 52
        }
      ],
      "source": [
        "pentane_smiles_list = [\"CCCCC\",\"C(CCCC)\",\"C-C-C-C-C\",\"[CH3][CH2][CH2][CH2][CH3]\",\"CC(CCC)\"]\n",
        "# If the line below doesn't make sense to you, take a look at list comprehensions in Python\n",
        "pentane_mol_list = [Chem.MolFromSmiles(x) for x in pentane_smiles_list]\n",
        "Chem.Draw.MolsToGridImage(pentane_mol_list)"
      ]
    },
    {
      "cell_type": "markdown",
      "id": "e94994f8",
      "metadata": {
        "id": "e94994f8"
      },
      "source": [
        "It's convenient to be able to write many SMILES for the same molecule, but this can also be a problem.  Let's say we're trying to keep track of the number of unique molecules in a set.  If the same molecule can have several SMILES, it can be difficult to keep track of which molecules are the same.  Fortunately, [the RDKit](https://www.rdkit.org/docs/source/rdkit.Chem.rdmolfiles.html) and many other Cheminformatics toolkits have methods for creating what is called a **canonical** representation.  These methods should always create the same SMILES for a molecule.  Here's an example where we create a canonical SMILES for the pentane_smiles_list above. Note that all the input SMILES are different but all the output SMILES are the same.  It's important to know that all Cheminformatics toolkits do not generate the same canonical SMILES."
      ]
    },
    {
      "cell_type": "code",
      "execution_count": 53,
      "id": "ef032f90",
      "metadata": {
        "id": "ef032f90",
        "outputId": "166484f3-f93a-4da9-fc19-02760cd9d4fd",
        "colab": {
          "base_uri": "https://localhost:8080/"
        }
      },
      "outputs": [
        {
          "output_type": "stream",
          "name": "stdout",
          "text": [
            "CCCCC\n",
            "CCCCC\n",
            "CCCCC\n",
            "CCCCC\n",
            "CCCCC\n"
          ]
        }
      ],
      "source": [
        "pentane_smiles_list = [\"CCCCC\",\"C(CCCC)\",\"C-C-C-C-C\",\"[CH3][CH2][CH2][CH2][CH3]\",\"CC(CCC)\"]\n",
        "# If the line below doesn't make sense to you, take a look at list comprehensions in Python\n",
        "pentane_mol_list = [Chem.MolFromSmiles(x) for x in pentane_smiles_list]\n",
        "for mol in pentane_mol_list:\n",
        "    pentane_smiles = Chem.MolToSmiles(mol)\n",
        "    print(pentane_smiles)"
      ]
    },
    {
      "cell_type": "markdown",
      "id": "5dd4b2f5",
      "metadata": {
        "id": "5dd4b2f5"
      },
      "source": [
        "Canonical SMILES typically don't resolve tautomers to the same structure.  Specialized methods that are beyond the scope of this discussion are often required to create the same SMILES from Tautomers. In the example below we look at the SMILES for the keto and enol tautomers of pyridone."
      ]
    },
    {
      "cell_type": "code",
      "execution_count": 54,
      "id": "060e9ae5",
      "metadata": {
        "id": "060e9ae5"
      },
      "outputs": [],
      "source": [
        "tautomer_smiles_list = [\"C1C=CC(=O)NC=1\",\"C1=CC=C(O)N=C1\"]\n",
        "tautomer_mol_list = [Chem.MolFromSmiles(x) for x in tautomer_smiles_list]"
      ]
    },
    {
      "cell_type": "code",
      "execution_count": 55,
      "id": "197369fc",
      "metadata": {
        "id": "197369fc",
        "outputId": "95a6e664-f9c3-458e-bc75-347a2d37d690",
        "colab": {
          "base_uri": "https://localhost:8080/",
          "height": 221
        }
      },
      "outputs": [
        {
          "output_type": "execute_result",
          "data": {
            "text/plain": [
              "<IPython.core.display.SVG object>"
            ],
            "image/svg+xml": "<svg xmlns=\"http://www.w3.org/2000/svg\" xmlns:rdkit=\"http://www.rdkit.org/xml\" xmlns:xlink=\"http://www.w3.org/1999/xlink\" version=\"1.1\" baseProfile=\"full\" xml:space=\"preserve\" width=\"600px\" height=\"200px\" viewBox=\"0 0 600 200\">\n<!-- END OF HEADER -->\n<rect style=\"opacity:1.0;fill:#FFFFFF;stroke:none\" width=\"600.0\" height=\"200.0\" x=\"0.0\" y=\"0.0\"> </rect>\n<path class=\"bond-0 atom-0 atom-1\" d=\"M 116.1,190.7 L 165.0,162.6\" style=\"fill:none;fill-rule:evenodd;stroke:#000000;stroke-width:2.0px;stroke-linecap:butt;stroke-linejoin:miter;stroke-opacity:1\"/>\n<path class=\"bond-1 atom-1 atom-2\" d=\"M 165.0,162.6 L 165.2,106.2\" style=\"fill:none;fill-rule:evenodd;stroke:#000000;stroke-width:2.0px;stroke-linecap:butt;stroke-linejoin:miter;stroke-opacity:1\"/>\n<path class=\"bond-1 atom-1 atom-2\" d=\"M 156.6,157.7 L 156.7,111.0\" style=\"fill:none;fill-rule:evenodd;stroke:#000000;stroke-width:2.0px;stroke-linecap:butt;stroke-linejoin:miter;stroke-opacity:1\"/>\n<path class=\"bond-2 atom-2 atom-3\" d=\"M 165.2,106.2 L 116.3,77.8\" style=\"fill:none;fill-rule:evenodd;stroke:#000000;stroke-width:2.0px;stroke-linecap:butt;stroke-linejoin:miter;stroke-opacity:1\"/>\n<path class=\"bond-3 atom-3 atom-4\" d=\"M 120.6,80.3 L 120.6,58.0\" style=\"fill:none;fill-rule:evenodd;stroke:#000000;stroke-width:2.0px;stroke-linecap:butt;stroke-linejoin:miter;stroke-opacity:1\"/>\n<path class=\"bond-3 atom-3 atom-4\" d=\"M 120.6,58.0 L 120.7,35.8\" style=\"fill:none;fill-rule:evenodd;stroke:#FF0000;stroke-width:2.0px;stroke-linecap:butt;stroke-linejoin:miter;stroke-opacity:1\"/>\n<path class=\"bond-3 atom-3 atom-4\" d=\"M 112.1,80.3 L 112.2,58.0\" style=\"fill:none;fill-rule:evenodd;stroke:#000000;stroke-width:2.0px;stroke-linecap:butt;stroke-linejoin:miter;stroke-opacity:1\"/>\n<path class=\"bond-3 atom-3 atom-4\" d=\"M 112.2,58.0 L 112.2,35.8\" style=\"fill:none;fill-rule:evenodd;stroke:#FF0000;stroke-width:2.0px;stroke-linecap:butt;stroke-linejoin:miter;stroke-opacity:1\"/>\n<path class=\"bond-4 atom-3 atom-5\" d=\"M 116.3,77.8 L 97.4,88.8\" style=\"fill:none;fill-rule:evenodd;stroke:#000000;stroke-width:2.0px;stroke-linecap:butt;stroke-linejoin:miter;stroke-opacity:1\"/>\n<path class=\"bond-4 atom-3 atom-5\" d=\"M 97.4,88.8 L 78.4,99.7\" style=\"fill:none;fill-rule:evenodd;stroke:#0000FF;stroke-width:2.0px;stroke-linecap:butt;stroke-linejoin:miter;stroke-opacity:1\"/>\n<path class=\"bond-5 atom-5 atom-6\" d=\"M 67.4,119.8 L 67.3,141.1\" style=\"fill:none;fill-rule:evenodd;stroke:#0000FF;stroke-width:2.0px;stroke-linecap:butt;stroke-linejoin:miter;stroke-opacity:1\"/>\n<path class=\"bond-5 atom-5 atom-6\" d=\"M 67.3,141.1 L 67.3,162.4\" style=\"fill:none;fill-rule:evenodd;stroke:#000000;stroke-width:2.0px;stroke-linecap:butt;stroke-linejoin:miter;stroke-opacity:1\"/>\n<path class=\"bond-6 atom-6 atom-0\" d=\"M 67.3,162.4 L 116.1,190.7\" style=\"fill:none;fill-rule:evenodd;stroke:#000000;stroke-width:2.0px;stroke-linecap:butt;stroke-linejoin:miter;stroke-opacity:1\"/>\n<path class=\"bond-6 atom-6 atom-0\" d=\"M 75.8,157.5 L 116.1,180.9\" style=\"fill:none;fill-rule:evenodd;stroke:#000000;stroke-width:2.0px;stroke-linecap:butt;stroke-linejoin:miter;stroke-opacity:1\"/>\n<path d=\"M 118.6,189.3 L 116.1,190.7 L 113.7,189.3\" style=\"fill:none;stroke:#000000;stroke-width:2.0px;stroke-linecap:butt;stroke-linejoin:miter;stroke-opacity:1;\"/>\n<path d=\"M 162.6,164.0 L 165.0,162.6 L 165.0,159.8\" style=\"fill:none;stroke:#000000;stroke-width:2.0px;stroke-linecap:butt;stroke-linejoin:miter;stroke-opacity:1;\"/>\n<path d=\"M 165.1,109.0 L 165.2,106.2 L 162.7,104.7\" style=\"fill:none;stroke:#000000;stroke-width:2.0px;stroke-linecap:butt;stroke-linejoin:miter;stroke-opacity:1;\"/>\n<path d=\"M 118.8,79.3 L 116.3,77.8 L 115.4,78.4\" style=\"fill:none;stroke:#000000;stroke-width:2.0px;stroke-linecap:butt;stroke-linejoin:miter;stroke-opacity:1;\"/>\n<path d=\"M 67.3,161.3 L 67.3,162.4 L 69.7,163.8\" style=\"fill:none;stroke:#000000;stroke-width:2.0px;stroke-linecap:butt;stroke-linejoin:miter;stroke-opacity:1;\"/>\n<path class=\"atom-4\" d=\"M 105.5 21.5 Q 105.5 15.7, 108.3 12.5 Q 111.1 9.3, 116.5 9.3 Q 121.8 9.3, 124.6 12.5 Q 127.5 15.7, 127.5 21.5 Q 127.5 27.3, 124.6 30.6 Q 121.7 33.9, 116.5 33.9 Q 111.2 33.9, 108.3 30.6 Q 105.5 27.3, 105.5 21.5 M 116.5 31.2 Q 120.1 31.2, 122.1 28.8 Q 124.1 26.3, 124.1 21.5 Q 124.1 16.8, 122.1 14.4 Q 120.1 12.0, 116.5 12.0 Q 112.8 12.0, 110.8 14.4 Q 108.8 16.7, 108.8 21.5 Q 108.8 26.3, 110.8 28.8 Q 112.8 31.2, 116.5 31.2 \" fill=\"#FF0000\"/>\n<path class=\"atom-5\" d=\"M 34.8 94.0 L 38.1 94.0 L 38.1 104.2 L 50.4 104.2 L 50.4 94.0 L 53.6 94.0 L 53.6 117.9 L 50.4 117.9 L 50.4 106.9 L 38.1 106.9 L 38.1 117.9 L 34.8 117.9 L 34.8 94.0 \" fill=\"#0000FF\"/>\n<path class=\"atom-5\" d=\"M 62.1 94.0 L 70.0 106.7 Q 70.8 107.9, 72.0 110.2 Q 73.3 112.5, 73.3 112.6 L 73.3 94.0 L 76.5 94.0 L 76.5 117.9 L 73.2 117.9 L 64.8 104.1 Q 63.8 102.4, 62.8 100.6 Q 61.7 98.7, 61.4 98.1 L 61.4 117.9 L 58.3 117.9 L 58.3 94.0 L 62.1 94.0 \" fill=\"#0000FF\"/>\n<path class=\"bond-0 atom-0 atom-1\" d=\"M 390.9,66.1 L 342.2,37.6\" style=\"fill:none;fill-rule:evenodd;stroke:#000000;stroke-width:2.0px;stroke-linecap:butt;stroke-linejoin:miter;stroke-opacity:1\"/>\n<path class=\"bond-0 atom-0 atom-1\" d=\"M 382.4,70.9 L 342.2,47.4\" style=\"fill:none;fill-rule:evenodd;stroke:#000000;stroke-width:2.0px;stroke-linecap:butt;stroke-linejoin:miter;stroke-opacity:1\"/>\n<path class=\"bond-1 atom-1 atom-2\" d=\"M 342.2,37.6 L 293.2,65.5\" style=\"fill:none;fill-rule:evenodd;stroke:#000000;stroke-width:2.0px;stroke-linecap:butt;stroke-linejoin:miter;stroke-opacity:1\"/>\n<path class=\"bond-2 atom-2 atom-3\" d=\"M 293.2,65.5 L 292.8,121.9\" style=\"fill:none;fill-rule:evenodd;stroke:#000000;stroke-width:2.0px;stroke-linecap:butt;stroke-linejoin:miter;stroke-opacity:1\"/>\n<path class=\"bond-2 atom-2 atom-3\" d=\"M 301.6,70.4 L 301.3,117.1\" style=\"fill:none;fill-rule:evenodd;stroke:#000000;stroke-width:2.0px;stroke-linecap:butt;stroke-linejoin:miter;stroke-opacity:1\"/>\n<path class=\"bond-3 atom-3 atom-4\" d=\"M 292.8,121.9 L 274.7,132.2\" style=\"fill:none;fill-rule:evenodd;stroke:#000000;stroke-width:2.0px;stroke-linecap:butt;stroke-linejoin:miter;stroke-opacity:1\"/>\n<path class=\"bond-3 atom-3 atom-4\" d=\"M 274.7,132.2 L 256.6,142.5\" style=\"fill:none;fill-rule:evenodd;stroke:#FF0000;stroke-width:2.0px;stroke-linecap:butt;stroke-linejoin:miter;stroke-opacity:1\"/>\n<path class=\"bond-4 atom-3 atom-5\" d=\"M 292.8,121.9 L 311.7,133.0\" style=\"fill:none;fill-rule:evenodd;stroke:#000000;stroke-width:2.0px;stroke-linecap:butt;stroke-linejoin:miter;stroke-opacity:1\"/>\n<path class=\"bond-4 atom-3 atom-5\" d=\"M 311.7,133.0 L 330.5,144.0\" style=\"fill:none;fill-rule:evenodd;stroke:#0000FF;stroke-width:2.0px;stroke-linecap:butt;stroke-linejoin:miter;stroke-opacity:1\"/>\n<path class=\"bond-5 atom-5 atom-6\" d=\"M 352.5,144.2 L 371.5,133.4\" style=\"fill:none;fill-rule:evenodd;stroke:#0000FF;stroke-width:2.0px;stroke-linecap:butt;stroke-linejoin:miter;stroke-opacity:1\"/>\n<path class=\"bond-5 atom-5 atom-6\" d=\"M 371.5,133.4 L 390.5,122.5\" style=\"fill:none;fill-rule:evenodd;stroke:#000000;stroke-width:2.0px;stroke-linecap:butt;stroke-linejoin:miter;stroke-opacity:1\"/>\n<path class=\"bond-5 atom-5 atom-6\" d=\"M 348.3,136.8 L 365.2,127.2\" style=\"fill:none;fill-rule:evenodd;stroke:#0000FF;stroke-width:2.0px;stroke-linecap:butt;stroke-linejoin:miter;stroke-opacity:1\"/>\n<path class=\"bond-5 atom-5 atom-6\" d=\"M 365.2,127.2 L 382.1,117.6\" style=\"fill:none;fill-rule:evenodd;stroke:#000000;stroke-width:2.0px;stroke-linecap:butt;stroke-linejoin:miter;stroke-opacity:1\"/>\n<path class=\"bond-6 atom-6 atom-0\" d=\"M 390.5,122.5 L 390.9,66.1\" style=\"fill:none;fill-rule:evenodd;stroke:#000000;stroke-width:2.0px;stroke-linecap:butt;stroke-linejoin:miter;stroke-opacity:1\"/>\n<path d=\"M 388.5,64.7 L 390.9,66.1 L 390.9,68.9\" style=\"fill:none;stroke:#000000;stroke-width:2.0px;stroke-linecap:butt;stroke-linejoin:miter;stroke-opacity:1;\"/>\n<path d=\"M 344.7,39.0 L 342.2,37.6 L 339.8,39.0\" style=\"fill:none;stroke:#000000;stroke-width:2.0px;stroke-linecap:butt;stroke-linejoin:miter;stroke-opacity:1;\"/>\n<path d=\"M 295.6,64.1 L 293.2,65.5 L 293.2,68.3\" style=\"fill:none;stroke:#000000;stroke-width:2.0px;stroke-linecap:butt;stroke-linejoin:miter;stroke-opacity:1;\"/>\n<path d=\"M 389.6,123.1 L 390.5,122.5 L 390.6,119.7\" style=\"fill:none;stroke:#000000;stroke-width:2.0px;stroke-linecap:butt;stroke-linejoin:miter;stroke-opacity:1;\"/>\n<path class=\"atom-4\" d=\"M 209.1 138.0 L 212.3 138.0 L 212.3 148.1 L 224.6 148.1 L 224.6 138.0 L 227.8 138.0 L 227.8 161.9 L 224.6 161.9 L 224.6 150.9 L 212.3 150.9 L 212.3 161.9 L 209.1 161.9 L 209.1 138.0 \" fill=\"#FF0000\"/>\n<path class=\"atom-4\" d=\"M 232.8 149.9 Q 232.8 144.1, 235.6 140.9 Q 238.5 137.7, 243.8 137.7 Q 249.1 137.7, 251.9 140.9 Q 254.8 144.1, 254.8 149.9 Q 254.8 155.7, 251.9 159.0 Q 249.0 162.3, 243.8 162.3 Q 238.5 162.3, 235.6 159.0 Q 232.8 155.7, 232.8 149.9 M 243.8 159.6 Q 247.4 159.6, 249.4 157.2 Q 251.4 154.7, 251.4 149.9 Q 251.4 145.2, 249.4 142.8 Q 247.4 140.4, 243.8 140.4 Q 240.1 140.4, 238.1 142.8 Q 236.1 145.1, 236.1 149.9 Q 236.1 154.7, 238.1 157.2 Q 240.1 159.6, 243.8 159.6 \" fill=\"#FF0000\"/>\n<path class=\"atom-5\" d=\"M 336.2 138.5 L 344.1 151.1 Q 344.8 152.4, 346.1 154.7 Q 347.3 156.9, 347.4 157.1 L 347.4 138.5 L 350.6 138.5 L 350.6 162.4 L 347.3 162.4 L 338.9 148.5 Q 337.9 146.9, 336.8 145.1 Q 335.8 143.2, 335.5 142.6 L 335.5 162.4 L 332.4 162.4 L 332.4 138.5 L 336.2 138.5 \" fill=\"#0000FF\"/>\n</svg>"
          },
          "metadata": {},
          "execution_count": 55
        }
      ],
      "source": [
        "Chem.Draw.MolsToGridImage(tautomer_mol_list)"
      ]
    },
    {
      "cell_type": "markdown",
      "id": "3305a9a5",
      "metadata": {
        "id": "3305a9a5"
      },
      "source": [
        "Now let's generate canonical SMILES for each of these species.  In looking at the SMILES below, please notice two things.\n",
        "- The SMILES for the ring atoms have been converted to lowercase, indicating that this is an aromatic system.\n",
        "- The two tautomers still have different SMILES"
      ]
    },
    {
      "cell_type": "code",
      "execution_count": 56,
      "id": "f5ac161c",
      "metadata": {
        "id": "f5ac161c",
        "outputId": "0b902a3e-175a-4ccc-ab08-8dfecad25a10",
        "colab": {
          "base_uri": "https://localhost:8080/"
        }
      },
      "outputs": [
        {
          "output_type": "stream",
          "name": "stdout",
          "text": [
            "O=c1cccc[nH]1\n",
            "Oc1ccccn1\n"
          ]
        }
      ],
      "source": [
        "for mol in tautomer_mol_list:\n",
        "    print(Chem.MolToSmiles(mol))"
      ]
    },
    {
      "cell_type": "markdown",
      "id": "6f88679b",
      "metadata": {
        "id": "6f88679b"
      },
      "source": [
        "### Exercise\n",
        "\n",
        "Complete the code below to determine the number of unqiue molecule represented by **smiles_list**"
      ]
    },
    {
      "cell_type": "code",
      "execution_count": 57,
      "id": "fd5ec830",
      "metadata": {
        "id": "fd5ec830"
      },
      "outputs": [],
      "source": [
        "buff = \"\"\"C(=N)(N)N.Cl\n",
        "Cn1c(=O)c2[nH]cnc2n(C)c1=O.Cn1c(=O)c2[nH]cnc2n(C)c1=O.NCCN\n",
        "Nc1ccc(S(=O)(=O)Nc2ccccn2)cc1\n",
        "Cl.N=C(N)N\n",
        "CCC(C)C1(C(=O)NC(=O)[N-]C1=O)CC.[Na+]\n",
        "C[C@]12CCC(=O)C=C1CC[C@@H]3[C@@H]2CC[C@]4([C@H]3CC[C@]4(C)O)C\n",
        "CCC(C)C1(CC)C(=O)[N-]C(=O)NC1=O.[Na+]\n",
        "Cn1c2c(c(=O)n(c1=O)C)[nH]cn2.Cn1c2c(c(=O)n(c1=O)C)[nH]cn2.C(CN)N\n",
        "C[C@]1(O)CC[C@H]2[C@@H]3CCC4=CC(=O)CC[C@]4(C)[C@H]3CC[C@@]21C\n",
        "c1ccnc(c1)NS(=O)(=O)c2ccc(cc2)N\"\"\"\n",
        "smiles_list = buff.split(\"\\n\")"
      ]
    },
    {
      "cell_type": "code",
      "source": [
        "for mon in buff:\n",
        "  print(Chem.MolToSmiles(mol))"
      ],
      "metadata": {
        "id": "u3gQKcJzJoeW",
        "outputId": "500c8518-971e-4a22-eb05-26d33bb6e4d3",
        "colab": {
          "base_uri": "https://localhost:8080/"
        }
      },
      "id": "u3gQKcJzJoeW",
      "execution_count": 61,
      "outputs": [
        {
          "output_type": "stream",
          "name": "stdout",
          "text": [
            "Oc1ccccn1\n",
            "Oc1ccccn1\n",
            "Oc1ccccn1\n",
            "Oc1ccccn1\n",
            "Oc1ccccn1\n",
            "Oc1ccccn1\n",
            "Oc1ccccn1\n",
            "Oc1ccccn1\n",
            "Oc1ccccn1\n",
            "Oc1ccccn1\n",
            "Oc1ccccn1\n",
            "Oc1ccccn1\n",
            "Oc1ccccn1\n",
            "Oc1ccccn1\n",
            "Oc1ccccn1\n",
            "Oc1ccccn1\n",
            "Oc1ccccn1\n",
            "Oc1ccccn1\n",
            "Oc1ccccn1\n",
            "Oc1ccccn1\n",
            "Oc1ccccn1\n",
            "Oc1ccccn1\n",
            "Oc1ccccn1\n",
            "Oc1ccccn1\n",
            "Oc1ccccn1\n",
            "Oc1ccccn1\n",
            "Oc1ccccn1\n",
            "Oc1ccccn1\n",
            "Oc1ccccn1\n",
            "Oc1ccccn1\n",
            "Oc1ccccn1\n",
            "Oc1ccccn1\n",
            "Oc1ccccn1\n",
            "Oc1ccccn1\n",
            "Oc1ccccn1\n",
            "Oc1ccccn1\n",
            "Oc1ccccn1\n",
            "Oc1ccccn1\n",
            "Oc1ccccn1\n",
            "Oc1ccccn1\n",
            "Oc1ccccn1\n",
            "Oc1ccccn1\n",
            "Oc1ccccn1\n",
            "Oc1ccccn1\n",
            "Oc1ccccn1\n",
            "Oc1ccccn1\n",
            "Oc1ccccn1\n",
            "Oc1ccccn1\n",
            "Oc1ccccn1\n",
            "Oc1ccccn1\n",
            "Oc1ccccn1\n",
            "Oc1ccccn1\n",
            "Oc1ccccn1\n",
            "Oc1ccccn1\n",
            "Oc1ccccn1\n",
            "Oc1ccccn1\n",
            "Oc1ccccn1\n",
            "Oc1ccccn1\n",
            "Oc1ccccn1\n",
            "Oc1ccccn1\n",
            "Oc1ccccn1\n",
            "Oc1ccccn1\n",
            "Oc1ccccn1\n",
            "Oc1ccccn1\n",
            "Oc1ccccn1\n",
            "Oc1ccccn1\n",
            "Oc1ccccn1\n",
            "Oc1ccccn1\n",
            "Oc1ccccn1\n",
            "Oc1ccccn1\n",
            "Oc1ccccn1\n",
            "Oc1ccccn1\n",
            "Oc1ccccn1\n",
            "Oc1ccccn1\n",
            "Oc1ccccn1\n",
            "Oc1ccccn1\n",
            "Oc1ccccn1\n",
            "Oc1ccccn1\n",
            "Oc1ccccn1\n",
            "Oc1ccccn1\n",
            "Oc1ccccn1\n",
            "Oc1ccccn1\n",
            "Oc1ccccn1\n",
            "Oc1ccccn1\n",
            "Oc1ccccn1\n",
            "Oc1ccccn1\n",
            "Oc1ccccn1\n",
            "Oc1ccccn1\n",
            "Oc1ccccn1\n",
            "Oc1ccccn1\n",
            "Oc1ccccn1\n",
            "Oc1ccccn1\n",
            "Oc1ccccn1\n",
            "Oc1ccccn1\n",
            "Oc1ccccn1\n",
            "Oc1ccccn1\n",
            "Oc1ccccn1\n",
            "Oc1ccccn1\n",
            "Oc1ccccn1\n",
            "Oc1ccccn1\n",
            "Oc1ccccn1\n",
            "Oc1ccccn1\n",
            "Oc1ccccn1\n",
            "Oc1ccccn1\n",
            "Oc1ccccn1\n",
            "Oc1ccccn1\n",
            "Oc1ccccn1\n",
            "Oc1ccccn1\n",
            "Oc1ccccn1\n",
            "Oc1ccccn1\n",
            "Oc1ccccn1\n",
            "Oc1ccccn1\n",
            "Oc1ccccn1\n",
            "Oc1ccccn1\n",
            "Oc1ccccn1\n",
            "Oc1ccccn1\n",
            "Oc1ccccn1\n",
            "Oc1ccccn1\n",
            "Oc1ccccn1\n",
            "Oc1ccccn1\n",
            "Oc1ccccn1\n",
            "Oc1ccccn1\n",
            "Oc1ccccn1\n",
            "Oc1ccccn1\n",
            "Oc1ccccn1\n",
            "Oc1ccccn1\n",
            "Oc1ccccn1\n",
            "Oc1ccccn1\n",
            "Oc1ccccn1\n",
            "Oc1ccccn1\n",
            "Oc1ccccn1\n",
            "Oc1ccccn1\n",
            "Oc1ccccn1\n",
            "Oc1ccccn1\n",
            "Oc1ccccn1\n",
            "Oc1ccccn1\n",
            "Oc1ccccn1\n",
            "Oc1ccccn1\n",
            "Oc1ccccn1\n",
            "Oc1ccccn1\n",
            "Oc1ccccn1\n",
            "Oc1ccccn1\n",
            "Oc1ccccn1\n",
            "Oc1ccccn1\n",
            "Oc1ccccn1\n",
            "Oc1ccccn1\n",
            "Oc1ccccn1\n",
            "Oc1ccccn1\n",
            "Oc1ccccn1\n",
            "Oc1ccccn1\n",
            "Oc1ccccn1\n",
            "Oc1ccccn1\n",
            "Oc1ccccn1\n",
            "Oc1ccccn1\n",
            "Oc1ccccn1\n",
            "Oc1ccccn1\n",
            "Oc1ccccn1\n",
            "Oc1ccccn1\n",
            "Oc1ccccn1\n",
            "Oc1ccccn1\n",
            "Oc1ccccn1\n",
            "Oc1ccccn1\n",
            "Oc1ccccn1\n",
            "Oc1ccccn1\n",
            "Oc1ccccn1\n",
            "Oc1ccccn1\n",
            "Oc1ccccn1\n",
            "Oc1ccccn1\n",
            "Oc1ccccn1\n",
            "Oc1ccccn1\n",
            "Oc1ccccn1\n",
            "Oc1ccccn1\n",
            "Oc1ccccn1\n",
            "Oc1ccccn1\n",
            "Oc1ccccn1\n",
            "Oc1ccccn1\n",
            "Oc1ccccn1\n",
            "Oc1ccccn1\n",
            "Oc1ccccn1\n",
            "Oc1ccccn1\n",
            "Oc1ccccn1\n",
            "Oc1ccccn1\n",
            "Oc1ccccn1\n",
            "Oc1ccccn1\n",
            "Oc1ccccn1\n",
            "Oc1ccccn1\n",
            "Oc1ccccn1\n",
            "Oc1ccccn1\n",
            "Oc1ccccn1\n",
            "Oc1ccccn1\n",
            "Oc1ccccn1\n",
            "Oc1ccccn1\n",
            "Oc1ccccn1\n",
            "Oc1ccccn1\n",
            "Oc1ccccn1\n",
            "Oc1ccccn1\n",
            "Oc1ccccn1\n",
            "Oc1ccccn1\n",
            "Oc1ccccn1\n",
            "Oc1ccccn1\n",
            "Oc1ccccn1\n",
            "Oc1ccccn1\n",
            "Oc1ccccn1\n",
            "Oc1ccccn1\n",
            "Oc1ccccn1\n",
            "Oc1ccccn1\n",
            "Oc1ccccn1\n",
            "Oc1ccccn1\n",
            "Oc1ccccn1\n",
            "Oc1ccccn1\n",
            "Oc1ccccn1\n",
            "Oc1ccccn1\n",
            "Oc1ccccn1\n",
            "Oc1ccccn1\n",
            "Oc1ccccn1\n",
            "Oc1ccccn1\n",
            "Oc1ccccn1\n",
            "Oc1ccccn1\n",
            "Oc1ccccn1\n",
            "Oc1ccccn1\n",
            "Oc1ccccn1\n",
            "Oc1ccccn1\n",
            "Oc1ccccn1\n",
            "Oc1ccccn1\n",
            "Oc1ccccn1\n",
            "Oc1ccccn1\n",
            "Oc1ccccn1\n",
            "Oc1ccccn1\n",
            "Oc1ccccn1\n",
            "Oc1ccccn1\n",
            "Oc1ccccn1\n",
            "Oc1ccccn1\n",
            "Oc1ccccn1\n",
            "Oc1ccccn1\n",
            "Oc1ccccn1\n",
            "Oc1ccccn1\n",
            "Oc1ccccn1\n",
            "Oc1ccccn1\n",
            "Oc1ccccn1\n",
            "Oc1ccccn1\n",
            "Oc1ccccn1\n",
            "Oc1ccccn1\n",
            "Oc1ccccn1\n",
            "Oc1ccccn1\n",
            "Oc1ccccn1\n",
            "Oc1ccccn1\n",
            "Oc1ccccn1\n",
            "Oc1ccccn1\n",
            "Oc1ccccn1\n",
            "Oc1ccccn1\n",
            "Oc1ccccn1\n",
            "Oc1ccccn1\n",
            "Oc1ccccn1\n",
            "Oc1ccccn1\n",
            "Oc1ccccn1\n",
            "Oc1ccccn1\n",
            "Oc1ccccn1\n",
            "Oc1ccccn1\n",
            "Oc1ccccn1\n",
            "Oc1ccccn1\n",
            "Oc1ccccn1\n",
            "Oc1ccccn1\n",
            "Oc1ccccn1\n",
            "Oc1ccccn1\n",
            "Oc1ccccn1\n",
            "Oc1ccccn1\n",
            "Oc1ccccn1\n",
            "Oc1ccccn1\n",
            "Oc1ccccn1\n",
            "Oc1ccccn1\n",
            "Oc1ccccn1\n",
            "Oc1ccccn1\n",
            "Oc1ccccn1\n",
            "Oc1ccccn1\n",
            "Oc1ccccn1\n",
            "Oc1ccccn1\n",
            "Oc1ccccn1\n",
            "Oc1ccccn1\n",
            "Oc1ccccn1\n",
            "Oc1ccccn1\n",
            "Oc1ccccn1\n",
            "Oc1ccccn1\n",
            "Oc1ccccn1\n",
            "Oc1ccccn1\n",
            "Oc1ccccn1\n",
            "Oc1ccccn1\n",
            "Oc1ccccn1\n",
            "Oc1ccccn1\n",
            "Oc1ccccn1\n",
            "Oc1ccccn1\n",
            "Oc1ccccn1\n",
            "Oc1ccccn1\n",
            "Oc1ccccn1\n",
            "Oc1ccccn1\n",
            "Oc1ccccn1\n",
            "Oc1ccccn1\n",
            "Oc1ccccn1\n",
            "Oc1ccccn1\n",
            "Oc1ccccn1\n",
            "Oc1ccccn1\n",
            "Oc1ccccn1\n",
            "Oc1ccccn1\n",
            "Oc1ccccn1\n",
            "Oc1ccccn1\n",
            "Oc1ccccn1\n",
            "Oc1ccccn1\n",
            "Oc1ccccn1\n",
            "Oc1ccccn1\n",
            "Oc1ccccn1\n",
            "Oc1ccccn1\n",
            "Oc1ccccn1\n",
            "Oc1ccccn1\n",
            "Oc1ccccn1\n",
            "Oc1ccccn1\n",
            "Oc1ccccn1\n",
            "Oc1ccccn1\n",
            "Oc1ccccn1\n",
            "Oc1ccccn1\n",
            "Oc1ccccn1\n",
            "Oc1ccccn1\n",
            "Oc1ccccn1\n",
            "Oc1ccccn1\n",
            "Oc1ccccn1\n",
            "Oc1ccccn1\n",
            "Oc1ccccn1\n",
            "Oc1ccccn1\n",
            "Oc1ccccn1\n",
            "Oc1ccccn1\n",
            "Oc1ccccn1\n",
            "Oc1ccccn1\n",
            "Oc1ccccn1\n",
            "Oc1ccccn1\n",
            "Oc1ccccn1\n",
            "Oc1ccccn1\n",
            "Oc1ccccn1\n",
            "Oc1ccccn1\n",
            "Oc1ccccn1\n",
            "Oc1ccccn1\n",
            "Oc1ccccn1\n",
            "Oc1ccccn1\n",
            "Oc1ccccn1\n",
            "Oc1ccccn1\n",
            "Oc1ccccn1\n",
            "Oc1ccccn1\n",
            "Oc1ccccn1\n",
            "Oc1ccccn1\n",
            "Oc1ccccn1\n",
            "Oc1ccccn1\n",
            "Oc1ccccn1\n",
            "Oc1ccccn1\n",
            "Oc1ccccn1\n",
            "Oc1ccccn1\n",
            "Oc1ccccn1\n",
            "Oc1ccccn1\n",
            "Oc1ccccn1\n",
            "Oc1ccccn1\n",
            "Oc1ccccn1\n",
            "Oc1ccccn1\n",
            "Oc1ccccn1\n",
            "Oc1ccccn1\n",
            "Oc1ccccn1\n",
            "Oc1ccccn1\n",
            "Oc1ccccn1\n",
            "Oc1ccccn1\n",
            "Oc1ccccn1\n",
            "Oc1ccccn1\n",
            "Oc1ccccn1\n",
            "Oc1ccccn1\n",
            "Oc1ccccn1\n",
            "Oc1ccccn1\n",
            "Oc1ccccn1\n",
            "Oc1ccccn1\n",
            "Oc1ccccn1\n",
            "Oc1ccccn1\n",
            "Oc1ccccn1\n",
            "Oc1ccccn1\n",
            "Oc1ccccn1\n",
            "Oc1ccccn1\n",
            "Oc1ccccn1\n",
            "Oc1ccccn1\n",
            "Oc1ccccn1\n",
            "Oc1ccccn1\n",
            "Oc1ccccn1\n",
            "Oc1ccccn1\n",
            "Oc1ccccn1\n",
            "Oc1ccccn1\n",
            "Oc1ccccn1\n",
            "Oc1ccccn1\n",
            "Oc1ccccn1\n",
            "Oc1ccccn1\n",
            "Oc1ccccn1\n",
            "Oc1ccccn1\n",
            "Oc1ccccn1\n",
            "Oc1ccccn1\n",
            "Oc1ccccn1\n",
            "Oc1ccccn1\n",
            "Oc1ccccn1\n",
            "Oc1ccccn1\n",
            "Oc1ccccn1\n",
            "Oc1ccccn1\n",
            "Oc1ccccn1\n",
            "Oc1ccccn1\n",
            "Oc1ccccn1\n",
            "Oc1ccccn1\n",
            "Oc1ccccn1\n",
            "Oc1ccccn1\n",
            "Oc1ccccn1\n",
            "Oc1ccccn1\n",
            "Oc1ccccn1\n"
          ]
        }
      ]
    },
    {
      "cell_type": "code",
      "source": [],
      "metadata": {
        "id": "vlQRzLl4J1gM"
      },
      "id": "vlQRzLl4J1gM",
      "execution_count": null,
      "outputs": []
    }
  ],
  "metadata": {
    "kernelspec": {
      "display_name": "Python 3 (ipykernel)",
      "language": "python",
      "name": "python3"
    },
    "language_info": {
      "codemirror_mode": {
        "name": "ipython",
        "version": 3
      },
      "file_extension": ".py",
      "mimetype": "text/x-python",
      "name": "python",
      "nbconvert_exporter": "python",
      "pygments_lexer": "ipython3",
      "version": "3.9.6"
    },
    "colab": {
      "provenance": []
    }
  },
  "nbformat": 4,
  "nbformat_minor": 5
}